{
  "nbformat": 4,
  "nbformat_minor": 0,
  "metadata": {
    "colab": {
      "provenance": [],
      "toc_visible": true,
      "gpuType": "T4",
      "include_colab_link": true
    },
    "kernelspec": {
      "name": "python3",
      "display_name": "Python 3"
    },
    "accelerator": "GPU"
  },
  "cells": [
    {
      "cell_type": "markdown",
      "metadata": {
        "id": "view-in-github",
        "colab_type": "text"
      },
      "source": [
        "<a href=\"https://colab.research.google.com/github/zackives/upenn-cis-2450/blob/main/22_Module_4_Part_IV_RNNs_and_Transformers.ipynb\" target=\"_parent\"><img src=\"https://colab.research.google.com/assets/colab-badge.svg\" alt=\"Open In Colab\"/></a>"
      ]
    },
    {
      "cell_type": "markdown",
      "source": [
        "# Sequential Text Data\n",
        "\n",
        "This notebook compiles some examples from natural language processing (largely from existing tutorials) to illustrate the basic principles of recurrent neural networks and transformers.\n"
      ],
      "metadata": {
        "id": "O4OytfE6VwTd"
      }
    },
    {
      "cell_type": "markdown",
      "source": [
        "## Basic Setup"
      ],
      "metadata": {
        "id": "zcYXyLUcidT0"
      }
    },
    {
      "cell_type": "markdown",
      "source": [
        "### Autograder setup"
      ],
      "metadata": {
        "id": "E7pUp7HAwQp6"
      }
    },
    {
      "cell_type": "code",
      "source": [
        "#PLEASE ENSURE YOUR PENN-ID IS ENTERED CORRECTLY. IF NOT, THE AUTOGRADER WON'T KNOW WHO\n",
        "#TO ASSIGN POINTS TO YOU IN OUR BACKEND\n",
        "STUDENT_ID = 99999999 # YOUR PENN-ID GOES HERE AS AN INTEGER##PLEASE ENSURE YOUR PENN-ID IS ENTERED CORRECTLY. IF NOT, THE AUTOGRADER WON'T KNOW WHO"
      ],
      "metadata": {
        "id": "WGM-vv4owbBQ"
      },
      "execution_count": null,
      "outputs": []
    },
    {
      "cell_type": "code",
      "source": [
        "%%writefile notebook-config.yaml\n",
        "\n",
        "grader_api_url: 'https://23whrwph9h.execute-api.us-east-1.amazonaws.com/default/Grader23'\n",
        "grader_api_key: 'flfkE736fA6Z8GxMDJe2q8Kfk8UDqjsG3GVqOFOa'"
      ],
      "metadata": {
        "colab": {
          "base_uri": "https://localhost:8080/"
        },
        "id": "OxKJ5J_awSOn",
        "outputId": "c613ba78-2897-4b7e-d2d8-a4f156004e65"
      },
      "execution_count": null,
      "outputs": [
        {
          "output_type": "stream",
          "name": "stdout",
          "text": [
            "Writing notebook-config.yaml\n"
          ]
        }
      ]
    },
    {
      "cell_type": "code",
      "source": [
        "%set_env HW_ID=cis2450_fall24_HW9"
      ],
      "metadata": {
        "colab": {
          "base_uri": "https://localhost:8080/"
        },
        "id": "RfX8o5jjwe0v",
        "outputId": "2871b31e-40e7-4b33-bd6d-c18b8c3a00ec"
      },
      "execution_count": null,
      "outputs": [
        {
          "output_type": "stream",
          "name": "stdout",
          "text": [
            "env: HW_ID=cis2450_fall24_HW9\n"
          ]
        }
      ]
    },
    {
      "cell_type": "code",
      "source": [
        "!pip3 install penngrader-client"
      ],
      "metadata": {
        "colab": {
          "base_uri": "https://localhost:8080/"
        },
        "id": "S3n0LqhuwW2i",
        "outputId": "ac480151-d4cc-4fc6-b6b7-7c942369e7c2"
      },
      "execution_count": null,
      "outputs": [
        {
          "output_type": "stream",
          "name": "stdout",
          "text": [
            "Collecting penngrader-client\n",
            "  Downloading penngrader_client-0.5.2-py3-none-any.whl.metadata (15 kB)\n",
            "Collecting dill (from penngrader-client)\n",
            "  Downloading dill-0.3.9-py3-none-any.whl.metadata (10 kB)\n",
            "Requirement already satisfied: pyyaml in /usr/local/lib/python3.10/dist-packages (from penngrader-client) (6.0.2)\n",
            "Downloading penngrader_client-0.5.2-py3-none-any.whl (10 kB)\n",
            "Downloading dill-0.3.9-py3-none-any.whl (119 kB)\n",
            "\u001b[2K   \u001b[90m━━━━━━━━━━━━━━━━━━━━━━━━━━━━━━━━━━━━━━━━\u001b[0m \u001b[32m119.4/119.4 kB\u001b[0m \u001b[31m5.6 MB/s\u001b[0m eta \u001b[36m0:00:00\u001b[0m\n",
            "\u001b[?25hInstalling collected packages: dill, penngrader-client\n",
            "Successfully installed dill-0.3.9 penngrader-client-0.5.2\n"
          ]
        }
      ]
    },
    {
      "cell_type": "code",
      "source": [
        "import os\n",
        "from penngrader.grader import *\n",
        "\n",
        "grader = PennGrader('notebook-config.yaml', os.environ['HW_ID'], STUDENT_ID, STUDENT_ID)"
      ],
      "metadata": {
        "colab": {
          "base_uri": "https://localhost:8080/"
        },
        "id": "dEHXUnRqwcP7",
        "outputId": "da79c212-abee-4642-a24d-ffc5121a22e9"
      },
      "execution_count": null,
      "outputs": [
        {
          "output_type": "stream",
          "name": "stdout",
          "text": [
            "PennGrader initialized with Student ID: 99999999\n",
            "\n",
            "Make sure this correct or we will not be able to store your grade\n"
          ]
        }
      ]
    },
    {
      "cell_type": "markdown",
      "source": [
        "## PyTorch Setup"
      ],
      "metadata": {
        "id": "b-SauWh8pBAL"
      }
    },
    {
      "cell_type": "code",
      "source": [
        "from __future__ import unicode_literals, print_function, division\n",
        "from io import open\n",
        "import unicodedata\n",
        "import re\n",
        "import random\n",
        "\n",
        "import torch\n",
        "import torch.nn as nn\n",
        "from torch import optim\n",
        "import torch.nn.functional as F\n",
        "\n",
        "import numpy as np\n",
        "from torch.utils.data import TensorDataset, DataLoader, RandomSampler\n",
        "\n",
        "device = torch.device(\"cuda\" if torch.cuda.is_available() else \"cpu\")"
      ],
      "metadata": {
        "id": "HvdvjyhlpCH6"
      },
      "execution_count": 1,
      "outputs": []
    },
    {
      "cell_type": "markdown",
      "source": [
        "## Recurrent NNs\n",
        "\n",
        "This example is lightly modified from the PyTorch tutorial at https://pytorch.org/tutorials/intermediate/char_rnn_classification_tutorial.html."
      ],
      "metadata": {
        "id": "LW24d1Pfltxm"
      }
    },
    {
      "cell_type": "code",
      "source": [
        "!wget https://download.pytorch.org/tutorial/data.zip"
      ],
      "metadata": {
        "colab": {
          "base_uri": "https://localhost:8080/"
        },
        "id": "KZfMEXgTmNq2",
        "outputId": "97789aa1-a216-4eb8-d5e8-026b063405ab"
      },
      "execution_count": 2,
      "outputs": [
        {
          "output_type": "stream",
          "name": "stdout",
          "text": [
            "--2024-12-01 19:20:13--  https://download.pytorch.org/tutorial/data.zip\n",
            "Resolving download.pytorch.org (download.pytorch.org)... 18.65.3.63, 18.65.3.71, 18.65.3.37, ...\n",
            "Connecting to download.pytorch.org (download.pytorch.org)|18.65.3.63|:443... connected.\n",
            "HTTP request sent, awaiting response... 200 OK\n",
            "Length: 2882130 (2.7M) [application/zip]\n",
            "Saving to: ‘data.zip’\n",
            "\n",
            "\rdata.zip              0%[                    ]       0  --.-KB/s               \rdata.zip            100%[===================>]   2.75M  --.-KB/s    in 0.05s   \n",
            "\n",
            "2024-12-01 19:20:13 (55.8 MB/s) - ‘data.zip’ saved [2882130/2882130]\n",
            "\n"
          ]
        }
      ]
    },
    {
      "cell_type": "code",
      "source": [
        "!unzip data.zip"
      ],
      "metadata": {
        "colab": {
          "base_uri": "https://localhost:8080/"
        },
        "id": "0ZZbDkAvmP3f",
        "outputId": "79f2ca2d-cde2-4af0-f9cc-e33f8321c159"
      },
      "execution_count": 3,
      "outputs": [
        {
          "output_type": "stream",
          "name": "stdout",
          "text": [
            "Archive:  data.zip\n",
            "   creating: data/\n",
            "  inflating: data/eng-fra.txt        \n",
            "   creating: data/names/\n",
            "  inflating: data/names/Arabic.txt   \n",
            "  inflating: data/names/Chinese.txt  \n",
            "  inflating: data/names/Czech.txt    \n",
            "  inflating: data/names/Dutch.txt    \n",
            "  inflating: data/names/English.txt  \n",
            "  inflating: data/names/French.txt   \n",
            "  inflating: data/names/German.txt   \n",
            "  inflating: data/names/Greek.txt    \n",
            "  inflating: data/names/Irish.txt    \n",
            "  inflating: data/names/Italian.txt  \n",
            "  inflating: data/names/Japanese.txt  \n",
            "  inflating: data/names/Korean.txt   \n",
            "  inflating: data/names/Polish.txt   \n",
            "  inflating: data/names/Portuguese.txt  \n",
            "  inflating: data/names/Russian.txt  \n",
            "  inflating: data/names/Scottish.txt  \n",
            "  inflating: data/names/Spanish.txt  \n",
            "  inflating: data/names/Vietnamese.txt  \n"
          ]
        }
      ]
    },
    {
      "cell_type": "code",
      "source": [
        "from io import open\n",
        "import glob\n",
        "import os\n",
        "\n",
        "def findFiles(path): return glob.glob(path)\n",
        "\n",
        "print(findFiles('data/names/*.txt'))\n",
        "\n",
        "import unicodedata\n",
        "import string\n",
        "\n",
        "all_letters = string.ascii_letters + \" .,;'\"\n",
        "n_letters = len(all_letters)\n",
        "\n",
        "# Turn a Unicode string to plain ASCII, thanks to https://stackoverflow.com/a/518232/2809427\n",
        "def unicodeToAscii(s):\n",
        "    return ''.join(\n",
        "        c for c in unicodedata.normalize('NFD', s)\n",
        "        if unicodedata.category(c) != 'Mn'\n",
        "        and c in all_letters\n",
        "    )\n",
        "\n",
        "print(unicodeToAscii('Ślusàrski'))\n",
        "\n",
        "# Build the category_lines dictionary, a list of names per language\n",
        "category_lines = {}\n",
        "all_categories = []\n",
        "\n",
        "# Read a file and split into lines\n",
        "def readLines(filename):\n",
        "    lines = open(filename, encoding='utf-8').read().strip().split('\\n')\n",
        "    return [unicodeToAscii(line) for line in lines]\n",
        "\n",
        "for filename in findFiles('data/names/*.txt'):\n",
        "    category = os.path.splitext(os.path.basename(filename))[0]\n",
        "    all_categories.append(category)\n",
        "    lines = readLines(filename)\n",
        "    category_lines[category] = lines\n",
        "\n",
        "n_categories = len(all_categories)"
      ],
      "metadata": {
        "colab": {
          "base_uri": "https://localhost:8080/"
        },
        "id": "pIN7wTfAmTSW",
        "outputId": "b0a3611d-8859-461b-d3b7-bde947585cf9"
      },
      "execution_count": 4,
      "outputs": [
        {
          "output_type": "stream",
          "name": "stdout",
          "text": [
            "['data/names/Japanese.txt', 'data/names/English.txt', 'data/names/German.txt', 'data/names/French.txt', 'data/names/Italian.txt', 'data/names/Dutch.txt', 'data/names/Greek.txt', 'data/names/Spanish.txt', 'data/names/Scottish.txt', 'data/names/Irish.txt', 'data/names/Russian.txt', 'data/names/Arabic.txt', 'data/names/Portuguese.txt', 'data/names/Czech.txt', 'data/names/Chinese.txt', 'data/names/Polish.txt', 'data/names/Vietnamese.txt', 'data/names/Korean.txt']\n",
            "Slusarski\n"
          ]
        }
      ]
    },
    {
      "cell_type": "code",
      "source": [
        "print(category_lines['Spanish'][:5])"
      ],
      "metadata": {
        "colab": {
          "base_uri": "https://localhost:8080/"
        },
        "id": "2PopBjTYmXJY",
        "outputId": "c10df299-fa89-445c-c600-7c6be18ac764"
      },
      "execution_count": 5,
      "outputs": [
        {
          "output_type": "stream",
          "name": "stdout",
          "text": [
            "['Abana', 'Abano', 'Abarca', 'Abaroa', 'Abascal']\n"
          ]
        }
      ]
    },
    {
      "cell_type": "markdown",
      "source": [
        "## From names to tensor representations"
      ],
      "metadata": {
        "id": "Xt__XKyimeZy"
      }
    },
    {
      "cell_type": "code",
      "source": [
        "import torch\n",
        "\n",
        "# Find letter index from all_letters, e.g. \"a\" = 0\n",
        "def letterToIndex(letter):\n",
        "    return all_letters.find(letter)\n",
        "\n",
        "# Just for demonstration, turn a letter into a <1 x n_letters> Tensor\n",
        "def letterToTensor(letter):\n",
        "    tensor = torch.zeros(1, n_letters)\n",
        "    tensor[0][letterToIndex(letter)] = 1\n",
        "    return tensor\n",
        "\n",
        "# Turn a line into a <line_length x 1 x n_letters>,\n",
        "# or an array of one-hot letter vectors\n",
        "def lineToTensor(line):\n",
        "    tensor = torch.zeros(len(line), 1, n_letters)\n",
        "    for li, letter in enumerate(line):\n",
        "        tensor[li][0][letterToIndex(letter)] = 1\n",
        "    return tensor\n",
        "\n",
        "print(letterToTensor('L'))\n",
        "\n",
        "print(lineToTensor('Lee').size())"
      ],
      "metadata": {
        "colab": {
          "base_uri": "https://localhost:8080/"
        },
        "id": "XOH-gokdmiEj",
        "outputId": "1e59cad0-787c-41af-d054-e7d35416e6f2"
      },
      "execution_count": 6,
      "outputs": [
        {
          "output_type": "stream",
          "name": "stdout",
          "text": [
            "tensor([[0., 0., 0., 0., 0., 0., 0., 0., 0., 0., 0., 0., 0., 0., 0., 0., 0., 0.,\n",
            "         0., 0., 0., 0., 0., 0., 0., 0., 0., 0., 0., 0., 0., 0., 0., 0., 0., 0.,\n",
            "         0., 1., 0., 0., 0., 0., 0., 0., 0., 0., 0., 0., 0., 0., 0., 0., 0., 0.,\n",
            "         0., 0., 0.]])\n",
            "torch.Size([3, 1, 57])\n"
          ]
        }
      ]
    },
    {
      "cell_type": "markdown",
      "source": [
        "## A Simple RNN\n",
        "\n",
        "For this RNN, we will simply feedforward from one stage to the next."
      ],
      "metadata": {
        "id": "P6gDBS1DmqPS"
      }
    },
    {
      "cell_type": "code",
      "source": [
        "import torch.nn as nn\n",
        "import torch.nn.functional as F\n",
        "\n",
        "class RNN(nn.Module):\n",
        "    def __init__(self, input_size, hidden_size, output_size):\n",
        "        super(RNN, self).__init__()\n",
        "\n",
        "        self.hidden_size = hidden_size\n",
        "\n",
        "        # Input to hidden layer\n",
        "        self.i2h = nn.Linear(input_size, hidden_size)\n",
        "\n",
        "        # Hidden (past) to hidden (future)\n",
        "        self.h2h = nn.Linear(hidden_size, hidden_size)\n",
        "\n",
        "        # Hidden to output\n",
        "        self.h2o = nn.Linear(hidden_size, output_size)\n",
        "        self.softmax = nn.LogSoftmax(dim=1)\n",
        "\n",
        "    def forward(self, input, hidden):\n",
        "        hidden = F.tanh(self.i2h(input) + self.h2h(hidden))\n",
        "        output = self.h2o(hidden)\n",
        "        output = self.softmax(output)\n",
        "        return output, hidden\n",
        "\n",
        "    def initHidden(self):\n",
        "        return torch.zeros(1, self.hidden_size)\n",
        "\n",
        "n_hidden = 128\n",
        "rnn = RNN(n_letters, n_hidden, n_categories)"
      ],
      "metadata": {
        "id": "2GGxAe8Rmtvh"
      },
      "execution_count": 7,
      "outputs": []
    },
    {
      "cell_type": "markdown",
      "source": [
        "Let's see how one name shows up as a tensor."
      ],
      "metadata": {
        "id": "q6IJJr1Om_dt"
      }
    },
    {
      "cell_type": "code",
      "source": [
        "input = lineToTensor('Alberto')\n",
        "hidden = torch.zeros(1, n_hidden)\n",
        "\n",
        "output, next_hidden = rnn(input[0], hidden)\n",
        "print(output)"
      ],
      "metadata": {
        "colab": {
          "base_uri": "https://localhost:8080/"
        },
        "id": "AdZsuUXSm3eI",
        "outputId": "ab70ea78-93d1-484e-f3d2-4ba0ebd0e199"
      },
      "execution_count": 8,
      "outputs": [
        {
          "output_type": "stream",
          "name": "stdout",
          "text": [
            "tensor([[-3.0047, -2.9142, -2.8342, -2.7020, -2.7284, -2.7917, -2.9866, -2.9376,\n",
            "         -2.8868, -3.1199, -3.0786, -2.7657, -2.9023, -2.9650, -2.8241, -2.8584,\n",
            "         -2.9007, -2.9332]], grad_fn=<LogSoftmaxBackward0>)\n"
          ]
        }
      ]
    },
    {
      "cell_type": "markdown",
      "source": [
        "## Training loop"
      ],
      "metadata": {
        "id": "Lsb_Zs13nEeH"
      }
    },
    {
      "cell_type": "code",
      "source": [
        "def categoryFromOutput(output):\n",
        "    top_n, top_i = output.topk(1)\n",
        "    category_i = top_i[0].item()\n",
        "    return all_categories[category_i], category_i\n",
        "\n",
        "print(categoryFromOutput(output))"
      ],
      "metadata": {
        "colab": {
          "base_uri": "https://localhost:8080/"
        },
        "id": "wQcEHACfnGEv",
        "outputId": "a7641685-8098-4d1a-ba1a-c48153e8a727"
      },
      "execution_count": 9,
      "outputs": [
        {
          "output_type": "stream",
          "name": "stdout",
          "text": [
            "('French', 3)\n"
          ]
        }
      ]
    },
    {
      "cell_type": "code",
      "source": [
        "import random\n",
        "\n",
        "def randomChoice(l):\n",
        "    return l[random.randint(0, len(l) - 1)]\n",
        "\n",
        "def randomTrainingExample():\n",
        "    category = randomChoice(all_categories)\n",
        "    line = randomChoice(category_lines[category])\n",
        "    category_tensor = torch.tensor([all_categories.index(category)], dtype=torch.long)\n",
        "    line_tensor = lineToTensor(line)\n",
        "    return category, line, category_tensor, line_tensor\n",
        "\n",
        "for i in range(10):\n",
        "    category, line, category_tensor, line_tensor = randomTrainingExample()\n",
        "    print('category =', category, '/ line =', line)"
      ],
      "metadata": {
        "colab": {
          "base_uri": "https://localhost:8080/"
        },
        "id": "nIwLWt1YnJCl",
        "outputId": "94d2ed80-a00d-4e09-fd0e-f17169fd8dda"
      },
      "execution_count": 10,
      "outputs": [
        {
          "output_type": "stream",
          "name": "stdout",
          "text": [
            "category = Japanese / line = Horigome\n",
            "category = Spanish / line = Nunez\n",
            "category = Czech / line = Jares\n",
            "category = Polish / line = Brzezicki\n",
            "category = Japanese / line = Shigi\n",
            "category = German / line = Rademacher\n",
            "category = Italian / line = D'onofrio\n",
            "category = Czech / line = Soucek\n",
            "category = Vietnamese / line = Ly\n",
            "category = Czech / line = Ruba\n"
          ]
        }
      ]
    },
    {
      "cell_type": "code",
      "source": [
        "# We'll use Negative Log Likelihood Loss because of the softmax\n",
        "criterion = nn.NLLLoss()\n",
        "\n",
        "learning_rate = 0.005 # If you set this too high, it might explode. If too low, it might not learn\n",
        "\n",
        "def train(category_tensor, line_tensor):\n",
        "    hidden = rnn.initHidden()\n",
        "\n",
        "    rnn.zero_grad()\n",
        "\n",
        "    for i in range(line_tensor.size()[0]):\n",
        "        output, hidden = rnn(line_tensor[i], hidden)\n",
        "\n",
        "    loss = criterion(output, category_tensor)\n",
        "    loss.backward()\n",
        "\n",
        "    # Add parameters' gradients to their values, multiplied by learning rate\n",
        "    for p in rnn.parameters():\n",
        "        p.data.add_(p.grad.data, alpha=-learning_rate)\n",
        "\n",
        "    return output, loss.item()"
      ],
      "metadata": {
        "id": "COwiy0B_nMFX"
      },
      "execution_count": 11,
      "outputs": []
    },
    {
      "cell_type": "code",
      "source": [
        "import time\n",
        "import math\n",
        "\n",
        "n_iters = 100000\n",
        "print_every = 5000\n",
        "plot_every = 1000\n",
        "\n",
        "\n",
        "\n",
        "# Keep track of losses for plotting\n",
        "current_loss = 0\n",
        "all_losses = []\n",
        "\n",
        "def timeSince(since):\n",
        "    now = time.time()\n",
        "    s = now - since\n",
        "    m = math.floor(s / 60)\n",
        "    s -= m * 60\n",
        "    return '%dm %ds' % (m, s)\n",
        "\n",
        "start = time.time()\n",
        "\n",
        "for iter in range(1, n_iters + 1):\n",
        "    category, line, category_tensor, line_tensor = randomTrainingExample()\n",
        "    output, loss = train(category_tensor, line_tensor)\n",
        "    current_loss += loss\n",
        "\n",
        "    # Print ``iter`` number, loss, name and guess\n",
        "    if iter % print_every == 0:\n",
        "        guess, guess_i = categoryFromOutput(output)\n",
        "        correct = '✓' if guess == category else '✗ (%s)' % category\n",
        "        print('%d %d%% (%s) %.4f %s / %s %s' % (iter, iter / n_iters * 100, timeSince(start), loss, line, guess, correct))\n",
        "\n",
        "    # Add current loss avg to list of losses\n",
        "    if iter % plot_every == 0:\n",
        "        all_losses.append(current_loss / plot_every)\n",
        "        current_loss = 0"
      ],
      "metadata": {
        "colab": {
          "base_uri": "https://localhost:8080/"
        },
        "id": "yYCtjUvAnVbC",
        "outputId": "3796e7c4-592b-48d0-ff6a-4dba45a38715"
      },
      "execution_count": 12,
      "outputs": [
        {
          "output_type": "stream",
          "name": "stdout",
          "text": [
            "5000 5% (0m 16s) 3.3060 Nguyen / Irish ✗ (Vietnamese)\n",
            "10000 10% (0m 26s) 2.4192 Koziol / Greek ✗ (Polish)\n",
            "15000 15% (0m 35s) 1.3698 Trang / Chinese ✗ (Vietnamese)\n",
            "20000 20% (0m 44s) 3.3083 Hughes / Dutch ✗ (Scottish)\n",
            "25000 25% (0m 53s) 0.2941 Teshima / Japanese ✓\n",
            "30000 30% (1m 2s) 3.0975 Riha / Japanese ✗ (Czech)\n",
            "35000 35% (1m 12s) 1.6261 Ridge / English ✓\n",
            "40000 40% (1m 21s) 0.0307 Demidov / Russian ✓\n",
            "45000 45% (1m 30s) 0.2294 Palmeiro / Portuguese ✓\n",
            "50000 50% (1m 39s) 1.9023 Schlantz / German ✗ (Czech)\n",
            "55000 55% (1m 49s) 0.7698 Fojtikova / Czech ✓\n",
            "60000 60% (1m 58s) 0.1471 Fakhoury / Arabic ✓\n",
            "65000 65% (2m 7s) 0.5921 Rojo / Spanish ✓\n",
            "70000 70% (2m 16s) 0.1986 Que / Chinese ✓\n",
            "75000 75% (2m 25s) 0.0452 Riagain / Irish ✓\n",
            "80000 80% (2m 33s) 0.0795 Makulov / Russian ✓\n",
            "85000 85% (2m 42s) 0.0272 Xie / Chinese ✓\n",
            "90000 90% (2m 51s) 0.2928 Kuai / Chinese ✓\n",
            "95000 95% (3m 0s) 0.5428 Khu / Chinese ✓\n",
            "100000 100% (3m 9s) 0.0103 Milionis / Greek ✓\n"
          ]
        }
      ]
    },
    {
      "cell_type": "markdown",
      "source": [
        "Let's plot the results"
      ],
      "metadata": {
        "id": "SpPkSL1gnnjs"
      }
    },
    {
      "cell_type": "code",
      "source": [
        "import matplotlib.pyplot as plt\n",
        "import matplotlib.ticker as ticker\n",
        "\n",
        "plt.figure()\n",
        "plt.plot(all_losses)"
      ],
      "metadata": {
        "colab": {
          "base_uri": "https://localhost:8080/",
          "height": 448
        },
        "id": "7MO8YGIInpdT",
        "outputId": "4388595b-78f8-43a4-ee12-45580ab56295"
      },
      "execution_count": 13,
      "outputs": [
        {
          "output_type": "execute_result",
          "data": {
            "text/plain": [
              "[<matplotlib.lines.Line2D at 0x7a839f4ed8d0>]"
            ]
          },
          "metadata": {},
          "execution_count": 13
        },
        {
          "output_type": "display_data",
          "data": {
            "text/plain": [
              "<Figure size 640x480 with 1 Axes>"
            ],
            "image/png": "[encoded data removed]"
          },
          "metadata": {}
        }
      ]
    },
    {
      "cell_type": "code",
      "source": [
        "# Keep track of correct guesses in a confusion matrix\n",
        "confusion = torch.zeros(n_categories, n_categories)\n",
        "n_confusion = 10000\n",
        "\n",
        "# Just return an output given a line\n",
        "def evaluate(line_tensor):\n",
        "    hidden = rnn.initHidden()\n",
        "\n",
        "    for i in range(line_tensor.size()[0]):\n",
        "        output, hidden = rnn(line_tensor[i], hidden)\n",
        "\n",
        "    return output\n",
        "\n",
        "# Go through a bunch of examples and record which are correctly guessed\n",
        "for i in range(n_confusion):\n",
        "    category, line, category_tensor, line_tensor = randomTrainingExample()\n",
        "    output = evaluate(line_tensor)\n",
        "    guess, guess_i = categoryFromOutput(output)\n",
        "    category_i = all_categories.index(category)\n",
        "    confusion[category_i][guess_i] += 1\n",
        "\n",
        "# Normalize by dividing every row by its sum\n",
        "for i in range(n_categories):\n",
        "    confusion[i] = confusion[i] / confusion[i].sum()\n",
        "\n",
        "# Set up plot\n",
        "fig = plt.figure()\n",
        "ax = fig.add_subplot(111)\n",
        "cax = ax.matshow(confusion.numpy())\n",
        "fig.colorbar(cax)\n",
        "\n",
        "# Set up axes\n",
        "ax.set_xticklabels([''] + all_categories, rotation=90)\n",
        "ax.set_yticklabels([''] + all_categories)\n",
        "\n",
        "# Force label at every tick\n",
        "ax.xaxis.set_major_locator(ticker.MultipleLocator(1))\n",
        "ax.yaxis.set_major_locator(ticker.MultipleLocator(1))\n",
        "\n",
        "# sphinx_gallery_thumbnail_number = 2\n",
        "plt.show()"
      ],
      "metadata": {
        "colab": {
          "base_uri": "https://localhost:8080/",
          "height": 597
        },
        "id": "WPf149HqoJ8Q",
        "outputId": "719e6c03-11e9-4515-bf1c-bca3ed8c67ae"
      },
      "execution_count": 14,
      "outputs": [
        {
          "output_type": "stream",
          "name": "stderr",
          "text": [
            "<ipython-input-14-a5b341ffc3a3>:33: UserWarning: set_ticklabels() should only be used with a fixed number of ticks, i.e. after set_ticks() or using a FixedLocator.\n",
            "  ax.set_xticklabels([''] + all_categories, rotation=90)\n",
            "<ipython-input-14-a5b341ffc3a3>:34: UserWarning: set_ticklabels() should only be used with a fixed number of ticks, i.e. after set_ticks() or using a FixedLocator.\n",
            "  ax.set_yticklabels([''] + all_categories)\n"
          ]
        },
        {
          "output_type": "display_data",
          "data": {
            "text/plain": [
              "<Figure size 640x480 with 2 Axes>"
            ],
            "image/png": "[encoded data removed]"
          },
          "metadata": {}
        }
      ]
    },
    {
      "cell_type": "code",
      "source": [
        "def predict(input_line, n_predictions=3):\n",
        "    print('\\n> %s' % input_line)\n",
        "    with torch.no_grad():\n",
        "        output = evaluate(lineToTensor(input_line))\n",
        "\n",
        "        # Get top N categories\n",
        "        topv, topi = output.topk(n_predictions, 1, True)\n",
        "        predictions = []\n",
        "\n",
        "        for i in range(n_predictions):\n",
        "            value = topv[0][i].item()\n",
        "            category_index = topi[0][i].item()\n",
        "            print('(%.2f) %s' % (value, all_categories[category_index]))\n",
        "            predictions.append([value, all_categories[category_index]])\n",
        "\n",
        "predict('Dovesky')\n",
        "predict('Jackson')\n",
        "predict('Satoshi')\n",
        "predict('Abrams')"
      ],
      "metadata": {
        "colab": {
          "base_uri": "https://localhost:8080/"
        },
        "id": "W90v-9THntfl",
        "outputId": "94ea2017-db17-4d42-d37f-3659f7d82a43"
      },
      "execution_count": 15,
      "outputs": [
        {
          "output_type": "stream",
          "name": "stdout",
          "text": [
            "\n",
            "> Dovesky\n",
            "(-0.26) Czech\n",
            "(-2.19) English\n",
            "(-2.31) Russian\n",
            "\n",
            "> Jackson\n",
            "(-0.12) Scottish\n",
            "(-2.40) English\n",
            "(-5.04) Russian\n",
            "\n",
            "> Satoshi\n",
            "(-0.41) Japanese\n",
            "(-1.26) Italian\n",
            "(-4.25) Arabic\n",
            "\n",
            "> Abrams\n",
            "(-0.69) Arabic\n",
            "(-1.54) Dutch\n",
            "(-2.30) English\n"
          ]
        }
      ]
    },
    {
      "cell_type": "markdown",
      "source": [
        "## Transformer and Attention\n",
        "\n",
        "Based on the PyTorch tutorial, let's do a sequence-to-sequence transformer using attention.  We'll translate text from French to English.\n",
        "\n",
        "See https://pytorch.org/tutorials/intermediate/seq2seq_translation_tutorial.html for the original."
      ],
      "metadata": {
        "id": "P7JkZmqHohW-"
      }
    },
    {
      "cell_type": "markdown",
      "source": [
        "The idea is to take sequences of French and convert to sequences of English, as in the figure (from the tutorial):\n",
        "\n",
        "![image.png](data:image/png;base64,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)"
      ],
      "metadata": {
        "id": "zhTPCtcFo2FQ"
      }
    },
    {
      "cell_type": "markdown",
      "source": [
        "Helper class to capture words and positions..."
      ],
      "metadata": {
        "id": "vMOHXZcypUeA"
      }
    },
    {
      "cell_type": "code",
      "source": [
        "SOS_token = 0\n",
        "EOS_token = 1\n",
        "\n",
        "class Lang:\n",
        "    def __init__(self, name):\n",
        "        self.name = name\n",
        "        self.word2index = {}\n",
        "        self.word2count = {}\n",
        "        self.index2word = {0: \"SOS\", 1: \"EOS\"}\n",
        "        self.n_words = 2  # Count SOS and EOS\n",
        "\n",
        "    def addSentence(self, sentence):\n",
        "        for word in sentence.split(' '):\n",
        "            self.addWord(word)\n",
        "\n",
        "    def addWord(self, word):\n",
        "        if word not in self.word2index:\n",
        "            self.word2index[word] = self.n_words\n",
        "            self.word2count[word] = 1\n",
        "            self.index2word[self.n_words] = word\n",
        "            self.n_words += 1\n",
        "        else:\n",
        "            self.word2count[word] += 1\n",
        "\n",
        "# Turn a Unicode string to plain ASCII, thanks to\n",
        "# https://stackoverflow.com/a/518232/2809427\n",
        "def unicodeToAscii(s):\n",
        "    return ''.join(\n",
        "        c for c in unicodedata.normalize('NFD', s)\n",
        "        if unicodedata.category(c) != 'Mn'\n",
        "    )\n",
        "\n",
        "# Lowercase, trim, and remove non-letter characters\n",
        "def normalizeString(s):\n",
        "    s = unicodeToAscii(s.lower().strip())\n",
        "    s = re.sub(r\"([.!?])\", r\" \\1\", s)\n",
        "    s = re.sub(r\"[^a-zA-Z!?]+\", r\" \", s)\n",
        "    return s.strip()"
      ],
      "metadata": {
        "id": "f4s1qy4DpOKd"
      },
      "execution_count": 16,
      "outputs": []
    },
    {
      "cell_type": "markdown",
      "source": [
        "## Reading the data"
      ],
      "metadata": {
        "id": "cHAkIIb7pd-W"
      }
    },
    {
      "cell_type": "code",
      "source": [
        "def readLangs(lang1, lang2, reverse=False):\n",
        "    print(\"Reading lines...\")\n",
        "\n",
        "    # Read the file and split into lines\n",
        "    lines = open('data/%s-%s.txt' % (lang1, lang2), encoding='utf-8').\\\n",
        "        read().strip().split('\\n')\n",
        "\n",
        "    # Split every line into pairs and normalize\n",
        "    pairs = [[normalizeString(s) for s in l.split('\\t')] for l in lines]\n",
        "\n",
        "    # Reverse pairs, make Lang instances\n",
        "    if reverse:\n",
        "        pairs = [list(reversed(p)) for p in pairs]\n",
        "        input_lang = Lang(lang2)\n",
        "        output_lang = Lang(lang1)\n",
        "    else:\n",
        "        input_lang = Lang(lang1)\n",
        "        output_lang = Lang(lang2)\n",
        "\n",
        "    return input_lang, output_lang, pairs"
      ],
      "metadata": {
        "id": "DhV1PrfVpZEg"
      },
      "execution_count": 17,
      "outputs": []
    },
    {
      "cell_type": "markdown",
      "source": [
        "Simplifying the training data to short sentences."
      ],
      "metadata": {
        "id": "xS_mPNVVphz-"
      }
    },
    {
      "cell_type": "code",
      "source": [
        "MAX_LENGTH = 10\n",
        "\n",
        "eng_prefixes = (\n",
        "    \"i am \", \"i m \",\n",
        "    \"he is\", \"he s \",\n",
        "    \"she is\", \"she s \",\n",
        "    \"you are\", \"you re \",\n",
        "    \"we are\", \"we re \",\n",
        "    \"they are\", \"they re \"\n",
        ")\n",
        "\n",
        "def filterPair(p):\n",
        "    return len(p[0].split(' ')) < MAX_LENGTH and \\\n",
        "        len(p[1].split(' ')) < MAX_LENGTH and \\\n",
        "        p[1].startswith(eng_prefixes)\n",
        "\n",
        "\n",
        "def filterPairs(pairs):\n",
        "    return [pair for pair in pairs if filterPair(pair)]"
      ],
      "metadata": {
        "id": "4e3wOi5OpfS7"
      },
      "execution_count": 18,
      "outputs": []
    },
    {
      "cell_type": "code",
      "source": [
        "def prepareData(lang1, lang2, reverse=False):\n",
        "    input_lang, output_lang, pairs = readLangs(lang1, lang2, reverse)\n",
        "    print(\"Read %s sentence pairs\" % len(pairs))\n",
        "    pairs = filterPairs(pairs)\n",
        "    print(\"Trimmed to %s sentence pairs\" % len(pairs))\n",
        "    print(\"Counting words...\")\n",
        "    for pair in pairs:\n",
        "        input_lang.addSentence(pair[0])\n",
        "        output_lang.addSentence(pair[1])\n",
        "    print(\"Counted words:\")\n",
        "    print(input_lang.name, input_lang.n_words)\n",
        "    print(output_lang.name, output_lang.n_words)\n",
        "    return input_lang, output_lang, pairs\n",
        "\n",
        "input_lang, output_lang, pairs = prepareData('eng', 'fra', True)\n",
        "print(random.choice(pairs))"
      ],
      "metadata": {
        "colab": {
          "base_uri": "https://localhost:8080/"
        },
        "id": "Kwk5LMorplSC",
        "outputId": "9b483f4b-f13b-4e56-9526-9a3750aff3bc"
      },
      "execution_count": 19,
      "outputs": [
        {
          "output_type": "stream",
          "name": "stdout",
          "text": [
            "Reading lines...\n",
            "Read 135842 sentence pairs\n",
            "Trimmed to 11445 sentence pairs\n",
            "Counting words...\n",
            "Counted words:\n",
            "fra 4601\n",
            "eng 2991\n",
            "['vous etes un petit menteur', 'you re a little liar']\n"
          ]
        }
      ]
    },
    {
      "cell_type": "markdown",
      "source": [
        "Let's create an encoder!  For every input word we create a vector and a hidden state.  The hidden state will be used for the next input word."
      ],
      "metadata": {
        "id": "Ubg0ORaupwWx"
      }
    },
    {
      "cell_type": "code",
      "source": [
        "class EncoderRNN(nn.Module):\n",
        "    def __init__(self, input_size, hidden_size, dropout_p=0.1):\n",
        "        super(EncoderRNN, self).__init__()\n",
        "        self.hidden_size = hidden_size\n",
        "\n",
        "        self.embedding = nn.Embedding(input_size, hidden_size)\n",
        "        self.gru = nn.GRU(hidden_size, hidden_size, batch_first=True)\n",
        "        self.dropout = nn.Dropout(dropout_p)\n",
        "\n",
        "    def forward(self, input):\n",
        "        embedded = self.dropout(self.embedding(input))\n",
        "        output, hidden = self.gru(embedded)\n",
        "        return output, hidden"
      ],
      "metadata": {
        "id": "1HiNAjH7plcq"
      },
      "execution_count": 20,
      "outputs": []
    },
    {
      "cell_type": "markdown",
      "source": [
        "And alongside it, the decoder."
      ],
      "metadata": {
        "id": "HRBzZTy7p3l2"
      }
    },
    {
      "cell_type": "code",
      "source": [
        "class DecoderRNN(nn.Module):\n",
        "    def __init__(self, hidden_size, output_size):\n",
        "        super(DecoderRNN, self).__init__()\n",
        "        self.embedding = nn.Embedding(output_size, hidden_size)\n",
        "        self.gru = nn.GRU(hidden_size, hidden_size, batch_first=True)\n",
        "        self.out = nn.Linear(hidden_size, output_size)\n",
        "\n",
        "    def forward(self, encoder_outputs, encoder_hidden, target_tensor=None):\n",
        "        batch_size = encoder_outputs.size(0)\n",
        "        decoder_input = torch.empty(batch_size, 1, dtype=torch.long, device=device).fill_(SOS_token)\n",
        "        decoder_hidden = encoder_hidden\n",
        "        decoder_outputs = []\n",
        "\n",
        "        for i in range(MAX_LENGTH):\n",
        "            decoder_output, decoder_hidden  = self.forward_step(decoder_input, decoder_hidden)\n",
        "            decoder_outputs.append(decoder_output)\n",
        "\n",
        "            if target_tensor is not None:\n",
        "                # Teacher forcing: Feed the target as the next input\n",
        "                decoder_input = target_tensor[:, i].unsqueeze(1) # Teacher forcing\n",
        "            else:\n",
        "                # Without teacher forcing: use its own predictions as the next input\n",
        "                _, topi = decoder_output.topk(1)\n",
        "                decoder_input = topi.squeeze(-1).detach()  # detach from history as input\n",
        "\n",
        "        decoder_outputs = torch.cat(decoder_outputs, dim=1)\n",
        "        decoder_outputs = F.log_softmax(decoder_outputs, dim=-1)\n",
        "        return decoder_outputs, decoder_hidden, None # We return `None` for consistency in the training loop\n",
        "\n",
        "    def forward_step(self, input, hidden):\n",
        "        output = self.embedding(input)\n",
        "        output = F.relu(output)\n",
        "        output, hidden = self.gru(output, hidden)\n",
        "        output = self.out(output)\n",
        "        return output, hidden"
      ],
      "metadata": {
        "id": "s-Q-yHgxp1my"
      },
      "execution_count": 21,
      "outputs": []
    },
    {
      "cell_type": "markdown",
      "source": [
        "Let's try attention now, using an additive model called Bahadanau attention."
      ],
      "metadata": {
        "id": "-iqDazc1qMCk"
      }
    },
    {
      "cell_type": "markdown",
      "source": [
        "![image.png](data:image/png;base64,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)"
      ],
      "metadata": {
        "id": "VNpNrz5Tsz9g"
      }
    },
    {
      "cell_type": "markdown",
      "source": [
        "![image.png](data:image/png;base64,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)"
      ],
      "metadata": {
        "id": "6x8imtJ0ssJ4"
      }
    },
    {
      "cell_type": "markdown",
      "source": [
        "We'll use a Gated Recurrent Unit (GRU) here - basically think of it as an LSTM."
      ],
      "metadata": {
        "id": "gPSQWrUdtBKr"
      }
    },
    {
      "cell_type": "code",
      "source": [
        "class BahdanauAttention(nn.Module):\n",
        "    def __init__(self, hidden_size):\n",
        "        super(BahdanauAttention, self).__init__()\n",
        "        self.Wa = nn.Linear(hidden_size, hidden_size)\n",
        "        self.Ua = nn.Linear(hidden_size, hidden_size)\n",
        "        self.Va = nn.Linear(hidden_size, 1)\n",
        "\n",
        "    def forward(self, query, keys):\n",
        "        scores = self.Va(torch.tanh(self.Wa(query) + self.Ua(keys)))\n",
        "        scores = scores.squeeze(2).unsqueeze(1)\n",
        "\n",
        "        weights = F.softmax(scores, dim=-1)\n",
        "        context = torch.bmm(weights, keys)\n",
        "\n",
        "        return context, weights\n",
        "\n",
        "class AttnDecoderRNN(nn.Module):\n",
        "    def __init__(self, hidden_size, output_size, dropout_p=0.1):\n",
        "        super(AttnDecoderRNN, self).__init__()\n",
        "        self.embedding = nn.Embedding(output_size, hidden_size)\n",
        "        self.attention = BahdanauAttention(hidden_size)\n",
        "        self.gru = nn.GRU(2 * hidden_size, hidden_size, batch_first=True)\n",
        "        self.out = nn.Linear(hidden_size, output_size)\n",
        "        self.dropout = nn.Dropout(dropout_p)\n",
        "\n",
        "    def forward(self, encoder_outputs, encoder_hidden, target_tensor=None):\n",
        "        batch_size = encoder_outputs.size(0)\n",
        "        decoder_input = torch.empty(batch_size, 1, dtype=torch.long, device=device).fill_(SOS_token)\n",
        "        decoder_hidden = encoder_hidden\n",
        "        decoder_outputs = []\n",
        "        attentions = []\n",
        "\n",
        "        for i in range(MAX_LENGTH):\n",
        "            decoder_output, decoder_hidden, attn_weights = self.forward_step(\n",
        "                decoder_input, decoder_hidden, encoder_outputs\n",
        "            )\n",
        "            decoder_outputs.append(decoder_output)\n",
        "            attentions.append(attn_weights)\n",
        "\n",
        "            if target_tensor is not None:\n",
        "                # Teacher forcing: Feed the target as the next input\n",
        "                decoder_input = target_tensor[:, i].unsqueeze(1) # Teacher forcing\n",
        "            else:\n",
        "                # Without teacher forcing: use its own predictions as the next input\n",
        "                _, topi = decoder_output.topk(1)\n",
        "                decoder_input = topi.squeeze(-1).detach()  # detach from history as input\n",
        "\n",
        "        decoder_outputs = torch.cat(decoder_outputs, dim=1)\n",
        "        decoder_outputs = F.log_softmax(decoder_outputs, dim=-1)\n",
        "        attentions = torch.cat(attentions, dim=1)\n",
        "\n",
        "        return decoder_outputs, decoder_hidden, attentions\n",
        "\n",
        "\n",
        "    def forward_step(self, input, hidden, encoder_outputs):\n",
        "        embedded =  self.dropout(self.embedding(input))\n",
        "\n",
        "        query = hidden.permute(1, 0, 2)\n",
        "        context, attn_weights = self.attention(query, encoder_outputs)\n",
        "        input_gru = torch.cat((embedded, context), dim=2)\n",
        "\n",
        "        output, hidden = self.gru(input_gru, hidden)\n",
        "        output = self.out(output)\n",
        "\n",
        "        return output, hidden, attn_weights"
      ],
      "metadata": {
        "id": "Ymi0yjp6px1X"
      },
      "execution_count": 22,
      "outputs": []
    },
    {
      "cell_type": "markdown",
      "source": [
        "## Training"
      ],
      "metadata": {
        "id": "iX3fN7YTqR6Q"
      }
    },
    {
      "cell_type": "code",
      "source": [
        "def indexesFromSentence(lang, sentence):\n",
        "    return [lang.word2index[word] for word in sentence.split(' ')]\n",
        "\n",
        "def tensorFromSentence(lang, sentence):\n",
        "    indexes = indexesFromSentence(lang, sentence)\n",
        "    indexes.append(EOS_token)\n",
        "    return torch.tensor(indexes, dtype=torch.long, device=device).view(1, -1)\n",
        "\n",
        "def tensorsFromPair(pair):\n",
        "    input_tensor = tensorFromSentence(input_lang, pair[0])\n",
        "    target_tensor = tensorFromSentence(output_lang, pair[1])\n",
        "    return (input_tensor, target_tensor)\n",
        "\n",
        "def get_dataloader(batch_size):\n",
        "    input_lang, output_lang, pairs = prepareData('eng', 'fra', True)\n",
        "\n",
        "    n = len(pairs)\n",
        "    input_ids = np.zeros((n, MAX_LENGTH), dtype=np.int32)\n",
        "    target_ids = np.zeros((n, MAX_LENGTH), dtype=np.int32)\n",
        "\n",
        "    for idx, (inp, tgt) in enumerate(pairs):\n",
        "        inp_ids = indexesFromSentence(input_lang, inp)\n",
        "        tgt_ids = indexesFromSentence(output_lang, tgt)\n",
        "        inp_ids.append(EOS_token)\n",
        "        tgt_ids.append(EOS_token)\n",
        "        input_ids[idx, :len(inp_ids)] = inp_ids\n",
        "        target_ids[idx, :len(tgt_ids)] = tgt_ids\n",
        "\n",
        "    train_data = TensorDataset(torch.LongTensor(input_ids).to(device),\n",
        "                               torch.LongTensor(target_ids).to(device))\n",
        "\n",
        "    train_sampler = RandomSampler(train_data)\n",
        "    train_dataloader = DataLoader(train_data, sampler=train_sampler, batch_size=batch_size)\n",
        "    return input_lang, output_lang, train_dataloader"
      ],
      "metadata": {
        "id": "wA-sgn2fqQGq"
      },
      "execution_count": 23,
      "outputs": []
    },
    {
      "cell_type": "code",
      "source": [
        "def train_epoch(dataloader, encoder, decoder, encoder_optimizer,\n",
        "          decoder_optimizer, criterion):\n",
        "\n",
        "    total_loss = 0\n",
        "    for data in dataloader:\n",
        "        input_tensor, target_tensor = data\n",
        "\n",
        "        encoder_optimizer.zero_grad()\n",
        "        decoder_optimizer.zero_grad()\n",
        "\n",
        "        encoder_outputs, encoder_hidden = encoder(input_tensor)\n",
        "        decoder_outputs, _, _ = decoder(encoder_outputs, encoder_hidden, target_tensor)\n",
        "\n",
        "        loss = criterion(\n",
        "            decoder_outputs.view(-1, decoder_outputs.size(-1)),\n",
        "            target_tensor.view(-1)\n",
        "        )\n",
        "        loss.backward()\n",
        "\n",
        "        encoder_optimizer.step()\n",
        "        decoder_optimizer.step()\n",
        "\n",
        "        total_loss += loss.item()\n",
        "\n",
        "    return total_loss / len(dataloader)"
      ],
      "metadata": {
        "id": "Q6RUIndRqTNa"
      },
      "execution_count": 24,
      "outputs": []
    },
    {
      "cell_type": "code",
      "source": [
        "import time\n",
        "import math\n",
        "\n",
        "def asMinutes(s):\n",
        "    m = math.floor(s / 60)\n",
        "    s -= m * 60\n",
        "    return '%dm %ds' % (m, s)\n",
        "\n",
        "def timeSince(since, percent):\n",
        "    now = time.time()\n",
        "    s = now - since\n",
        "    es = s / (percent)\n",
        "    rs = es - s\n",
        "    return '%s (- %s)' % (asMinutes(s), asMinutes(rs))"
      ],
      "metadata": {
        "id": "vl13h3QvqUx8"
      },
      "execution_count": 25,
      "outputs": []
    },
    {
      "cell_type": "code",
      "source": [
        "def train(train_dataloader, encoder, decoder, n_epochs, learning_rate=0.001,\n",
        "               print_every=100, plot_every=100):\n",
        "    start = time.time()\n",
        "    plot_losses = []\n",
        "    print_loss_total = 0  # Reset every print_every\n",
        "    plot_loss_total = 0  # Reset every plot_every\n",
        "\n",
        "    encoder_optimizer = optim.Adam(encoder.parameters(), lr=learning_rate)\n",
        "    decoder_optimizer = optim.Adam(decoder.parameters(), lr=learning_rate)\n",
        "    criterion = nn.NLLLoss()\n",
        "\n",
        "    for epoch in range(1, n_epochs + 1):\n",
        "        loss = train_epoch(train_dataloader, encoder, decoder, encoder_optimizer, decoder_optimizer, criterion)\n",
        "        print_loss_total += loss\n",
        "        plot_loss_total += loss\n",
        "\n",
        "        if epoch % print_every == 0:\n",
        "            print_loss_avg = print_loss_total / print_every\n",
        "            print_loss_total = 0\n",
        "            print('%s (%d %d%%) %.4f' % (timeSince(start, epoch / n_epochs),\n",
        "                                        epoch, epoch / n_epochs * 100, print_loss_avg))\n",
        "\n",
        "        if epoch % plot_every == 0:\n",
        "            plot_loss_avg = plot_loss_total / plot_every\n",
        "            plot_losses.append(plot_loss_avg)\n",
        "            plot_loss_total = 0\n",
        "\n",
        "    showPlot(plot_losses)"
      ],
      "metadata": {
        "id": "yy5VN_pcqWXM"
      },
      "execution_count": 26,
      "outputs": []
    },
    {
      "cell_type": "code",
      "source": [
        "import matplotlib.pyplot as plt\n",
        "plt.switch_backend('agg')\n",
        "import matplotlib.ticker as ticker\n",
        "import numpy as np\n",
        "\n",
        "def showPlot(points):\n",
        "    plt.figure()\n",
        "    fig, ax = plt.subplots()\n",
        "    # this locator puts ticks at regular intervals\n",
        "    loc = ticker.MultipleLocator(base=0.2)\n",
        "    ax.yaxis.set_major_locator(loc)\n",
        "    plt.plot(points)"
      ],
      "metadata": {
        "id": "Nr80nwFtqXnG"
      },
      "execution_count": 27,
      "outputs": []
    },
    {
      "cell_type": "code",
      "source": [
        "def evaluate(encoder, decoder, sentence, input_lang, output_lang):\n",
        "    with torch.no_grad():\n",
        "        input_tensor = tensorFromSentence(input_lang, sentence)\n",
        "\n",
        "        encoder_outputs, encoder_hidden = encoder(input_tensor)\n",
        "        decoder_outputs, decoder_hidden, decoder_attn = decoder(encoder_outputs, encoder_hidden)\n",
        "\n",
        "        _, topi = decoder_outputs.topk(1)\n",
        "        decoded_ids = topi.squeeze()\n",
        "\n",
        "        decoded_words = []\n",
        "        for idx in decoded_ids:\n",
        "            if idx.item() == EOS_token:\n",
        "                decoded_words.append('<EOS>')\n",
        "                break\n",
        "            decoded_words.append(output_lang.index2word[idx.item()])\n",
        "    return decoded_words, decoder_attn"
      ],
      "metadata": {
        "id": "70Vdf-nwqZFx"
      },
      "execution_count": 28,
      "outputs": []
    },
    {
      "cell_type": "code",
      "source": [
        "hidden_size = 128\n",
        "batch_size = 32\n",
        "\n",
        "input_lang, output_lang, train_dataloader = get_dataloader(batch_size)\n",
        "\n",
        "encoder = EncoderRNN(input_lang.n_words, hidden_size).to(device)\n",
        "decoder = AttnDecoderRNN(hidden_size, output_lang.n_words).to(device)\n",
        "\n",
        "train(train_dataloader, encoder, decoder, 80, print_every=5, plot_every=5)"
      ],
      "metadata": {
        "colab": {
          "base_uri": "https://localhost:8080/"
        },
        "id": "ByNmiu-nqbIz",
        "outputId": "aded7480-e87b-4a3f-8163-add41c039c16"
      },
      "execution_count": 29,
      "outputs": [
        {
          "output_type": "stream",
          "name": "stdout",
          "text": [
            "Reading lines...\n",
            "Read 135842 sentence pairs\n",
            "Trimmed to 11445 sentence pairs\n",
            "Counting words...\n",
            "Counted words:\n",
            "fra 4601\n",
            "eng 2991\n",
            "0m 46s (- 11m 32s) (5 6%) 1.5193\n",
            "1m 25s (- 9m 55s) (10 12%) 0.6660\n",
            "2m 3s (- 8m 56s) (15 18%) 0.3425\n",
            "2m 42s (- 8m 6s) (20 25%) 0.1895\n",
            "3m 20s (- 7m 20s) (25 31%) 0.1175\n",
            "3m 58s (- 6m 37s) (30 37%) 0.0821\n",
            "4m 36s (- 5m 55s) (35 43%) 0.0633\n",
            "5m 15s (- 5m 15s) (40 50%) 0.0522\n",
            "5m 55s (- 4m 36s) (45 56%) 0.0449\n",
            "6m 34s (- 3m 56s) (50 62%) 0.0403\n",
            "7m 14s (- 3m 17s) (55 68%) 0.0374\n",
            "7m 52s (- 2m 37s) (60 75%) 0.0348\n",
            "8m 31s (- 1m 58s) (65 81%) 0.0327\n",
            "9m 10s (- 1m 18s) (70 87%) 0.0311\n",
            "9m 48s (- 0m 39s) (75 93%) 0.0299\n",
            "10m 26s (- 0m 0s) (80 100%) 0.0292\n"
          ]
        }
      ]
    },
    {
      "cell_type": "markdown",
      "source": [
        "## Evaluating the Translator\n",
        "\n",
        "How does it do?"
      ],
      "metadata": {
        "id": "SFl5hf_xt-qL"
      }
    },
    {
      "cell_type": "code",
      "source": [
        "def evaluateRandomly(encoder, decoder, n=10):\n",
        "    for i in range(n):\n",
        "        pair = random.choice(pairs)\n",
        "        print('>', pair[0])\n",
        "        print('=', pair[1])\n",
        "        output_words, _ = evaluate(encoder, decoder, pair[0], input_lang, output_lang)\n",
        "        output_sentence = ' '.join(output_words)\n",
        "        print('<', output_sentence)\n",
        "        print('')"
      ],
      "metadata": {
        "id": "KJO5rPu3t8E4"
      },
      "execution_count": 31,
      "outputs": []
    },
    {
      "cell_type": "code",
      "source": [
        "encoder.eval()\n",
        "decoder.eval()\n",
        "evaluateRandomly(encoder, decoder)"
      ],
      "metadata": {
        "colab": {
          "base_uri": "https://localhost:8080/"
        },
        "id": "TOF-rxG0qcuT",
        "outputId": "814196d7-f584-4e92-cad6-b43c59d405e5"
      },
      "execution_count": 32,
      "outputs": [
        {
          "output_type": "stream",
          "name": "stdout",
          "text": [
            "> nous sommes trop proches\n",
            "= we re too close\n",
            "< we re too close to close <EOS>\n",
            "\n",
            "> vous etes blanc comme un drap\n",
            "= you are as white as a sheet\n",
            "< you are as white as a sheet <EOS>\n",
            "\n",
            "> il parle au telephone\n",
            "= he s talking on the telephone\n",
            "< he s talking on the telephone of the plan <EOS>\n",
            "\n",
            "> ce sont les miens\n",
            "= they re mine\n",
            "< they re mine <EOS>\n",
            "\n",
            "> vous etes fort ingenieuses\n",
            "= you re very clever\n",
            "< you re very clever than mary <EOS>\n",
            "\n",
            "> c est une enfoiree\n",
            "= she s a dog\n",
            "< she s a dog <EOS>\n",
            "\n",
            "> nous essayons de gagner\n",
            "= we re trying to win\n",
            "< we re trying to win <EOS>\n",
            "\n",
            "> je ne suis pas pret a mourir\n",
            "= i m not ready to die\n",
            "< i m not ready to die <EOS>\n",
            "\n",
            "> je suis sur le chemin de la maison\n",
            "= i m on the way home\n",
            "< i m on the way home <EOS>\n",
            "\n",
            "> tu es tres vif\n",
            "= you re very sharp\n",
            "< you re very sharp <EOS>\n",
            "\n"
          ]
        }
      ]
    },
    {
      "cell_type": "code",
      "source": [],
      "metadata": {
        "id": "58i3y68at3AO"
      },
      "execution_count": null,
      "outputs": []
    }
  ]
}