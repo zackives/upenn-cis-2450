{
  "cells": [
    {
      "cell_type": "markdown",
      "metadata": {
        "id": "view-in-github",
        "colab_type": "text"
      },
      "source": [
        "<a href=\"https://colab.research.google.com/github/zackives/upenn-cis-2450/blob/main/Lab_PyTorch_and_Neural_Nets.ipynb\" target=\"_parent\"><img src=\"https://colab.research.google.com/assets/colab-badge.svg\" alt=\"Open In Colab\"/></a>"
      ]
    },
    {
      "cell_type": "markdown",
      "metadata": {
        "id": "31Gsu_ssYQXK"
      },
      "source": [
        "# CIS 2450 Lab 9 - PyTorch and Neural Networks"
      ]
    },
    {
      "cell_type": "markdown",
      "metadata": {
        "id": "UDnD2RypG1Kb"
      },
      "source": [
        "## Dependency Loading"
      ]
    },
    {
      "cell_type": "code",
      "execution_count": null,
      "metadata": {
        "colab": {
          "base_uri": "https://localhost:8080/"
        },
        "id": "hnK-pUdTG2BV",
        "outputId": "077c6bae-44f7-404b-86c2-68dc5b91ad4a"
      },
      "outputs": [
        {
          "output_type": "stream",
          "name": "stdout",
          "text": [
            "2.5.1+cu121\n"
          ]
        }
      ],
      "source": [
        "import numpy as np\n",
        "\n",
        "import torch\n",
        "import torchvision\n",
        "import torch.nn as nn\n",
        "import torch.optim as optim\n",
        "import torchvision.transforms as transforms\n",
        "import matplotlib.pyplot as plt\n",
        "\n",
        "print(torch.__version__)"
      ]
    },
    {
      "cell_type": "markdown",
      "metadata": {
        "id": "-zs5RHAuFgR8"
      },
      "source": [
        "## A Brief Tutorial on PyTorch\n"
      ]
    },
    {
      "cell_type": "markdown",
      "metadata": {
        "id": "vDsGRvVOEJBh"
      },
      "source": [
        "### Making sure a GPU is available.\n",
        "\n",
        "Part of what we'll be doing in this tutorial is covering using GPUs for computation in PyTorch. In order to enable the use of a GPU in colab, you'll first need to go to `Runtime -> Change runtime type` in the menu system above. Then, under hardware acceleration, choose GPU.\n",
        "\n",
        "Once you've done that, the next cell should run without errors."
      ]
    },
    {
      "cell_type": "code",
      "execution_count": null,
      "metadata": {
        "id": "Xx7hoaZCEMYx"
      },
      "outputs": [],
      "source": [
        "# TODO: Running this cell shouldn't produce an error if you've done the above steps correctly.\n",
        "assert torch.cuda.is_available()"
      ]
    },
    {
      "cell_type": "markdown",
      "metadata": {
        "id": "sQYjTSL5EQa5"
      },
      "source": [
        "### Understanding Tensors\n",
        "\n",
        "Tensors in PyTorch are direct equivalents of `ndarray` (or just arrays) in NumPy in many ways. In fact, many of the operations you are now familiar with in numpy translate directly over to PyTorch! Below are some examples."
      ]
    },
    {
      "cell_type": "code",
      "execution_count": null,
      "metadata": {
        "colab": {
          "base_uri": "https://localhost:8080/"
        },
        "id": "r3JMGzNREOZJ",
        "outputId": "681f6be8-e0a2-426b-f105-157b7bd36252"
      },
      "outputs": [
        {
          "output_type": "stream",
          "name": "stdout",
          "text": [
            "(5,) (1, 5) (5, 1) (5, 5)\n",
            "torch.Size([5]) torch.Size([1, 5]) torch.Size([5, 1]) torch.Size([5, 5])\n",
            "NumPy matrix...\n",
            "[[1 2 3 4 5]\n",
            " [1 2 3 4 5]\n",
            " [1 2 3 4 5]\n",
            " [1 2 3 4 5]\n",
            " [1 2 3 4 5]]\n",
            "Torch matrix...\n",
            "tensor([[1, 2, 3, 4, 5],\n",
            "        [1, 2, 3, 4, 5],\n",
            "        [1, 2, 3, 4, 5],\n",
            "        [1, 2, 3, 4, 5],\n",
            "        [1, 2, 3, 4, 5]])\n"
          ]
        }
      ],
      "source": [
        "# TODO: Make a 5x5 matrix, a 5x1 column vector, a 1x5 row vector and a (5,) \"proper\" vector in NumPy and PyTorch\n",
        "np_vec = np.arange(1, 6)  # (5,)\n",
        "np_rvec = np_vec[None, :]  # (1, 5)\n",
        "np_cvec = np_vec[:, None]  # (5, 1)\n",
        "np_mat = np.tile(np_rvec, (5, 1))  # Repeat the np_rvec row 5 times --> (5, 5)\n",
        "print(np_vec.shape, np_rvec.shape, np_cvec.shape, np_mat.shape)\n",
        "\n",
        "th_vec = torch.arange(1, 6)\n",
        "th_rvec = th_vec[None, :]  # Or: th_vec.unsqueeze(0)\n",
        "th_cvec = th_vec[:, None]  # Or: th_vec.unsqueeze(1)\n",
        "th_mat = torch.tile(th_rvec, (5, 1))\n",
        "print(th_vec.shape, th_rvec.shape, th_cvec.shape, th_mat.shape)\n",
        "\n",
        "print('NumPy matrix...')\n",
        "print(np_mat)\n",
        "print('Torch matrix...')\n",
        "print(th_mat)"
      ]
    },
    {
      "cell_type": "code",
      "execution_count": null,
      "metadata": {
        "id": "DH1q8fyCEaI5"
      },
      "outputs": [],
      "source": [
        "# As a reminder, here are some operations you can do in NumPy on matrices and vectors.\n",
        "\n",
        "# Matrix vector multiplication\n",
        "np_mvm = np_mat @ np_cvec  # or np.matmul\n",
        "\n",
        "# Add np_rvec to each row of np_mat\n",
        "np_add1 = np_mat + np_rvec\n",
        "\n",
        "# Subtract np_cvec from each column of np_mat\n",
        "np_add2 = np_mat - np_cvec\n",
        "\n",
        "# Take the square root of each element of np_mat\n",
        "np_sqrt = np.sqrt(np_mat)"
      ]
    },
    {
      "cell_type": "code",
      "execution_count": null,
      "metadata": {
        "id": "JDfjc4zKEcvY"
      },
      "outputs": [],
      "source": [
        "# TODO: Replicate the above operations on the PyTorch operations.\n",
        "\n",
        "# Matrix vector multiplication\n",
        "th_mvm = th_mat @ th_cvec  # or torch.matmul\n",
        "\n",
        "# Add np_rvec to each row of np_mat\n",
        "th_add1 = th_mat + th_rvec\n",
        "\n",
        "# Subtract np_cvec from each column of np_mat\n",
        "th_add2 = th_mat - th_cvec\n",
        "\n",
        "# Take the square root of each element of np_mat\n",
        "th_sqrt = torch.sqrt(th_mat)"
      ]
    },
    {
      "cell_type": "markdown",
      "metadata": {
        "id": "j38zL5K3EfGq"
      },
      "source": [
        "### Difference 1: GPU Computing\n",
        "\n",
        "The first major difference between numpy and pytorch is that pytorch supports easy use of GPUs for computation. The way this works is as follows:\n",
        "\n",
        "1. First, move any tensors that you want to do computation on the GPU with to the GPU. This can be accomplished by calling either `gpu_tensor = tensor.cuda()` or `gpu_tensor = tensor.to('cuda')`. If you have more than one GPU on your computer, you can also specify which GPU to use, e.g. `tensor.to('cuda:1')`. Note that this will fail if you don't have a GPU available.\n",
        "1. There is no step 2! Do computation with the tensors as normal and it all happens on the GPU."
      ]
    },
    {
      "cell_type": "code",
      "execution_count": null,
      "metadata": {
        "id": "VYTBghfdEhbR"
      },
      "outputs": [],
      "source": [
        "# TODO: Make a random 5000x5000 matrix in torch and do a matrix multiply with a 1000x1000 matrix of all ones.\n",
        "# Hint: use torch.rand(n, m) and torch.ones(n, m)\n",
        "\n",
        "th_mat1 = torch.rand(5000, 5000)\n",
        "th_mat2 = torch.ones(5000, 5000)"
      ]
    },
    {
      "cell_type": "code",
      "execution_count": null,
      "metadata": {
        "colab": {
          "base_uri": "https://localhost:8080/"
        },
        "id": "1Ui2zPETEjiJ",
        "outputId": "d73e6581-c2d1-46c7-eeac-1aa17162d3a6"
      },
      "outputs": [
        {
          "output_type": "stream",
          "name": "stdout",
          "text": [
            "CPU times: user 1.87 s, sys: 77.4 ms, total: 1.95 s\n",
            "Wall time: 1.94 s\n"
          ]
        }
      ],
      "source": [
        "# TODO: Time a matrix multiply on the CPU\n",
        "\n",
        "%time res = th_mat1 @ th_mat2"
      ]
    },
    {
      "cell_type": "code",
      "execution_count": null,
      "metadata": {
        "id": "ZSRwh_CLElYX"
      },
      "outputs": [],
      "source": [
        "# TODO: Make new tensors Move th_mat1 and th_mat2 to the GPU\n",
        "th_mat1_gpu = th_mat1.cuda()\n",
        "th_mat2_gpu = th_mat2.cuda()"
      ]
    },
    {
      "cell_type": "code",
      "execution_count": null,
      "metadata": {
        "colab": {
          "base_uri": "https://localhost:8080/"
        },
        "id": "Cfc5p28VEoCM",
        "outputId": "abb749fd-fadc-4d31-ac78-7e9d650e6b46"
      },
      "outputs": [
        {
          "output_type": "stream",
          "name": "stdout",
          "text": [
            "tensor(2471.5098, device='cuda:0')\n",
            "CPU times: user 82.5 ms, sys: 7.86 ms, total: 90.4 ms\n",
            "Wall time: 90.4 ms\n"
          ]
        }
      ],
      "source": [
        "%%time\n",
        "\n",
        "# TODO: Fill in \"res\" below.\n",
        "\n",
        "res = th_mat1_gpu @ th_mat2_gpu\n",
        "\n",
        "print(res[0, 0])"
      ]
    },
    {
      "cell_type": "markdown",
      "metadata": {
        "id": "bHgE61P4Erw7"
      },
      "source": [
        "### Difference 2: Autograd\n",
        "\n",
        "The second major difference between numpy and pytorch is that pytorch supports automatic differentiation. What this means is that pytorch allows you to do computation and get derivatives for free! Here's the basic work flow:\n",
        "\n",
        "1. Define a Parameter with `some_param = torch.nn.Parameter(some_tensor)`.\n",
        "1. Use the parameter in some computation.\n",
        "1. Call `.backward()` on any scalar result of the computation to get derivatives for some_param in `some_param.grad`"
      ]
    },
    {
      "cell_type": "code",
      "execution_count": null,
      "metadata": {
        "colab": {
          "base_uri": "https://localhost:8080/"
        },
        "id": "6B0nBSMXExcY",
        "outputId": "9d96e1a9-f40a-4637-ff66-231084391fed"
      },
      "outputs": [
        {
          "output_type": "stream",
          "name": "stdout",
          "text": [
            "tensor([0.9974], grad_fn=<SinBackward0>) tensor([0.1082])\n"
          ]
        }
      ],
      "source": [
        "some_tensor = torch.rand(1)\n",
        "# TODO: Make a parameter out of some_param\n",
        "some_param = torch.nn.Parameter(some_tensor)\n",
        "\n",
        "# TODO: Compute sin(exp(some_param)) and the derivative of sin(exp(x)) with respect to some_param.\n",
        "# Hint: Use torch.sin and torch.exp\n",
        "res = torch.sin(torch.exp(some_param))\n",
        "res.backward()\n",
        "\n",
        "print(res, some_param.grad)"
      ]
    },
    {
      "cell_type": "code",
      "execution_count": null,
      "metadata": {
        "id": "LAzWRZnGabSv"
      },
      "outputs": [],
      "source": []
    },
    {
      "cell_type": "markdown",
      "metadata": {
        "id": "bxz8O8AjE0ff"
      },
      "source": [
        "Of course, autograd works for multivariate calculus, too. Let's compute the partial derivatives of the following 5 dimensional function: $$f(\\mathbf{x}) = \\sum_{i=1}^{5} \\sin ( \\exp (x_i) )$$ at a few inputs. E.g., we're going to compute $\\frac{\\partial f}{\\partial x_i}$ for all i."
      ]
    },
    {
      "cell_type": "code",
      "execution_count": null,
      "metadata": {
        "colab": {
          "base_uri": "https://localhost:8080/"
        },
        "id": "8zDZfMK4E1el",
        "outputId": "fb4f29c7-1941-47e1-fe07-91854eb8b7c5"
      },
      "outputs": [
        {
          "output_type": "stream",
          "name": "stdout",
          "text": [
            "tensor(4.7513, grad_fn=<SumBackward0>) tensor([-1.2702,  0.2369, -0.3786, -0.1572, -0.3675])\n"
          ]
        }
      ],
      "source": [
        "# TODO: Make a random parameter of length 5.\n",
        "param = torch.nn.Parameter(torch.rand(5,))\n",
        "res = torch.sum(torch.sin(torch.exp(param)))\n",
        "res.backward()\n",
        "\n",
        "print(res, param.grad)"
      ]
    },
    {
      "cell_type": "markdown",
      "metadata": {
        "id": "_vokwSPkFXIK"
      },
      "source": [
        "## Building Block of ML #1: torch.nn.Module\n",
        "\n",
        "In PyTorch, I can define Modules. Modules do two things for me:\n",
        "\n",
        "1. They make it easy to collect a set of parameters together. By calling `module.parameters()` or `module.named_parameters()` I get a generator over the parameters not only of the module but all of its submodules.\n",
        "2. They let me define a method called `forward` that gets called when I do `module(x)`.\n",
        "\n",
        "Let's first code up a \"from scratch\" implementation of a module that might be useful for linear regression. To do this, we need to create a class that extends `Module`, defines `weight` and `bias` parameters in the constructor, and then defines a `forward` method that applies the familiar linear regression prediction equation, $w^{\\top}x + b$"
      ]
    },
    {
      "cell_type": "code",
      "execution_count": null,
      "metadata": {
        "id": "6hu3Iw5gFtEK"
      },
      "outputs": [],
      "source": [
        "class LinearRegression(torch.nn.Module):\n",
        "    def __init__(self, input_dim):\n",
        "        \"\"\"\n",
        "        Args:\n",
        "            input_dim: The number of features we expect in the dataset.\n",
        "        \"\"\"\n",
        "        super().__init__()\n",
        "        # TODO: Add a \"weight\" and \"bias\" parameter to this class.\n",
        "        self.weight = torch.nn.Parameter(torch.rand(input_dim, 1))\n",
        "        self.bias = torch.nn.Parameter(torch.rand(1, 1))\n",
        "\n",
        "    def forward(self, x):\n",
        "        # Assume: x is (n, d)\n",
        "        # TODO: compute linear regression predictions for each x using the parameters you define above.\n",
        "        prediction = (x @ self.weight) + self.bias\n",
        "        return prediction"
      ]
    },
    {
      "cell_type": "code",
      "execution_count": null,
      "metadata": {
        "colab": {
          "base_uri": "https://localhost:8080/"
        },
        "id": "Zptirp4mFuX1",
        "outputId": "5f993d62-6f62-4729-d2af-0ebf3a9c6fe6"
      },
      "outputs": [
        {
          "output_type": "stream",
          "name": "stdout",
          "text": [
            "torch.Size([296, 10]) torch.Size([296]) torch.Size([146, 10]) torch.Size([146])\n"
          ]
        }
      ],
      "source": [
        "from sklearn.datasets import load_diabetes\n",
        "from sklearn.preprocessing import StandardScaler\n",
        "from sklearn.model_selection import train_test_split\n",
        "\n",
        "X, y = load_diabetes(return_X_y=True)\n",
        "# X = StandardScaler().fit_transform(X, y)\n",
        "train_x, test_x, train_y, test_y = train_test_split(X, y, test_size=0.33)\n",
        "\n",
        "train_x, train_y = torch.from_numpy(train_x).float(), torch.from_numpy(train_y).float()\n",
        "test_x, test_y = torch.from_numpy(test_x).float(), torch.from_numpy(test_y).float()\n",
        "\n",
        "print(train_x.shape, train_y.shape, test_x.shape, test_y.shape)"
      ]
    },
    {
      "cell_type": "code",
      "execution_count": null,
      "metadata": {
        "colab": {
          "base_uri": "https://localhost:8080/"
        },
        "id": "b_cPLZ_hGAue",
        "outputId": "e0bc05b3-6a6f-4688-99d1-6bb2f86f58f2"
      },
      "outputs": [
        {
          "output_type": "stream",
          "name": "stdout",
          "text": [
            "tensor([[ 0.3500],\n",
            "        [-0.2256],\n",
            "        [ 0.4917],\n",
            "        [ 0.3808],\n",
            "        [ 0.1731],\n",
            "        [ 0.1798],\n",
            "        [-0.3102],\n",
            "        [ 0.1681],\n",
            "        [ 0.2910],\n",
            "        [ 0.6820]]) tensor([[-298.1755]])\n"
          ]
        }
      ],
      "source": [
        "# TODO: Make a new LinearRegression object with appropriate input_dim for the above dataset.\n",
        "# Then, make predictions on train_x, and compute the derivative of the MSE with respect to your weight and bias.\n",
        "\n",
        "linear_reg = LinearRegression(input_dim=10)\n",
        "pred = linear_reg(train_x)\n",
        "mse = torch.mean((pred - train_y) ** 2)\n",
        "mse.backward()\n",
        "print(linear_reg.weight.grad, linear_reg.bias.grad)"
      ]
    },
    {
      "cell_type": "markdown",
      "metadata": {
        "id": "zNPfPalsGIqT"
      },
      "source": [
        "## Building Block of ML #2: torch.optim\n",
        "\n",
        "We're clearly making progress! So far, what we've been able to do is define a linear regression module with appropriate parameters, compute a loss function (mean squared error), and compute the derivative of the loss with respect to the weight and bias. All we need now is a way to apply these gradients to the parameters to update them and learn.\n",
        "\n",
        "To help accomplish this, PyTorch provides a `torch.optim` library with a variety of `Optimizers`. In PyTorch, an `Optimizer` has the following properties:\n",
        "\n",
        "1. You create an optimizer with a list (or generator) of parameters to optimize, and typically a learning rate / step size.\n",
        "1. Optimizers expose a `zero_grad()` method that resets the gradients of all parameters to zero.\n",
        "1. Optimizers expose a `step()` method that, if all parameters have had gradients filled in, applies a step of optimization with those gradients.\n",
        "\n",
        "Below, we'll be using one optimizer called Adam, which is provided via `torch.optim.Adam`."
      ]
    },
    {
      "cell_type": "code",
      "execution_count": null,
      "metadata": {
        "id": "0bSbb1A6GL0L"
      },
      "outputs": [],
      "source": [
        "# TODO: Use a torch.optim.Adam object to take a single step of learning on the MSE of our linear regressor above.\n",
        "# Hint: Creating an Adam object can be done with torch.optim.Adam(some_parameters, lr=0.01)\n",
        "# An optimization loop should: (1) zero the gradients, (2) compute the loss, (3) call backward, (4) call step.\n",
        "\n",
        "opt = torch.optim.Adam(linear_reg.parameters(), lr=0.01)\n",
        "opt.zero_grad()\n",
        "pred = linear_reg(train_x)\n",
        "loss = torch.mean((pred - train_y) ** 2)\n",
        "loss.backward()\n",
        "opt.step()"
      ]
    },
    {
      "cell_type": "code",
      "execution_count": null,
      "metadata": {
        "colab": {
          "base_uri": "https://localhost:8080/"
        },
        "id": "qKpHMr8_GMwL",
        "outputId": "c71ff393-3e1a-4204-8e58-91b369b99579"
      },
      "outputs": [
        {
          "output_type": "stream",
          "name": "stdout",
          "text": [
            "Iteration 0 - Loss = 28073.16\n",
            "Iteration 100 - Loss = 25019.52\n",
            "Iteration 200 - Loss = 22264.28\n",
            "Iteration 300 - Loss = 19788.79\n",
            "Iteration 400 - Loss = 17571.98\n",
            "Iteration 500 - Loss = 15594.17\n",
            "Iteration 600 - Loss = 13837.12\n",
            "Iteration 700 - Loss = 12283.52\n",
            "Iteration 800 - Loss = 10916.75\n",
            "Iteration 900 - Loss = 9720.79\n",
            "Iteration 1000 - Loss = 8680.19\n",
            "Iteration 1100 - Loss = 7780.15\n",
            "Iteration 1200 - Loss = 7006.50\n",
            "Iteration 1300 - Loss = 6345.82\n",
            "Iteration 1400 - Loss = 5785.37\n",
            "Iteration 1500 - Loss = 5313.22\n",
            "Iteration 1600 - Loss = 4918.20\n",
            "Iteration 1700 - Loss = 4589.94\n",
            "Iteration 1800 - Loss = 4318.92\n",
            "Iteration 1900 - Loss = 4096.44\n",
            "Iteration 2000 - Loss = 3914.67\n",
            "Iteration 2100 - Loss = 3766.62\n",
            "Iteration 2200 - Loss = 3646.18\n",
            "Iteration 2300 - Loss = 3548.07\n",
            "Iteration 2400 - Loss = 3467.81\n"
          ]
        }
      ],
      "source": [
        "# TODO: Train the linear regression model for 2500 iterations, and print out the loss every 100 iterations.\n",
        "\n",
        "linear_reg = LinearRegression(input_dim=10)\n",
        "opt = torch.optim.Adam(linear_reg.parameters(), lr=0.1)\n",
        "\n",
        "for i in range(2500):\n",
        "    opt.zero_grad()\n",
        "    pred = linear_reg(train_x)\n",
        "    loss = torch.mean((pred.squeeze() - train_y) ** 2)\n",
        "    if i % 100 == 0:\n",
        "        print(f'Iteration {i} - Loss = {loss:.2f}')\n",
        "    loss.backward()\n",
        "    opt.step()"
      ]
    },
    {
      "cell_type": "code",
      "execution_count": null,
      "metadata": {
        "colab": {
          "base_uri": "https://localhost:8080/"
        },
        "id": "tqZHNd1QGahq",
        "outputId": "7d046826-7178-4404-c0a6-4df0a202f544"
      },
      "outputs": [
        {
          "output_type": "stream",
          "name": "stdout",
          "text": [
            "tensor(3498.4475, grad_fn=<MeanBackward0>)\n"
          ]
        }
      ],
      "source": [
        "# TODO: Compute test predictions and test MSE\n",
        "pred = linear_reg(test_x)\n",
        "test_error = torch.mean((pred.squeeze() - test_y) ** 2)\n",
        "print(test_error)"
      ]
    },
    {
      "cell_type": "markdown",
      "metadata": {
        "id": "8hZKVa1XGiHU"
      },
      "source": [
        "## torch.nn: A convenient library of pre baked modules.\n",
        "\n",
        "torch.nn contains much more than just `Parameter` and `Module`: it contains a variety of pre baked modules that are useful for machine learning, including:\n",
        "- `torch.nn.Linear`: Has weight and bias parameters, and applies an affine transformation $XW + b$ to an input.\n",
        "- `torch.nn.ReLU`: Applies the rectified linear unit (ReLU) to the input.\n",
        "- `torch.nn.Conv2d`: Applies 2D convolutions.\n",
        "- `torch.nn.MaxPool2d`: Applies max pooling.\n",
        "\n",
        "And many more! Let's use these to build a simple 1 hidden layer neural network on the boston data above."
      ]
    },
    {
      "cell_type": "code",
      "execution_count": null,
      "metadata": {
        "colab": {
          "base_uri": "https://localhost:8080/"
        },
        "id": "1LUCnO7uGkPH",
        "outputId": "781fb5b5-866f-44ed-9b75-c706c44a066b"
      },
      "outputs": [
        {
          "output_type": "stream",
          "name": "stdout",
          "text": [
            "Iteration 0 - Loss = 28277.63\n",
            "Iteration 100 - Loss = 25210.38\n",
            "Iteration 200 - Loss = 22441.62\n",
            "Iteration 300 - Loss = 19952.80\n",
            "Iteration 400 - Loss = 17722.96\n",
            "Iteration 500 - Loss = 15732.45\n",
            "Iteration 600 - Loss = 13963.05\n",
            "Iteration 700 - Loss = 12397.53\n",
            "Iteration 800 - Loss = 11019.33\n",
            "Iteration 900 - Loss = 9812.47\n",
            "Iteration 1000 - Loss = 8761.57\n",
            "Iteration 1100 - Loss = 7851.86\n",
            "Iteration 1200 - Loss = 7069.24\n",
            "Iteration 1300 - Loss = 6400.28\n",
            "Iteration 1400 - Loss = 5832.27\n",
            "Iteration 1500 - Loss = 5353.28\n",
            "Iteration 1600 - Loss = 4952.13\n",
            "Iteration 1700 - Loss = 4618.45\n",
            "Iteration 1800 - Loss = 4342.68\n",
            "Iteration 1900 - Loss = 4116.10\n",
            "Iteration 2000 - Loss = 3930.83\n",
            "Iteration 2100 - Loss = 3779.85\n",
            "Iteration 2200 - Loss = 3656.98\n",
            "Iteration 2300 - Loss = 3556.88\n",
            "Iteration 2400 - Loss = 3475.02\n"
          ]
        }
      ],
      "source": [
        "# Repeat the above linear regression, but using a torch.nn.Linear module instead of our \"from scratch\" version.\n",
        "\n",
        "linear_reg = torch.nn.Linear(in_features=10, out_features=1)\n",
        "opt = torch.optim.Adam(linear_reg.parameters(), lr=0.1)\n",
        "\n",
        "for i in range(2500):\n",
        "    opt.zero_grad()\n",
        "    pred = linear_reg(train_x)\n",
        "    loss = torch.mean((pred.squeeze() - train_y) ** 2)\n",
        "    if i % 100 == 0:\n",
        "        print(f'Iteration {i} - Loss = {loss:.2f}')\n",
        "    loss.backward()\n",
        "    opt.step()"
      ]
    },
    {
      "cell_type": "code",
      "execution_count": null,
      "metadata": {
        "colab": {
          "base_uri": "https://localhost:8080/"
        },
        "id": "cPUjpzavGmom",
        "outputId": "f21e01f6-65a5-44c7-a1f0-52b5c16ab58e"
      },
      "outputs": [
        {
          "output_type": "stream",
          "name": "stdout",
          "text": [
            "tensor(3505.4338, grad_fn=<MeanBackward0>)\n"
          ]
        }
      ],
      "source": [
        "# Compute test predictions and test MSE\n",
        "pred = linear_reg(test_x)\n",
        "test_error = torch.mean((pred.squeeze() - test_y) ** 2)\n",
        "print(test_error)"
      ]
    },
    {
      "cell_type": "code",
      "execution_count": null,
      "metadata": {
        "id": "_-37-bw_GqyM"
      },
      "outputs": [],
      "source": [
        "# Make a feed forward neural network Module with one hidden layer.\n",
        "\n",
        "class NeuralNet(torch.nn.Module):\n",
        "    def __init__(self, input_dim, hidden_dim):\n",
        "        super().__init__()\n",
        "        # First layer: map from input to hidden features.\n",
        "        self.linear1 = torch.nn.Linear(input_dim, hidden_dim)\n",
        "\n",
        "        # Second layer: map from hidden dim to prediction size (1)\n",
        "        self.linear2 = torch.nn.Linear(hidden_dim, 1)\n",
        "\n",
        "    def forward(self, x):\n",
        "        hidden_feat = self.linear1(x)\n",
        "        hidden_feat = torch.relu(hidden_feat)\n",
        "        prediction = self.linear2(hidden_feat)\n",
        "        return prediction"
      ]
    },
    {
      "cell_type": "code",
      "execution_count": null,
      "metadata": {
        "colab": {
          "base_uri": "https://localhost:8080/"
        },
        "id": "7Lck5Pw_GuW1",
        "outputId": "b7fe1b00-9e42-466a-c7f8-26272e826a11"
      },
      "outputs": [
        {
          "output_type": "stream",
          "name": "stdout",
          "text": [
            "Iteration 0 - Loss = 28252.36\n",
            "Iteration 100 - Loss = 11779.49\n",
            "Iteration 200 - Loss = 3512.03\n",
            "Iteration 300 - Loss = 3149.74\n",
            "Iteration 400 - Loss = 3000.32\n",
            "Iteration 500 - Loss = 2930.91\n",
            "Iteration 600 - Loss = 2894.72\n",
            "Iteration 700 - Loss = 2874.57\n",
            "Iteration 800 - Loss = 2862.88\n",
            "Iteration 900 - Loss = 2855.73\n",
            "Iteration 1000 - Loss = 2851.04\n",
            "Iteration 1100 - Loss = 2847.67\n",
            "Iteration 1200 - Loss = 2845.02\n",
            "Iteration 1300 - Loss = 2842.73\n",
            "Iteration 1400 - Loss = 2840.61\n",
            "Iteration 1500 - Loss = 2838.56\n",
            "Iteration 1600 - Loss = 2836.54\n",
            "Iteration 1700 - Loss = 2834.51\n",
            "Iteration 1800 - Loss = 2832.49\n",
            "Iteration 1900 - Loss = 2830.46\n",
            "Iteration 2000 - Loss = 2828.45\n",
            "Iteration 2100 - Loss = 2826.45\n",
            "Iteration 2200 - Loss = 2824.48\n",
            "Iteration 2300 - Loss = 2822.54\n",
            "Iteration 2400 - Loss = 2820.64\n",
            "Iteration 2500 - Loss = 2818.79\n",
            "Iteration 2600 - Loss = 2817.00\n",
            "Iteration 2700 - Loss = 2815.28\n",
            "Iteration 2800 - Loss = 2813.63\n",
            "Iteration 2900 - Loss = 2812.07\n",
            "Iteration 3000 - Loss = 2810.60\n",
            "Iteration 3100 - Loss = 2809.23\n",
            "Iteration 3200 - Loss = 2807.97\n",
            "Iteration 3300 - Loss = 2806.80\n",
            "Iteration 3400 - Loss = 2805.75\n",
            "Iteration 3500 - Loss = 2804.61\n",
            "Iteration 3600 - Loss = 2800.90\n",
            "Iteration 3700 - Loss = 2782.86\n",
            "Iteration 3800 - Loss = 2753.04\n",
            "Iteration 3900 - Loss = 2714.52\n",
            "Iteration 4000 - Loss = 2677.39\n",
            "Iteration 4100 - Loss = 2644.27\n",
            "Iteration 4200 - Loss = 2616.06\n",
            "Iteration 4300 - Loss = 2593.02\n",
            "Iteration 4400 - Loss = 2575.27\n",
            "Iteration 4500 - Loss = 2561.96\n",
            "Iteration 4600 - Loss = 2552.07\n",
            "Iteration 4700 - Loss = 2541.08\n",
            "Iteration 4800 - Loss = 2528.51\n",
            "Iteration 4900 - Loss = 2511.08\n"
          ]
        }
      ],
      "source": [
        "# TODO: Make a neural network with a hidden dimensionality of 64.\n",
        "# Then, train the neural network using Adam for 5000 iterations using a learning rate of 0.01.\n",
        "# Print the loss every 100 iterations.\n",
        "\n",
        "neural_net = NeuralNet(input_dim=10, hidden_dim=64)\n",
        "opt = torch.optim.Adam(neural_net.parameters(), lr=0.01)\n",
        "\n",
        "for i in range(5000):\n",
        "    opt.zero_grad()\n",
        "    pred = neural_net(train_x)\n",
        "    loss = torch.mean((pred.squeeze() - train_y) ** 2)\n",
        "    if i % 100 == 0:\n",
        "        print(f'Iteration {i} - Loss = {loss:.2f}')\n",
        "    loss.backward()\n",
        "    opt.step()"
      ]
    },
    {
      "cell_type": "code",
      "execution_count": null,
      "metadata": {
        "colab": {
          "base_uri": "https://localhost:8080/"
        },
        "id": "Cmwzi7-qGwYZ",
        "outputId": "54cadf74-a58f-4346-b6f0-69804cf25542"
      },
      "outputs": [
        {
          "output_type": "stream",
          "name": "stdout",
          "text": [
            "tensor(3162.5867, grad_fn=<MeanBackward0>)\n"
          ]
        }
      ],
      "source": [
        "# TODO: Compute test predictions and test MSE\n",
        "pred = neural_net(test_x)\n",
        "test_error = torch.mean((pred.squeeze() - test_y) ** 2)\n",
        "print(test_error)"
      ]
    },
    {
      "cell_type": "markdown",
      "metadata": {
        "id": "Ls6hAlPGbai5"
      },
      "source": [
        "\n",
        "\n",
        "\n",
        "## Convolutional Neural Networks (CNN)\n",
        "\n",
        "#### Here we are using the PyTorch library to get the dataset and make a dataloader.\n"
      ]
    },
    {
      "cell_type": "markdown",
      "metadata": {
        "id": "TTH9t9_gdybL"
      },
      "source": [
        "More details on the CIFAR-10 dataset as well as training a CNN model can be found [here](https://pytorch.org/tutorials/beginner/blitz/cifar10_tutorial.html).\n",
        "\n",
        "<img src='https://pytorch.org/tutorials/_images/cifar10.png'>"
      ]
    },
    {
      "cell_type": "markdown",
      "metadata": {
        "id": "G-G5bPi_crIo"
      },
      "source": [
        "### Transform\n",
        "\n",
        "#### Here we need to define a series of transformations we want to perform on our dataset before we feed it to the Neural Network."
      ]
    },
    {
      "cell_type": "code",
      "execution_count": null,
      "metadata": {
        "id": "6tOYHnjAgB9c"
      },
      "outputs": [],
      "source": [
        "transformations = transforms.Compose([transforms.Resize(32),\n",
        "                    transforms.ToTensor()\n",
        "                    ])"
      ]
    },
    {
      "cell_type": "code",
      "execution_count": null,
      "metadata": {
        "colab": {
          "base_uri": "https://localhost:8080/"
        },
        "id": "T1xIADSfVzIV",
        "outputId": "0246204c-1535-4cc8-b26f-d1f33befd6a5"
      },
      "outputs": [
        {
          "output_type": "stream",
          "name": "stdout",
          "text": [
            "Files already downloaded and verified\n",
            "Files already downloaded and verified\n"
          ]
        }
      ],
      "source": [
        "train_dataset = torchvision.datasets.CIFAR10(root = './data', train = True, download = True, transform = transformations)\n",
        "test_dataset = torchvision.datasets.CIFAR10(root = './data', train = False, download = True, transform = transformations)"
      ]
    },
    {
      "cell_type": "markdown",
      "metadata": {
        "id": "9Cm8-do4dPm4"
      },
      "source": [
        "### Creating a dataloader. For Train / Test"
      ]
    },
    {
      "cell_type": "code",
      "execution_count": null,
      "metadata": {
        "id": "o1DMyS2DV1tc"
      },
      "outputs": [],
      "source": [
        "train_loader = torch.utils.data.DataLoader(train_dataset, batch_size=16, shuffle=True)\n",
        "test_loader = torch.utils.data.DataLoader(test_dataset, batch_size=len(test_dataset), shuffle=False)"
      ]
    },
    {
      "cell_type": "markdown",
      "metadata": {
        "id": "o799cI36dXNd"
      },
      "source": [
        "### Training Image Visualization"
      ]
    },
    {
      "cell_type": "code",
      "execution_count": null,
      "metadata": {
        "colab": {
          "base_uri": "https://localhost:8080/",
          "height": 192
        },
        "id": "k8nEGYPtV3pc",
        "outputId": "a47cb226-bb72-4195-a4e3-ab34f6a4ce88"
      },
      "outputs": [
        {
          "output_type": "display_data",
          "data": {
            "text/plain": [
              "<Figure size 640x480 with 1 Axes>"
            ],
            "image/png": "[encoded data removed]"
          },
          "metadata": {}
        }
      ],
      "source": [
        "def imshow(img):\n",
        "    npimg = img.numpy()\n",
        "    plt.imshow(img.permute(1, 2, 0))\n",
        "    plt.show()\n",
        "\n",
        "# get some random training images\n",
        "data_iter = iter(train_loader)\n",
        "images, labels = next(data_iter)\n",
        "\n",
        "# show images\n",
        "imshow(torchvision.utils.make_grid(images))"
      ]
    },
    {
      "cell_type": "markdown",
      "metadata": {
        "id": "040YkbEDp4y8"
      },
      "source": [
        "\n",
        "### A Basic CNN Model"
      ]
    },
    {
      "cell_type": "markdown",
      "metadata": {
        "id": "XtA2ULbOBliT"
      },
      "source": [
        "Check out [here](https://madebyollin.github.io/convnet-calculator/) for a helper calculator you can use for the layer dimensions!"
      ]
    },
    {
      "cell_type": "markdown",
      "metadata": {
        "id": "j3YKOzzOdh1a"
      },
      "source": [
        "### Some basic checks..."
      ]
    },
    {
      "cell_type": "code",
      "execution_count": null,
      "metadata": {
        "colab": {
          "base_uri": "https://localhost:8080/"
        },
        "id": "Nu6n9ybDiCiX",
        "outputId": "e020e3ce-20e9-4ebd-9a2c-57f474a05022"
      },
      "outputs": [
        {
          "output_type": "stream",
          "name": "stdout",
          "text": [
            "The shape of inputs is: torch.Size([16, 3, 32, 32])\n",
            "The shape of labels is: torch.Size([16])\n",
            "Number of classes: 10\n"
          ]
        }
      ],
      "source": [
        "for inputs, labels in train_loader:\n",
        "    print(\"The shape of inputs is:\", inputs.shape)\n",
        "    print(\"The shape of labels is:\", labels.shape)\n",
        "    break\n",
        "\n",
        "print(\"Number of classes:\", len(train_dataset.classes))"
      ]
    },
    {
      "cell_type": "markdown",
      "metadata": {
        "id": "bLh2JWUVdwQf"
      },
      "source": [
        "### Defining CNN Architecture"
      ]
    },
    {
      "cell_type": "code",
      "execution_count": null,
      "metadata": {
        "id": "LiBQRkpap4a8"
      },
      "outputs": [],
      "source": [
        "class CNN(nn.Module):\n",
        "    def __init__(self):\n",
        "        super().__init__()\n",
        "        self.conv = nn.Conv2d(in_channels=3, out_channels=20, kernel_size=4, stride=2)  # default: stride=1\n",
        "        self.relu = nn.ReLU()\n",
        "        self.mp = nn.MaxPool2d(kernel_size=3) # default: stride=kernel_size\n",
        "        self.flatten = nn.Flatten(start_dim=1)\n",
        "        self.fc = nn.Linear(in_features=20, out_features=10) # 20 --> size of out channels, 5*5 is decided by choice\n",
        "        # of hyperparams of kernel_size, stride and pad\n",
        "\n",
        "    def forward(self, x):\n",
        "        outputs = self.mp(self.relu(self.conv(x)))\n",
        "        outputs = self.mp(outputs)\n",
        "        outputs = self.fc(self.flatten(outputs))\n",
        "        return outputs"
      ]
    },
    {
      "cell_type": "markdown",
      "metadata": {
        "id": "68lnb7k0d2qZ"
      },
      "source": [
        "### Train the CNN"
      ]
    },
    {
      "cell_type": "markdown",
      "metadata": {
        "id": "JpB0uLVIIt8Y"
      },
      "source": [
        "To check if GPU is available and setting up the device variable"
      ]
    },
    {
      "cell_type": "code",
      "execution_count": null,
      "metadata": {
        "colab": {
          "base_uri": "https://localhost:8080/"
        },
        "id": "XLULbONBIsUg",
        "outputId": "25c11fa8-c2e4-4e78-ad88-828902f31abf"
      },
      "outputs": [
        {
          "output_type": "stream",
          "name": "stdout",
          "text": [
            "cuda:0\n"
          ]
        }
      ],
      "source": [
        "device = torch.device(\"cuda:0\" if torch.cuda.is_available() else \"cpu\")\n",
        "print(device)"
      ]
    },
    {
      "cell_type": "code",
      "execution_count": null,
      "metadata": {
        "colab": {
          "base_uri": "https://localhost:8080/"
        },
        "id": "kP664uQDV8j-",
        "outputId": "bbc4e250-b9b4-4cd6-929b-36b9b9e5838e"
      },
      "outputs": [
        {
          "output_type": "stream",
          "name": "stdout",
          "text": [
            "The loss for Epoch 0 is: 2.2775036009979246\n",
            "The loss for Epoch 1 is: 2.20622914188385\n",
            "The loss for Epoch 2 is: 2.1282063682556154\n"
          ]
        }
      ],
      "source": [
        "# Sending the data to device (CPU or GPU)\n",
        "cnn = CNN()\n",
        "cnn.to(device)\n",
        "criterion = nn.CrossEntropyLoss() # equivalent to applying LogSoftmax() to output and then use NLLLoss()\n",
        "optimizer = optim.Adam(cnn.parameters(), lr=1e-4) #lr - learning step\n",
        "\n",
        "loss_LIST = []\n",
        "\n",
        "# Epochs 3\n",
        "for epoch in range(3):\n",
        "  running_loss = 0.0\n",
        "  for inputs, labels in train_loader:\n",
        "\n",
        "      inputs, labels = inputs.to(device), labels.to(device)\n",
        "      outputs = cnn(inputs) # Feed the network the train data\n",
        "      optimizer.zero_grad() # We need to reset the optimizer tensor gradient every mini-batch\n",
        "      loss = criterion(outputs, labels) # this is the average loss for one mini-batch of inputs\n",
        "      loss.backward() # Do a back propagation\n",
        "      optimizer.step() # Update the weight using the gradients from back propagation by learning step\n",
        "\n",
        "      running_loss += loss.item() #get the accumulated loss for each epoch\n",
        "  loss_LIST.append(running_loss / len(train_loader)) # get the avg loss for each epoch\n",
        "\n",
        "  # print statistics\n",
        "  print(f'The loss for Epoch {epoch} is: {running_loss/len(train_loader)}')"
      ]
    },
    {
      "cell_type": "markdown",
      "metadata": {
        "id": "sGbr7eP2fGzq"
      },
      "source": [
        "### Calculate the Accuracy"
      ]
    },
    {
      "cell_type": "code",
      "execution_count": null,
      "metadata": {
        "colab": {
          "base_uri": "https://localhost:8080/"
        },
        "id": "FVbrpBM9V_Qb",
        "outputId": "c232ed3e-3f93-4627-e625-ddbe1c4b6223"
      },
      "outputs": [
        {
          "output_type": "stream",
          "name": "stdout",
          "text": [
            "Test Accuracy: 26.09\n"
          ]
        }
      ],
      "source": [
        "total = 0\n",
        "correct = 0\n",
        "with torch.no_grad():\n",
        "    for images, labels in test_loader:\n",
        "        images, labels = images.to(device), labels.to(device)\n",
        "        outputs = cnn(images) # shape: torch.Size([10000, 10])\n",
        "        _, predicted = torch.max(outputs.data, 1) # use max to get the prediction\n",
        "        total += labels.size(0)\n",
        "        correct += (predicted == labels).sum().item()\n",
        "\n",
        "print(f'Test Accuracy: {100 * correct / total}')"
      ]
    }
  ],
  "metadata": {
    "accelerator": "GPU",
    "colab": {
      "provenance": [],
      "toc_visible": true,
      "include_colab_link": true
    },
    "gpuClass": "standard",
    "kernelspec": {
      "display_name": "Python 3",
      "name": "python3"
    },
    "language_info": {
      "name": "python"
    }
  },
  "nbformat": 4,
  "nbformat_minor": 0
}