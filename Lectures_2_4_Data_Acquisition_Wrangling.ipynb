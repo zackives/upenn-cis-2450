{
  "nbformat": 4,
  "nbformat_minor": 0,
  "metadata": {
    "colab": {
      "provenance": [],
      "include_colab_link": true
    },
    "dataset_inspector": {
      "cols": {
        "lenName": 24,
        "lenType": 16,
        "lenVar": 40
      },
      "dataset_inspector_section_display": "none",
      "kernels_config": {
        "python": {
          "delete_cmd_postfix": "",
          "delete_cmd_prefix": "del ",
          "library": "var_list.py",
          "varRefreshCmd": "print(var_dic_list())"
        },
        "r": {
          "delete_cmd_postfix": ") ",
          "delete_cmd_prefix": "rm(",
          "library": "var_list.r",
          "varRefreshCmd": "cat(var_dic_list()) "
        }
      },
      "oldHeight": 88.66133400000001,
      "position": {
        "height": "40px",
        "left": "0px",
        "right": "20px",
        "top": "0px",
        "width": "800px"
      },
      "types_to_exclude": [
        "module",
        "function",
        "builtin_function_or_method",
        "instance",
        "_Feature"
      ],
      "window_display": false
    },
    "kernelspec": {
      "display_name": "Python 3",
      "language": "python",
      "name": "python3"
    },
    "language_info": {
      "codemirror_mode": {
        "name": "ipython",
        "version": 3
      },
      "file_extension": ".py",
      "mimetype": "text/x-python",
      "name": "python",
      "nbconvert_exporter": "python",
      "pygments_lexer": "ipython3",
      "version": "3.6.8"
    }
  },
  "cells": [
    {
      "cell_type": "markdown",
      "metadata": {
        "id": "view-in-github",
        "colab_type": "text"
      },
      "source": [
        "<a href=\"https://colab.research.google.com/github/zackives/upenn-cis-2450/blob/main/Lectures_2_4_Data_Acquisition_Wrangling.ipynb\" target=\"_parent\"><img src=\"https://colab.research.google.com/assets/colab-badge.svg\" alt=\"Open In Colab\"/></a>"
      ]
    },
    {
      "cell_type": "markdown",
      "metadata": {
        "id": "G_jsTACdAaZe"
      },
      "source": [
        "# Overview of Part I\n",
        "\n",
        "As we start our journey into Big Data Analytics, the first thing we need to do is **get the data** in the form we need for analysis!  We'll start with an overview of how to acquire and *wrangle* data.\n",
        "\n",
        "This notebook gives us a series of examples for:\n",
        "\n",
        "* Acquiring data from files and remote sources\n",
        "* Information extraction over HTML content\n",
        "* A basic \"vocabulary\" of operators over tables (the relational algebra)\n",
        "\n",
        "* \"Data wrangling\" or integration:\n",
        "  * Cleaning and filtering data, using rules and based operations\n",
        "  * Linking data across dataframes or relations\n",
        "  * The need for approximate match and record linking"
      ]
    },
    {
      "cell_type": "markdown",
      "metadata": {
        "id": "N01ql5zclw7M"
      },
      "source": [
        "## The Motivating Question\n",
        "To illustrate the principles, we focus on the question of how old company CEOs and founders are.  The question was in part motivated by the following New York Times article:\n",
        "\n",
        "* Founders of Successful Tech Companies Are Mostly Middle-Aged: https://www.nytimes.com/2019/08/29/business/tech-start-up-founders-nest.html?searchResultPosition=2\n",
        "\n",
        "So let's test this hypothesis!"
      ]
    },
    {
      "cell_type": "code",
      "source": [
        "!pip3 install git+https://github.com/anhaidgroup/py_stringsimjoin.git@rel_0_3_3"
      ],
      "metadata": {
        "colab": {
          "base_uri": "https://localhost:8080/"
        },
        "id": "dy4ltbGCt6MZ",
        "outputId": "816423bf-d8ac-4d25-8192-3f821109c7ff"
      },
      "execution_count": 1,
      "outputs": [
        {
          "output_type": "stream",
          "name": "stdout",
          "text": [
            "Collecting git+https://github.com/anhaidgroup/py_stringsimjoin.git@rel_0_3_3\n",
            "  Cloning https://github.com/anhaidgroup/py_stringsimjoin.git (to revision rel_0_3_3) to /tmp/pip-req-build-yq7atpno\n",
            "  Running command git clone --filter=blob:none --quiet https://github.com/anhaidgroup/py_stringsimjoin.git /tmp/pip-req-build-yq7atpno\n",
            "  Running command git checkout -b rel_0_3_3 --track origin/rel_0_3_3\n",
            "  Switched to a new branch 'rel_0_3_3'\n",
            "  Branch 'rel_0_3_3' set up to track remote branch 'rel_0_3_3' from 'origin'.\n",
            "  Resolved https://github.com/anhaidgroup/py_stringsimjoin.git to commit 06839a56b7b4fabf96d50fd69fc304f763dd80b8\n",
            "  Preparing metadata (setup.py) ... \u001b[?25l\u001b[?25hdone\n",
            "Requirement already satisfied: joblib in /usr/local/lib/python3.10/dist-packages (from py_stringsimjoin==0.3.3) (1.4.2)\n",
            "Requirement already satisfied: pandas>=0.16.0 in /usr/local/lib/python3.10/dist-packages (from py_stringsimjoin==0.3.3) (2.1.4)\n",
            "Collecting PyPrind>=2.9.3 (from py_stringsimjoin==0.3.3)\n",
            "  Downloading PyPrind-2.11.3-py2.py3-none-any.whl.metadata (1.1 kB)\n",
            "Collecting py_stringmatching>=0.2.1 (from py_stringsimjoin==0.3.3)\n",
            "  Downloading py-stringmatching-0.4.6.tar.gz (849 kB)\n",
            "\u001b[2K     \u001b[90m━━━━━━━━━━━━━━━━━━━━━━━━━━━━━━━━━━━━━━━━\u001b[0m \u001b[32m849.6/849.6 kB\u001b[0m \u001b[31m9.1 MB/s\u001b[0m eta \u001b[36m0:00:00\u001b[0m\n",
            "\u001b[?25h  Preparing metadata (setup.py) ... \u001b[?25l\u001b[?25hdone\n",
            "Requirement already satisfied: six in /usr/local/lib/python3.10/dist-packages (from py_stringsimjoin==0.3.3) (1.16.0)\n",
            "Requirement already satisfied: numpy<2,>=1.22.4 in /usr/local/lib/python3.10/dist-packages (from pandas>=0.16.0->py_stringsimjoin==0.3.3) (1.26.4)\n",
            "Requirement already satisfied: python-dateutil>=2.8.2 in /usr/local/lib/python3.10/dist-packages (from pandas>=0.16.0->py_stringsimjoin==0.3.3) (2.8.2)\n",
            "Requirement already satisfied: pytz>=2020.1 in /usr/local/lib/python3.10/dist-packages (from pandas>=0.16.0->py_stringsimjoin==0.3.3) (2024.1)\n",
            "Requirement already satisfied: tzdata>=2022.1 in /usr/local/lib/python3.10/dist-packages (from pandas>=0.16.0->py_stringsimjoin==0.3.3) (2024.1)\n",
            "Downloading PyPrind-2.11.3-py2.py3-none-any.whl (8.4 kB)\n",
            "Building wheels for collected packages: py_stringsimjoin, py_stringmatching\n",
            "  Building wheel for py_stringsimjoin (setup.py) ... \u001b[?25l\u001b[?25hdone\n",
            "  Created wheel for py_stringsimjoin: filename=py_stringsimjoin-0.3.3-cp310-cp310-linux_x86_64.whl size=5282953 sha256=5fd4a63e60cdc21a52666b32d7579e9d5e58ae155cf6228c85fb01859877a011\n",
            "  Stored in directory: /tmp/pip-ephem-wheel-cache-twr127co/wheels/af/8b/c9/2aac0ef0263bd43c4e833e88f902ab819d0e1d3e395498477d\n",
            "  Building wheel for py_stringmatching (setup.py) ... \u001b[?25l\u001b[?25hdone\n",
            "  Created wheel for py_stringmatching: filename=py_stringmatching-0.4.6-cp310-cp310-linux_x86_64.whl size=2833927 sha256=35caf6c16c918a8fe1981d0ff8245bb2d210f06a2f9d086381624a72c40c60a4\n",
            "  Stored in directory: /root/.cache/pip/wheels/1b/5e/38/021a861f6d28ed354e033a029507cb8ed841454da833021bbb\n",
            "Successfully built py_stringsimjoin py_stringmatching\n",
            "Installing collected packages: PyPrind, py_stringmatching, py_stringsimjoin\n",
            "Successfully installed PyPrind-2.11.3 py_stringmatching-0.4.6 py_stringsimjoin-0.3.3\n"
          ]
        }
      ]
    },
    {
      "cell_type": "code",
      "metadata": {
        "id": "YT1J84O3wCju",
        "colab": {
          "base_uri": "https://localhost:8080/"
        },
        "outputId": "243cae81-37ca-4a8f-bf06-0e1c49abf1d0"
      },
      "source": [
        "# Let's install some libraries useful for processing web data\n",
        "\n",
        "# For string similarity\n",
        "#!pip3 install py_stringsimjoin\n",
        "\n",
        "# # lxml to parse xml tree\n",
        "!pip3 install lxml"
      ],
      "execution_count": 2,
      "outputs": [
        {
          "output_type": "stream",
          "name": "stdout",
          "text": [
            "Requirement already satisfied: lxml in /usr/local/lib/python3.10/dist-packages (4.9.4)\n"
          ]
        }
      ]
    },
    {
      "cell_type": "code",
      "metadata": {
        "id": "4Xah24fnRRGZ"
      },
      "source": [
        "# Imports we'll use through the notebook, collected here for simplicity\n",
        "\n",
        "# For parsing dates and being able to compare\n",
        "import datetime\n",
        "\n",
        "# For fetching remote data\n",
        "import urllib\n",
        "import urllib.request\n",
        "\n",
        "# Pandas dataframes and operations\n",
        "import pandas as pd\n",
        "\n",
        "# Numpy matrix and array operations\n",
        "import numpy as np\n",
        "\n",
        "# Sqlite is a simplistic database\n",
        "import sqlite3\n",
        "\n",
        "# Approximate string matching, see\n",
        "import py_stringsimjoin as ssj\n",
        "import py_stringmatching as sm\n",
        "\n",
        "# Data visualization\n",
        "import matplotlib\n",
        "\n"
      ],
      "execution_count": 3,
      "outputs": []
    },
    {
      "cell_type": "code",
      "source": [
        "dir(sm)"
      ],
      "metadata": {
        "colab": {
          "base_uri": "https://localhost:8080/"
        },
        "id": "iseBtIq1wLVY",
        "outputId": "9dbea8e1-04ae-4261-94f9-0c98f53bcaa8"
      },
      "execution_count": 4,
      "outputs": [
        {
          "output_type": "execute_result",
          "data": {
            "text/plain": [
              "['Affine',\n",
              " 'AlphabeticTokenizer',\n",
              " 'AlphanumericTokenizer',\n",
              " 'BagDistance',\n",
              " 'Cosine',\n",
              " 'DelimiterTokenizer',\n",
              " 'Dice',\n",
              " 'Editex',\n",
              " 'GeneralizedJaccard',\n",
              " 'HammingDistance',\n",
              " 'Jaccard',\n",
              " 'Jaro',\n",
              " 'JaroWinkler',\n",
              " 'Levenshtein',\n",
              " 'MongeElkan',\n",
              " 'NeedlemanWunsch',\n",
              " 'OverlapCoefficient',\n",
              " 'PartialRatio',\n",
              " 'QgramTokenizer',\n",
              " 'SmithWaterman',\n",
              " 'SoftTfIdf',\n",
              " 'Soundex',\n",
              " 'TfIdf',\n",
              " 'TverskyIndex',\n",
              " 'WhitespaceTokenizer',\n",
              " '__builtins__',\n",
              " '__cached__',\n",
              " '__doc__',\n",
              " '__file__',\n",
              " '__loader__',\n",
              " '__name__',\n",
              " '__package__',\n",
              " '__path__',\n",
              " '__spec__',\n",
              " '__version__',\n",
              " 'similarity_measure',\n",
              " 'tokenizer',\n",
              " 'utils']"
            ]
          },
          "metadata": {},
          "execution_count": 4
        }
      ]
    },
    {
      "cell_type": "markdown",
      "metadata": {
        "id": "oWOeu1wHZDqz"
      },
      "source": [
        "# Lecture Module 1: Acquiring Data\n",
        "\n",
        "To test our hypothesis, we might want:\n",
        "\n",
        "1. A list of companies (and, for futher details, perhaps their lines of business)\n",
        "2. A list of company CEOs\n",
        "3. Ages of the CEOs\n",
        "\n",
        "We'll go through each of these using real data from the web.\n",
        "\n",
        "### Reading Structured Data Sources\n",
        "\n",
        "Let's start by looking up data about companies.  An example of this is at:\n",
        "\n",
        "https://gist.githubusercontent.com/jvilledieu/c3afe5bc21da28880a30/raw/a344034b82a11433ba6f149afa47e57567d4a18f/Companies.csv\n",
        "\n",
        "which has some nicely detailed information about companies, their categories, when they were founded, etc.  Let's load this (remote) CSV file into a dataframe."
      ]
    },
    {
      "cell_type": "code",
      "metadata": {
        "id": "1P7Ry8RPXFRp"
      },
      "source": [
        "data = urllib.request.urlopen(\\\n",
        "       'https://gist.github.com/jvilledieu/c3afe5bc21da28880a30/raw/a344034b82a11433ba6f149afa47e57567d4a18f/Companies.csv')\n",
        "\n",
        "company_data_df = pd.read_csv(data)\n"
      ],
      "execution_count": 5,
      "outputs": []
    },
    {
      "cell_type": "code",
      "metadata": {
        "id": "ARqMkBYGEMjp",
        "colab": {
          "base_uri": "https://localhost:8080/",
          "height": 669
        },
        "outputId": "acdc3ee8-a6f3-4cf1-ad72-470f70f6054a"
      },
      "source": [
        "# Let's write it to SQL, and read it back\n",
        "\n",
        "conn = sqlite3.connect('local.db')\n",
        "\n",
        "company_data_df.to_sql(\"companies\", conn, if_exists=\"replace\", index=False)\n",
        "\n",
        "pd.read_sql_query('select * from companies', conn)"
      ],
      "execution_count": 6,
      "outputs": [
        {
          "output_type": "execute_result",
          "data": {
            "text/plain": [
              "                                                permalink  \\\n",
              "0                                   /organization/waywire   \n",
              "1                         /organization/tv-communications   \n",
              "2                           /organization/rock-your-paper   \n",
              "3                          /organization/in-touch-network   \n",
              "4                                   /organization/n-plusn   \n",
              "...                                                   ...   \n",
              "47753                                 /organization/zzish   \n",
              "47754  /organization/zznode-science-and-technology-co-ltd   \n",
              "47755                           /organization/zzzzapp-com   \n",
              "47756                          /organization/a-list-games   \n",
              "47757                                     /organization/x   \n",
              "\n",
              "                                name                   homepage_url  \\\n",
              "0                           #waywire         http://www.waywire.com   \n",
              "1                 &TV Communications          http://enjoyandtv.com   \n",
              "2                  'Rock' Your Paper   http://www.rockyourpaper.org   \n",
              "3                  (In)Touch Network  http://www.InTouchNetwork.com   \n",
              "4                         +n (PlusN)               http://plusn.com   \n",
              "...                              ...                            ...   \n",
              "47753                          Zzish           http://www.zzish.com   \n",
              "47754  ZZNode Science and Technology          http://www.zznode.com   \n",
              "47755          Zzzzapp Wireless ltd.         http://www.zzzzapp.com   \n",
              "47756                  [a]list games      http://www.alistgames.com   \n",
              "47757                          [x+1]       http://www.xplusone.com/   \n",
              "\n",
              "                                                                         category_list  \\\n",
              "0                                           |Entertainment|Politics|Social Media|News|   \n",
              "1                                                                              |Games|   \n",
              "2                                                               |Publishing|Education|   \n",
              "3      |Electronics|Guides|Coffee|Restaurants|Music|iPhone|Apps|Mobile|iOS|E-Commerce|   \n",
              "4                                                                           |Software|   \n",
              "...                                                                                ...   \n",
              "47753                    |Analytics|Gamification|Developer APIs|iOS|Android|Education|   \n",
              "47754                                                            |Enterprise Software|   \n",
              "47755                                    |Web Development|Advertising|Wireless|Mobile|   \n",
              "47756                                                                          |Games|   \n",
              "47757                                                            |Enterprise Software|   \n",
              "\n",
              "                      market funding_total_usd     status country_code  \\\n",
              "0                      News         1 750 000    acquired          USA   \n",
              "1                      Games        4 000 000   operating          USA   \n",
              "2                 Publishing           40 000   operating          EST   \n",
              "3                Electronics        1 500 000   operating          GBR   \n",
              "4                  Software         1 200 000   operating          USA   \n",
              "...                      ...               ...        ...          ...   \n",
              "47753             Education           320 000   operating          GBR   \n",
              "47754   Enterprise Software         1 587 301   operating          CHN   \n",
              "47755       Web Development            97 398   operating          HRV   \n",
              "47756                 Games         9 300 000   operating         None   \n",
              "47757   Enterprise Software        45 000 000   operating          USA   \n",
              "\n",
              "      state_code         region         city  funding_rounds  founded_at  \\\n",
              "0             NY  New York City     New York               1  01/06/2012   \n",
              "1             CA    Los Angeles  Los Angeles               2        None   \n",
              "2           None        Tallinn      Tallinn               1  26/10/2012   \n",
              "3           None         London       London               1  01/04/2011   \n",
              "4             NY  New York City     New York               2  01/01/2012   \n",
              "...          ...            ...          ...             ...         ...   \n",
              "47753       None         London       London               1  28/01/2013   \n",
              "47754       None        Beijing      Beijing               1        None   \n",
              "47755       None          Split        Split               5  13/05/2012   \n",
              "47756       None           None         None               1        None   \n",
              "47757         NY  New York City     New York               4  01/01/1999   \n",
              "\n",
              "      founded_month founded_quarter  founded_year first_funding_at  \\\n",
              "0           2012-06         2012-Q2        2012.0       30/06/2012   \n",
              "1              None            None           NaN       04/06/2010   \n",
              "2           2012-10         2012-Q4        2012.0       09/08/2012   \n",
              "3           2011-04         2011-Q2        2011.0       01/04/2011   \n",
              "4           2012-01         2012-Q1        2012.0       29/08/2012   \n",
              "...             ...             ...           ...              ...   \n",
              "47753       2013-01         2013-Q1        2013.0       24/03/2014   \n",
              "47754          None            None           NaN       01/04/2012   \n",
              "47755       2012-05         2012-Q2        2012.0       01/11/2011   \n",
              "47756          None            None           NaN       21/11/2011   \n",
              "47757       1999-01         1999-Q1        1999.0       01/06/2008   \n",
              "\n",
              "      last_funding_at  \n",
              "0          30/06/2012  \n",
              "1          23/09/2010  \n",
              "2          09/08/2012  \n",
              "3          01/04/2011  \n",
              "4          04/09/2014  \n",
              "...               ...  \n",
              "47753      24/03/2014  \n",
              "47754      01/04/2012  \n",
              "47755      10/09/2014  \n",
              "47756      21/11/2011  \n",
              "47757      04/04/2013  \n",
              "\n",
              "[47758 rows x 18 columns]"
            ],
            "text/html": [
              "\n",
              "  <div id=\"df-527bea2d-994c-4f34-b0f2-f24d8628693d\" class=\"colab-df-container\">\n",
              "    <div>\n",
              "<style scoped>\n",
              "    .dataframe tbody tr th:only-of-type {\n",
              "        vertical-align: middle;\n",
              "    }\n",
              "\n",
              "    .dataframe tbody tr th {\n",
              "        vertical-align: top;\n",
              "    }\n",
              "\n",
              "    .dataframe thead th {\n",
              "        text-align: right;\n",
              "    }\n",
              "</style>\n",
              "<table border=\"1\" class=\"dataframe\">\n",
              "  <thead>\n",
              "    <tr style=\"text-align: right;\">\n",
              "      <th></th>\n",
              "      <th>permalink</th>\n",
              "      <th>name</th>\n",
              "      <th>homepage_url</th>\n",
              "      <th>category_list</th>\n",
              "      <th>market</th>\n",
              "      <th>funding_total_usd</th>\n",
              "      <th>status</th>\n",
              "      <th>country_code</th>\n",
              "      <th>state_code</th>\n",
              "      <th>region</th>\n",
              "      <th>city</th>\n",
              "      <th>funding_rounds</th>\n",
              "      <th>founded_at</th>\n",
              "      <th>founded_month</th>\n",
              "      <th>founded_quarter</th>\n",
              "      <th>founded_year</th>\n",
              "      <th>first_funding_at</th>\n",
              "      <th>last_funding_at</th>\n",
              "    </tr>\n",
              "  </thead>\n",
              "  <tbody>\n",
              "    <tr>\n",
              "      <th>0</th>\n",
              "      <td>/organization/waywire</td>\n",
              "      <td>#waywire</td>\n",
              "      <td>http://www.waywire.com</td>\n",
              "      <td>|Entertainment|Politics|Social Media|News|</td>\n",
              "      <td>News</td>\n",
              "      <td>1 750 000</td>\n",
              "      <td>acquired</td>\n",
              "      <td>USA</td>\n",
              "      <td>NY</td>\n",
              "      <td>New York City</td>\n",
              "      <td>New York</td>\n",
              "      <td>1</td>\n",
              "      <td>01/06/2012</td>\n",
              "      <td>2012-06</td>\n",
              "      <td>2012-Q2</td>\n",
              "      <td>2012.0</td>\n",
              "      <td>30/06/2012</td>\n",
              "      <td>30/06/2012</td>\n",
              "    </tr>\n",
              "    <tr>\n",
              "      <th>1</th>\n",
              "      <td>/organization/tv-communications</td>\n",
              "      <td>&amp;TV Communications</td>\n",
              "      <td>http://enjoyandtv.com</td>\n",
              "      <td>|Games|</td>\n",
              "      <td>Games</td>\n",
              "      <td>4 000 000</td>\n",
              "      <td>operating</td>\n",
              "      <td>USA</td>\n",
              "      <td>CA</td>\n",
              "      <td>Los Angeles</td>\n",
              "      <td>Los Angeles</td>\n",
              "      <td>2</td>\n",
              "      <td>None</td>\n",
              "      <td>None</td>\n",
              "      <td>None</td>\n",
              "      <td>NaN</td>\n",
              "      <td>04/06/2010</td>\n",
              "      <td>23/09/2010</td>\n",
              "    </tr>\n",
              "    <tr>\n",
              "      <th>2</th>\n",
              "      <td>/organization/rock-your-paper</td>\n",
              "      <td>'Rock' Your Paper</td>\n",
              "      <td>http://www.rockyourpaper.org</td>\n",
              "      <td>|Publishing|Education|</td>\n",
              "      <td>Publishing</td>\n",
              "      <td>40 000</td>\n",
              "      <td>operating</td>\n",
              "      <td>EST</td>\n",
              "      <td>None</td>\n",
              "      <td>Tallinn</td>\n",
              "      <td>Tallinn</td>\n",
              "      <td>1</td>\n",
              "      <td>26/10/2012</td>\n",
              "      <td>2012-10</td>\n",
              "      <td>2012-Q4</td>\n",
              "      <td>2012.0</td>\n",
              "      <td>09/08/2012</td>\n",
              "      <td>09/08/2012</td>\n",
              "    </tr>\n",
              "    <tr>\n",
              "      <th>3</th>\n",
              "      <td>/organization/in-touch-network</td>\n",
              "      <td>(In)Touch Network</td>\n",
              "      <td>http://www.InTouchNetwork.com</td>\n",
              "      <td>|Electronics|Guides|Coffee|Restaurants|Music|iPhone|Apps|Mobile|iOS|E-Commerce|</td>\n",
              "      <td>Electronics</td>\n",
              "      <td>1 500 000</td>\n",
              "      <td>operating</td>\n",
              "      <td>GBR</td>\n",
              "      <td>None</td>\n",
              "      <td>London</td>\n",
              "      <td>London</td>\n",
              "      <td>1</td>\n",
              "      <td>01/04/2011</td>\n",
              "      <td>2011-04</td>\n",
              "      <td>2011-Q2</td>\n",
              "      <td>2011.0</td>\n",
              "      <td>01/04/2011</td>\n",
              "      <td>01/04/2011</td>\n",
              "    </tr>\n",
              "    <tr>\n",
              "      <th>4</th>\n",
              "      <td>/organization/n-plusn</td>\n",
              "      <td>+n (PlusN)</td>\n",
              "      <td>http://plusn.com</td>\n",
              "      <td>|Software|</td>\n",
              "      <td>Software</td>\n",
              "      <td>1 200 000</td>\n",
              "      <td>operating</td>\n",
              "      <td>USA</td>\n",
              "      <td>NY</td>\n",
              "      <td>New York City</td>\n",
              "      <td>New York</td>\n",
              "      <td>2</td>\n",
              "      <td>01/01/2012</td>\n",
              "      <td>2012-01</td>\n",
              "      <td>2012-Q1</td>\n",
              "      <td>2012.0</td>\n",
              "      <td>29/08/2012</td>\n",
              "      <td>04/09/2014</td>\n",
              "    </tr>\n",
              "    <tr>\n",
              "      <th>...</th>\n",
              "      <td>...</td>\n",
              "      <td>...</td>\n",
              "      <td>...</td>\n",
              "      <td>...</td>\n",
              "      <td>...</td>\n",
              "      <td>...</td>\n",
              "      <td>...</td>\n",
              "      <td>...</td>\n",
              "      <td>...</td>\n",
              "      <td>...</td>\n",
              "      <td>...</td>\n",
              "      <td>...</td>\n",
              "      <td>...</td>\n",
              "      <td>...</td>\n",
              "      <td>...</td>\n",
              "      <td>...</td>\n",
              "      <td>...</td>\n",
              "      <td>...</td>\n",
              "    </tr>\n",
              "    <tr>\n",
              "      <th>47753</th>\n",
              "      <td>/organization/zzish</td>\n",
              "      <td>Zzish</td>\n",
              "      <td>http://www.zzish.com</td>\n",
              "      <td>|Analytics|Gamification|Developer APIs|iOS|Android|Education|</td>\n",
              "      <td>Education</td>\n",
              "      <td>320 000</td>\n",
              "      <td>operating</td>\n",
              "      <td>GBR</td>\n",
              "      <td>None</td>\n",
              "      <td>London</td>\n",
              "      <td>London</td>\n",
              "      <td>1</td>\n",
              "      <td>28/01/2013</td>\n",
              "      <td>2013-01</td>\n",
              "      <td>2013-Q1</td>\n",
              "      <td>2013.0</td>\n",
              "      <td>24/03/2014</td>\n",
              "      <td>24/03/2014</td>\n",
              "    </tr>\n",
              "    <tr>\n",
              "      <th>47754</th>\n",
              "      <td>/organization/zznode-science-and-technology-co-ltd</td>\n",
              "      <td>ZZNode Science and Technology</td>\n",
              "      <td>http://www.zznode.com</td>\n",
              "      <td>|Enterprise Software|</td>\n",
              "      <td>Enterprise Software</td>\n",
              "      <td>1 587 301</td>\n",
              "      <td>operating</td>\n",
              "      <td>CHN</td>\n",
              "      <td>None</td>\n",
              "      <td>Beijing</td>\n",
              "      <td>Beijing</td>\n",
              "      <td>1</td>\n",
              "      <td>None</td>\n",
              "      <td>None</td>\n",
              "      <td>None</td>\n",
              "      <td>NaN</td>\n",
              "      <td>01/04/2012</td>\n",
              "      <td>01/04/2012</td>\n",
              "    </tr>\n",
              "    <tr>\n",
              "      <th>47755</th>\n",
              "      <td>/organization/zzzzapp-com</td>\n",
              "      <td>Zzzzapp Wireless ltd.</td>\n",
              "      <td>http://www.zzzzapp.com</td>\n",
              "      <td>|Web Development|Advertising|Wireless|Mobile|</td>\n",
              "      <td>Web Development</td>\n",
              "      <td>97 398</td>\n",
              "      <td>operating</td>\n",
              "      <td>HRV</td>\n",
              "      <td>None</td>\n",
              "      <td>Split</td>\n",
              "      <td>Split</td>\n",
              "      <td>5</td>\n",
              "      <td>13/05/2012</td>\n",
              "      <td>2012-05</td>\n",
              "      <td>2012-Q2</td>\n",
              "      <td>2012.0</td>\n",
              "      <td>01/11/2011</td>\n",
              "      <td>10/09/2014</td>\n",
              "    </tr>\n",
              "    <tr>\n",
              "      <th>47756</th>\n",
              "      <td>/organization/a-list-games</td>\n",
              "      <td>[a]list games</td>\n",
              "      <td>http://www.alistgames.com</td>\n",
              "      <td>|Games|</td>\n",
              "      <td>Games</td>\n",
              "      <td>9 300 000</td>\n",
              "      <td>operating</td>\n",
              "      <td>None</td>\n",
              "      <td>None</td>\n",
              "      <td>None</td>\n",
              "      <td>None</td>\n",
              "      <td>1</td>\n",
              "      <td>None</td>\n",
              "      <td>None</td>\n",
              "      <td>None</td>\n",
              "      <td>NaN</td>\n",
              "      <td>21/11/2011</td>\n",
              "      <td>21/11/2011</td>\n",
              "    </tr>\n",
              "    <tr>\n",
              "      <th>47757</th>\n",
              "      <td>/organization/x</td>\n",
              "      <td>[x+1]</td>\n",
              "      <td>http://www.xplusone.com/</td>\n",
              "      <td>|Enterprise Software|</td>\n",
              "      <td>Enterprise Software</td>\n",
              "      <td>45 000 000</td>\n",
              "      <td>operating</td>\n",
              "      <td>USA</td>\n",
              "      <td>NY</td>\n",
              "      <td>New York City</td>\n",
              "      <td>New York</td>\n",
              "      <td>4</td>\n",
              "      <td>01/01/1999</td>\n",
              "      <td>1999-01</td>\n",
              "      <td>1999-Q1</td>\n",
              "      <td>1999.0</td>\n",
              "      <td>01/06/2008</td>\n",
              "      <td>04/04/2013</td>\n",
              "    </tr>\n",
              "  </tbody>\n",
              "</table>\n",
              "<p>47758 rows × 18 columns</p>\n",
              "</div>\n",
              "    <div class=\"colab-df-buttons\">\n",
              "\n",
              "  <div class=\"colab-df-container\">\n",
              "    <button class=\"colab-df-convert\" onclick=\"convertToInteractive('df-527bea2d-994c-4f34-b0f2-f24d8628693d')\"\n",
              "            title=\"Convert this dataframe to an interactive table.\"\n",
              "            style=\"display:none;\">\n",
              "\n",
              "  <svg xmlns=\"http://www.w3.org/2000/svg\" height=\"24px\" viewBox=\"0 -960 960 960\">\n",
              "    <path d=\"M120-120v-720h720v720H120Zm60-500h600v-160H180v160Zm220 220h160v-160H400v160Zm0 220h160v-160H400v160ZM180-400h160v-160H180v160Zm440 0h160v-160H620v160ZM180-180h160v-160H180v160Zm440 0h160v-160H620v160Z\"/>\n",
              "  </svg>\n",
              "    </button>\n",
              "\n",
              "  <style>\n",
              "    .colab-df-container {\n",
              "      display:flex;\n",
              "      gap: 12px;\n",
              "    }\n",
              "\n",
              "    .colab-df-convert {\n",
              "      background-color: #E8F0FE;\n",
              "      border: none;\n",
              "      border-radius: 50%;\n",
              "      cursor: pointer;\n",
              "      display: none;\n",
              "      fill: #1967D2;\n",
              "      height: 32px;\n",
              "      padding: 0 0 0 0;\n",
              "      width: 32px;\n",
              "    }\n",
              "\n",
              "    .colab-df-convert:hover {\n",
              "      background-color: #E2EBFA;\n",
              "      box-shadow: 0px 1px 2px rgba(60, 64, 67, 0.3), 0px 1px 3px 1px rgba(60, 64, 67, 0.15);\n",
              "      fill: #174EA6;\n",
              "    }\n",
              "\n",
              "    .colab-df-buttons div {\n",
              "      margin-bottom: 4px;\n",
              "    }\n",
              "\n",
              "    [theme=dark] .colab-df-convert {\n",
              "      background-color: #3B4455;\n",
              "      fill: #D2E3FC;\n",
              "    }\n",
              "\n",
              "    [theme=dark] .colab-df-convert:hover {\n",
              "      background-color: #434B5C;\n",
              "      box-shadow: 0px 1px 3px 1px rgba(0, 0, 0, 0.15);\n",
              "      filter: drop-shadow(0px 1px 2px rgba(0, 0, 0, 0.3));\n",
              "      fill: #FFFFFF;\n",
              "    }\n",
              "  </style>\n",
              "\n",
              "    <script>\n",
              "      const buttonEl =\n",
              "        document.querySelector('#df-527bea2d-994c-4f34-b0f2-f24d8628693d button.colab-df-convert');\n",
              "      buttonEl.style.display =\n",
              "        google.colab.kernel.accessAllowed ? 'block' : 'none';\n",
              "\n",
              "      async function convertToInteractive(key) {\n",
              "        const element = document.querySelector('#df-527bea2d-994c-4f34-b0f2-f24d8628693d');\n",
              "        const dataTable =\n",
              "          await google.colab.kernel.invokeFunction('convertToInteractive',\n",
              "                                                    [key], {});\n",
              "        if (!dataTable) return;\n",
              "\n",
              "        const docLinkHtml = 'Like what you see? Visit the ' +\n",
              "          '<a target=\"_blank\" href=https://colab.research.google.com/notebooks/data_table.ipynb>data table notebook</a>'\n",
              "          + ' to learn more about interactive tables.';\n",
              "        element.innerHTML = '';\n",
              "        dataTable['output_type'] = 'display_data';\n",
              "        await google.colab.output.renderOutput(dataTable, element);\n",
              "        const docLink = document.createElement('div');\n",
              "        docLink.innerHTML = docLinkHtml;\n",
              "        element.appendChild(docLink);\n",
              "      }\n",
              "    </script>\n",
              "  </div>\n",
              "\n",
              "\n",
              "<div id=\"df-e77c1357-e94e-4579-b885-858ded7b5e34\">\n",
              "  <button class=\"colab-df-quickchart\" onclick=\"quickchart('df-e77c1357-e94e-4579-b885-858ded7b5e34')\"\n",
              "            title=\"Suggest charts\"\n",
              "            style=\"display:none;\">\n",
              "\n",
              "<svg xmlns=\"http://www.w3.org/2000/svg\" height=\"24px\"viewBox=\"0 0 24 24\"\n",
              "     width=\"24px\">\n",
              "    <g>\n",
              "        <path d=\"M19 3H5c-1.1 0-2 .9-2 2v14c0 1.1.9 2 2 2h14c1.1 0 2-.9 2-2V5c0-1.1-.9-2-2-2zM9 17H7v-7h2v7zm4 0h-2V7h2v10zm4 0h-2v-4h2v4z\"/>\n",
              "    </g>\n",
              "</svg>\n",
              "  </button>\n",
              "\n",
              "<style>\n",
              "  .colab-df-quickchart {\n",
              "      --bg-color: #E8F0FE;\n",
              "      --fill-color: #1967D2;\n",
              "      --hover-bg-color: #E2EBFA;\n",
              "      --hover-fill-color: #174EA6;\n",
              "      --disabled-fill-color: #AAA;\n",
              "      --disabled-bg-color: #DDD;\n",
              "  }\n",
              "\n",
              "  [theme=dark] .colab-df-quickchart {\n",
              "      --bg-color: #3B4455;\n",
              "      --fill-color: #D2E3FC;\n",
              "      --hover-bg-color: #434B5C;\n",
              "      --hover-fill-color: #FFFFFF;\n",
              "      --disabled-bg-color: #3B4455;\n",
              "      --disabled-fill-color: #666;\n",
              "  }\n",
              "\n",
              "  .colab-df-quickchart {\n",
              "    background-color: var(--bg-color);\n",
              "    border: none;\n",
              "    border-radius: 50%;\n",
              "    cursor: pointer;\n",
              "    display: none;\n",
              "    fill: var(--fill-color);\n",
              "    height: 32px;\n",
              "    padding: 0;\n",
              "    width: 32px;\n",
              "  }\n",
              "\n",
              "  .colab-df-quickchart:hover {\n",
              "    background-color: var(--hover-bg-color);\n",
              "    box-shadow: 0 1px 2px rgba(60, 64, 67, 0.3), 0 1px 3px 1px rgba(60, 64, 67, 0.15);\n",
              "    fill: var(--button-hover-fill-color);\n",
              "  }\n",
              "\n",
              "  .colab-df-quickchart-complete:disabled,\n",
              "  .colab-df-quickchart-complete:disabled:hover {\n",
              "    background-color: var(--disabled-bg-color);\n",
              "    fill: var(--disabled-fill-color);\n",
              "    box-shadow: none;\n",
              "  }\n",
              "\n",
              "  .colab-df-spinner {\n",
              "    border: 2px solid var(--fill-color);\n",
              "    border-color: transparent;\n",
              "    border-bottom-color: var(--fill-color);\n",
              "    animation:\n",
              "      spin 1s steps(1) infinite;\n",
              "  }\n",
              "\n",
              "  @keyframes spin {\n",
              "    0% {\n",
              "      border-color: transparent;\n",
              "      border-bottom-color: var(--fill-color);\n",
              "      border-left-color: var(--fill-color);\n",
              "    }\n",
              "    20% {\n",
              "      border-color: transparent;\n",
              "      border-left-color: var(--fill-color);\n",
              "      border-top-color: var(--fill-color);\n",
              "    }\n",
              "    30% {\n",
              "      border-color: transparent;\n",
              "      border-left-color: var(--fill-color);\n",
              "      border-top-color: var(--fill-color);\n",
              "      border-right-color: var(--fill-color);\n",
              "    }\n",
              "    40% {\n",
              "      border-color: transparent;\n",
              "      border-right-color: var(--fill-color);\n",
              "      border-top-color: var(--fill-color);\n",
              "    }\n",
              "    60% {\n",
              "      border-color: transparent;\n",
              "      border-right-color: var(--fill-color);\n",
              "    }\n",
              "    80% {\n",
              "      border-color: transparent;\n",
              "      border-right-color: var(--fill-color);\n",
              "      border-bottom-color: var(--fill-color);\n",
              "    }\n",
              "    90% {\n",
              "      border-color: transparent;\n",
              "      border-bottom-color: var(--fill-color);\n",
              "    }\n",
              "  }\n",
              "</style>\n",
              "\n",
              "  <script>\n",
              "    async function quickchart(key) {\n",
              "      const quickchartButtonEl =\n",
              "        document.querySelector('#' + key + ' button');\n",
              "      quickchartButtonEl.disabled = true;  // To prevent multiple clicks.\n",
              "      quickchartButtonEl.classList.add('colab-df-spinner');\n",
              "      try {\n",
              "        const charts = await google.colab.kernel.invokeFunction(\n",
              "            'suggestCharts', [key], {});\n",
              "      } catch (error) {\n",
              "        console.error('Error during call to suggestCharts:', error);\n",
              "      }\n",
              "      quickchartButtonEl.classList.remove('colab-df-spinner');\n",
              "      quickchartButtonEl.classList.add('colab-df-quickchart-complete');\n",
              "    }\n",
              "    (() => {\n",
              "      let quickchartButtonEl =\n",
              "        document.querySelector('#df-e77c1357-e94e-4579-b885-858ded7b5e34 button');\n",
              "      quickchartButtonEl.style.display =\n",
              "        google.colab.kernel.accessAllowed ? 'block' : 'none';\n",
              "    })();\n",
              "  </script>\n",
              "</div>\n",
              "\n",
              "    </div>\n",
              "  </div>\n"
            ],
            "application/vnd.google.colaboratory.intrinsic+json": {
              "type": "dataframe",
              "summary": "{\n  \"name\": \"pd\",\n  \"rows\": 47758,\n  \"fields\": [\n    {\n      \"column\": \"permalink\",\n      \"properties\": {\n        \"dtype\": \"string\",\n        \"num_unique_values\": 47756,\n        \"samples\": [\n          \"/organization/geodynamics\",\n          \"/organization/web-wonks\",\n          \"/organization/paypay-2\"\n        ],\n        \"semantic_type\": \"\",\n        \"description\": \"\"\n      }\n    },\n    {\n      \"column\": \"name\",\n      \"properties\": {\n        \"dtype\": \"string\",\n        \"num_unique_values\": 47672,\n        \"samples\": [\n          \"Trampoline\",\n          \"Sparkle.cs\",\n          \"Games2Win\"\n        ],\n        \"semantic_type\": \"\",\n        \"description\": \"\"\n      }\n    },\n    {\n      \"column\": \"homepage_url\",\n      \"properties\": {\n        \"dtype\": \"string\",\n        \"num_unique_values\": 44287,\n        \"samples\": [\n          \"http://www.soufun.com\",\n          \"http://www.fangjia.com\",\n          \"http://www.7summitsagency.com\"\n        ],\n        \"semantic_type\": \"\",\n        \"description\": \"\"\n      }\n    },\n    {\n      \"column\": \"category_list\",\n      \"properties\": {\n        \"dtype\": \"category\",\n        \"num_unique_values\": 14157,\n        \"samples\": [\n          \"|Mobile Video|Online Video Advertising|Advertising|\",\n          \"|Art|Digital Rights Management|Social Commerce|Music|\",\n          \"|Reviews and Recommendations|Billing|Legal|\"\n        ],\n        \"semantic_type\": \"\",\n        \"description\": \"\"\n      }\n    },\n    {\n      \"column\": \"market\",\n      \"properties\": {\n        \"dtype\": \"category\",\n        \"num_unique_values\": 809,\n        \"samples\": [\n          \" Call Center Automation \",\n          \" iPad \",\n          \" Startups \"\n        ],\n        \"semantic_type\": \"\",\n        \"description\": \"\"\n      }\n    },\n    {\n      \"column\": \"funding_total_usd\",\n      \"properties\": {\n        \"dtype\": \"category\",\n        \"num_unique_values\": 14165,\n        \"samples\": [\n          \" 17\\u00a0531\\u00a0977 \",\n          \" 265\\u00a0509 \",\n          \" 9\\u00a0079\\u00a0060 \"\n        ],\n        \"semantic_type\": \"\",\n        \"description\": \"\"\n      }\n    },\n    {\n      \"column\": \"status\",\n      \"properties\": {\n        \"dtype\": \"category\",\n        \"num_unique_values\": 3,\n        \"samples\": [\n          \"acquired\",\n          \"operating\",\n          \"closed\"\n        ],\n        \"semantic_type\": \"\",\n        \"description\": \"\"\n      }\n    },\n    {\n      \"column\": \"country_code\",\n      \"properties\": {\n        \"dtype\": \"category\",\n        \"num_unique_values\": 114,\n        \"samples\": [\n          \"SRB\",\n          \"HKG\",\n          \"KHM\"\n        ],\n        \"semantic_type\": \"\",\n        \"description\": \"\"\n      }\n    },\n    {\n      \"column\": \"state_code\",\n      \"properties\": {\n        \"dtype\": \"category\",\n        \"num_unique_values\": 61,\n        \"samples\": [\n          \"NY\",\n          \"NC\",\n          \"DC\"\n        ],\n        \"semantic_type\": \"\",\n        \"description\": \"\"\n      }\n    },\n    {\n      \"column\": \"region\",\n      \"properties\": {\n        \"dtype\": \"category\",\n        \"num_unique_values\": 1007,\n        \"samples\": [\n          \"Salmiya\",\n          \"Fribourg\",\n          \"Etobicoke\"\n        ],\n        \"semantic_type\": \"\",\n        \"description\": \"\"\n      }\n    },\n    {\n      \"column\": \"city\",\n      \"properties\": {\n        \"dtype\": \"category\",\n        \"num_unique_values\": 4073,\n        \"samples\": [\n          \"New Town\",\n          \"Tunbridge Wells\",\n          \"Walnut Creek\"\n        ],\n        \"semantic_type\": \"\",\n        \"description\": \"\"\n      }\n    },\n    {\n      \"column\": \"funding_rounds\",\n      \"properties\": {\n        \"dtype\": \"number\",\n        \"std\": 1,\n        \"min\": 1,\n        \"max\": 17,\n        \"num_unique_values\": 17,\n        \"samples\": [\n          1,\n          2,\n          6\n        ],\n        \"semantic_type\": \"\",\n        \"description\": \"\"\n      }\n    },\n    {\n      \"column\": \"founded_at\",\n      \"properties\": {\n        \"dtype\": \"category\",\n        \"num_unique_values\": 3282,\n        \"samples\": [\n          \"30/01/2009\",\n          \"15/04/2009\",\n          \"31/01/2004\"\n        ],\n        \"semantic_type\": \"\",\n        \"description\": \"\"\n      }\n    },\n    {\n      \"column\": \"founded_month\",\n      \"properties\": {\n        \"dtype\": \"object\",\n        \"num_unique_values\": 413,\n        \"samples\": [\n          \"1995-08\",\n          \"1984-09\",\n          \"1993-07\"\n        ],\n        \"semantic_type\": \"\",\n        \"description\": \"\"\n      }\n    },\n    {\n      \"column\": \"founded_quarter\",\n      \"properties\": {\n        \"dtype\": \"object\",\n        \"num_unique_values\": 215,\n        \"samples\": [\n          \"1936-Q1\",\n          \"1939-Q1\",\n          \"2014-Q4\"\n        ],\n        \"semantic_type\": \"\",\n        \"description\": \"\"\n      }\n    },\n    {\n      \"column\": \"founded_year\",\n      \"properties\": {\n        \"dtype\": \"number\",\n        \"std\": 7.589312939760719,\n        \"min\": 1900.0,\n        \"max\": 2015.0,\n        \"num_unique_values\": 103,\n        \"samples\": [\n          1961.0,\n          1913.0,\n          1970.0\n        ],\n        \"semantic_type\": \"\",\n        \"description\": \"\"\n      }\n    },\n    {\n      \"column\": \"first_funding_at\",\n      \"properties\": {\n        \"dtype\": \"category\",\n        \"num_unique_values\": 3849,\n        \"samples\": [\n          \"06/09/2010\",\n          \"03/12/2012\",\n          \"06/08/2013\"\n        ],\n        \"semantic_type\": \"\",\n        \"description\": \"\"\n      }\n    },\n    {\n      \"column\": \"last_funding_at\",\n      \"properties\": {\n        \"dtype\": \"category\",\n        \"num_unique_values\": 3599,\n        \"samples\": [\n          \"24/12/2008\",\n          \"22/10/2007\",\n          \"14/02/2007\"\n        ],\n        \"semantic_type\": \"\",\n        \"description\": \"\"\n      }\n    }\n  ]\n}"
            }
          },
          "metadata": {},
          "execution_count": 6
        }
      ]
    },
    {
      "cell_type": "markdown",
      "metadata": {
        "id": "lcP3q-yREiZJ"
      },
      "source": [
        "## Companies' CEOs: a Web Table\n",
        "\n",
        "Now we need to figure out who the CEOs are for corporations.  One place to look is Wikipedia, which has an HTML table describing the CEOs.\n",
        "\n",
        "https://en.wikipedia.org/wiki/List_of_chief_executive_officers#List_of_CEOs\n",
        "\n",
        "Pandas actually makes it easy to read HTML tables..."
      ]
    },
    {
      "cell_type": "code",
      "metadata": {
        "id": "BtMlN0XAATIA",
        "colab": {
          "base_uri": "https://localhost:8080/",
          "height": 580
        },
        "outputId": "16a9a24b-0261-4bad-9c7e-94660e8ece9e"
      },
      "source": [
        "# Now let's read an HTML table!\n",
        "\n",
        "company_ceos_df = pd.read_html('https://en.wikipedia.org/wiki/List_of_chief_executive_officers#List_of_CEOs')[1]\n",
        "\n",
        "company_ceos_df"
      ],
      "execution_count": 9,
      "outputs": [
        {
          "output_type": "execute_result",
          "data": {
            "text/plain": [
              "                Company             Executive                           Title  \\\n",
              "0             Accenture           Julie Sweet                          CEO[1]   \n",
              "1    Aditya Birla Group  Kumar Mangalam Birla                     Chairman[2]   \n",
              "2         Adobe Systems      Shantanu Narayen  Chairman, president and CEO[3]   \n",
              "3                Airbus       Guillaume Faury                          CEO[4]   \n",
              "4               Alibaba              Eddie Wu             Director and CEO[5]   \n",
              "..                  ...                   ...                             ...   \n",
              "130     Warner Brothers           Ann Sarnoff         Chairwoman and CEO[122]   \n",
              "131         WarnerMedia           Jason Kilar                        CEO[123]   \n",
              "132         Wells Fargo        Charles Scharf          CEO and president[124]   \n",
              "133  Whole Foods Market           John Mackey                        CEO[125]   \n",
              "134        Zillow Group           Rich Barton                        CEO[126]   \n",
              "\n",
              "       Since  \\\n",
              "0       2019   \n",
              "1    1995[2]   \n",
              "2       2007   \n",
              "3       2012   \n",
              "4    2023[6]   \n",
              "..       ...   \n",
              "130     2019   \n",
              "131     2020   \n",
              "132     2019   \n",
              "133     1980   \n",
              "134     2019   \n",
              "\n",
              "                                                                                          Notes  \\\n",
              "0                                                               Succeeded Pierre Nanterme, died   \n",
              "1                                              Part of the Birla family business house in India   \n",
              "2                                                                           Formerly with Apple   \n",
              "3                                                                       Succeeded Louis Gallois   \n",
              "4                                                                                           NaN   \n",
              "..                                                                                          ...   \n",
              "130                  First woman to hold the position at the company; succeeded Kevin Tsujihara   \n",
              "131                                                             Previously with Hulu and Amazon   \n",
              "132                                                       Succeeded John Stumpf, previously COO   \n",
              "133                                                                                  Co-founder   \n",
              "134  Co-founder and previously was Zillow's CEO for nearly a decade. Succeeded Spencer Rascoff.   \n",
              "\n",
              "        Updated  \n",
              "0    2019-01-31  \n",
              "1    2018-10-01  \n",
              "2    2018-10-01  \n",
              "3    2017-11-14  \n",
              "4    2024-07-19  \n",
              "..          ...  \n",
              "130  2019-10-10  \n",
              "131  2020-11-19  \n",
              "132         NaN  \n",
              "133  2017-11-11  \n",
              "134  2018-12-10  \n",
              "\n",
              "[135 rows x 6 columns]"
            ],
            "text/html": [
              "\n",
              "  <div id=\"df-730a9114-9709-4a1f-84e4-60b710e3b677\" class=\"colab-df-container\">\n",
              "    <div>\n",
              "<style scoped>\n",
              "    .dataframe tbody tr th:only-of-type {\n",
              "        vertical-align: middle;\n",
              "    }\n",
              "\n",
              "    .dataframe tbody tr th {\n",
              "        vertical-align: top;\n",
              "    }\n",
              "\n",
              "    .dataframe thead th {\n",
              "        text-align: right;\n",
              "    }\n",
              "</style>\n",
              "<table border=\"1\" class=\"dataframe\">\n",
              "  <thead>\n",
              "    <tr style=\"text-align: right;\">\n",
              "      <th></th>\n",
              "      <th>Company</th>\n",
              "      <th>Executive</th>\n",
              "      <th>Title</th>\n",
              "      <th>Since</th>\n",
              "      <th>Notes</th>\n",
              "      <th>Updated</th>\n",
              "    </tr>\n",
              "  </thead>\n",
              "  <tbody>\n",
              "    <tr>\n",
              "      <th>0</th>\n",
              "      <td>Accenture</td>\n",
              "      <td>Julie Sweet</td>\n",
              "      <td>CEO[1]</td>\n",
              "      <td>2019</td>\n",
              "      <td>Succeeded Pierre Nanterme, died</td>\n",
              "      <td>2019-01-31</td>\n",
              "    </tr>\n",
              "    <tr>\n",
              "      <th>1</th>\n",
              "      <td>Aditya Birla Group</td>\n",
              "      <td>Kumar Mangalam Birla</td>\n",
              "      <td>Chairman[2]</td>\n",
              "      <td>1995[2]</td>\n",
              "      <td>Part of the Birla family business house in India</td>\n",
              "      <td>2018-10-01</td>\n",
              "    </tr>\n",
              "    <tr>\n",
              "      <th>2</th>\n",
              "      <td>Adobe Systems</td>\n",
              "      <td>Shantanu Narayen</td>\n",
              "      <td>Chairman, president and CEO[3]</td>\n",
              "      <td>2007</td>\n",
              "      <td>Formerly with Apple</td>\n",
              "      <td>2018-10-01</td>\n",
              "    </tr>\n",
              "    <tr>\n",
              "      <th>3</th>\n",
              "      <td>Airbus</td>\n",
              "      <td>Guillaume Faury</td>\n",
              "      <td>CEO[4]</td>\n",
              "      <td>2012</td>\n",
              "      <td>Succeeded Louis Gallois</td>\n",
              "      <td>2017-11-14</td>\n",
              "    </tr>\n",
              "    <tr>\n",
              "      <th>4</th>\n",
              "      <td>Alibaba</td>\n",
              "      <td>Eddie Wu</td>\n",
              "      <td>Director and CEO[5]</td>\n",
              "      <td>2023[6]</td>\n",
              "      <td>NaN</td>\n",
              "      <td>2024-07-19</td>\n",
              "    </tr>\n",
              "    <tr>\n",
              "      <th>...</th>\n",
              "      <td>...</td>\n",
              "      <td>...</td>\n",
              "      <td>...</td>\n",
              "      <td>...</td>\n",
              "      <td>...</td>\n",
              "      <td>...</td>\n",
              "    </tr>\n",
              "    <tr>\n",
              "      <th>130</th>\n",
              "      <td>Warner Brothers</td>\n",
              "      <td>Ann Sarnoff</td>\n",
              "      <td>Chairwoman and CEO[122]</td>\n",
              "      <td>2019</td>\n",
              "      <td>First woman to hold the position at the company; succeeded Kevin Tsujihara</td>\n",
              "      <td>2019-10-10</td>\n",
              "    </tr>\n",
              "    <tr>\n",
              "      <th>131</th>\n",
              "      <td>WarnerMedia</td>\n",
              "      <td>Jason Kilar</td>\n",
              "      <td>CEO[123]</td>\n",
              "      <td>2020</td>\n",
              "      <td>Previously with Hulu and Amazon</td>\n",
              "      <td>2020-11-19</td>\n",
              "    </tr>\n",
              "    <tr>\n",
              "      <th>132</th>\n",
              "      <td>Wells Fargo</td>\n",
              "      <td>Charles Scharf</td>\n",
              "      <td>CEO and president[124]</td>\n",
              "      <td>2019</td>\n",
              "      <td>Succeeded John Stumpf, previously COO</td>\n",
              "      <td>NaN</td>\n",
              "    </tr>\n",
              "    <tr>\n",
              "      <th>133</th>\n",
              "      <td>Whole Foods Market</td>\n",
              "      <td>John Mackey</td>\n",
              "      <td>CEO[125]</td>\n",
              "      <td>1980</td>\n",
              "      <td>Co-founder</td>\n",
              "      <td>2017-11-11</td>\n",
              "    </tr>\n",
              "    <tr>\n",
              "      <th>134</th>\n",
              "      <td>Zillow Group</td>\n",
              "      <td>Rich Barton</td>\n",
              "      <td>CEO[126]</td>\n",
              "      <td>2019</td>\n",
              "      <td>Co-founder and previously was Zillow's CEO for nearly a decade. Succeeded Spencer Rascoff.</td>\n",
              "      <td>2018-12-10</td>\n",
              "    </tr>\n",
              "  </tbody>\n",
              "</table>\n",
              "<p>135 rows × 6 columns</p>\n",
              "</div>\n",
              "    <div class=\"colab-df-buttons\">\n",
              "\n",
              "  <div class=\"colab-df-container\">\n",
              "    <button class=\"colab-df-convert\" onclick=\"convertToInteractive('df-730a9114-9709-4a1f-84e4-60b710e3b677')\"\n",
              "            title=\"Convert this dataframe to an interactive table.\"\n",
              "            style=\"display:none;\">\n",
              "\n",
              "  <svg xmlns=\"http://www.w3.org/2000/svg\" height=\"24px\" viewBox=\"0 -960 960 960\">\n",
              "    <path d=\"M120-120v-720h720v720H120Zm60-500h600v-160H180v160Zm220 220h160v-160H400v160Zm0 220h160v-160H400v160ZM180-400h160v-160H180v160Zm440 0h160v-160H620v160ZM180-180h160v-160H180v160Zm440 0h160v-160H620v160Z\"/>\n",
              "  </svg>\n",
              "    </button>\n",
              "\n",
              "  <style>\n",
              "    .colab-df-container {\n",
              "      display:flex;\n",
              "      gap: 12px;\n",
              "    }\n",
              "\n",
              "    .colab-df-convert {\n",
              "      background-color: #E8F0FE;\n",
              "      border: none;\n",
              "      border-radius: 50%;\n",
              "      cursor: pointer;\n",
              "      display: none;\n",
              "      fill: #1967D2;\n",
              "      height: 32px;\n",
              "      padding: 0 0 0 0;\n",
              "      width: 32px;\n",
              "    }\n",
              "\n",
              "    .colab-df-convert:hover {\n",
              "      background-color: #E2EBFA;\n",
              "      box-shadow: 0px 1px 2px rgba(60, 64, 67, 0.3), 0px 1px 3px 1px rgba(60, 64, 67, 0.15);\n",
              "      fill: #174EA6;\n",
              "    }\n",
              "\n",
              "    .colab-df-buttons div {\n",
              "      margin-bottom: 4px;\n",
              "    }\n",
              "\n",
              "    [theme=dark] .colab-df-convert {\n",
              "      background-color: #3B4455;\n",
              "      fill: #D2E3FC;\n",
              "    }\n",
              "\n",
              "    [theme=dark] .colab-df-convert:hover {\n",
              "      background-color: #434B5C;\n",
              "      box-shadow: 0px 1px 3px 1px rgba(0, 0, 0, 0.15);\n",
              "      filter: drop-shadow(0px 1px 2px rgba(0, 0, 0, 0.3));\n",
              "      fill: #FFFFFF;\n",
              "    }\n",
              "  </style>\n",
              "\n",
              "    <script>\n",
              "      const buttonEl =\n",
              "        document.querySelector('#df-730a9114-9709-4a1f-84e4-60b710e3b677 button.colab-df-convert');\n",
              "      buttonEl.style.display =\n",
              "        google.colab.kernel.accessAllowed ? 'block' : 'none';\n",
              "\n",
              "      async function convertToInteractive(key) {\n",
              "        const element = document.querySelector('#df-730a9114-9709-4a1f-84e4-60b710e3b677');\n",
              "        const dataTable =\n",
              "          await google.colab.kernel.invokeFunction('convertToInteractive',\n",
              "                                                    [key], {});\n",
              "        if (!dataTable) return;\n",
              "\n",
              "        const docLinkHtml = 'Like what you see? Visit the ' +\n",
              "          '<a target=\"_blank\" href=https://colab.research.google.com/notebooks/data_table.ipynb>data table notebook</a>'\n",
              "          + ' to learn more about interactive tables.';\n",
              "        element.innerHTML = '';\n",
              "        dataTable['output_type'] = 'display_data';\n",
              "        await google.colab.output.renderOutput(dataTable, element);\n",
              "        const docLink = document.createElement('div');\n",
              "        docLink.innerHTML = docLinkHtml;\n",
              "        element.appendChild(docLink);\n",
              "      }\n",
              "    </script>\n",
              "  </div>\n",
              "\n",
              "\n",
              "<div id=\"df-e7e57f27-7323-409b-9273-9fd06c3dc4f7\">\n",
              "  <button class=\"colab-df-quickchart\" onclick=\"quickchart('df-e7e57f27-7323-409b-9273-9fd06c3dc4f7')\"\n",
              "            title=\"Suggest charts\"\n",
              "            style=\"display:none;\">\n",
              "\n",
              "<svg xmlns=\"http://www.w3.org/2000/svg\" height=\"24px\"viewBox=\"0 0 24 24\"\n",
              "     width=\"24px\">\n",
              "    <g>\n",
              "        <path d=\"M19 3H5c-1.1 0-2 .9-2 2v14c0 1.1.9 2 2 2h14c1.1 0 2-.9 2-2V5c0-1.1-.9-2-2-2zM9 17H7v-7h2v7zm4 0h-2V7h2v10zm4 0h-2v-4h2v4z\"/>\n",
              "    </g>\n",
              "</svg>\n",
              "  </button>\n",
              "\n",
              "<style>\n",
              "  .colab-df-quickchart {\n",
              "      --bg-color: #E8F0FE;\n",
              "      --fill-color: #1967D2;\n",
              "      --hover-bg-color: #E2EBFA;\n",
              "      --hover-fill-color: #174EA6;\n",
              "      --disabled-fill-color: #AAA;\n",
              "      --disabled-bg-color: #DDD;\n",
              "  }\n",
              "\n",
              "  [theme=dark] .colab-df-quickchart {\n",
              "      --bg-color: #3B4455;\n",
              "      --fill-color: #D2E3FC;\n",
              "      --hover-bg-color: #434B5C;\n",
              "      --hover-fill-color: #FFFFFF;\n",
              "      --disabled-bg-color: #3B4455;\n",
              "      --disabled-fill-color: #666;\n",
              "  }\n",
              "\n",
              "  .colab-df-quickchart {\n",
              "    background-color: var(--bg-color);\n",
              "    border: none;\n",
              "    border-radius: 50%;\n",
              "    cursor: pointer;\n",
              "    display: none;\n",
              "    fill: var(--fill-color);\n",
              "    height: 32px;\n",
              "    padding: 0;\n",
              "    width: 32px;\n",
              "  }\n",
              "\n",
              "  .colab-df-quickchart:hover {\n",
              "    background-color: var(--hover-bg-color);\n",
              "    box-shadow: 0 1px 2px rgba(60, 64, 67, 0.3), 0 1px 3px 1px rgba(60, 64, 67, 0.15);\n",
              "    fill: var(--button-hover-fill-color);\n",
              "  }\n",
              "\n",
              "  .colab-df-quickchart-complete:disabled,\n",
              "  .colab-df-quickchart-complete:disabled:hover {\n",
              "    background-color: var(--disabled-bg-color);\n",
              "    fill: var(--disabled-fill-color);\n",
              "    box-shadow: none;\n",
              "  }\n",
              "\n",
              "  .colab-df-spinner {\n",
              "    border: 2px solid var(--fill-color);\n",
              "    border-color: transparent;\n",
              "    border-bottom-color: var(--fill-color);\n",
              "    animation:\n",
              "      spin 1s steps(1) infinite;\n",
              "  }\n",
              "\n",
              "  @keyframes spin {\n",
              "    0% {\n",
              "      border-color: transparent;\n",
              "      border-bottom-color: var(--fill-color);\n",
              "      border-left-color: var(--fill-color);\n",
              "    }\n",
              "    20% {\n",
              "      border-color: transparent;\n",
              "      border-left-color: var(--fill-color);\n",
              "      border-top-color: var(--fill-color);\n",
              "    }\n",
              "    30% {\n",
              "      border-color: transparent;\n",
              "      border-left-color: var(--fill-color);\n",
              "      border-top-color: var(--fill-color);\n",
              "      border-right-color: var(--fill-color);\n",
              "    }\n",
              "    40% {\n",
              "      border-color: transparent;\n",
              "      border-right-color: var(--fill-color);\n",
              "      border-top-color: var(--fill-color);\n",
              "    }\n",
              "    60% {\n",
              "      border-color: transparent;\n",
              "      border-right-color: var(--fill-color);\n",
              "    }\n",
              "    80% {\n",
              "      border-color: transparent;\n",
              "      border-right-color: var(--fill-color);\n",
              "      border-bottom-color: var(--fill-color);\n",
              "    }\n",
              "    90% {\n",
              "      border-color: transparent;\n",
              "      border-bottom-color: var(--fill-color);\n",
              "    }\n",
              "  }\n",
              "</style>\n",
              "\n",
              "  <script>\n",
              "    async function quickchart(key) {\n",
              "      const quickchartButtonEl =\n",
              "        document.querySelector('#' + key + ' button');\n",
              "      quickchartButtonEl.disabled = true;  // To prevent multiple clicks.\n",
              "      quickchartButtonEl.classList.add('colab-df-spinner');\n",
              "      try {\n",
              "        const charts = await google.colab.kernel.invokeFunction(\n",
              "            'suggestCharts', [key], {});\n",
              "      } catch (error) {\n",
              "        console.error('Error during call to suggestCharts:', error);\n",
              "      }\n",
              "      quickchartButtonEl.classList.remove('colab-df-spinner');\n",
              "      quickchartButtonEl.classList.add('colab-df-quickchart-complete');\n",
              "    }\n",
              "    (() => {\n",
              "      let quickchartButtonEl =\n",
              "        document.querySelector('#df-e7e57f27-7323-409b-9273-9fd06c3dc4f7 button');\n",
              "      quickchartButtonEl.style.display =\n",
              "        google.colab.kernel.accessAllowed ? 'block' : 'none';\n",
              "    })();\n",
              "  </script>\n",
              "</div>\n",
              "\n",
              "  <div id=\"id_6bb6cc68-871f-4958-8cd1-f0be33b379a8\">\n",
              "    <style>\n",
              "      .colab-df-generate {\n",
              "        background-color: #E8F0FE;\n",
              "        border: none;\n",
              "        border-radius: 50%;\n",
              "        cursor: pointer;\n",
              "        display: none;\n",
              "        fill: #1967D2;\n",
              "        height: 32px;\n",
              "        padding: 0 0 0 0;\n",
              "        width: 32px;\n",
              "      }\n",
              "\n",
              "      .colab-df-generate:hover {\n",
              "        background-color: #E2EBFA;\n",
              "        box-shadow: 0px 1px 2px rgba(60, 64, 67, 0.3), 0px 1px 3px 1px rgba(60, 64, 67, 0.15);\n",
              "        fill: #174EA6;\n",
              "      }\n",
              "\n",
              "      [theme=dark] .colab-df-generate {\n",
              "        background-color: #3B4455;\n",
              "        fill: #D2E3FC;\n",
              "      }\n",
              "\n",
              "      [theme=dark] .colab-df-generate:hover {\n",
              "        background-color: #434B5C;\n",
              "        box-shadow: 0px 1px 3px 1px rgba(0, 0, 0, 0.15);\n",
              "        filter: drop-shadow(0px 1px 2px rgba(0, 0, 0, 0.3));\n",
              "        fill: #FFFFFF;\n",
              "      }\n",
              "    </style>\n",
              "    <button class=\"colab-df-generate\" onclick=\"generateWithVariable('company_ceos_df')\"\n",
              "            title=\"Generate code using this dataframe.\"\n",
              "            style=\"display:none;\">\n",
              "\n",
              "  <svg xmlns=\"http://www.w3.org/2000/svg\" height=\"24px\"viewBox=\"0 0 24 24\"\n",
              "       width=\"24px\">\n",
              "    <path d=\"M7,19H8.4L18.45,9,17,7.55,7,17.6ZM5,21V16.75L18.45,3.32a2,2,0,0,1,2.83,0l1.4,1.43a1.91,1.91,0,0,1,.58,1.4,1.91,1.91,0,0,1-.58,1.4L9.25,21ZM18.45,9,17,7.55Zm-12,3A5.31,5.31,0,0,0,4.9,8.1,5.31,5.31,0,0,0,1,6.5,5.31,5.31,0,0,0,4.9,4.9,5.31,5.31,0,0,0,6.5,1,5.31,5.31,0,0,0,8.1,4.9,5.31,5.31,0,0,0,12,6.5,5.46,5.46,0,0,0,6.5,12Z\"/>\n",
              "  </svg>\n",
              "    </button>\n",
              "    <script>\n",
              "      (() => {\n",
              "      const buttonEl =\n",
              "        document.querySelector('#id_6bb6cc68-871f-4958-8cd1-f0be33b379a8 button.colab-df-generate');\n",
              "      buttonEl.style.display =\n",
              "        google.colab.kernel.accessAllowed ? 'block' : 'none';\n",
              "\n",
              "      buttonEl.onclick = () => {\n",
              "        google.colab.notebook.generateWithVariable('company_ceos_df');\n",
              "      }\n",
              "      })();\n",
              "    </script>\n",
              "  </div>\n",
              "\n",
              "    </div>\n",
              "  </div>\n"
            ],
            "application/vnd.google.colaboratory.intrinsic+json": {
              "type": "dataframe",
              "variable_name": "company_ceos_df",
              "summary": "{\n  \"name\": \"company_ceos_df\",\n  \"rows\": 135,\n  \"fields\": [\n    {\n      \"column\": \"Company\",\n      \"properties\": {\n        \"dtype\": \"string\",\n        \"num_unique_values\": 134,\n        \"samples\": [\n          \"Walgreens Boots Alliance\",\n          \"Intel\",\n          \"Singtel\"\n        ],\n        \"semantic_type\": \"\",\n        \"description\": \"\"\n      }\n    },\n    {\n      \"column\": \"Executive\",\n      \"properties\": {\n        \"dtype\": \"string\",\n        \"num_unique_values\": 135,\n        \"samples\": [\n          \"Michael O'Leary\",\n          \"James Dimon\",\n          \"Chua Sock Koong\"\n        ],\n        \"semantic_type\": \"\",\n        \"description\": \"\"\n      }\n    },\n    {\n      \"column\": \"Title\",\n      \"properties\": {\n        \"dtype\": \"string\",\n        \"num_unique_values\": 129,\n        \"samples\": [\n          \"CEO[53]\",\n          \"CEO[40]\",\n          \"Founder and chairman[20]\"\n        ],\n        \"semantic_type\": \"\",\n        \"description\": \"\"\n      }\n    },\n    {\n      \"column\": \"Since\",\n      \"properties\": {\n        \"dtype\": \"category\",\n        \"num_unique_values\": 35,\n        \"samples\": [\n          \"2000\",\n          \"2015\",\n          \"1971\"\n        ],\n        \"semantic_type\": \"\",\n        \"description\": \"\"\n      }\n    },\n    {\n      \"column\": \"Notes\",\n      \"properties\": {\n        \"dtype\": \"string\",\n        \"num_unique_values\": 130,\n        \"samples\": [\n          \"Former director of Jive Software from 2011 to 2013\",\n          \"Third CEO of the company, after Meg Whitman and John Donahoe\",\n          \"On 1 January 2020, Henry took over as CEO of BHP from Andrew Mackenzie\"\n        ],\n        \"semantic_type\": \"\",\n        \"description\": \"\"\n      }\n    },\n    {\n      \"column\": \"Updated\",\n      \"properties\": {\n        \"dtype\": \"category\",\n        \"num_unique_values\": 34,\n        \"samples\": [\n          \"2017-11-13\",\n          \"2018-02-20\",\n          \"2024-02-27\"\n        ],\n        \"semantic_type\": \"\",\n        \"description\": \"\"\n      }\n    }\n  ]\n}"
            }
          },
          "metadata": {},
          "execution_count": 9
        }
      ]
    },
    {
      "cell_type": "markdown",
      "metadata": {
        "id": "U_ssZuLYZfkT"
      },
      "source": [
        "## The Problem Gets Harder... Extracting Structured Fields\n",
        "\n",
        "So far we have companies and CEOs.  But we don't have information on how old the CEOs are!\n",
        "\n",
        "For a solution, we're going to go back to Wikipedia -- this time looking at the web pages for the CEOs!\n",
        "\n",
        "This involves \"crawling\" the CEO pages, and \"scraping\" the relevant content.  In other words we have to do *information extraction*.\n",
        "\n",
        "We'll start by constructing a list of CEO web pages, from the Company CEO dataframe above.  For this, we need to take the names and do a bit of tweaking, for example adding underscores instead of spaces."
      ]
    },
    {
      "cell_type": "code",
      "metadata": {
        "id": "KbnYN696wmPo",
        "colab": {
          "base_uri": "https://localhost:8080/"
        },
        "outputId": "3f7cf87b-2374-4453-86c6-b5bfd54160a8"
      },
      "source": [
        "crawl_list = []\n",
        "\n",
        "for executive in company_ceos_df['Executive']:\n",
        "  crawl_list.append('https://en.wikipedia.org/wiki/' + executive.replace(' ', '_'))\n",
        "\n",
        "crawl_list"
      ],
      "execution_count": 10,
      "outputs": [
        {
          "output_type": "execute_result",
          "data": {
            "text/plain": [
              "['https://en.wikipedia.org/wiki/Julie_Sweet',\n",
              " 'https://en.wikipedia.org/wiki/Kumar_Mangalam_Birla',\n",
              " 'https://en.wikipedia.org/wiki/Shantanu_Narayen',\n",
              " 'https://en.wikipedia.org/wiki/Guillaume_Faury',\n",
              " 'https://en.wikipedia.org/wiki/Eddie_Wu',\n",
              " 'https://en.wikipedia.org/wiki/Andy_Jassy',\n",
              " 'https://en.wikipedia.org/wiki/Lisa_Su',\n",
              " 'https://en.wikipedia.org/wiki/Stephen_Squeri',\n",
              " 'https://en.wikipedia.org/wiki/Joseph_R._Swedish',\n",
              " 'https://en.wikipedia.org/wiki/Tim_Cook',\n",
              " 'https://en.wikipedia.org/wiki/Lakshmi_Niwas_Mittal',\n",
              " 'https://en.wikipedia.org/wiki/John_Stankey',\n",
              " 'https://en.wikipedia.org/wiki/Charles_Woodburn',\n",
              " 'https://en.wikipedia.org/wiki/Tapan_Singhel',\n",
              " 'https://en.wikipedia.org/wiki/Carlos_Torres_Vila',\n",
              " 'https://en.wikipedia.org/wiki/Brian_Moynihan',\n",
              " 'https://en.wikipedia.org/wiki/C.S._Venkatakrishnan',\n",
              " 'https://en.wikipedia.org/wiki/Warren_Buffett',\n",
              " 'https://en.wikipedia.org/wiki/Hubert_Joly',\n",
              " 'https://en.wikipedia.org/wiki/Sunil_Bharti_Mittal',\n",
              " 'https://en.wikipedia.org/wiki/Stephen_A._Schwarzman',\n",
              " 'https://en.wikipedia.org/wiki/Mike_Henry',\n",
              " 'https://en.wikipedia.org/wiki/Oliver_Zipse',\n",
              " 'https://en.wikipedia.org/wiki/Dave_Calhoun',\n",
              " 'https://en.wikipedia.org/wiki/Rich_Lesser',\n",
              " 'https://en.wikipedia.org/wiki/Bob_Dudley',\n",
              " 'https://en.wikipedia.org/wiki/Hock_Tan',\n",
              " 'https://en.wikipedia.org/wiki/Denise_Morrison',\n",
              " 'https://en.wikipedia.org/wiki/Mark_Shuttleworth',\n",
              " 'https://en.wikipedia.org/wiki/Richard_Fairbank',\n",
              " 'https://en.wikipedia.org/wiki/Jim_Umpleby',\n",
              " 'https://en.wikipedia.org/wiki/Evan_Greenberg',\n",
              " 'https://en.wikipedia.org/wiki/Chuck_Robbins',\n",
              " 'https://en.wikipedia.org/wiki/Jane_Fraser',\n",
              " 'https://en.wikipedia.org/wiki/James_Quincey',\n",
              " 'https://en.wikipedia.org/wiki/Brian_L._Roberts',\n",
              " 'https://en.wikipedia.org/wiki/Thomas_Gottstein',\n",
              " 'https://en.wikipedia.org/wiki/Ola_Källenius',\n",
              " 'https://en.wikipedia.org/wiki/Michael_Dell',\n",
              " 'https://en.wikipedia.org/wiki/Ed_Bastian',\n",
              " 'https://en.wikipedia.org/wiki/Christian_Sewing',\n",
              " 'https://en.wikipedia.org/wiki/Tobias_Meyer',\n",
              " 'https://en.wikipedia.org/wiki/Edward_D._Breen',\n",
              " 'https://en.wikipedia.org/wiki/Devin_Wenig',\n",
              " 'https://en.wikipedia.org/wiki/Börje_Ekholm',\n",
              " 'https://en.wikipedia.org/wiki/Darren_Woods',\n",
              " 'https://en.wikipedia.org/wiki/Carmine_Di_Sibio',\n",
              " 'https://en.wikipedia.org/wiki/Mark_Zuckerberg',\n",
              " 'https://en.wikipedia.org/wiki/Frederick_W._Smith',\n",
              " 'https://en.wikipedia.org/wiki/Sergio_Marchionne',\n",
              " 'https://en.wikipedia.org/wiki/Abigail_Johnson',\n",
              " 'https://en.wikipedia.org/wiki/James_Hackett',\n",
              " 'https://en.wikipedia.org/wiki/Terry_Gou',\n",
              " 'https://en.wikipedia.org/wiki/Lachlan_Murdoch',\n",
              " 'https://en.wikipedia.org/wiki/Phebe_Novakovic',\n",
              " 'https://en.wikipedia.org/wiki/H._Lawrence_Culp_Jr.',\n",
              " 'https://en.wikipedia.org/wiki/Mary_T._Barra',\n",
              " 'https://en.wikipedia.org/wiki/Emma_Walmsley',\n",
              " 'https://en.wikipedia.org/wiki/David_M._Solomon',\n",
              " 'https://en.wikipedia.org/wiki/Sundar_Pichai',\n",
              " 'https://en.wikipedia.org/wiki/C_Vijayakumar',\n",
              " 'https://en.wikipedia.org/wiki/Antonio_Neri',\n",
              " 'https://en.wikipedia.org/wiki/Darius_Adamczyk',\n",
              " 'https://en.wikipedia.org/wiki/Noel_Quinn',\n",
              " 'https://en.wikipedia.org/wiki/Arvind_Krishna',\n",
              " 'https://en.wikipedia.org/wiki/Salil_Parekh',\n",
              " 'https://en.wikipedia.org/wiki/Pat_Gelsinger',\n",
              " 'https://en.wikipedia.org/wiki/James_Dimon',\n",
              " 'https://en.wikipedia.org/wiki/Pieter_Elbers',\n",
              " 'https://en.wikipedia.org/wiki/Charles_G._Koch',\n",
              " 'https://en.wikipedia.org/wiki/Marillyn_Hewson',\n",
              " 'https://en.wikipedia.org/wiki/Steve_Rowe',\n",
              " 'https://en.wikipedia.org/wiki/Chris_Kempczinski',\n",
              " 'https://en.wikipedia.org/wiki/Bob_Sternfels',\n",
              " 'https://en.wikipedia.org/wiki/Steven_A._Kandarian',\n",
              " 'https://en.wikipedia.org/wiki/Isaac_Larian',\n",
              " 'https://en.wikipedia.org/wiki/Satya_Nadella',\n",
              " 'https://en.wikipedia.org/wiki/James_P._Gorman',\n",
              " 'https://en.wikipedia.org/wiki/Jeff_Shell',\n",
              " 'https://en.wikipedia.org/wiki/Robert_James_Thomson',\n",
              " 'https://en.wikipedia.org/wiki/Mark_Thompson',\n",
              " 'https://en.wikipedia.org/wiki/Mark_Parker',\n",
              " 'https://en.wikipedia.org/wiki/Pekka_Lundmark',\n",
              " 'https://en.wikipedia.org/wiki/Vasant_Narasimhan',\n",
              " 'https://en.wikipedia.org/wiki/Tatsumi_Kimishima',\n",
              " 'https://en.wikipedia.org/wiki/Safra_Catz',\n",
              " 'https://en.wikipedia.org/wiki/Mark_Hurd',\n",
              " 'https://en.wikipedia.org/wiki/Ramon_Laguarta',\n",
              " 'https://en.wikipedia.org/wiki/Albert_Bourla',\n",
              " 'https://en.wikipedia.org/wiki/David_S._Taylor',\n",
              " 'https://en.wikipedia.org/wiki/John_Strangfeld',\n",
              " 'https://en.wikipedia.org/wiki/Alan_Joyce',\n",
              " 'https://en.wikipedia.org/wiki/Anil_Ambani',\n",
              " 'https://en.wikipedia.org/wiki/Mukesh_Ambani',\n",
              " 'https://en.wikipedia.org/wiki/Luca_de_Meo',\n",
              " 'https://en.wikipedia.org/wiki/David_I._McKay',\n",
              " 'https://en.wikipedia.org/wiki/Ross_McEwan',\n",
              " 'https://en.wikipedia.org/wiki/Ben_van_Beurden',\n",
              " \"https://en.wikipedia.org/wiki/Michael_O'Leary\",\n",
              " 'https://en.wikipedia.org/wiki/Douglas_L._Peterson',\n",
              " 'https://en.wikipedia.org/wiki/Oh-Hyun_Kwon',\n",
              " 'https://en.wikipedia.org/wiki/Christian_Klein',\n",
              " 'https://en.wikipedia.org/wiki/Herbert_Fisk_Johnson_III',\n",
              " 'https://en.wikipedia.org/wiki/Jean-Pascal_Tricoire',\n",
              " 'https://en.wikipedia.org/wiki/Peter_Harrison',\n",
              " 'https://en.wikipedia.org/wiki/Chua_Sock_Koong',\n",
              " 'https://en.wikipedia.org/wiki/Masayoshi_Son',\n",
              " 'https://en.wikipedia.org/wiki/Tony_Aquila',\n",
              " 'https://en.wikipedia.org/wiki/Robert_E._Jordan',\n",
              " 'https://en.wikipedia.org/wiki/J._Clifford_Hudson',\n",
              " 'https://en.wikipedia.org/wiki/Laxman_Narasimhan',\n",
              " 'https://en.wikipedia.org/wiki/Raymond_Kwok',\n",
              " 'https://en.wikipedia.org/wiki/William_H._Rogers_Jr.',\n",
              " 'https://en.wikipedia.org/wiki/Brian_Cornell',\n",
              " 'https://en.wikipedia.org/wiki/Rajesh_Gopinathan',\n",
              " 'https://en.wikipedia.org/wiki/Li_Dongsheng',\n",
              " 'https://en.wikipedia.org/wiki/Andy_Penn',\n",
              " 'https://en.wikipedia.org/wiki/Dave_Lewis',\n",
              " 'https://en.wikipedia.org/wiki/Elon_Musk',\n",
              " 'https://en.wikipedia.org/wiki/Alan_D._Schnitzer',\n",
              " 'https://en.wikipedia.org/wiki/Akio_Toyoda',\n",
              " 'https://en.wikipedia.org/wiki/Scott_Kirby',\n",
              " 'https://en.wikipedia.org/wiki/Ralph_Hamers',\n",
              " 'https://en.wikipedia.org/wiki/Hans_Vestberg',\n",
              " 'https://en.wikipedia.org/wiki/Robert_Bakish',\n",
              " 'https://en.wikipedia.org/wiki/Vittorio_Colao',\n",
              " 'https://en.wikipedia.org/wiki/Herbert_Diess',\n",
              " 'https://en.wikipedia.org/wiki/Robert_Iger',\n",
              " 'https://en.wikipedia.org/wiki/Stefano_Pessina',\n",
              " 'https://en.wikipedia.org/wiki/Doug_McMillon',\n",
              " 'https://en.wikipedia.org/wiki/Ann_Sarnoff',\n",
              " 'https://en.wikipedia.org/wiki/Jason_Kilar',\n",
              " 'https://en.wikipedia.org/wiki/Charles_Scharf',\n",
              " 'https://en.wikipedia.org/wiki/John_Mackey',\n",
              " 'https://en.wikipedia.org/wiki/Rich_Barton']"
            ]
          },
          "metadata": {},
          "execution_count": 10
        }
      ]
    },
    {
      "cell_type": "code",
      "metadata": {
        "id": "Zc3jtg5UAcHB",
        "colab": {
          "base_uri": "https://localhost:8080/"
        },
        "outputId": "2227434f-f413-4fd6-f6ac-5fb2256e314a",
        "collapsed": true
      },
      "source": [
        "# Use urllib.urlopen to crawl all pages in crawl_list, and store the response of the page\n",
        "# in list pages\n",
        "\n",
        "pages = []\n",
        "\n",
        "for url in crawl_list:\n",
        "    page = url.split(\"/\")[-1] #extract the person name at the end of the url\n",
        "    print('Looking at file %s' % page)\n",
        "\n",
        "    # An issue: some of the accent characters won't work.  We need to convert them\n",
        "    # into an HTML URL.  We'll split the URL, then use \"parse.quote\" to change\n",
        "    # the structure, then re-form the URL\n",
        "    url_list = list(urllib.parse.urlsplit(url))\n",
        "    url_list[2] = urllib.parse.quote(url_list[2])\n",
        "    url_ascii = urllib.parse.urlunsplit(url_list)\n",
        "    try:\n",
        "      response = urllib.request.urlopen((url_ascii))\n",
        "      #Save page and url for later use.\n",
        "      pages.append(response)\n",
        "    except urllib.error.URLError as e:\n",
        "      print(e.reason)\n"
      ],
      "execution_count": 38,
      "outputs": [
        {
          "output_type": "stream",
          "name": "stdout",
          "text": [
            "Looking at file Julie_Sweet\n",
            "Looking at file Kumar_Mangalam_Birla\n",
            "Looking at file Shantanu_Narayen\n",
            "Looking at file Guillaume_Faury\n",
            "Looking at file Eddie_Wu\n",
            "Looking at file Andy_Jassy\n",
            "Looking at file Lisa_Su\n",
            "Looking at file Stephen_Squeri\n",
            "Looking at file Joseph_R._Swedish\n",
            "Looking at file Tim_Cook\n",
            "Looking at file Lakshmi_Niwas_Mittal\n",
            "Looking at file John_Stankey\n",
            "Looking at file Charles_Woodburn\n",
            "Looking at file Tapan_Singhel\n",
            "Looking at file Carlos_Torres_Vila\n",
            "Looking at file Brian_Moynihan\n",
            "Looking at file C.S._Venkatakrishnan\n",
            "Looking at file Warren_Buffett\n",
            "Looking at file Hubert_Joly\n",
            "Looking at file Sunil_Bharti_Mittal\n",
            "Looking at file Stephen_A._Schwarzman\n",
            "Looking at file Mike_Henry\n",
            "Looking at file Oliver_Zipse\n",
            "Looking at file Dave_Calhoun\n",
            "Looking at file Rich_Lesser\n",
            "Looking at file Bob_Dudley\n",
            "Looking at file Hock_Tan\n",
            "Looking at file Denise_Morrison\n",
            "Looking at file Mark_Shuttleworth\n",
            "Looking at file Richard_Fairbank\n",
            "Looking at file Jim_Umpleby\n",
            "Looking at file Evan_Greenberg\n",
            "Looking at file Chuck_Robbins\n",
            "Looking at file Jane_Fraser\n",
            "Looking at file James_Quincey\n",
            "Looking at file Brian_L._Roberts\n",
            "Looking at file Thomas_Gottstein\n",
            "Looking at file Ola_Källenius\n",
            "Looking at file Michael_Dell\n",
            "Looking at file Ed_Bastian\n",
            "Looking at file Christian_Sewing\n",
            "Looking at file Tobias_Meyer\n",
            "Looking at file Edward_D._Breen\n",
            "Looking at file Devin_Wenig\n",
            "Looking at file Börje_Ekholm\n",
            "Looking at file Darren_Woods\n",
            "Looking at file Carmine_Di_Sibio\n",
            "Looking at file Mark_Zuckerberg\n",
            "Looking at file Frederick_W._Smith\n",
            "Looking at file Sergio_Marchionne\n",
            "Looking at file Abigail_Johnson\n",
            "Looking at file James_Hackett\n",
            "Looking at file Terry_Gou\n",
            "Looking at file Lachlan_Murdoch\n",
            "Looking at file Phebe_Novakovic\n",
            "Looking at file H._Lawrence_Culp_Jr.\n",
            "Looking at file Mary_T._Barra\n",
            "Looking at file Emma_Walmsley\n",
            "Looking at file David_M._Solomon\n",
            "Looking at file Sundar_Pichai\n",
            "Looking at file C_Vijayakumar\n",
            "Looking at file Antonio_Neri\n",
            "Looking at file Darius_Adamczyk\n",
            "Looking at file Noel_Quinn\n",
            "Looking at file Arvind_Krishna\n",
            "Looking at file Salil_Parekh\n",
            "Looking at file Pat_Gelsinger\n",
            "Looking at file James_Dimon\n",
            "Looking at file Pieter_Elbers\n",
            "Looking at file Charles_G._Koch\n",
            "Looking at file Marillyn_Hewson\n",
            "Looking at file Steve_Rowe\n",
            "Looking at file Chris_Kempczinski\n",
            "Looking at file Bob_Sternfels\n",
            "Looking at file Steven_A._Kandarian\n",
            "Looking at file Isaac_Larian\n",
            "Looking at file Satya_Nadella\n",
            "Looking at file James_P._Gorman\n",
            "Looking at file Jeff_Shell\n",
            "Looking at file Robert_James_Thomson\n",
            "Looking at file Mark_Thompson\n",
            "Looking at file Mark_Parker\n",
            "Looking at file Pekka_Lundmark\n",
            "Looking at file Vasant_Narasimhan\n",
            "Looking at file Tatsumi_Kimishima\n",
            "Looking at file Safra_Catz\n",
            "Looking at file Mark_Hurd\n",
            "Looking at file Ramon_Laguarta\n",
            "Looking at file Albert_Bourla\n",
            "Looking at file David_S._Taylor\n",
            "Looking at file John_Strangfeld\n",
            "Looking at file Alan_Joyce\n",
            "Looking at file Anil_Ambani\n",
            "Looking at file Mukesh_Ambani\n",
            "Looking at file Luca_de_Meo\n",
            "Looking at file David_I._McKay\n",
            "Looking at file Ross_McEwan\n",
            "Looking at file Ben_van_Beurden\n",
            "Looking at file Michael_O'Leary\n",
            "Looking at file Douglas_L._Peterson\n",
            "Looking at file Oh-Hyun_Kwon\n",
            "Looking at file Christian_Klein\n",
            "Looking at file Herbert_Fisk_Johnson_III\n",
            "Looking at file Jean-Pascal_Tricoire\n",
            "Looking at file Peter_Harrison\n",
            "Looking at file Chua_Sock_Koong\n",
            "Looking at file Masayoshi_Son\n",
            "Looking at file Tony_Aquila\n",
            "Looking at file Robert_E._Jordan\n",
            "Looking at file J._Clifford_Hudson\n",
            "Looking at file Laxman_Narasimhan\n",
            "Looking at file Raymond_Kwok\n",
            "Looking at file William_H._Rogers_Jr.\n",
            "Looking at file Brian_Cornell\n",
            "Looking at file Rajesh_Gopinathan\n",
            "Looking at file Li_Dongsheng\n",
            "Looking at file Andy_Penn\n",
            "Looking at file Dave_Lewis\n",
            "Looking at file Elon_Musk\n",
            "Looking at file Alan_D._Schnitzer\n",
            "Looking at file Akio_Toyoda\n",
            "Looking at file Scott_Kirby\n",
            "Looking at file Ralph_Hamers\n",
            "Looking at file Hans_Vestberg\n",
            "Looking at file Robert_Bakish\n",
            "Looking at file Vittorio_Colao\n",
            "Looking at file Herbert_Diess\n",
            "Looking at file Robert_Iger\n",
            "Looking at file Stefano_Pessina\n",
            "Looking at file Doug_McMillon\n",
            "Looking at file Ann_Sarnoff\n",
            "Looking at file Jason_Kilar\n",
            "Looking at file Charles_Scharf\n",
            "Looking at file John_Mackey\n",
            "Looking at file Rich_Barton\n"
          ]
        }
      ]
    },
    {
      "cell_type": "markdown",
      "metadata": {
        "id": "VUlaNKlqZwHo"
      },
      "source": [
        "## Populating the Table with Executives"
      ]
    },
    {
      "cell_type": "code",
      "metadata": {
        "id": "lz0zHTxdw92L",
        "colab": {
          "base_uri": "https://localhost:8080/",
          "height": 424
        },
        "outputId": "9f4703f3-c6a8-4c77-fd98-385a2012ed95"
      },
      "source": [
        "# Use lxml.etree.HTML(...) on the HTML content of each page to get a DOM tree that\n",
        "# can be processed via XPath to extract the bday information.  Store the CEO name,\n",
        "# webpage, and the birthdate (born) in exec_df.\n",
        "\n",
        "# We first check that the HTML content has a table of type `vcard`,\n",
        "# and then extract the `bday` information.  If there is no birthdate, the datetime\n",
        "# value is NaT (not a type).\n",
        "\n",
        "from lxml import etree\n",
        "\n",
        "rows = []\n",
        "for page in pages:\n",
        "  url = page.geturl()\n",
        "  content = page.read().decode(\"utf-8\")\n",
        "  tree = etree.HTML(content)  #create a DOM tree of the page\n",
        "  bday = tree.xpath('//table[contains(@class,\"vcard\")]//span[@class=\"bday\"]/text()')\n",
        "  if len(bday) > 0:\n",
        "      name = url[url.rfind('/')+1:] # The part of the URL after the last /\n",
        "      rows.append({'name': name, 'page': url,\n",
        "                  'born': datetime.datetime.strptime(bday[0], '%Y-%m-%d')})\n",
        "  else:\n",
        "      rows.append({'name': url[url.rfind('/')+1:], 'page': url\n",
        "                                    , 'born': np.datetime64('NaT')})\n",
        "\n",
        "exec_df = pd.DataFrame(rows)\n",
        "exec_df"
      ],
      "execution_count": 39,
      "outputs": [
        {
          "output_type": "execute_result",
          "data": {
            "text/plain": [
              "                     name                                                page  \\\n",
              "0             Julie_Sweet           https://en.wikipedia.org/wiki/Julie_Sweet   \n",
              "1    Kumar_Mangalam_Birla  https://en.wikipedia.org/wiki/Kumar_Mangalam_Birla   \n",
              "2        Shantanu_Narayen      https://en.wikipedia.org/wiki/Shantanu_Narayen   \n",
              "3         Guillaume_Faury       https://en.wikipedia.org/wiki/Guillaume_Faury   \n",
              "4                Eddie_Wu              https://en.wikipedia.org/wiki/Eddie_Wu   \n",
              "..                    ...                                                 ...   \n",
              "130           Ann_Sarnoff           https://en.wikipedia.org/wiki/Ann_Sarnoff   \n",
              "131           Jason_Kilar           https://en.wikipedia.org/wiki/Jason_Kilar   \n",
              "132        Charles_Scharf        https://en.wikipedia.org/wiki/Charles_Scharf   \n",
              "133           John_Mackey           https://en.wikipedia.org/wiki/John_Mackey   \n",
              "134           Rich_Barton           https://en.wikipedia.org/wiki/Rich_Barton   \n",
              "\n",
              "                    born  \n",
              "0                    NaT  \n",
              "1    1967-06-14 00:00:00  \n",
              "2    1963-05-27 00:00:00  \n",
              "3    1968-02-22 00:00:00  \n",
              "4                    NaT  \n",
              "..                   ...  \n",
              "130                  NaT  \n",
              "131  1971-04-26 00:00:00  \n",
              "132  1965-04-24 00:00:00  \n",
              "133                  NaT  \n",
              "134                  NaT  \n",
              "\n",
              "[135 rows x 3 columns]"
            ],
            "text/html": [
              "\n",
              "  <div id=\"df-f160ce74-0f17-4ccc-a2e6-5028bd036e97\" class=\"colab-df-container\">\n",
              "    <div>\n",
              "<style scoped>\n",
              "    .dataframe tbody tr th:only-of-type {\n",
              "        vertical-align: middle;\n",
              "    }\n",
              "\n",
              "    .dataframe tbody tr th {\n",
              "        vertical-align: top;\n",
              "    }\n",
              "\n",
              "    .dataframe thead th {\n",
              "        text-align: right;\n",
              "    }\n",
              "</style>\n",
              "<table border=\"1\" class=\"dataframe\">\n",
              "  <thead>\n",
              "    <tr style=\"text-align: right;\">\n",
              "      <th></th>\n",
              "      <th>name</th>\n",
              "      <th>page</th>\n",
              "      <th>born</th>\n",
              "    </tr>\n",
              "  </thead>\n",
              "  <tbody>\n",
              "    <tr>\n",
              "      <th>0</th>\n",
              "      <td>Julie_Sweet</td>\n",
              "      <td>https://en.wikipedia.org/wiki/Julie_Sweet</td>\n",
              "      <td>NaT</td>\n",
              "    </tr>\n",
              "    <tr>\n",
              "      <th>1</th>\n",
              "      <td>Kumar_Mangalam_Birla</td>\n",
              "      <td>https://en.wikipedia.org/wiki/Kumar_Mangalam_Birla</td>\n",
              "      <td>1967-06-14 00:00:00</td>\n",
              "    </tr>\n",
              "    <tr>\n",
              "      <th>2</th>\n",
              "      <td>Shantanu_Narayen</td>\n",
              "      <td>https://en.wikipedia.org/wiki/Shantanu_Narayen</td>\n",
              "      <td>1963-05-27 00:00:00</td>\n",
              "    </tr>\n",
              "    <tr>\n",
              "      <th>3</th>\n",
              "      <td>Guillaume_Faury</td>\n",
              "      <td>https://en.wikipedia.org/wiki/Guillaume_Faury</td>\n",
              "      <td>1968-02-22 00:00:00</td>\n",
              "    </tr>\n",
              "    <tr>\n",
              "      <th>4</th>\n",
              "      <td>Eddie_Wu</td>\n",
              "      <td>https://en.wikipedia.org/wiki/Eddie_Wu</td>\n",
              "      <td>NaT</td>\n",
              "    </tr>\n",
              "    <tr>\n",
              "      <th>...</th>\n",
              "      <td>...</td>\n",
              "      <td>...</td>\n",
              "      <td>...</td>\n",
              "    </tr>\n",
              "    <tr>\n",
              "      <th>130</th>\n",
              "      <td>Ann_Sarnoff</td>\n",
              "      <td>https://en.wikipedia.org/wiki/Ann_Sarnoff</td>\n",
              "      <td>NaT</td>\n",
              "    </tr>\n",
              "    <tr>\n",
              "      <th>131</th>\n",
              "      <td>Jason_Kilar</td>\n",
              "      <td>https://en.wikipedia.org/wiki/Jason_Kilar</td>\n",
              "      <td>1971-04-26 00:00:00</td>\n",
              "    </tr>\n",
              "    <tr>\n",
              "      <th>132</th>\n",
              "      <td>Charles_Scharf</td>\n",
              "      <td>https://en.wikipedia.org/wiki/Charles_Scharf</td>\n",
              "      <td>1965-04-24 00:00:00</td>\n",
              "    </tr>\n",
              "    <tr>\n",
              "      <th>133</th>\n",
              "      <td>John_Mackey</td>\n",
              "      <td>https://en.wikipedia.org/wiki/John_Mackey</td>\n",
              "      <td>NaT</td>\n",
              "    </tr>\n",
              "    <tr>\n",
              "      <th>134</th>\n",
              "      <td>Rich_Barton</td>\n",
              "      <td>https://en.wikipedia.org/wiki/Rich_Barton</td>\n",
              "      <td>NaT</td>\n",
              "    </tr>\n",
              "  </tbody>\n",
              "</table>\n",
              "<p>135 rows × 3 columns</p>\n",
              "</div>\n",
              "    <div class=\"colab-df-buttons\">\n",
              "\n",
              "  <div class=\"colab-df-container\">\n",
              "    <button class=\"colab-df-convert\" onclick=\"convertToInteractive('df-f160ce74-0f17-4ccc-a2e6-5028bd036e97')\"\n",
              "            title=\"Convert this dataframe to an interactive table.\"\n",
              "            style=\"display:none;\">\n",
              "\n",
              "  <svg xmlns=\"http://www.w3.org/2000/svg\" height=\"24px\" viewBox=\"0 -960 960 960\">\n",
              "    <path d=\"M120-120v-720h720v720H120Zm60-500h600v-160H180v160Zm220 220h160v-160H400v160Zm0 220h160v-160H400v160ZM180-400h160v-160H180v160Zm440 0h160v-160H620v160ZM180-180h160v-160H180v160Zm440 0h160v-160H620v160Z\"/>\n",
              "  </svg>\n",
              "    </button>\n",
              "\n",
              "  <style>\n",
              "    .colab-df-container {\n",
              "      display:flex;\n",
              "      gap: 12px;\n",
              "    }\n",
              "\n",
              "    .colab-df-convert {\n",
              "      background-color: #E8F0FE;\n",
              "      border: none;\n",
              "      border-radius: 50%;\n",
              "      cursor: pointer;\n",
              "      display: none;\n",
              "      fill: #1967D2;\n",
              "      height: 32px;\n",
              "      padding: 0 0 0 0;\n",
              "      width: 32px;\n",
              "    }\n",
              "\n",
              "    .colab-df-convert:hover {\n",
              "      background-color: #E2EBFA;\n",
              "      box-shadow: 0px 1px 2px rgba(60, 64, 67, 0.3), 0px 1px 3px 1px rgba(60, 64, 67, 0.15);\n",
              "      fill: #174EA6;\n",
              "    }\n",
              "\n",
              "    .colab-df-buttons div {\n",
              "      margin-bottom: 4px;\n",
              "    }\n",
              "\n",
              "    [theme=dark] .colab-df-convert {\n",
              "      background-color: #3B4455;\n",
              "      fill: #D2E3FC;\n",
              "    }\n",
              "\n",
              "    [theme=dark] .colab-df-convert:hover {\n",
              "      background-color: #434B5C;\n",
              "      box-shadow: 0px 1px 3px 1px rgba(0, 0, 0, 0.15);\n",
              "      filter: drop-shadow(0px 1px 2px rgba(0, 0, 0, 0.3));\n",
              "      fill: #FFFFFF;\n",
              "    }\n",
              "  </style>\n",
              "\n",
              "    <script>\n",
              "      const buttonEl =\n",
              "        document.querySelector('#df-f160ce74-0f17-4ccc-a2e6-5028bd036e97 button.colab-df-convert');\n",
              "      buttonEl.style.display =\n",
              "        google.colab.kernel.accessAllowed ? 'block' : 'none';\n",
              "\n",
              "      async function convertToInteractive(key) {\n",
              "        const element = document.querySelector('#df-f160ce74-0f17-4ccc-a2e6-5028bd036e97');\n",
              "        const dataTable =\n",
              "          await google.colab.kernel.invokeFunction('convertToInteractive',\n",
              "                                                    [key], {});\n",
              "        if (!dataTable) return;\n",
              "\n",
              "        const docLinkHtml = 'Like what you see? Visit the ' +\n",
              "          '<a target=\"_blank\" href=https://colab.research.google.com/notebooks/data_table.ipynb>data table notebook</a>'\n",
              "          + ' to learn more about interactive tables.';\n",
              "        element.innerHTML = '';\n",
              "        dataTable['output_type'] = 'display_data';\n",
              "        await google.colab.output.renderOutput(dataTable, element);\n",
              "        const docLink = document.createElement('div');\n",
              "        docLink.innerHTML = docLinkHtml;\n",
              "        element.appendChild(docLink);\n",
              "      }\n",
              "    </script>\n",
              "  </div>\n",
              "\n",
              "\n",
              "<div id=\"df-390d10c5-a6b8-49c4-a405-873ab9641330\">\n",
              "  <button class=\"colab-df-quickchart\" onclick=\"quickchart('df-390d10c5-a6b8-49c4-a405-873ab9641330')\"\n",
              "            title=\"Suggest charts\"\n",
              "            style=\"display:none;\">\n",
              "\n",
              "<svg xmlns=\"http://www.w3.org/2000/svg\" height=\"24px\"viewBox=\"0 0 24 24\"\n",
              "     width=\"24px\">\n",
              "    <g>\n",
              "        <path d=\"M19 3H5c-1.1 0-2 .9-2 2v14c0 1.1.9 2 2 2h14c1.1 0 2-.9 2-2V5c0-1.1-.9-2-2-2zM9 17H7v-7h2v7zm4 0h-2V7h2v10zm4 0h-2v-4h2v4z\"/>\n",
              "    </g>\n",
              "</svg>\n",
              "  </button>\n",
              "\n",
              "<style>\n",
              "  .colab-df-quickchart {\n",
              "      --bg-color: #E8F0FE;\n",
              "      --fill-color: #1967D2;\n",
              "      --hover-bg-color: #E2EBFA;\n",
              "      --hover-fill-color: #174EA6;\n",
              "      --disabled-fill-color: #AAA;\n",
              "      --disabled-bg-color: #DDD;\n",
              "  }\n",
              "\n",
              "  [theme=dark] .colab-df-quickchart {\n",
              "      --bg-color: #3B4455;\n",
              "      --fill-color: #D2E3FC;\n",
              "      --hover-bg-color: #434B5C;\n",
              "      --hover-fill-color: #FFFFFF;\n",
              "      --disabled-bg-color: #3B4455;\n",
              "      --disabled-fill-color: #666;\n",
              "  }\n",
              "\n",
              "  .colab-df-quickchart {\n",
              "    background-color: var(--bg-color);\n",
              "    border: none;\n",
              "    border-radius: 50%;\n",
              "    cursor: pointer;\n",
              "    display: none;\n",
              "    fill: var(--fill-color);\n",
              "    height: 32px;\n",
              "    padding: 0;\n",
              "    width: 32px;\n",
              "  }\n",
              "\n",
              "  .colab-df-quickchart:hover {\n",
              "    background-color: var(--hover-bg-color);\n",
              "    box-shadow: 0 1px 2px rgba(60, 64, 67, 0.3), 0 1px 3px 1px rgba(60, 64, 67, 0.15);\n",
              "    fill: var(--button-hover-fill-color);\n",
              "  }\n",
              "\n",
              "  .colab-df-quickchart-complete:disabled,\n",
              "  .colab-df-quickchart-complete:disabled:hover {\n",
              "    background-color: var(--disabled-bg-color);\n",
              "    fill: var(--disabled-fill-color);\n",
              "    box-shadow: none;\n",
              "  }\n",
              "\n",
              "  .colab-df-spinner {\n",
              "    border: 2px solid var(--fill-color);\n",
              "    border-color: transparent;\n",
              "    border-bottom-color: var(--fill-color);\n",
              "    animation:\n",
              "      spin 1s steps(1) infinite;\n",
              "  }\n",
              "\n",
              "  @keyframes spin {\n",
              "    0% {\n",
              "      border-color: transparent;\n",
              "      border-bottom-color: var(--fill-color);\n",
              "      border-left-color: var(--fill-color);\n",
              "    }\n",
              "    20% {\n",
              "      border-color: transparent;\n",
              "      border-left-color: var(--fill-color);\n",
              "      border-top-color: var(--fill-color);\n",
              "    }\n",
              "    30% {\n",
              "      border-color: transparent;\n",
              "      border-left-color: var(--fill-color);\n",
              "      border-top-color: var(--fill-color);\n",
              "      border-right-color: var(--fill-color);\n",
              "    }\n",
              "    40% {\n",
              "      border-color: transparent;\n",
              "      border-right-color: var(--fill-color);\n",
              "      border-top-color: var(--fill-color);\n",
              "    }\n",
              "    60% {\n",
              "      border-color: transparent;\n",
              "      border-right-color: var(--fill-color);\n",
              "    }\n",
              "    80% {\n",
              "      border-color: transparent;\n",
              "      border-right-color: var(--fill-color);\n",
              "      border-bottom-color: var(--fill-color);\n",
              "    }\n",
              "    90% {\n",
              "      border-color: transparent;\n",
              "      border-bottom-color: var(--fill-color);\n",
              "    }\n",
              "  }\n",
              "</style>\n",
              "\n",
              "  <script>\n",
              "    async function quickchart(key) {\n",
              "      const quickchartButtonEl =\n",
              "        document.querySelector('#' + key + ' button');\n",
              "      quickchartButtonEl.disabled = true;  // To prevent multiple clicks.\n",
              "      quickchartButtonEl.classList.add('colab-df-spinner');\n",
              "      try {\n",
              "        const charts = await google.colab.kernel.invokeFunction(\n",
              "            'suggestCharts', [key], {});\n",
              "      } catch (error) {\n",
              "        console.error('Error during call to suggestCharts:', error);\n",
              "      }\n",
              "      quickchartButtonEl.classList.remove('colab-df-spinner');\n",
              "      quickchartButtonEl.classList.add('colab-df-quickchart-complete');\n",
              "    }\n",
              "    (() => {\n",
              "      let quickchartButtonEl =\n",
              "        document.querySelector('#df-390d10c5-a6b8-49c4-a405-873ab9641330 button');\n",
              "      quickchartButtonEl.style.display =\n",
              "        google.colab.kernel.accessAllowed ? 'block' : 'none';\n",
              "    })();\n",
              "  </script>\n",
              "</div>\n",
              "\n",
              "  <div id=\"id_c43c695f-2e09-40a3-b94c-24023729ab8a\">\n",
              "    <style>\n",
              "      .colab-df-generate {\n",
              "        background-color: #E8F0FE;\n",
              "        border: none;\n",
              "        border-radius: 50%;\n",
              "        cursor: pointer;\n",
              "        display: none;\n",
              "        fill: #1967D2;\n",
              "        height: 32px;\n",
              "        padding: 0 0 0 0;\n",
              "        width: 32px;\n",
              "      }\n",
              "\n",
              "      .colab-df-generate:hover {\n",
              "        background-color: #E2EBFA;\n",
              "        box-shadow: 0px 1px 2px rgba(60, 64, 67, 0.3), 0px 1px 3px 1px rgba(60, 64, 67, 0.15);\n",
              "        fill: #174EA6;\n",
              "      }\n",
              "\n",
              "      [theme=dark] .colab-df-generate {\n",
              "        background-color: #3B4455;\n",
              "        fill: #D2E3FC;\n",
              "      }\n",
              "\n",
              "      [theme=dark] .colab-df-generate:hover {\n",
              "        background-color: #434B5C;\n",
              "        box-shadow: 0px 1px 3px 1px rgba(0, 0, 0, 0.15);\n",
              "        filter: drop-shadow(0px 1px 2px rgba(0, 0, 0, 0.3));\n",
              "        fill: #FFFFFF;\n",
              "      }\n",
              "    </style>\n",
              "    <button class=\"colab-df-generate\" onclick=\"generateWithVariable('exec_df')\"\n",
              "            title=\"Generate code using this dataframe.\"\n",
              "            style=\"display:none;\">\n",
              "\n",
              "  <svg xmlns=\"http://www.w3.org/2000/svg\" height=\"24px\"viewBox=\"0 0 24 24\"\n",
              "       width=\"24px\">\n",
              "    <path d=\"M7,19H8.4L18.45,9,17,7.55,7,17.6ZM5,21V16.75L18.45,3.32a2,2,0,0,1,2.83,0l1.4,1.43a1.91,1.91,0,0,1,.58,1.4,1.91,1.91,0,0,1-.58,1.4L9.25,21ZM18.45,9,17,7.55Zm-12,3A5.31,5.31,0,0,0,4.9,8.1,5.31,5.31,0,0,0,1,6.5,5.31,5.31,0,0,0,4.9,4.9,5.31,5.31,0,0,0,6.5,1,5.31,5.31,0,0,0,8.1,4.9,5.31,5.31,0,0,0,12,6.5,5.46,5.46,0,0,0,6.5,12Z\"/>\n",
              "  </svg>\n",
              "    </button>\n",
              "    <script>\n",
              "      (() => {\n",
              "      const buttonEl =\n",
              "        document.querySelector('#id_c43c695f-2e09-40a3-b94c-24023729ab8a button.colab-df-generate');\n",
              "      buttonEl.style.display =\n",
              "        google.colab.kernel.accessAllowed ? 'block' : 'none';\n",
              "\n",
              "      buttonEl.onclick = () => {\n",
              "        google.colab.notebook.generateWithVariable('exec_df');\n",
              "      }\n",
              "      })();\n",
              "    </script>\n",
              "  </div>\n",
              "\n",
              "    </div>\n",
              "  </div>\n"
            ],
            "application/vnd.google.colaboratory.intrinsic+json": {
              "type": "dataframe",
              "variable_name": "exec_df",
              "summary": "{\n  \"name\": \"exec_df\",\n  \"rows\": 135,\n  \"fields\": [\n    {\n      \"column\": \"name\",\n      \"properties\": {\n        \"dtype\": \"string\",\n        \"num_unique_values\": 135,\n        \"samples\": [\n          \"Michael_O%27Leary\",\n          \"James_Dimon\",\n          \"Chua_Sock_Koong\"\n        ],\n        \"semantic_type\": \"\",\n        \"description\": \"\"\n      }\n    },\n    {\n      \"column\": \"page\",\n      \"properties\": {\n        \"dtype\": \"string\",\n        \"num_unique_values\": 135,\n        \"samples\": [\n          \"https://en.wikipedia.org/wiki/Michael_O%27Leary\",\n          \"https://en.wikipedia.org/wiki/James_Dimon\",\n          \"https://en.wikipedia.org/wiki/Chua_Sock_Koong\"\n        ],\n        \"semantic_type\": \"\",\n        \"description\": \"\"\n      }\n    },\n    {\n      \"column\": \"born\",\n      \"properties\": {\n        \"dtype\": \"string\",\n        \"num_unique_values\": 80,\n        \"samples\": [\n          \"1944-08-11 00:00:00\",\n          \"1967-06-14 00:00:00\",\n          \"1959-06-28 00:00:00\"\n        ],\n        \"semantic_type\": \"\",\n        \"description\": \"\"\n      }\n    }\n  ]\n}"
            }
          },
          "metadata": {},
          "execution_count": 39
        }
      ]
    },
    {
      "cell_type": "markdown",
      "metadata": {
        "id": "laSVfrfHZDrC"
      },
      "source": [
        "# Lecture Module 2: Data Transformation\n",
        "\n",
        "Looking at our data to clean via *projection*...\n",
        "\n",
        "Generally, we can extract one \"narrower\" table form another by using **double brackets**."
      ]
    },
    {
      "cell_type": "code",
      "metadata": {
        "id": "6rZQSnnMZDrC"
      },
      "source": [
        "# Let's take a look at the data.  Here's a way of PROJECTING the exec_df dataframe into\n",
        "# a smaller table\n",
        "\n",
        "exec_df[['name', 'born']]"
      ],
      "execution_count": null,
      "outputs": []
    },
    {
      "cell_type": "code",
      "metadata": {
        "id": "JAY737VoMnN1"
      },
      "source": [
        "# If I use single brackets, I can extract a single column as a Series.\n",
        "exec_df['name']"
      ],
      "execution_count": null,
      "outputs": []
    },
    {
      "cell_type": "code",
      "metadata": {
        "id": "FDrhz4vqZDrE"
      },
      "source": [
        "# Notice anything awry?\n",
        "\n",
        "for person in exec_df['name']:\n",
        "    print (person)"
      ],
      "execution_count": null,
      "outputs": []
    },
    {
      "cell_type": "code",
      "metadata": {
        "id": "cg3ywxVnNvxa"
      },
      "source": [
        "def to_space(x):\n",
        "  return x.replace('_', ' ')\n",
        "\n",
        "# Let's use *apply* to call a function over each element, returning a new Series\n",
        "exec_df['name'].apply(to_space)"
      ],
      "execution_count": null,
      "outputs": []
    },
    {
      "cell_type": "code",
      "metadata": {
        "id": "5axXYticOpZi"
      },
      "source": [
        "# Let's use *apply* to call a function over each element, returning a new Series\n",
        "exec_df['name'].apply(lambda x: x.replace('_', ' '))"
      ],
      "execution_count": null,
      "outputs": []
    },
    {
      "cell_type": "code",
      "metadata": {
        "id": "xtUoKeWjN4RG"
      },
      "source": [
        "# I can also use *apply* to call a function over the rows of a dataframe\n",
        "exec_df.apply(lambda x: x['name'].replace('_', ' '), axis=1)"
      ],
      "execution_count": null,
      "outputs": []
    },
    {
      "cell_type": "code",
      "metadata": {
        "id": "LiWISL5DZDrG"
      },
      "source": [
        "# Let's clean the name by removing underscores...\n",
        "exec_df['clean_name'] = exec_df['name'].apply(lambda x: x.replace('_', ' '))\n",
        "\n",
        "exec_df"
      ],
      "execution_count": null,
      "outputs": []
    },
    {
      "cell_type": "code",
      "metadata": {
        "id": "SnjD3tMgWgE9"
      },
      "source": [
        "exec_df.rename(columns={'name': 'old_name'})"
      ],
      "execution_count": null,
      "outputs": []
    },
    {
      "cell_type": "code",
      "metadata": {
        "id": "GSl6EtTIZDrH"
      },
      "source": [
        "# We can do the same via SQL.  For the example we'll save the dataframe first...  we'll convert\n",
        "# types to string first to avoid errors.\n",
        "\n",
        "temp_df= exec_df.applymap(str)\n",
        "temp_df.to_sql('temp_exec', conn, if_exists=\"replace\")\n",
        "\n",
        "pd.read_sql_query('select name, replace(name, \"_\", \" \") as clean_name from temp_exec', conn)"
      ],
      "execution_count": null,
      "outputs": []
    },
    {
      "cell_type": "markdown",
      "metadata": {
        "id": "S7hgQyB0aV7_"
      },
      "source": [
        "## Selecting a subset of the rows"
      ]
    },
    {
      "cell_type": "code",
      "metadata": {
        "id": "NmdeXLmkTVKv"
      },
      "source": [
        "# Here's a column\n",
        "\n",
        "exec_df['clean_name']"
      ],
      "execution_count": null,
      "outputs": []
    },
    {
      "cell_type": "code",
      "metadata": {
        "id": "Dorz_n5QTubF"
      },
      "source": [
        "# We can apply a test (predicate) to each column, returning a Series of boolean true/false values\n",
        "\n",
        "exec_df['clean_name'] == 'Julie Sweet'"
      ],
      "execution_count": null,
      "outputs": []
    },
    {
      "cell_type": "code",
      "metadata": {
        "id": "lUKLfohVUEUp"
      },
      "source": [
        "# If we compose these, we'll get only those rows where the boolean condition was True\n",
        "\n",
        "exec_df[exec_df['clean_name'] == 'Julie Sweet']"
      ],
      "execution_count": null,
      "outputs": []
    },
    {
      "cell_type": "code",
      "metadata": {
        "id": "KKGCNE7-6Qm8"
      },
      "source": [
        "exec_df[exec_df['clean_name'] == 'Julie Sweet'][['page']]"
      ],
      "execution_count": null,
      "outputs": []
    },
    {
      "cell_type": "code",
      "metadata": {
        "id": "n58znBsUUVA6"
      },
      "source": [
        "# And in SQL...\n",
        "\n",
        "temp_df= exec_df.applymap(str)\n",
        "temp_df.to_sql('temp_exec', conn, if_exists=\"replace\")\n",
        "\n",
        "pd.read_sql_query('select * from temp_exec where clean_name=\"Julie Sweet\"', conn)"
      ],
      "execution_count": null,
      "outputs": []
    },
    {
      "cell_type": "code",
      "metadata": {
        "id": "vhceuXb67FMJ"
      },
      "source": [
        "pd.read_sql_query('select page from temp_exec where clean_name=\"Julie Sweet\"', conn)"
      ],
      "execution_count": null,
      "outputs": []
    },
    {
      "cell_type": "code",
      "metadata": {
        "id": "_u-rpXFQ8-1o"
      },
      "source": [
        "import numpy as np\n",
        "\n",
        "exec_df.dropna(subset=['born'])"
      ],
      "execution_count": null,
      "outputs": []
    },
    {
      "cell_type": "code",
      "metadata": {
        "id": "yKFBClXADPxo"
      },
      "source": [
        "pd.read_sql_query('select * from temp_exec where born is not null', conn).set_index('index')"
      ],
      "execution_count": null,
      "outputs": []
    },
    {
      "cell_type": "markdown",
      "metadata": {
        "id": "KRs62sJHeOq1"
      },
      "source": [
        "## Joining Data\n",
        "\n",
        "We start with a simple join between company_ceos_df and exec_df and persist it to the database.  We then check how many companies did not have a match on CEO name."
      ]
    },
    {
      "cell_type": "code",
      "metadata": {
        "id": "wU7fznW28nhI"
      },
      "source": [
        "exec_df[['clean_name', 'born']]"
      ],
      "execution_count": null,
      "outputs": []
    },
    {
      "cell_type": "code",
      "source": [
        "# Remove any duplicate executive entries\n",
        "\n",
        "exec_df = exec_df.drop_duplicates()"
      ],
      "metadata": {
        "id": "ox8A8ucqTBcY"
      },
      "execution_count": null,
      "outputs": []
    },
    {
      "cell_type": "code",
      "metadata": {
        "id": "rT-IUtwu8qtR"
      },
      "source": [
        "company_ceos_df[['Executive', 'Company']]"
      ],
      "execution_count": null,
      "outputs": []
    },
    {
      "cell_type": "code",
      "metadata": {
        "id": "xwz5j4rVeOCN"
      },
      "source": [
        "company_ceos_df[['Executive', 'Company']].merge(exec_df[['clean_name', 'born']],\n",
        "                                                left_on=['Executive'],\n",
        "                                                right_on=['clean_name'])"
      ],
      "execution_count": null,
      "outputs": []
    },
    {
      "cell_type": "code",
      "metadata": {
        "id": "FQLp13jIkrDc"
      },
      "source": [
        "temp_df= company_ceos_df.applymap(str)\n",
        "temp_df.to_sql('company_ceos', conn, if_exists=\"replace\")\n",
        "temp_df= exec_df.applymap(str)\n",
        "temp_df.to_sql('executives', conn, if_exists=\"replace\")\n",
        "company_data_df.to_sql('company_data', conn, if_exists='replace')\n",
        "\n",
        "pd.read_sql_query('select Executive, Company, born from company_ceos ' +\\\n",
        "                  'join executives on Executive=clean_name ' +\\\n",
        "                  'where born is not null', conn)"
      ],
      "execution_count": null,
      "outputs": []
    },
    {
      "cell_type": "markdown",
      "metadata": {
        "id": "BJJJJfZ9UFsu"
      },
      "source": [
        "###Finding the misses in the join.\n",
        "\n",
        "Note that the join above resulted in 174 rows.  However, there are more rows in company_ceos_df so we are missing some companies.  We can see which are missed using a left outer join; setting \"indicator= True\" allows us to see which tuples in company_ceos_df failed to find a match (left_only, e.g. row 24 and 172)."
      ]
    },
    {
      "cell_type": "code",
      "metadata": {
        "id": "6w6FtOBKjV5N"
      },
      "source": [
        "pd.set_option('display.max_rows', 200)\n",
        "display(company_ceos_df[['Executive', 'Company']].merge(exec_df[['clean_name', 'born']],\n",
        "                                                left_on=['Executive'],\n",
        "                                                right_on=['clean_name'], how=\"left\", indicator=True))\n",
        "\n"
      ],
      "execution_count": null,
      "outputs": []
    },
    {
      "cell_type": "code",
      "metadata": {
        "id": "dET0V4epJ8nI"
      },
      "source": [
        "pd.set_option('display.max_rows', 50)\n",
        "result_df = company_ceos_df[['Executive', 'Company']].merge(exec_df[['clean_name', 'born']],\n",
        "                                                left_on=['Executive'],\n",
        "                                                right_on=['clean_name'], how=\"outer\", indicator=True)\n",
        "\n",
        "result_df[result_df['_merge'] != 'both']\n"
      ],
      "execution_count": null,
      "outputs": []
    },
    {
      "cell_type": "markdown",
      "metadata": {
        "id": "4Yc7zzRmGfKI"
      },
      "source": [
        "## Composing Joins\n",
        "\n"
      ]
    },
    {
      "cell_type": "code",
      "metadata": {
        "id": "6qrYniMCFE89"
      },
      "source": [
        "pd.read_sql_query('select Executive, Company, born  from company_ceos ' +\\\n",
        "                  'join executives on Executive=clean_name join company_data cd on Company=cd.name ' +\\\n",
        "                  'where born is not null', conn)"
      ],
      "execution_count": null,
      "outputs": []
    },
    {
      "cell_type": "code",
      "metadata": {
        "id": "PYdNxiSFGsm2"
      },
      "source": [
        "pd.read_sql_query('select * from company_ceos ' +\\\n",
        "                  'join executives on Executive=clean_name join company_data cd on Company=cd.name ' +\\\n",
        "                  'where born is not null', conn)"
      ],
      "execution_count": null,
      "outputs": []
    },
    {
      "cell_type": "code",
      "metadata": {
        "id": "84mXJ0beHdqo"
      },
      "source": [
        "company_ceos_df.merge(exec_df,\n",
        "                      left_on=['Executive'],\n",
        "                      right_on=['clean_name']).\\\n",
        "                      merge(company_data_df,\n",
        "                            left_on='Company',\n",
        "                            right_on='name')"
      ],
      "execution_count": null,
      "outputs": []
    },
    {
      "cell_type": "markdown",
      "metadata": {
        "id": "dyfHtQ-qaspJ"
      },
      "source": [
        "# Lecture Module 3: Validating and Cleaning Data\n",
        "\n",
        "How do we know our data is good?  We can create rules that trigger when the data fails some particular set of **constraints**."
      ]
    },
    {
      "cell_type": "code",
      "metadata": {
        "id": "xahZDjN-az77"
      },
      "source": [
        "# Test with validation rules\n",
        "\n",
        "replace_item = ''\n",
        "\n",
        "failed = False\n",
        "for name in exec_df['clean_name']:\n",
        "  if not name.replace(' ', replace_item).\\\n",
        "          replace('.', replace_item).\\\n",
        "          replace('\\'',replace_item).\\\n",
        "          replace('-',replace_item).isalpha():\n",
        "    print (\"Illegal name %s\"%name)\n",
        "    failed = True\n",
        "\n",
        "if failed:\n",
        "  print('Found illegal names!')"
      ],
      "execution_count": null,
      "outputs": []
    },
    {
      "cell_type": "markdown",
      "metadata": {
        "id": "4aMcbtr36uiu"
      },
      "source": [
        "## Data Cleaning: Fixing the Errors\n",
        "\n",
        "One approach we could take is to realize that these are all strings in which accented characters are specially coded for use in (Wikipedia) URLs.  For instance, %C3 is a hex character code for an accented \"u\".  We can use a function called `unqote` to fix this...\n"
      ]
    },
    {
      "cell_type": "code",
      "metadata": {
        "id": "-a0Q_Z907L4U"
      },
      "source": [
        "from urllib.parse import unquote\n",
        "\n",
        "exec_df['clean_name'].apply(unquote)"
      ],
      "execution_count": null,
      "outputs": []
    },
    {
      "cell_type": "markdown",
      "metadata": {
        "id": "pUv2Jg1WSQ7a"
      },
      "source": [
        "## More Generally: Data Validation Tools\n",
        "\n",
        "Are there tools to help us validate data?  Of course!  We see an [example](https://validators.readthedocs.io/en/latest/) of one such tool, simply called `validators`, below.  There are many others in the data cleaning literature."
      ]
    },
    {
      "cell_type": "code",
      "metadata": {
        "id": "O8uGMex0VeTj"
      },
      "source": [
        "!pip install validators"
      ],
      "execution_count": null,
      "outputs": []
    },
    {
      "cell_type": "code",
      "metadata": {
        "id": "Peo0N4jLVlEX"
      },
      "source": [
        "import validators.url\n",
        "\n",
        "# Are all of the URLs valid?\n",
        "exec_df['page'].apply(validators.url)"
      ],
      "execution_count": null,
      "outputs": []
    },
    {
      "cell_type": "markdown",
      "metadata": {
        "id": "0VgkiL-WZkkr"
      },
      "source": [
        "## Validation against a master list\n",
        "\n",
        "We can also compare against \"master\" lists (in tables).  For example, company info about stock ticker symbols can be compared against the full list of symbols; states and countries can be compared against definitive lists.\n",
        "\n",
        "Suppose we want to confirm that `company_data_df` has valid country codes.  \n"
      ]
    },
    {
      "cell_type": "code",
      "metadata": {
        "id": "KN0oBO4yUXrQ"
      },
      "source": [
        "company_data_df[['name','country_code']]"
      ],
      "execution_count": null,
      "outputs": []
    },
    {
      "cell_type": "markdown",
      "metadata": {
        "id": "8cBNei24Ud7M"
      },
      "source": [
        "TSome of these are NaNs -- let's drop them..."
      ]
    },
    {
      "cell_type": "markdown",
      "metadata": {
        "id": "i3j4gtl_UYas"
      },
      "source": [
        "From someone's Github content, here's a nice list of all countries and region codes."
      ]
    },
    {
      "cell_type": "code",
      "metadata": {
        "id": "V1Q8uOgbadDG"
      },
      "source": [
        "countries_df = pd.read_csv(\"https://raw.githubusercontent.com/lukes/ISO-3166-Countries-with-Regional-Codes/master/all/all.csv\")\n",
        "\n",
        "display(countries_df)"
      ],
      "execution_count": null,
      "outputs": []
    },
    {
      "cell_type": "code",
      "metadata": {
        "id": "VgK5WYj4afyA"
      },
      "source": [
        "validated = company_data_df.merge(countries_df, left_on=['country_code'], right_on=['alpha-3'],\n",
        "                      how='left', indicator=True)\n",
        "\n",
        "validated[validated['_merge'] != 'both']"
      ],
      "execution_count": null,
      "outputs": []
    },
    {
      "cell_type": "markdown",
      "metadata": {
        "id": "QJ4YW3XPeZEm"
      },
      "source": [
        "## Record Linking: Working around the Errors\n",
        "\n",
        "Rather than figuring out how to clean these characters, we'll instead look at doing approximate matching."
      ]
    },
    {
      "cell_type": "markdown",
      "metadata": {
        "id": "NN5mwQ--RzG5"
      },
      "source": [
        "Now we'll need to import some similarity matching code, to do approximate match between the original names and those returned by Wikipedia\n"
      ]
    },
    {
      "cell_type": "code",
      "metadata": {
        "id": "ZvIBRWhA2lJ3"
      },
      "source": [
        "# We are going to match the strings approximately, via \"n-grams\" or \"q-grams\" (sequences of n or q characters)\n",
        "# Here it's five-grams\n",
        "\n",
        "tok = sm.QgramTokenizer(qval=5,return_set=True)"
      ],
      "execution_count": null,
      "outputs": []
    },
    {
      "cell_type": "code",
      "source": [
        "import py_stringsimjoin as ssj\n",
        "import py_stringmatching as sm\n",
        "import pandas as pd\n",
        "import os, sys"
      ],
      "metadata": {
        "id": "sHIy8pmtq_ht"
      },
      "execution_count": null,
      "outputs": []
    },
    {
      "cell_type": "code",
      "source": [
        "print('python version: ' + sys.version)\n",
        "print('py_stringsimjoin version: ' + ssj.__version__)\n",
        "print('py_stringmatching version: ' + sm.__version__)\n",
        "print('pandas version: ' + pd.__version__)"
      ],
      "metadata": {
        "id": "TOBRHFq7rCjo"
      },
      "execution_count": null,
      "outputs": []
    },
    {
      "cell_type": "code",
      "metadata": {
        "id": "Q8SEUA9I2suK",
        "scrolled": true
      },
      "source": [
        "# Now let's do a similarity join\n",
        "\n",
        "# We'll reset the index, so there is a unique index field in the company_ceos_df dataframe\n",
        "company_ceos_df.reset_index(inplace=True)\n",
        "\n",
        "output_pairs = ssj.jaccard_join(company_ceos_df, exec_df, 'index', 'page', 'Executive', 'clean_name', tok, 0.35,\n",
        "                                l_out_attrs=['Executive'], r_out_attrs=['name'])\n",
        "\n",
        "output_pairs[output_pairs['_sim_score'] < 1.0]"
      ],
      "execution_count": null,
      "outputs": []
    },
    {
      "cell_type": "code",
      "metadata": {
        "id": "7PeZP1i934NJ"
      },
      "source": [
        "# At last! Company info + CEO info, together!\n",
        "\n",
        "total = company_ceos_df.merge(output_pairs,left_on=['Executive'],right_on=['l_Executive']).\\\n",
        "        merge(exec_df,left_on=['r_page'],right_on=['page']).\\\n",
        "        merge(company_data_df, left_on='Company', right_on='name', how=\"left\")\n",
        "\n",
        "total"
      ],
      "execution_count": null,
      "outputs": []
    },
    {
      "cell_type": "code",
      "metadata": {
        "id": "UxawNVAjDDej"
      },
      "source": [
        "# Let's get ready to plot\n",
        "\n",
        "%matplotlib inline"
      ],
      "execution_count": null,
      "outputs": []
    },
    {
      "cell_type": "code",
      "metadata": {
        "id": "yc8tiMDiDP3x"
      },
      "source": [
        "total"
      ],
      "execution_count": null,
      "outputs": []
    },
    {
      "cell_type": "code",
      "metadata": {
        "id": "vhwFtAiWFyh7"
      },
      "source": [],
      "execution_count": null,
      "outputs": []
    },
    {
      "cell_type": "markdown",
      "metadata": {
        "id": "DyC2AIL9UEWx"
      },
      "source": [
        "## Simple Analysis of Linked Data: Grouping and Analytics\n",
        "\n",
        "The `groupby` command allows us to coalesce data by groups.  In Pandas a Group is a special object with a set of rows.  We can see this with the `get_group` command."
      ]
    },
    {
      "cell_type": "code",
      "metadata": {
        "id": "dcshn5qLYL_6"
      },
      "source": [
        "total[['born','Company','Executive']].sort_values('born')"
      ],
      "execution_count": null,
      "outputs": []
    },
    {
      "cell_type": "code",
      "metadata": {
        "id": "LqQ3Rt6NQP9L"
      },
      "source": [
        "total.groupby(by='born').get_group(datetime.datetime.strptime('1935-11-01', '%Y-%m-%d'))[['Company','Executive','born']]"
      ],
      "execution_count": null,
      "outputs": []
    },
    {
      "cell_type": "markdown",
      "metadata": {
        "id": "PJTA0udcUVDF"
      },
      "source": [
        "We can apply computations, such as `count`, to the items in the group.  Values that are empty (NaN) do not count (no pun intended)."
      ]
    },
    {
      "cell_type": "code",
      "metadata": {
        "id": "DjnAUU-aYzmn"
      },
      "source": [],
      "execution_count": null,
      "outputs": []
    },
    {
      "cell_type": "code",
      "metadata": {
        "id": "a4NLwFEEUcm0"
      },
      "source": [
        "total.groupby(by='born').count()"
      ],
      "execution_count": null,
      "outputs": []
    },
    {
      "cell_type": "code",
      "metadata": {
        "id": "10l0C0f5WM6f"
      },
      "source": [
        "# We can do this in SQL too...\n",
        "\n",
        "### Until pandas 0.15, there is a bug in converting datetimes to sqllite\n",
        "### so we have to copy to a string instead\n",
        "total2 = total.copy()\n",
        "total2['born'] = total2['born'].apply(lambda x: str(x))\n",
        "\n",
        "total2.to_sql('total_info', conn, if_exists='replace', index=False)\n",
        "\n",
        "# By default, SQL will include the Nan value (called NULL in SQL).  If we want to exclude it,\n",
        "# we need to include WHERE ... IS NOT NULL.\n",
        "\n",
        "pd.read_sql('select born, count(Company) from total_info ' +\\\n",
        "            'where born is not null group by born', conn)"
      ],
      "execution_count": null,
      "outputs": []
    },
    {
      "cell_type": "code",
      "source": [
        "total2 = total.dropna()\n",
        "total2['born'] = total2['born'].astype('datetime64[ns]')"
      ],
      "metadata": {
        "id": "9_4GKkzJZ_RO"
      },
      "execution_count": null,
      "outputs": []
    },
    {
      "cell_type": "code",
      "metadata": {
        "id": "ltqxp7mbGxVO"
      },
      "source": [
        "# Let's look at when the CEOs were born\n",
        "\n",
        "birthdays = total2.groupby(by='born').count()[['Executive']]\n",
        "birthdays.index = pd.to_datetime(birthdays.index, unit='s')\n",
        "\n",
        "birthdays"
      ],
      "execution_count": null,
      "outputs": []
    },
    {
      "cell_type": "markdown",
      "metadata": {
        "id": "O_rnskc1UkwK"
      },
      "source": [
        "We can actually use `resample` over dates, with a parameter, to group eg by decade (10 years, where A is the code for year):"
      ]
    },
    {
      "cell_type": "code",
      "metadata": {
        "id": "SFOeeN-HHEFp"
      },
      "source": [
        "birthdays.resample('10A').count().plot(kind='bar')"
      ],
      "execution_count": null,
      "outputs": []
    },
    {
      "cell_type": "markdown",
      "metadata": {
        "id": "hQ7MXmI9VFT4"
      },
      "source": [
        "Maybe that's a little weird.  Can we do something more along the lines of what we expect, i.e., \"1920s, 1930s, ...\"?"
      ]
    },
    {
      "cell_type": "code",
      "metadata": {
        "id": "n6I2gOx1U0gc"
      },
      "source": [
        "# Get rid of the nulls!\n",
        "bdays = total[['born']].dropna()\n",
        "\n",
        "bdays = bdays.applymap(lambda bday: str(int(bday.year / 10) * 10) + 's')\n",
        "\n",
        "bdays.reset_index().groupby('born').count().plot(kind='bar')"
      ],
      "execution_count": null,
      "outputs": []
    },
    {
      "cell_type": "markdown",
      "metadata": {
        "id": "bD9nhuQRZnwq"
      },
      "source": [
        "# An Exercise\n",
        "\n",
        "Is there a correlation between the kind of company and the age of the CEO?\n",
        "\n",
        "Does the company's line of business matter?"
      ]
    },
    {
      "cell_type": "code",
      "metadata": {
        "id": "w3Zv_oVGZDrm"
      },
      "source": [],
      "execution_count": null,
      "outputs": []
    }
  ]
}