{
  "nbformat": 4,
  "nbformat_minor": 0,
  "metadata": {
    "colab": {
      "provenance": [],
      "include_colab_link": true
    },
    "kernelspec": {
      "name": "python3",
      "display_name": "Python 3"
    },
    "language_info": {
      "name": "python"
    }
  },
  "cells": [
    {
      "cell_type": "markdown",
      "metadata": {
        "id": "view-in-github",
        "colab_type": "text"
      },
      "source": [
        "<a href=\"https://colab.research.google.com/github/zackives/upenn-cis-2450/blob/main/cis2450lab1nb.ipynb\" target=\"_parent\"><img src=\"https://colab.research.google.com/assets/colab-badge.svg\" alt=\"Open In Colab\"/></a>"
      ]
    },
    {
      "cell_type": "markdown",
      "source": [
        "# CIS 2450 Lab 1: Introduction to Python and Data Science\n",
        "\n",
        "### September 3, 2024\n",
        "\n",
        "Welcome to CIS 2450 - Big Data Analytics! This lab will introduce some of the Python packages that we will be using . If you are new to Python, this notebook will walk through useful Python packages and a few of their use cases. If you already have some Python experience, this lab may also serve as a refresher and an opportunity to refamiliarize yourself with some of the functions you may see in this course."
      ],
      "metadata": {
        "id": "PEJc6K37WxfT"
      }
    },
    {
      "cell_type": "markdown",
      "source": [
        "## Part 1: Basic Python Functions"
      ],
      "metadata": {
        "id": "lkD126JmYBaQ"
      }
    },
    {
      "cell_type": "markdown",
      "source": [
        "Most Python functions will begin with a short wall of imports (in most HW assignments, we will include these import statements for you):"
      ],
      "metadata": {
        "id": "6NTMh1cCTBfU"
      }
    },
    {
      "cell_type": "code",
      "execution_count": null,
      "metadata": {
        "id": "C7oQ0HNkWYj4"
      },
      "outputs": [],
      "source": [
        "import pandas as pd\n",
        "import numpy as np\n",
        "import matplotlib.pyplot as plt"
      ]
    },
    {
      "cell_type": "markdown",
      "source": [
        "These imports (which will be demonstrated in later parts) serve to add additional functions from various additional packages."
      ],
      "metadata": {
        "id": "h5BK5WqpbAP_"
      }
    },
    {
      "cell_type": "markdown",
      "source": [
        "Unlike other coding languages (e.g., Java), variables do not require a type definition:"
      ],
      "metadata": {
        "id": "H5EepRM3TeGw"
      }
    },
    {
      "cell_type": "code",
      "source": [
        "x = 1 + 2\n",
        "print(x)"
      ],
      "metadata": {
        "colab": {
          "base_uri": "https://localhost:8080/"
        },
        "id": "9OdwuYikWW73",
        "outputId": "2b2756f9-3130-4cb7-db3e-47a54c488c19"
      },
      "execution_count": null,
      "outputs": [
        {
          "output_type": "stream",
          "name": "stdout",
          "text": [
            "3\n"
          ]
        }
      ]
    },
    {
      "cell_type": "code",
      "source": [
        "type(x)"
      ],
      "metadata": {
        "colab": {
          "base_uri": "https://localhost:8080/"
        },
        "id": "o1D562cCVC8e",
        "outputId": "b17fa787-d370-4ecc-c004-4301e922624f"
      },
      "execution_count": null,
      "outputs": [
        {
          "output_type": "execute_result",
          "data": {
            "text/plain": [
              "int"
            ]
          },
          "metadata": {},
          "execution_count": 3
        }
      ]
    },
    {
      "cell_type": "markdown",
      "source": [
        "Variables can also be defined immediately after:"
      ],
      "metadata": {
        "id": "B2KbpteKWbcu"
      }
    },
    {
      "cell_type": "code",
      "source": [
        "text = \"hello world\"\n",
        "text = \"hello CIS 2450\"\n",
        "print(text)"
      ],
      "metadata": {
        "colab": {
          "base_uri": "https://localhost:8080/"
        },
        "id": "4wGOL45aWgZ5",
        "outputId": "ff834f07-0450-4475-f431-9312a2933196"
      },
      "execution_count": null,
      "outputs": [
        {
          "output_type": "stream",
          "name": "stdout",
          "text": [
            "hello CIS 2450\n"
          ]
        }
      ]
    },
    {
      "cell_type": "markdown",
      "source": [
        "Casting is done by calling the data type you wish to cast to as a function (e.g., ```str``` or ```int```):"
      ],
      "metadata": {
        "id": "QMPvgBRVWlYZ"
      }
    },
    {
      "cell_type": "code",
      "source": [
        "ten = 10\n",
        "ten_string = str(10)\n",
        "print(type(ten))\n",
        "print(type(ten_string))"
      ],
      "metadata": {
        "colab": {
          "base_uri": "https://localhost:8080/"
        },
        "id": "DGOgviqkbgUi",
        "outputId": "f74d6e77-4c6c-4d39-fc5a-4bcc2e5c5450"
      },
      "execution_count": null,
      "outputs": [
        {
          "output_type": "stream",
          "name": "stdout",
          "text": [
            "<class 'int'>\n",
            "<class 'str'>\n"
          ]
        }
      ]
    },
    {
      "cell_type": "code",
      "source": [
        "ten_number = int(ten_string)\n",
        "print(type(ten_number))"
      ],
      "metadata": {
        "colab": {
          "base_uri": "https://localhost:8080/"
        },
        "id": "9Wd7v7Kabp6T",
        "outputId": "ae87aebf-5f3f-4ecd-9b71-59967010ec46"
      },
      "execution_count": null,
      "outputs": [
        {
          "output_type": "stream",
          "name": "stdout",
          "text": [
            "<class 'int'>\n"
          ]
        }
      ]
    },
    {
      "cell_type": "markdown",
      "source": [
        "Here is an example of an if-statement in Python."
      ],
      "metadata": {
        "id": "3YvRQw2mbu5d"
      }
    },
    {
      "cell_type": "code",
      "source": [
        "x = 5\n",
        "\n",
        "if x > 4:\n",
        "  print(\"x is greater than 4\")\n",
        "elif x < 4:\n",
        "  print(\"x is less than 4\")\n",
        "else:\n",
        "  print(\"x is equal to 4\")"
      ],
      "metadata": {
        "colab": {
          "base_uri": "https://localhost:8080/"
        },
        "id": "KPD6OAjKb0uJ",
        "outputId": "90760d95-e4cd-42b3-9677-10caeae1842e"
      },
      "execution_count": null,
      "outputs": [
        {
          "output_type": "stream",
          "name": "stdout",
          "text": [
            "x is greater than 4\n"
          ]
        }
      ]
    },
    {
      "cell_type": "markdown",
      "source": [
        "Here are a few things to note:\n",
        "* If statements are denoted by colons and indenting the next block.\n",
        "* An \"if\" block does not always require an \"elif\" or \"else\" block, however, \"elif\" and \"else\" blocks always follow an \"if\" block.\n",
        "* Code in \"if\" and \"elif\" blocks only run if the specified condition is satisfied.\n",
        "* An \"else\" block is always at the end of an \"if-elif-else\" block and serves as a \"default\" set of actions in case neither the \"if\" nor \"elif\" code runs."
      ],
      "metadata": {
        "id": "Nf90yIL_cBPr"
      }
    },
    {
      "cell_type": "markdown",
      "source": [
        "While loops in Python are similar to if-statements in that they will only run when the specified statement is true. For example:"
      ],
      "metadata": {
        "id": "SguYW9ubcsWc"
      }
    },
    {
      "cell_type": "code",
      "source": [
        "counter = 0\n",
        "\n",
        "while counter < 10:\n",
        "  print(counter, \": counter is less than 10\")\n",
        "  counter += 1"
      ],
      "metadata": {
        "colab": {
          "base_uri": "https://localhost:8080/"
        },
        "id": "BEPtpZWOhlTm",
        "outputId": "dde9a115-8a8c-44a8-c421-3a4e2fce1e86"
      },
      "execution_count": null,
      "outputs": [
        {
          "output_type": "stream",
          "name": "stdout",
          "text": [
            "0 : counter is less than 10\n",
            "1 : counter is less than 10\n",
            "2 : counter is less than 10\n",
            "3 : counter is less than 10\n",
            "4 : counter is less than 10\n",
            "5 : counter is less than 10\n",
            "6 : counter is less than 10\n",
            "7 : counter is less than 10\n",
            "8 : counter is less than 10\n",
            "9 : counter is less than 10\n"
          ]
        }
      ]
    },
    {
      "cell_type": "markdown",
      "source": [
        "In this situation, the code only repeats *while* ```counter < 10```.\n",
        "\n",
        "As you may recall from CIS 1100/1200, we must be careful when defining while loops, as an always-true statement in a while loop may run forever and crash our code!\n",
        "\n",
        "There are also specific keywords like ```break``` (stops the code and exits the loop exactly where it is) and ```continue``` (skips to the next iteration of the loop without executing any additional code). Here are some basic additional examples:"
      ],
      "metadata": {
        "id": "6TyH6I0ihtYP"
      }
    },
    {
      "cell_type": "code",
      "source": [
        "counter = 0\n",
        "\n",
        "while counter < 10:\n",
        "  if counter == 5:\n",
        "    break\n",
        "  print(counter, \": counter is less than 10\")\n",
        "  counter += 1"
      ],
      "metadata": {
        "colab": {
          "base_uri": "https://localhost:8080/"
        },
        "id": "2R-gyivOia5w",
        "outputId": "66202d9d-718f-4acf-eca9-f0d983b7f177"
      },
      "execution_count": null,
      "outputs": [
        {
          "output_type": "stream",
          "name": "stdout",
          "text": [
            "0 : counter is less than 10\n",
            "1 : counter is less than 10\n",
            "2 : counter is less than 10\n",
            "3 : counter is less than 10\n",
            "4 : counter is less than 10\n"
          ]
        }
      ]
    },
    {
      "cell_type": "code",
      "source": [
        "counter = 0\n",
        "\n",
        "while counter < 10:\n",
        "  if counter == 6:\n",
        "    counter += 1\n",
        "    continue\n",
        "  print(counter, \": counter is less than 10\")\n",
        "  counter += 1"
      ],
      "metadata": {
        "colab": {
          "base_uri": "https://localhost:8080/"
        },
        "id": "VjFveTOBieuz",
        "outputId": "5b193ca4-5a16-4f17-ce7f-ab70a450d1f9"
      },
      "execution_count": null,
      "outputs": [
        {
          "output_type": "stream",
          "name": "stdout",
          "text": [
            "0 : counter is less than 10\n",
            "1 : counter is less than 10\n",
            "2 : counter is less than 10\n",
            "3 : counter is less than 10\n",
            "4 : counter is less than 10\n",
            "5 : counter is less than 10\n",
            "7 : counter is less than 10\n",
            "8 : counter is less than 10\n",
            "9 : counter is less than 10\n"
          ]
        }
      ]
    },
    {
      "cell_type": "markdown",
      "source": [
        "As you may recall from CIS 1100/1200, for loops instead run for a pre-determined number of times. For example:"
      ],
      "metadata": {
        "id": "Oy6mIsggiopI"
      }
    },
    {
      "cell_type": "code",
      "source": [
        "for counter in range(10):\n",
        "  print(counter, \": counter is less than 10\")"
      ],
      "metadata": {
        "colab": {
          "base_uri": "https://localhost:8080/"
        },
        "id": "d8xK2yxWi5er",
        "outputId": "89a62fad-2703-41cd-95fb-42cba3454db7"
      },
      "execution_count": null,
      "outputs": [
        {
          "output_type": "stream",
          "name": "stdout",
          "text": [
            "0 : counter is less than 10\n",
            "1 : counter is less than 10\n",
            "2 : counter is less than 10\n",
            "3 : counter is less than 10\n",
            "4 : counter is less than 10\n",
            "5 : counter is less than 10\n",
            "6 : counter is less than 10\n",
            "7 : counter is less than 10\n",
            "8 : counter is less than 10\n",
            "9 : counter is less than 10\n"
          ]
        }
      ]
    },
    {
      "cell_type": "code",
      "source": [
        "my_list = ['apple','mango','papaya']\n",
        "for fruit in my_list:\n",
        "  print(fruit)"
      ],
      "metadata": {
        "colab": {
          "base_uri": "https://localhost:8080/"
        },
        "id": "Gnr9C2GLVoL7",
        "outputId": "dcece8d2-08c5-4f7f-983a-340ab5034ea3"
      },
      "execution_count": null,
      "outputs": [
        {
          "output_type": "stream",
          "name": "stdout",
          "text": [
            "apple\n",
            "mango\n",
            "papaya\n"
          ]
        }
      ]
    },
    {
      "cell_type": "markdown",
      "source": [
        "Finally, we will examine the syntax for defining functions. Generally, function definitions start with ```def function_name([arguments]):``` and the body of the function. For example:"
      ],
      "metadata": {
        "id": "YUH7uow0jBqn"
      }
    },
    {
      "cell_type": "code",
      "source": [
        "def add_one(n):\n",
        "  return n + 1\n",
        "\n",
        "print(add_one(5))"
      ],
      "metadata": {
        "colab": {
          "base_uri": "https://localhost:8080/"
        },
        "id": "jLsELKmWjQh1",
        "outputId": "c6ffed51-883e-483c-f7f0-108763f526cc"
      },
      "execution_count": null,
      "outputs": [
        {
          "output_type": "stream",
          "name": "stdout",
          "text": [
            "6\n"
          ]
        }
      ]
    },
    {
      "cell_type": "markdown",
      "source": [
        "Functions do not always have to return a value and may just perform an action. For example:"
      ],
      "metadata": {
        "id": "EkX202AVjXWR"
      }
    },
    {
      "cell_type": "code",
      "source": [
        "def print_value(n):\n",
        "  print(n)\n",
        "\n",
        "print_value(10) # This code will only output the print statement in the code"
      ],
      "metadata": {
        "colab": {
          "base_uri": "https://localhost:8080/"
        },
        "id": "cHAJrBu2jjSC",
        "outputId": "c1a67366-0c5b-4be5-d6d4-03545abb6b83"
      },
      "execution_count": null,
      "outputs": [
        {
          "output_type": "stream",
          "name": "stdout",
          "text": [
            "10\n"
          ]
        }
      ]
    },
    {
      "cell_type": "code",
      "source": [
        "print(print_value(10)) # This code outputs the print statement which returns (10),\n",
        "                       # but also None, as the function returns nothing"
      ],
      "metadata": {
        "colab": {
          "base_uri": "https://localhost:8080/"
        },
        "id": "AIfNdFKcju-a",
        "outputId": "3ef304f5-034b-4128-e1ba-3e12d5521f21"
      },
      "execution_count": null,
      "outputs": [
        {
          "output_type": "stream",
          "name": "stdout",
          "text": [
            "10\n",
            "None\n"
          ]
        }
      ]
    },
    {
      "cell_type": "markdown",
      "source": [
        "Last but not least, keyword-only arguments are optional arguments that may hold default values. For example, this function will print extra output by default:"
      ],
      "metadata": {
        "id": "s6GrevKFj4M0"
      }
    },
    {
      "cell_type": "code",
      "source": [
        "def print_additional(n, verbose = True):\n",
        "  print(n)\n",
        "  if verbose:\n",
        "    print(\"This is a verbose print statement\")\n",
        "\n",
        "print_additional(10)"
      ],
      "metadata": {
        "colab": {
          "base_uri": "https://localhost:8080/"
        },
        "id": "YbeoGJhykPio",
        "outputId": "4544e10b-89de-48e7-b004-e4ccdd7d83c9"
      },
      "execution_count": null,
      "outputs": [
        {
          "output_type": "stream",
          "name": "stdout",
          "text": [
            "10\n",
            "This is a verbose print statement\n"
          ]
        }
      ]
    },
    {
      "cell_type": "markdown",
      "source": [
        "However, by setting ```verbose = False```, we can disable the additional output:"
      ],
      "metadata": {
        "id": "4SNdqx7ekVkV"
      }
    },
    {
      "cell_type": "code",
      "source": [
        "print_additional(10, verbose = False)"
      ],
      "metadata": {
        "id": "ZvNX_aKVkYcI"
      },
      "execution_count": null,
      "outputs": []
    },
    {
      "cell_type": "markdown",
      "source": [
        "## Part 2: NumPy\n",
        "\n",
        "NumPy is a package in Python that allows us to manipulate basic data structures (e.g., arrays) more easily. Some key functions include:\n",
        "1. Math operations (including basic mathematical operators and linear algebra)\n",
        "2. Array manipulation\n",
        "3. Additional data types\n",
        "\n",
        "NumPy is especially useful for data science since we will often be dealing with large lists or quantities of data at once.\n",
        "\n",
        "Since we have called ```import numpy as np```, all NumPy functions will be denoted as ```np.function_name()```.\n",
        "\n",
        "First, we will demonstrate how to create an array in NumPy. We simply call the ```np.array()``` function together with the values of the array (which may be formatted as a list or a tuple)."
      ],
      "metadata": {
        "id": "9G17otuCYFlG"
      }
    },
    {
      "cell_type": "code",
      "source": [
        "arr = np.array([1, 2, 3, 4, 5])\n",
        "print(arr)"
      ],
      "metadata": {
        "colab": {
          "base_uri": "https://localhost:8080/"
        },
        "id": "bPwECtDAzjUB",
        "outputId": "9cf2a05c-874f-4ac1-a388-a4d0b09f58cf"
      },
      "execution_count": null,
      "outputs": [
        {
          "output_type": "stream",
          "name": "stdout",
          "text": [
            "[1 2 3 4 5]\n"
          ]
        }
      ]
    },
    {
      "cell_type": "code",
      "source": [
        "type(arr)"
      ],
      "metadata": {
        "colab": {
          "base_uri": "https://localhost:8080/"
        },
        "id": "M6FA1Sd9WRUX",
        "outputId": "1f74dc35-b53e-4c4e-a8db-90f0d21be8c7"
      },
      "execution_count": null,
      "outputs": [
        {
          "output_type": "execute_result",
          "data": {
            "text/plain": [
              "numpy.ndarray"
            ]
          },
          "metadata": {},
          "execution_count": 23
        }
      ]
    },
    {
      "cell_type": "code",
      "source": [
        "arr2 = np.array((5, 6, 7, 8, 9))\n",
        "print(arr2)"
      ],
      "metadata": {
        "colab": {
          "base_uri": "https://localhost:8080/"
        },
        "id": "Vs0CrB_10uC1",
        "outputId": "8fa8a5c6-6b2e-4f07-b62d-0745ae63c4d7"
      },
      "execution_count": null,
      "outputs": [
        {
          "output_type": "stream",
          "name": "stdout",
          "text": [
            "[5 6 7 8 9]\n"
          ]
        }
      ]
    },
    {
      "cell_type": "markdown",
      "source": [
        "Multi-dimensional arrays can be generated from nested lists:"
      ],
      "metadata": {
        "id": "2QW0A0qr0y8E"
      }
    },
    {
      "cell_type": "code",
      "source": [
        "arr2d = np.array([[1, 2, 3],\n",
        "                  [4, 5, 6],\n",
        "                  [7, 8, 9]])\n",
        "print(arr2d)"
      ],
      "metadata": {
        "colab": {
          "base_uri": "https://localhost:8080/"
        },
        "id": "n5FJLBh30x1h",
        "outputId": "55493ca4-4176-405e-d275-e183c856d237"
      },
      "execution_count": null,
      "outputs": [
        {
          "output_type": "stream",
          "name": "stdout",
          "text": [
            "[[1 2 3]\n",
            " [4 5 6]\n",
            " [7 8 9]]\n"
          ]
        }
      ]
    },
    {
      "cell_type": "markdown",
      "source": [
        "The dimensions of an array can be determined as follows:"
      ],
      "metadata": {
        "id": "lM_rk7Bf1BDK"
      }
    },
    {
      "cell_type": "code",
      "source": [
        "print(arr2d.shape)\n",
        "print(arr.shape)"
      ],
      "metadata": {
        "colab": {
          "base_uri": "https://localhost:8080/"
        },
        "id": "Yp521U3W1Kvx",
        "outputId": "aefa4503-eac7-46ca-b129-676073c4096b"
      },
      "execution_count": null,
      "outputs": [
        {
          "output_type": "stream",
          "name": "stdout",
          "text": [
            "(3, 3)\n",
            "(5,)\n"
          ]
        }
      ]
    },
    {
      "cell_type": "markdown",
      "source": [
        "Alternatively, the ```np.size()``` function tells us how many elements an array has (the product of its dimensions):"
      ],
      "metadata": {
        "id": "fZ9yaH5d1U3C"
      }
    },
    {
      "cell_type": "code",
      "source": [
        "print(np.size(arr2d))\n",
        "print(np.size(arr))"
      ],
      "metadata": {
        "colab": {
          "base_uri": "https://localhost:8080/"
        },
        "id": "XSFR3uQ_1dHu",
        "outputId": "9c1edecc-7e5a-4f10-dd80-57afa03b4fd1"
      },
      "execution_count": null,
      "outputs": [
        {
          "output_type": "stream",
          "name": "stdout",
          "text": [
            "9\n",
            "5\n"
          ]
        }
      ]
    },
    {
      "cell_type": "markdown",
      "source": [
        "Remember that arrays and lists in Python are zero-indexed. This means that the first element of any array of list must be called as the \"0th\" element. Here are a few examples:"
      ],
      "metadata": {
        "id": "mfpAbRXS18WK"
      }
    },
    {
      "cell_type": "code",
      "source": [
        "arr = np.array([1, 2, 3, 4, 5])\n",
        "print(arr[0])\n",
        "print(arr[2])\n",
        "print(arr[-1]) # Prints the last element of the array\n",
        "print(arr[-2]) # Prints the second last element of the array"
      ],
      "metadata": {
        "colab": {
          "base_uri": "https://localhost:8080/"
        },
        "id": "0zQSvDrm2I3n",
        "outputId": "a7635147-1473-4b2f-eb09-064da7ef6bba"
      },
      "execution_count": null,
      "outputs": [
        {
          "output_type": "stream",
          "name": "stdout",
          "text": [
            "1\n",
            "3\n",
            "5\n",
            "4\n"
          ]
        }
      ]
    },
    {
      "cell_type": "markdown",
      "source": [
        "This can be similarly done for 2D arrays:"
      ],
      "metadata": {
        "id": "d82kLj_H2TvZ"
      }
    },
    {
      "cell_type": "code",
      "source": [
        "arr2d = np.array([[1, 2, 3],\n",
        "                  [4, 5, 6],\n",
        "                  [7, 8, 9]])\n",
        "print(arr2d[0, 0])\n",
        "print(arr2d[1, 0]) # Note that this refers to the second row and first column"
      ],
      "metadata": {
        "colab": {
          "base_uri": "https://localhost:8080/"
        },
        "id": "181k6u0U2XSx",
        "outputId": "f6b20222-cbae-4982-ac41-d28b7d3caa3c"
      },
      "execution_count": null,
      "outputs": [
        {
          "output_type": "stream",
          "name": "stdout",
          "text": [
            "1\n",
            "4\n"
          ]
        }
      ]
    },
    {
      "cell_type": "markdown",
      "source": [
        "Another useful tool in NumPy is array slicing. This enables us to access only a small sub-section of an array. We can do so similarly to how we index arrays by calling ```arr[start:end]```. Here is an example:"
      ],
      "metadata": {
        "id": "pOoOniei2mdc"
      }
    },
    {
      "cell_type": "code",
      "source": [
        "arr = np.arange(10) # This is equivalent to np.array([0, 1, 2, 3, 4, 5, 6, 7, 8, 9])\n",
        "print(arr[2:7])"
      ],
      "metadata": {
        "colab": {
          "base_uri": "https://localhost:8080/"
        },
        "id": "IbvSsZiapOhj",
        "outputId": "39ef547b-cbf2-404e-e199-c2ab28a441cb"
      },
      "execution_count": null,
      "outputs": [
        {
          "output_type": "stream",
          "name": "stdout",
          "text": [
            "[2 3 4 5 6]\n"
          ]
        }
      ]
    },
    {
      "cell_type": "markdown",
      "source": [
        "This code will retrieve all numbers to the end of the array:"
      ],
      "metadata": {
        "id": "lCCpb1rrpmLB"
      }
    },
    {
      "cell_type": "code",
      "source": [
        "print(arr[:6])"
      ],
      "metadata": {
        "colab": {
          "base_uri": "https://localhost:8080/"
        },
        "id": "9YxcUrYupXQC",
        "outputId": "04df848c-0422-4042-cc64-281c408e04bd"
      },
      "execution_count": null,
      "outputs": [
        {
          "output_type": "stream",
          "name": "stdout",
          "text": [
            "[0 1 2 3 4 5]\n"
          ]
        }
      ]
    },
    {
      "cell_type": "markdown",
      "source": [
        "Negative indexing can also be used for slicing. The following code starts from the third element from the end and retrieves all values up (but not including) the last element:"
      ],
      "metadata": {
        "id": "wXefPw64psFk"
      }
    },
    {
      "cell_type": "code",
      "source": [
        "print(arr[-3:-1])"
      ],
      "metadata": {
        "colab": {
          "base_uri": "https://localhost:8080/"
        },
        "id": "hWZfJ547p1Em",
        "outputId": "cc1b4841-0179-4cf2-ec4b-425bcc876aaf"
      },
      "execution_count": null,
      "outputs": [
        {
          "output_type": "stream",
          "name": "stdout",
          "text": [
            "[7 8]\n"
          ]
        }
      ]
    },
    {
      "cell_type": "markdown",
      "source": [
        "We can also slice multi-dimensional arrays. For example:"
      ],
      "metadata": {
        "id": "35wZ4nZjqBqK"
      }
    },
    {
      "cell_type": "code",
      "source": [
        "arr = np.array([[1, 2, 3],\n",
        "                [4, 5, 6],\n",
        "                [7, 8, 9]])\n",
        "print(arr[1, 1:3]) # Second row, elements 2 and 3"
      ],
      "metadata": {
        "colab": {
          "base_uri": "https://localhost:8080/"
        },
        "id": "yjbPk2IWqFmH",
        "outputId": "24cf2128-22a5-4966-8d28-db31cdc0abc2"
      },
      "execution_count": null,
      "outputs": [
        {
          "output_type": "stream",
          "name": "stdout",
          "text": [
            "[5 6]\n"
          ]
        }
      ]
    },
    {
      "cell_type": "markdown",
      "source": [
        "We can also obtain \"full slices\" by leaving a standalone ```:```. This code obtains all elements from the first row:"
      ],
      "metadata": {
        "id": "J451Ow2OqTK9"
      }
    },
    {
      "cell_type": "code",
      "source": [
        "print(arr[0,:])"
      ],
      "metadata": {
        "colab": {
          "base_uri": "https://localhost:8080/"
        },
        "id": "PPr4sWCXqTnq",
        "outputId": "d220d22f-2355-4888-82e9-fda4c98515f7"
      },
      "execution_count": null,
      "outputs": [
        {
          "output_type": "stream",
          "name": "stdout",
          "text": [
            "[1 2 3]\n"
          ]
        }
      ]
    },
    {
      "cell_type": "markdown",
      "source": [
        "NumPy also supports a wide variety of datatypes. We can determine the datatype of an array using the ```.dtype``` field.\n",
        "\n",
        "**Note**: The datatype ```<U8``` for strings indicates a \"unicode string\". A full list of datatypes can be found in the NumPy documentation."
      ],
      "metadata": {
        "id": "M8Z7A7IKraVh"
      }
    },
    {
      "cell_type": "code",
      "source": [
        "arrint = np.arange(5)\n",
        "arrstring = np.array(['Welcome', 'to', 'CIS 2450'])\n",
        "arrbool = np.array([True, False, True])\n",
        "print(arrint.dtype)\n",
        "print(arrstring.dtype)\n",
        "print(arrbool.dtype)"
      ],
      "metadata": {
        "colab": {
          "base_uri": "https://localhost:8080/"
        },
        "id": "vj0F73w5sNos",
        "outputId": "f764843b-8d23-45cb-c11a-8ffcfaae6271"
      },
      "execution_count": null,
      "outputs": [
        {
          "output_type": "stream",
          "name": "stdout",
          "text": [
            "int64\n",
            "<U8\n",
            "bool\n"
          ]
        }
      ]
    },
    {
      "cell_type": "markdown",
      "source": [
        "However, we can also create arrays with a defined datatype by taking in the ```dtype``` argument. For example:"
      ],
      "metadata": {
        "id": "R_pv4VXisfOy"
      }
    },
    {
      "cell_type": "code",
      "source": [
        "arr = np.array([1, 2, 3, 4, 5], dtype = '<U8') # Casts to a string\n",
        "print(arr)\n",
        "print(arr.dtype)"
      ],
      "metadata": {
        "colab": {
          "base_uri": "https://localhost:8080/"
        },
        "id": "Lw4T1hHes0gk",
        "outputId": "71dd0c5c-383b-449c-8697-a129c770107b"
      },
      "execution_count": null,
      "outputs": [
        {
          "output_type": "stream",
          "name": "stdout",
          "text": [
            "['1' '2' '3' '4' '5']\n",
            "<U8\n"
          ]
        }
      ]
    },
    {
      "cell_type": "code",
      "source": [
        "arr = np.array([0, 1, 0, 1, 1], dtype = 'bool') # Casts to boolean\n",
        "print(arr)\n",
        "print(arr.dtype)"
      ],
      "metadata": {
        "colab": {
          "base_uri": "https://localhost:8080/"
        },
        "id": "6Vr7O8l6s5B4",
        "outputId": "c0cc1174-a813-46e6-afcb-3b213053f4a5"
      },
      "execution_count": null,
      "outputs": [
        {
          "output_type": "stream",
          "name": "stdout",
          "text": [
            "[False  True False  True  True]\n",
            "bool\n"
          ]
        }
      ]
    },
    {
      "cell_type": "markdown",
      "source": [
        "Keep in mind that **not all datatypes can be converted**. For example, some strings cannot be cast to integers:"
      ],
      "metadata": {
        "id": "C-W0CirVtAlg"
      }
    },
    {
      "cell_type": "code",
      "source": [
        "arr = np.array(['a', '4', 'b', '5'], dtype = 'int64')\n",
        "print(arr.dtype)"
      ],
      "metadata": {
        "colab": {
          "base_uri": "https://localhost:8080/",
          "height": 156
        },
        "id": "uXhDHKXztNAo",
        "outputId": "474c3283-1b80-4cd0-ad55-99a251b49f9e"
      },
      "execution_count": null,
      "outputs": [
        {
          "output_type": "error",
          "ename": "ValueError",
          "evalue": "invalid literal for int() with base 10: 'a'",
          "traceback": [
            "\u001b[0;31m---------------------------------------------------------------------------\u001b[0m",
            "\u001b[0;31mValueError\u001b[0m                                Traceback (most recent call last)",
            "\u001b[0;32m<ipython-input-40-dfdb28d2be0a>\u001b[0m in \u001b[0;36m<cell line: 1>\u001b[0;34m()\u001b[0m\n\u001b[0;32m----> 1\u001b[0;31m \u001b[0marr\u001b[0m \u001b[0;34m=\u001b[0m \u001b[0mnp\u001b[0m\u001b[0;34m.\u001b[0m\u001b[0marray\u001b[0m\u001b[0;34m(\u001b[0m\u001b[0;34m[\u001b[0m\u001b[0;34m'a'\u001b[0m\u001b[0;34m,\u001b[0m \u001b[0;34m'4'\u001b[0m\u001b[0;34m,\u001b[0m \u001b[0;34m'b'\u001b[0m\u001b[0;34m,\u001b[0m \u001b[0;34m'5'\u001b[0m\u001b[0;34m]\u001b[0m\u001b[0;34m,\u001b[0m \u001b[0mdtype\u001b[0m \u001b[0;34m=\u001b[0m \u001b[0;34m'int64'\u001b[0m\u001b[0;34m)\u001b[0m\u001b[0;34m\u001b[0m\u001b[0;34m\u001b[0m\u001b[0m\n\u001b[0m\u001b[1;32m      2\u001b[0m \u001b[0mprint\u001b[0m\u001b[0;34m(\u001b[0m\u001b[0marr\u001b[0m\u001b[0;34m.\u001b[0m\u001b[0mdtype\u001b[0m\u001b[0;34m)\u001b[0m\u001b[0;34m\u001b[0m\u001b[0;34m\u001b[0m\u001b[0m\n",
            "\u001b[0;31mValueError\u001b[0m: invalid literal for int() with base 10: 'a'"
          ]
        }
      ]
    },
    {
      "cell_type": "markdown",
      "source": [
        "Datatypes for existing arrays can also be converted using the ```.astype()``` method:"
      ],
      "metadata": {
        "id": "hwZDhlvptXs5"
      }
    },
    {
      "cell_type": "code",
      "source": [
        "arr = np.array([3.5, 4.5, 5.5])\n",
        "intarr = arr.astype('int64') # Converting to integers rounds numbers down by default\n",
        "print(arr)\n",
        "print(intarr)\n",
        "print(intarr.dtype)"
      ],
      "metadata": {
        "colab": {
          "base_uri": "https://localhost:8080/"
        },
        "id": "7KzKkUdVtiDJ",
        "outputId": "79154d6d-8eaf-4e3d-d6de-d0f6f769147f"
      },
      "execution_count": null,
      "outputs": [
        {
          "output_type": "stream",
          "name": "stdout",
          "text": [
            "[3.5 4.5 5.5]\n",
            "[3 4 5]\n",
            "int64\n"
          ]
        }
      ]
    },
    {
      "cell_type": "markdown",
      "source": [
        "We can use NumPy to reshape arrays. The size (product of dimensions) of the old and new array must be equal, or the code will throw an error.\n",
        "\n",
        "We can reshape a 1D array into a 2D array:"
      ],
      "metadata": {
        "id": "K7xmPOc0t3dj"
      }
    },
    {
      "cell_type": "code",
      "source": [
        "arr = np.arange(12)\n",
        "arr2d = arr.reshape(4, 3)\n",
        "print(arr)\n",
        "print(arr2d)"
      ],
      "metadata": {
        "colab": {
          "base_uri": "https://localhost:8080/"
        },
        "id": "Tb_VNyQLDRoe",
        "outputId": "cfa111af-eb59-4f87-c7a5-1744781b90f2"
      },
      "execution_count": null,
      "outputs": [
        {
          "output_type": "stream",
          "name": "stdout",
          "text": [
            "[ 0  1  2  3  4  5  6  7  8  9 10 11]\n",
            "[[ 0  1  2]\n",
            " [ 3  4  5]\n",
            " [ 6  7  8]\n",
            " [ 9 10 11]]\n"
          ]
        }
      ]
    },
    {
      "cell_type": "markdown",
      "source": [
        "In fact, we can reshae a 1D array into an array of any number of dimensions, as long as the number of elements in the resulting array is the same:"
      ],
      "metadata": {
        "id": "j7UHxCtwDluc"
      }
    },
    {
      "cell_type": "code",
      "source": [
        "arr3d = arr.reshape(2, 2, 3)\n",
        "print(arr3d)"
      ],
      "metadata": {
        "colab": {
          "base_uri": "https://localhost:8080/"
        },
        "id": "K8tXFqTdDttF",
        "outputId": "d288f057-cc3c-454d-fbc9-6425ee436619"
      },
      "execution_count": null,
      "outputs": [
        {
          "output_type": "stream",
          "name": "stdout",
          "text": [
            "[[[ 0  1  2]\n",
            "  [ 3  4  5]]\n",
            "\n",
            " [[ 6  7  8]\n",
            "  [ 9 10 11]]]\n"
          ]
        }
      ]
    },
    {
      "cell_type": "code",
      "source": [
        "arr = np.arange(16)\n",
        "arr4d = arr.reshape(2, 2, 2, 2)\n",
        "print(arr)\n",
        "print(arr4d)"
      ],
      "metadata": {
        "colab": {
          "base_uri": "https://localhost:8080/"
        },
        "id": "kMEnrDpVDw23",
        "outputId": "7fbc5c2e-af69-4df8-87bb-b571475a95f7"
      },
      "execution_count": null,
      "outputs": [
        {
          "output_type": "stream",
          "name": "stdout",
          "text": [
            "[ 0  1  2  3  4  5  6  7  8  9 10 11 12 13 14 15]\n",
            "[[[[ 0  1]\n",
            "   [ 2  3]]\n",
            "\n",
            "  [[ 4  5]\n",
            "   [ 6  7]]]\n",
            "\n",
            "\n",
            " [[[ 8  9]\n",
            "   [10 11]]\n",
            "\n",
            "  [[12 13]\n",
            "   [14 15]]]]\n"
          ]
        }
      ]
    },
    {
      "cell_type": "markdown",
      "source": [
        "We can also flatten arrays by calling the ```reshape()``` method:"
      ],
      "metadata": {
        "id": "o2S3V5fgD-es"
      }
    },
    {
      "cell_type": "code",
      "source": [
        "arr = np.eye(4) # 4x4 identity matrix\n",
        "print(arr)\n",
        "print(arr.reshape(-1))"
      ],
      "metadata": {
        "colab": {
          "base_uri": "https://localhost:8080/"
        },
        "id": "p-kOLRZrEGAr",
        "outputId": "8552c169-2457-4033-caef-9534aa57402b"
      },
      "execution_count": null,
      "outputs": [
        {
          "output_type": "stream",
          "name": "stdout",
          "text": [
            "[[1. 0. 0. 0.]\n",
            " [0. 1. 0. 0.]\n",
            " [0. 0. 1. 0.]\n",
            " [0. 0. 0. 1.]]\n",
            "[1. 0. 0. 0. 0. 1. 0. 0. 0. 0. 1. 0. 0. 0. 0. 1.]\n"
          ]
        }
      ]
    },
    {
      "cell_type": "markdown",
      "source": [
        "In general, we can reshape a higher-dimensional array into a lower-dimensional array:"
      ],
      "metadata": {
        "id": "dFNtWj8vEOqy"
      }
    },
    {
      "cell_type": "code",
      "source": [
        "arr = np.array([[[1, 2, 3],\n",
        "                 [4, 5, 6]],\n",
        "                [[7, 8, 9],\n",
        "                [10, 11, 12]]])\n",
        "print(arr)\n",
        "\n",
        "arr2 = arr.reshape(6, 2)\n",
        "print(arr2)"
      ],
      "metadata": {
        "colab": {
          "base_uri": "https://localhost:8080/"
        },
        "id": "LEfz88WmESfD",
        "outputId": "ed027a9c-33cb-4e9c-c9a7-f272c0ba0137"
      },
      "execution_count": null,
      "outputs": [
        {
          "output_type": "stream",
          "name": "stdout",
          "text": [
            "[[[ 1  2  3]\n",
            "  [ 4  5  6]]\n",
            "\n",
            " [[ 7  8  9]\n",
            "  [10 11 12]]]\n",
            "[[ 1  2]\n",
            " [ 3  4]\n",
            " [ 5  6]\n",
            " [ 7  8]\n",
            " [ 9 10]\n",
            " [11 12]]\n"
          ]
        }
      ]
    },
    {
      "cell_type": "markdown",
      "source": [
        "There are also other NumPy functions (sort, concatenation, splitting, etc.) which are also useful but not covered in this tutorial - for more details, visit the NumPy documentation."
      ],
      "metadata": {
        "id": "ZLKYC0_z7JPg"
      }
    },
    {
      "cell_type": "markdown",
      "source": [
        "## Part 3: Pandas"
      ],
      "metadata": {
        "id": "iLA_ixjDYIjC"
      }
    },
    {
      "cell_type": "markdown",
      "source": [
        "Pandas is a powerful data analysis and manipulation library built upon Python. We will use it in most of our assignments, so it is important to get aquainted!\n",
        "\n",
        "Documentation:  https://pandas.pydata.org/docs/"
      ],
      "metadata": {
        "id": "Jy26jAKYs6wY"
      }
    },
    {
      "cell_type": "markdown",
      "source": [
        "Pandas Dataframes are tabular data structures with 2 dimensions (columns and rows), similar to an Excel sheet.\n",
        "\n",
        "In this example, we will load in a `.csv` file to a Dataframe."
      ],
      "metadata": {
        "id": "ekvbiQHEtNaC"
      }
    },
    {
      "cell_type": "code",
      "source": [
        "from google.colab import drive\n",
        "drive.mount('/content/drive')"
      ],
      "metadata": {
        "colab": {
          "base_uri": "https://localhost:8080/"
        },
        "id": "QP0UvD4F3sX3",
        "outputId": "c7adee17-cc35-450c-d53b-c111c2c8e973"
      },
      "execution_count": null,
      "outputs": [
        {
          "output_type": "stream",
          "name": "stdout",
          "text": [
            "Mounted at /content/drive\n"
          ]
        }
      ]
    },
    {
      "cell_type": "code",
      "source": [
        "# load in csv file as a dataframe\n",
        "taylor_df = pd.read_csv('/content/drive/Shareddrives/CIS 2450 2024 Fall/Labs/Lab 1 - Python Introduction/taylor_swift_spotify.csv')\n",
        "\n",
        "# see a preview of the first 3 rows your data\n",
        "taylor_df.head(3)"
      ],
      "metadata": {
        "id": "nyOnjdKcoeW7",
        "colab": {
          "base_uri": "https://localhost:8080/",
          "height": 434
        },
        "outputId": "6182c95d-27e5-45b2-f08d-5c872991461c"
      },
      "execution_count": null,
      "outputs": [
        {
          "output_type": "execute_result",
          "data": {
            "text/plain": [
              "   Unnamed: 0                                  name  \\\n",
              "0           0         Fortnight (feat. Post Malone)   \n",
              "1           1         The Tortured Poets Department   \n",
              "2           2  My Boy Only Breaks His Favorite Toys   \n",
              "\n",
              "                                          album release_date  track_number  \\\n",
              "0  THE TORTURED POETS DEPARTMENT: THE ANTHOLOGY   2024-04-19             1   \n",
              "1  THE TORTURED POETS DEPARTMENT: THE ANTHOLOGY   2024-04-19             2   \n",
              "2  THE TORTURED POETS DEPARTMENT: THE ANTHOLOGY   2024-04-19             3   \n",
              "\n",
              "                       id                                   uri  acousticness  \\\n",
              "0  6dODwocEuGzHAavXqTbwHv  spotify:track:6dODwocEuGzHAavXqTbwHv        0.5020   \n",
              "1  4PdLaGZubp4lghChqp8erB  spotify:track:4PdLaGZubp4lghChqp8erB        0.0483   \n",
              "2  7uGYWMwRy24dm7RUDDhUlD  spotify:track:7uGYWMwRy24dm7RUDDhUlD        0.1370   \n",
              "\n",
              "   danceability  energy  instrumentalness  liveness  loudness  speechiness  \\\n",
              "0         0.504   0.386          0.000015    0.0961   -10.976       0.0308   \n",
              "1         0.604   0.428          0.000000    0.1260    -8.441       0.0255   \n",
              "2         0.596   0.563          0.000000    0.3020    -7.362       0.0269   \n",
              "\n",
              "     tempo  valence  popularity  duration_ms  \n",
              "0  192.004    0.281          82       228965  \n",
              "1  110.259    0.292          79       293048  \n",
              "2   97.073    0.481          80       203801  "
            ],
            "text/html": [
              "\n",
              "  <div id=\"df-e26d8839-b4f5-42c7-9885-adf4fd001d09\" class=\"colab-df-container\">\n",
              "    <div>\n",
              "<style scoped>\n",
              "    .dataframe tbody tr th:only-of-type {\n",
              "        vertical-align: middle;\n",
              "    }\n",
              "\n",
              "    .dataframe tbody tr th {\n",
              "        vertical-align: top;\n",
              "    }\n",
              "\n",
              "    .dataframe thead th {\n",
              "        text-align: right;\n",
              "    }\n",
              "</style>\n",
              "<table border=\"1\" class=\"dataframe\">\n",
              "  <thead>\n",
              "    <tr style=\"text-align: right;\">\n",
              "      <th></th>\n",
              "      <th>Unnamed: 0</th>\n",
              "      <th>name</th>\n",
              "      <th>album</th>\n",
              "      <th>release_date</th>\n",
              "      <th>track_number</th>\n",
              "      <th>id</th>\n",
              "      <th>uri</th>\n",
              "      <th>acousticness</th>\n",
              "      <th>danceability</th>\n",
              "      <th>energy</th>\n",
              "      <th>instrumentalness</th>\n",
              "      <th>liveness</th>\n",
              "      <th>loudness</th>\n",
              "      <th>speechiness</th>\n",
              "      <th>tempo</th>\n",
              "      <th>valence</th>\n",
              "      <th>popularity</th>\n",
              "      <th>duration_ms</th>\n",
              "    </tr>\n",
              "  </thead>\n",
              "  <tbody>\n",
              "    <tr>\n",
              "      <th>0</th>\n",
              "      <td>0</td>\n",
              "      <td>Fortnight (feat. Post Malone)</td>\n",
              "      <td>THE TORTURED POETS DEPARTMENT: THE ANTHOLOGY</td>\n",
              "      <td>2024-04-19</td>\n",
              "      <td>1</td>\n",
              "      <td>6dODwocEuGzHAavXqTbwHv</td>\n",
              "      <td>spotify:track:6dODwocEuGzHAavXqTbwHv</td>\n",
              "      <td>0.5020</td>\n",
              "      <td>0.504</td>\n",
              "      <td>0.386</td>\n",
              "      <td>0.000015</td>\n",
              "      <td>0.0961</td>\n",
              "      <td>-10.976</td>\n",
              "      <td>0.0308</td>\n",
              "      <td>192.004</td>\n",
              "      <td>0.281</td>\n",
              "      <td>82</td>\n",
              "      <td>228965</td>\n",
              "    </tr>\n",
              "    <tr>\n",
              "      <th>1</th>\n",
              "      <td>1</td>\n",
              "      <td>The Tortured Poets Department</td>\n",
              "      <td>THE TORTURED POETS DEPARTMENT: THE ANTHOLOGY</td>\n",
              "      <td>2024-04-19</td>\n",
              "      <td>2</td>\n",
              "      <td>4PdLaGZubp4lghChqp8erB</td>\n",
              "      <td>spotify:track:4PdLaGZubp4lghChqp8erB</td>\n",
              "      <td>0.0483</td>\n",
              "      <td>0.604</td>\n",
              "      <td>0.428</td>\n",
              "      <td>0.000000</td>\n",
              "      <td>0.1260</td>\n",
              "      <td>-8.441</td>\n",
              "      <td>0.0255</td>\n",
              "      <td>110.259</td>\n",
              "      <td>0.292</td>\n",
              "      <td>79</td>\n",
              "      <td>293048</td>\n",
              "    </tr>\n",
              "    <tr>\n",
              "      <th>2</th>\n",
              "      <td>2</td>\n",
              "      <td>My Boy Only Breaks His Favorite Toys</td>\n",
              "      <td>THE TORTURED POETS DEPARTMENT: THE ANTHOLOGY</td>\n",
              "      <td>2024-04-19</td>\n",
              "      <td>3</td>\n",
              "      <td>7uGYWMwRy24dm7RUDDhUlD</td>\n",
              "      <td>spotify:track:7uGYWMwRy24dm7RUDDhUlD</td>\n",
              "      <td>0.1370</td>\n",
              "      <td>0.596</td>\n",
              "      <td>0.563</td>\n",
              "      <td>0.000000</td>\n",
              "      <td>0.3020</td>\n",
              "      <td>-7.362</td>\n",
              "      <td>0.0269</td>\n",
              "      <td>97.073</td>\n",
              "      <td>0.481</td>\n",
              "      <td>80</td>\n",
              "      <td>203801</td>\n",
              "    </tr>\n",
              "  </tbody>\n",
              "</table>\n",
              "</div>\n",
              "    <div class=\"colab-df-buttons\">\n",
              "\n",
              "  <div class=\"colab-df-container\">\n",
              "    <button class=\"colab-df-convert\" onclick=\"convertToInteractive('df-e26d8839-b4f5-42c7-9885-adf4fd001d09')\"\n",
              "            title=\"Convert this dataframe to an interactive table.\"\n",
              "            style=\"display:none;\">\n",
              "\n",
              "  <svg xmlns=\"http://www.w3.org/2000/svg\" height=\"24px\" viewBox=\"0 -960 960 960\">\n",
              "    <path d=\"M120-120v-720h720v720H120Zm60-500h600v-160H180v160Zm220 220h160v-160H400v160Zm0 220h160v-160H400v160ZM180-400h160v-160H180v160Zm440 0h160v-160H620v160ZM180-180h160v-160H180v160Zm440 0h160v-160H620v160Z\"/>\n",
              "  </svg>\n",
              "    </button>\n",
              "\n",
              "  <style>\n",
              "    .colab-df-container {\n",
              "      display:flex;\n",
              "      gap: 12px;\n",
              "    }\n",
              "\n",
              "    .colab-df-convert {\n",
              "      background-color: #E8F0FE;\n",
              "      border: none;\n",
              "      border-radius: 50%;\n",
              "      cursor: pointer;\n",
              "      display: none;\n",
              "      fill: #1967D2;\n",
              "      height: 32px;\n",
              "      padding: 0 0 0 0;\n",
              "      width: 32px;\n",
              "    }\n",
              "\n",
              "    .colab-df-convert:hover {\n",
              "      background-color: #E2EBFA;\n",
              "      box-shadow: 0px 1px 2px rgba(60, 64, 67, 0.3), 0px 1px 3px 1px rgba(60, 64, 67, 0.15);\n",
              "      fill: #174EA6;\n",
              "    }\n",
              "\n",
              "    .colab-df-buttons div {\n",
              "      margin-bottom: 4px;\n",
              "    }\n",
              "\n",
              "    [theme=dark] .colab-df-convert {\n",
              "      background-color: #3B4455;\n",
              "      fill: #D2E3FC;\n",
              "    }\n",
              "\n",
              "    [theme=dark] .colab-df-convert:hover {\n",
              "      background-color: #434B5C;\n",
              "      box-shadow: 0px 1px 3px 1px rgba(0, 0, 0, 0.15);\n",
              "      filter: drop-shadow(0px 1px 2px rgba(0, 0, 0, 0.3));\n",
              "      fill: #FFFFFF;\n",
              "    }\n",
              "  </style>\n",
              "\n",
              "    <script>\n",
              "      const buttonEl =\n",
              "        document.querySelector('#df-e26d8839-b4f5-42c7-9885-adf4fd001d09 button.colab-df-convert');\n",
              "      buttonEl.style.display =\n",
              "        google.colab.kernel.accessAllowed ? 'block' : 'none';\n",
              "\n",
              "      async function convertToInteractive(key) {\n",
              "        const element = document.querySelector('#df-e26d8839-b4f5-42c7-9885-adf4fd001d09');\n",
              "        const dataTable =\n",
              "          await google.colab.kernel.invokeFunction('convertToInteractive',\n",
              "                                                    [key], {});\n",
              "        if (!dataTable) return;\n",
              "\n",
              "        const docLinkHtml = 'Like what you see? Visit the ' +\n",
              "          '<a target=\"_blank\" href=https://colab.research.google.com/notebooks/data_table.ipynb>data table notebook</a>'\n",
              "          + ' to learn more about interactive tables.';\n",
              "        element.innerHTML = '';\n",
              "        dataTable['output_type'] = 'display_data';\n",
              "        await google.colab.output.renderOutput(dataTable, element);\n",
              "        const docLink = document.createElement('div');\n",
              "        docLink.innerHTML = docLinkHtml;\n",
              "        element.appendChild(docLink);\n",
              "      }\n",
              "    </script>\n",
              "  </div>\n",
              "\n",
              "\n",
              "<div id=\"df-4526fb59-2e10-40ff-9226-689006e56d65\">\n",
              "  <button class=\"colab-df-quickchart\" onclick=\"quickchart('df-4526fb59-2e10-40ff-9226-689006e56d65')\"\n",
              "            title=\"Suggest charts\"\n",
              "            style=\"display:none;\">\n",
              "\n",
              "<svg xmlns=\"http://www.w3.org/2000/svg\" height=\"24px\"viewBox=\"0 0 24 24\"\n",
              "     width=\"24px\">\n",
              "    <g>\n",
              "        <path d=\"M19 3H5c-1.1 0-2 .9-2 2v14c0 1.1.9 2 2 2h14c1.1 0 2-.9 2-2V5c0-1.1-.9-2-2-2zM9 17H7v-7h2v7zm4 0h-2V7h2v10zm4 0h-2v-4h2v4z\"/>\n",
              "    </g>\n",
              "</svg>\n",
              "  </button>\n",
              "\n",
              "<style>\n",
              "  .colab-df-quickchart {\n",
              "      --bg-color: #E8F0FE;\n",
              "      --fill-color: #1967D2;\n",
              "      --hover-bg-color: #E2EBFA;\n",
              "      --hover-fill-color: #174EA6;\n",
              "      --disabled-fill-color: #AAA;\n",
              "      --disabled-bg-color: #DDD;\n",
              "  }\n",
              "\n",
              "  [theme=dark] .colab-df-quickchart {\n",
              "      --bg-color: #3B4455;\n",
              "      --fill-color: #D2E3FC;\n",
              "      --hover-bg-color: #434B5C;\n",
              "      --hover-fill-color: #FFFFFF;\n",
              "      --disabled-bg-color: #3B4455;\n",
              "      --disabled-fill-color: #666;\n",
              "  }\n",
              "\n",
              "  .colab-df-quickchart {\n",
              "    background-color: var(--bg-color);\n",
              "    border: none;\n",
              "    border-radius: 50%;\n",
              "    cursor: pointer;\n",
              "    display: none;\n",
              "    fill: var(--fill-color);\n",
              "    height: 32px;\n",
              "    padding: 0;\n",
              "    width: 32px;\n",
              "  }\n",
              "\n",
              "  .colab-df-quickchart:hover {\n",
              "    background-color: var(--hover-bg-color);\n",
              "    box-shadow: 0 1px 2px rgba(60, 64, 67, 0.3), 0 1px 3px 1px rgba(60, 64, 67, 0.15);\n",
              "    fill: var(--button-hover-fill-color);\n",
              "  }\n",
              "\n",
              "  .colab-df-quickchart-complete:disabled,\n",
              "  .colab-df-quickchart-complete:disabled:hover {\n",
              "    background-color: var(--disabled-bg-color);\n",
              "    fill: var(--disabled-fill-color);\n",
              "    box-shadow: none;\n",
              "  }\n",
              "\n",
              "  .colab-df-spinner {\n",
              "    border: 2px solid var(--fill-color);\n",
              "    border-color: transparent;\n",
              "    border-bottom-color: var(--fill-color);\n",
              "    animation:\n",
              "      spin 1s steps(1) infinite;\n",
              "  }\n",
              "\n",
              "  @keyframes spin {\n",
              "    0% {\n",
              "      border-color: transparent;\n",
              "      border-bottom-color: var(--fill-color);\n",
              "      border-left-color: var(--fill-color);\n",
              "    }\n",
              "    20% {\n",
              "      border-color: transparent;\n",
              "      border-left-color: var(--fill-color);\n",
              "      border-top-color: var(--fill-color);\n",
              "    }\n",
              "    30% {\n",
              "      border-color: transparent;\n",
              "      border-left-color: var(--fill-color);\n",
              "      border-top-color: var(--fill-color);\n",
              "      border-right-color: var(--fill-color);\n",
              "    }\n",
              "    40% {\n",
              "      border-color: transparent;\n",
              "      border-right-color: var(--fill-color);\n",
              "      border-top-color: var(--fill-color);\n",
              "    }\n",
              "    60% {\n",
              "      border-color: transparent;\n",
              "      border-right-color: var(--fill-color);\n",
              "    }\n",
              "    80% {\n",
              "      border-color: transparent;\n",
              "      border-right-color: var(--fill-color);\n",
              "      border-bottom-color: var(--fill-color);\n",
              "    }\n",
              "    90% {\n",
              "      border-color: transparent;\n",
              "      border-bottom-color: var(--fill-color);\n",
              "    }\n",
              "  }\n",
              "</style>\n",
              "\n",
              "  <script>\n",
              "    async function quickchart(key) {\n",
              "      const quickchartButtonEl =\n",
              "        document.querySelector('#' + key + ' button');\n",
              "      quickchartButtonEl.disabled = true;  // To prevent multiple clicks.\n",
              "      quickchartButtonEl.classList.add('colab-df-spinner');\n",
              "      try {\n",
              "        const charts = await google.colab.kernel.invokeFunction(\n",
              "            'suggestCharts', [key], {});\n",
              "      } catch (error) {\n",
              "        console.error('Error during call to suggestCharts:', error);\n",
              "      }\n",
              "      quickchartButtonEl.classList.remove('colab-df-spinner');\n",
              "      quickchartButtonEl.classList.add('colab-df-quickchart-complete');\n",
              "    }\n",
              "    (() => {\n",
              "      let quickchartButtonEl =\n",
              "        document.querySelector('#df-4526fb59-2e10-40ff-9226-689006e56d65 button');\n",
              "      quickchartButtonEl.style.display =\n",
              "        google.colab.kernel.accessAllowed ? 'block' : 'none';\n",
              "    })();\n",
              "  </script>\n",
              "</div>\n",
              "\n",
              "    </div>\n",
              "  </div>\n"
            ],
            "application/vnd.google.colaboratory.intrinsic+json": {
              "type": "dataframe",
              "variable_name": "taylor_df",
              "summary": "{\n  \"name\": \"taylor_df\",\n  \"rows\": 582,\n  \"fields\": [\n    {\n      \"column\": \"Unnamed: 0\",\n      \"properties\": {\n        \"dtype\": \"number\",\n        \"std\": 168,\n        \"min\": 0,\n        \"max\": 581,\n        \"num_unique_values\": 582,\n        \"samples\": [\n          577,\n          280,\n          104\n        ],\n        \"semantic_type\": \"\",\n        \"description\": \"\"\n      }\n    },\n    {\n      \"column\": \"name\",\n      \"properties\": {\n        \"dtype\": \"string\",\n        \"num_unique_values\": 363,\n        \"samples\": [\n          \"ivy\",\n          \"Style (Taylor's Version)\",\n          \"Clara Bow\"\n        ],\n        \"semantic_type\": \"\",\n        \"description\": \"\"\n      }\n    },\n    {\n      \"column\": \"album\",\n      \"properties\": {\n        \"dtype\": \"category\",\n        \"num_unique_values\": 29,\n        \"samples\": [\n          \"Live From Clear Channel Stripped 2008\",\n          \"reputation\",\n          \"folklore: the long pond studio sessions (from the Disney+ special) [deluxe edition]\"\n        ],\n        \"semantic_type\": \"\",\n        \"description\": \"\"\n      }\n    },\n    {\n      \"column\": \"release_date\",\n      \"properties\": {\n        \"dtype\": \"object\",\n        \"num_unique_values\": 25,\n        \"samples\": [\n          \"2021-11-12\",\n          \"2017-11-10\",\n          \"2024-04-19\"\n        ],\n        \"semantic_type\": \"\",\n        \"description\": \"\"\n      }\n    },\n    {\n      \"column\": \"track_number\",\n      \"properties\": {\n        \"dtype\": \"number\",\n        \"std\": 8,\n        \"min\": 1,\n        \"max\": 46,\n        \"num_unique_values\": 46,\n        \"samples\": [\n          40,\n          26,\n          27\n        ],\n        \"semantic_type\": \"\",\n        \"description\": \"\"\n      }\n    },\n    {\n      \"column\": \"id\",\n      \"properties\": {\n        \"dtype\": \"string\",\n        \"num_unique_values\": 582,\n        \"samples\": [\n          \"1j6gmK6u4WNI33lMZ8dC1s\",\n          \"4MGexoZc12lqE0hYkq9YYx\",\n          \"3yNJkriPzWjkkDAWHIAVUq\"\n        ],\n        \"semantic_type\": \"\",\n        \"description\": \"\"\n      }\n    },\n    {\n      \"column\": \"uri\",\n      \"properties\": {\n        \"dtype\": \"string\",\n        \"num_unique_values\": 582,\n        \"samples\": [\n          \"spotify:track:1j6gmK6u4WNI33lMZ8dC1s\",\n          \"spotify:track:4MGexoZc12lqE0hYkq9YYx\",\n          \"spotify:track:3yNJkriPzWjkkDAWHIAVUq\"\n        ],\n        \"semantic_type\": \"\",\n        \"description\": \"\"\n      }\n    },\n    {\n      \"column\": \"acousticness\",\n      \"properties\": {\n        \"dtype\": \"number\",\n        \"std\": 0.3271711830864459,\n        \"min\": 0.000182,\n        \"max\": 0.971,\n        \"num_unique_values\": 391,\n        \"samples\": [\n          0.315,\n          0.0846,\n          0.000456\n        ],\n        \"semantic_type\": \"\",\n        \"description\": \"\"\n      }\n    },\n    {\n      \"column\": \"danceability\",\n      \"properties\": {\n        \"dtype\": \"number\",\n        \"std\": 0.1145533695498324,\n        \"min\": 0.175,\n        \"max\": 0.897,\n        \"num_unique_values\": 268,\n        \"samples\": [\n          0.788,\n          0.607,\n          0.609\n        ],\n        \"semantic_type\": \"\",\n        \"description\": \"\"\n      }\n    },\n    {\n      \"column\": \"energy\",\n      \"properties\": {\n        \"dtype\": \"number\",\n        \"std\": 0.1911016864345896,\n        \"min\": 0.118,\n        \"max\": 0.948,\n        \"num_unique_values\": 332,\n        \"samples\": [\n          0.587,\n          0.696,\n          0.648\n        ],\n        \"semantic_type\": \"\",\n        \"description\": \"\"\n      }\n    },\n    {\n      \"column\": \"instrumentalness\",\n      \"properties\": {\n        \"dtype\": \"number\",\n        \"std\": 0.027820740033169578,\n        \"min\": 0.0,\n        \"max\": 0.333,\n        \"num_unique_values\": 213,\n        \"samples\": [\n          0.000423,\n          0.000372,\n          0.000136\n        ],\n        \"semantic_type\": \"\",\n        \"description\": \"\"\n      }\n    },\n    {\n      \"column\": \"liveness\",\n      \"properties\": {\n        \"dtype\": \"number\",\n        \"std\": 0.1365631331981037,\n        \"min\": 0.0335,\n        \"max\": 0.931,\n        \"num_unique_values\": 269,\n        \"samples\": [\n          0.188,\n          0.169,\n          0.0877\n        ],\n        \"semantic_type\": \"\",\n        \"description\": \"\"\n      }\n    },\n    {\n      \"column\": \"loudness\",\n      \"properties\": {\n        \"dtype\": \"number\",\n        \"std\": 2.904653158687282,\n        \"min\": -17.932,\n        \"max\": -1.927,\n        \"num_unique_values\": 425,\n        \"samples\": [\n          -4.919,\n          -8.29,\n          -9.837\n        ],\n        \"semantic_type\": \"\",\n        \"description\": \"\"\n      }\n    },\n    {\n      \"column\": \"speechiness\",\n      \"properties\": {\n        \"dtype\": \"number\",\n        \"std\": 0.0708593028340403,\n        \"min\": 0.0231,\n        \"max\": 0.912,\n        \"num_unique_values\": 274,\n        \"samples\": [\n          0.0316,\n          0.054,\n          0.0676\n        ],\n        \"semantic_type\": \"\",\n        \"description\": \"\"\n      }\n    },\n    {\n      \"column\": \"tempo\",\n      \"properties\": {\n        \"dtype\": \"number\",\n        \"std\": 30.40848479460738,\n        \"min\": 68.097,\n        \"max\": 208.918,\n        \"num_unique_values\": 439,\n        \"samples\": [\n          114.974,\n          110.021,\n          139.813\n        ],\n        \"semantic_type\": \"\",\n        \"description\": \"\"\n      }\n    },\n    {\n      \"column\": \"valence\",\n      \"properties\": {\n        \"dtype\": \"number\",\n        \"std\": 0.1958289395437322,\n        \"min\": 0.0384,\n        \"max\": 0.943,\n        \"num_unique_values\": 308,\n        \"samples\": [\n          0.825,\n          0.238,\n          0.552\n        ],\n        \"semantic_type\": \"\",\n        \"description\": \"\"\n      }\n    },\n    {\n      \"column\": \"popularity\",\n      \"properties\": {\n        \"dtype\": \"number\",\n        \"std\": 16,\n        \"min\": 0,\n        \"max\": 93,\n        \"num_unique_values\": 65,\n        \"samples\": [\n          27,\n          41,\n          82\n        ],\n        \"semantic_type\": \"\",\n        \"description\": \"\"\n      }\n    },\n    {\n      \"column\": \"duration_ms\",\n      \"properties\": {\n        \"dtype\": \"number\",\n        \"std\": 45928,\n        \"min\": 83253,\n        \"max\": 613026,\n        \"num_unique_values\": 407,\n        \"samples\": [\n          252385,\n          190360,\n          295720\n        ],\n        \"semantic_type\": \"\",\n        \"description\": \"\"\n      }\n    }\n  ]\n}"
            }
          },
          "metadata": {},
          "execution_count": 50
        }
      ]
    },
    {
      "cell_type": "markdown",
      "source": [
        "the `.info()` function is useful to understand the size, columns, and data types in your dataframe."
      ],
      "metadata": {
        "id": "ZfIgintR5YtN"
      }
    },
    {
      "cell_type": "code",
      "source": [
        "# see data types of columns\n",
        "taylor_df.info()"
      ],
      "metadata": {
        "id": "kuddxjY2vpkc",
        "colab": {
          "base_uri": "https://localhost:8080/"
        },
        "outputId": "54e8701a-a6b3-4079-8552-1f219116ff3e"
      },
      "execution_count": null,
      "outputs": [
        {
          "output_type": "stream",
          "name": "stdout",
          "text": [
            "<class 'pandas.core.frame.DataFrame'>\n",
            "RangeIndex: 582 entries, 0 to 581\n",
            "Data columns (total 18 columns):\n",
            " #   Column            Non-Null Count  Dtype  \n",
            "---  ------            --------------  -----  \n",
            " 0   Unnamed: 0        582 non-null    int64  \n",
            " 1   name              582 non-null    object \n",
            " 2   album             582 non-null    object \n",
            " 3   release_date      582 non-null    object \n",
            " 4   track_number      582 non-null    int64  \n",
            " 5   id                582 non-null    object \n",
            " 6   uri               582 non-null    object \n",
            " 7   acousticness      582 non-null    float64\n",
            " 8   danceability      582 non-null    float64\n",
            " 9   energy            582 non-null    float64\n",
            " 10  instrumentalness  582 non-null    float64\n",
            " 11  liveness          582 non-null    float64\n",
            " 12  loudness          582 non-null    float64\n",
            " 13  speechiness       582 non-null    float64\n",
            " 14  tempo             582 non-null    float64\n",
            " 15  valence           582 non-null    float64\n",
            " 16  popularity        582 non-null    int64  \n",
            " 17  duration_ms       582 non-null    int64  \n",
            "dtypes: float64(9), int64(4), object(5)\n",
            "memory usage: 82.0+ KB\n"
          ]
        }
      ]
    },
    {
      "cell_type": "markdown",
      "source": [
        "You can select a particular column, such as `name` as well as a particular row, such as row `0`.\n",
        "\n",
        "Rows and columns are Series datatypes (one-dimensional array)"
      ],
      "metadata": {
        "id": "PDmAJ5tv1-pn"
      }
    },
    {
      "cell_type": "code",
      "source": [
        "print(type(taylor_df['name']))\n",
        "print(type(taylor_df.iloc[0]))"
      ],
      "metadata": {
        "id": "oGFLWTEW2ZIs",
        "colab": {
          "base_uri": "https://localhost:8080/"
        },
        "outputId": "8d1fc8c1-9d62-46ab-bbc2-eb21da457fbb"
      },
      "execution_count": null,
      "outputs": [
        {
          "output_type": "stream",
          "name": "stdout",
          "text": [
            "<class 'pandas.core.series.Series'>\n",
            "<class 'pandas.core.series.Series'>\n"
          ]
        }
      ]
    },
    {
      "cell_type": "markdown",
      "source": [
        "You can also perform column operations. Let's say we wanted to make a new column called `duration_minutes` that converted the `duration_ms` column from milliseconds to minutes, and a `danceability_energy` column that added the values of two columns:"
      ],
      "metadata": {
        "id": "8evB54V-6znF"
      }
    },
    {
      "cell_type": "code",
      "source": [
        "taylor_df['duration_minutes'] = taylor_df['duration_ms']/(60*1000)\n",
        "taylor_df['danceability_energy'] = taylor_df['danceability'] + taylor_df['energy']\n",
        "taylor_df.head(2)"
      ],
      "metadata": {
        "id": "nVeIquYw2TFR",
        "colab": {
          "base_uri": "https://localhost:8080/",
          "height": 318
        },
        "outputId": "b69a99aa-3c99-4f29-9452-a70c9c5dd039"
      },
      "execution_count": null,
      "outputs": [
        {
          "output_type": "execute_result",
          "data": {
            "text/plain": [
              "   Unnamed: 0                           name  \\\n",
              "0           0  Fortnight (feat. Post Malone)   \n",
              "1           1  The Tortured Poets Department   \n",
              "\n",
              "                                          album release_date  track_number  \\\n",
              "0  THE TORTURED POETS DEPARTMENT: THE ANTHOLOGY   2024-04-19             1   \n",
              "1  THE TORTURED POETS DEPARTMENT: THE ANTHOLOGY   2024-04-19             2   \n",
              "\n",
              "                       id                                   uri  acousticness  \\\n",
              "0  6dODwocEuGzHAavXqTbwHv  spotify:track:6dODwocEuGzHAavXqTbwHv        0.5020   \n",
              "1  4PdLaGZubp4lghChqp8erB  spotify:track:4PdLaGZubp4lghChqp8erB        0.0483   \n",
              "\n",
              "   danceability  energy  instrumentalness  liveness  loudness  speechiness  \\\n",
              "0         0.504   0.386          0.000015    0.0961   -10.976       0.0308   \n",
              "1         0.604   0.428          0.000000    0.1260    -8.441       0.0255   \n",
              "\n",
              "     tempo  valence  popularity  duration_ms  duration_minutes  \\\n",
              "0  192.004    0.281          82       228965          3.816083   \n",
              "1  110.259    0.292          79       293048          4.884133   \n",
              "\n",
              "   danceability_energy  \n",
              "0                0.890  \n",
              "1                1.032  "
            ],
            "text/html": [
              "\n",
              "  <div id=\"df-d9ec0dd1-3018-4667-9256-2a61f3c1a311\" class=\"colab-df-container\">\n",
              "    <div>\n",
              "<style scoped>\n",
              "    .dataframe tbody tr th:only-of-type {\n",
              "        vertical-align: middle;\n",
              "    }\n",
              "\n",
              "    .dataframe tbody tr th {\n",
              "        vertical-align: top;\n",
              "    }\n",
              "\n",
              "    .dataframe thead th {\n",
              "        text-align: right;\n",
              "    }\n",
              "</style>\n",
              "<table border=\"1\" class=\"dataframe\">\n",
              "  <thead>\n",
              "    <tr style=\"text-align: right;\">\n",
              "      <th></th>\n",
              "      <th>Unnamed: 0</th>\n",
              "      <th>name</th>\n",
              "      <th>album</th>\n",
              "      <th>release_date</th>\n",
              "      <th>track_number</th>\n",
              "      <th>id</th>\n",
              "      <th>uri</th>\n",
              "      <th>acousticness</th>\n",
              "      <th>danceability</th>\n",
              "      <th>energy</th>\n",
              "      <th>instrumentalness</th>\n",
              "      <th>liveness</th>\n",
              "      <th>loudness</th>\n",
              "      <th>speechiness</th>\n",
              "      <th>tempo</th>\n",
              "      <th>valence</th>\n",
              "      <th>popularity</th>\n",
              "      <th>duration_ms</th>\n",
              "      <th>duration_minutes</th>\n",
              "      <th>danceability_energy</th>\n",
              "    </tr>\n",
              "  </thead>\n",
              "  <tbody>\n",
              "    <tr>\n",
              "      <th>0</th>\n",
              "      <td>0</td>\n",
              "      <td>Fortnight (feat. Post Malone)</td>\n",
              "      <td>THE TORTURED POETS DEPARTMENT: THE ANTHOLOGY</td>\n",
              "      <td>2024-04-19</td>\n",
              "      <td>1</td>\n",
              "      <td>6dODwocEuGzHAavXqTbwHv</td>\n",
              "      <td>spotify:track:6dODwocEuGzHAavXqTbwHv</td>\n",
              "      <td>0.5020</td>\n",
              "      <td>0.504</td>\n",
              "      <td>0.386</td>\n",
              "      <td>0.000015</td>\n",
              "      <td>0.0961</td>\n",
              "      <td>-10.976</td>\n",
              "      <td>0.0308</td>\n",
              "      <td>192.004</td>\n",
              "      <td>0.281</td>\n",
              "      <td>82</td>\n",
              "      <td>228965</td>\n",
              "      <td>3.816083</td>\n",
              "      <td>0.890</td>\n",
              "    </tr>\n",
              "    <tr>\n",
              "      <th>1</th>\n",
              "      <td>1</td>\n",
              "      <td>The Tortured Poets Department</td>\n",
              "      <td>THE TORTURED POETS DEPARTMENT: THE ANTHOLOGY</td>\n",
              "      <td>2024-04-19</td>\n",
              "      <td>2</td>\n",
              "      <td>4PdLaGZubp4lghChqp8erB</td>\n",
              "      <td>spotify:track:4PdLaGZubp4lghChqp8erB</td>\n",
              "      <td>0.0483</td>\n",
              "      <td>0.604</td>\n",
              "      <td>0.428</td>\n",
              "      <td>0.000000</td>\n",
              "      <td>0.1260</td>\n",
              "      <td>-8.441</td>\n",
              "      <td>0.0255</td>\n",
              "      <td>110.259</td>\n",
              "      <td>0.292</td>\n",
              "      <td>79</td>\n",
              "      <td>293048</td>\n",
              "      <td>4.884133</td>\n",
              "      <td>1.032</td>\n",
              "    </tr>\n",
              "  </tbody>\n",
              "</table>\n",
              "</div>\n",
              "    <div class=\"colab-df-buttons\">\n",
              "\n",
              "  <div class=\"colab-df-container\">\n",
              "    <button class=\"colab-df-convert\" onclick=\"convertToInteractive('df-d9ec0dd1-3018-4667-9256-2a61f3c1a311')\"\n",
              "            title=\"Convert this dataframe to an interactive table.\"\n",
              "            style=\"display:none;\">\n",
              "\n",
              "  <svg xmlns=\"http://www.w3.org/2000/svg\" height=\"24px\" viewBox=\"0 -960 960 960\">\n",
              "    <path d=\"M120-120v-720h720v720H120Zm60-500h600v-160H180v160Zm220 220h160v-160H400v160Zm0 220h160v-160H400v160ZM180-400h160v-160H180v160Zm440 0h160v-160H620v160ZM180-180h160v-160H180v160Zm440 0h160v-160H620v160Z\"/>\n",
              "  </svg>\n",
              "    </button>\n",
              "\n",
              "  <style>\n",
              "    .colab-df-container {\n",
              "      display:flex;\n",
              "      gap: 12px;\n",
              "    }\n",
              "\n",
              "    .colab-df-convert {\n",
              "      background-color: #E8F0FE;\n",
              "      border: none;\n",
              "      border-radius: 50%;\n",
              "      cursor: pointer;\n",
              "      display: none;\n",
              "      fill: #1967D2;\n",
              "      height: 32px;\n",
              "      padding: 0 0 0 0;\n",
              "      width: 32px;\n",
              "    }\n",
              "\n",
              "    .colab-df-convert:hover {\n",
              "      background-color: #E2EBFA;\n",
              "      box-shadow: 0px 1px 2px rgba(60, 64, 67, 0.3), 0px 1px 3px 1px rgba(60, 64, 67, 0.15);\n",
              "      fill: #174EA6;\n",
              "    }\n",
              "\n",
              "    .colab-df-buttons div {\n",
              "      margin-bottom: 4px;\n",
              "    }\n",
              "\n",
              "    [theme=dark] .colab-df-convert {\n",
              "      background-color: #3B4455;\n",
              "      fill: #D2E3FC;\n",
              "    }\n",
              "\n",
              "    [theme=dark] .colab-df-convert:hover {\n",
              "      background-color: #434B5C;\n",
              "      box-shadow: 0px 1px 3px 1px rgba(0, 0, 0, 0.15);\n",
              "      filter: drop-shadow(0px 1px 2px rgba(0, 0, 0, 0.3));\n",
              "      fill: #FFFFFF;\n",
              "    }\n",
              "  </style>\n",
              "\n",
              "    <script>\n",
              "      const buttonEl =\n",
              "        document.querySelector('#df-d9ec0dd1-3018-4667-9256-2a61f3c1a311 button.colab-df-convert');\n",
              "      buttonEl.style.display =\n",
              "        google.colab.kernel.accessAllowed ? 'block' : 'none';\n",
              "\n",
              "      async function convertToInteractive(key) {\n",
              "        const element = document.querySelector('#df-d9ec0dd1-3018-4667-9256-2a61f3c1a311');\n",
              "        const dataTable =\n",
              "          await google.colab.kernel.invokeFunction('convertToInteractive',\n",
              "                                                    [key], {});\n",
              "        if (!dataTable) return;\n",
              "\n",
              "        const docLinkHtml = 'Like what you see? Visit the ' +\n",
              "          '<a target=\"_blank\" href=https://colab.research.google.com/notebooks/data_table.ipynb>data table notebook</a>'\n",
              "          + ' to learn more about interactive tables.';\n",
              "        element.innerHTML = '';\n",
              "        dataTable['output_type'] = 'display_data';\n",
              "        await google.colab.output.renderOutput(dataTable, element);\n",
              "        const docLink = document.createElement('div');\n",
              "        docLink.innerHTML = docLinkHtml;\n",
              "        element.appendChild(docLink);\n",
              "      }\n",
              "    </script>\n",
              "  </div>\n",
              "\n",
              "\n",
              "<div id=\"df-f87c960e-00c5-49b1-9e22-988c085717e8\">\n",
              "  <button class=\"colab-df-quickchart\" onclick=\"quickchart('df-f87c960e-00c5-49b1-9e22-988c085717e8')\"\n",
              "            title=\"Suggest charts\"\n",
              "            style=\"display:none;\">\n",
              "\n",
              "<svg xmlns=\"http://www.w3.org/2000/svg\" height=\"24px\"viewBox=\"0 0 24 24\"\n",
              "     width=\"24px\">\n",
              "    <g>\n",
              "        <path d=\"M19 3H5c-1.1 0-2 .9-2 2v14c0 1.1.9 2 2 2h14c1.1 0 2-.9 2-2V5c0-1.1-.9-2-2-2zM9 17H7v-7h2v7zm4 0h-2V7h2v10zm4 0h-2v-4h2v4z\"/>\n",
              "    </g>\n",
              "</svg>\n",
              "  </button>\n",
              "\n",
              "<style>\n",
              "  .colab-df-quickchart {\n",
              "      --bg-color: #E8F0FE;\n",
              "      --fill-color: #1967D2;\n",
              "      --hover-bg-color: #E2EBFA;\n",
              "      --hover-fill-color: #174EA6;\n",
              "      --disabled-fill-color: #AAA;\n",
              "      --disabled-bg-color: #DDD;\n",
              "  }\n",
              "\n",
              "  [theme=dark] .colab-df-quickchart {\n",
              "      --bg-color: #3B4455;\n",
              "      --fill-color: #D2E3FC;\n",
              "      --hover-bg-color: #434B5C;\n",
              "      --hover-fill-color: #FFFFFF;\n",
              "      --disabled-bg-color: #3B4455;\n",
              "      --disabled-fill-color: #666;\n",
              "  }\n",
              "\n",
              "  .colab-df-quickchart {\n",
              "    background-color: var(--bg-color);\n",
              "    border: none;\n",
              "    border-radius: 50%;\n",
              "    cursor: pointer;\n",
              "    display: none;\n",
              "    fill: var(--fill-color);\n",
              "    height: 32px;\n",
              "    padding: 0;\n",
              "    width: 32px;\n",
              "  }\n",
              "\n",
              "  .colab-df-quickchart:hover {\n",
              "    background-color: var(--hover-bg-color);\n",
              "    box-shadow: 0 1px 2px rgba(60, 64, 67, 0.3), 0 1px 3px 1px rgba(60, 64, 67, 0.15);\n",
              "    fill: var(--button-hover-fill-color);\n",
              "  }\n",
              "\n",
              "  .colab-df-quickchart-complete:disabled,\n",
              "  .colab-df-quickchart-complete:disabled:hover {\n",
              "    background-color: var(--disabled-bg-color);\n",
              "    fill: var(--disabled-fill-color);\n",
              "    box-shadow: none;\n",
              "  }\n",
              "\n",
              "  .colab-df-spinner {\n",
              "    border: 2px solid var(--fill-color);\n",
              "    border-color: transparent;\n",
              "    border-bottom-color: var(--fill-color);\n",
              "    animation:\n",
              "      spin 1s steps(1) infinite;\n",
              "  }\n",
              "\n",
              "  @keyframes spin {\n",
              "    0% {\n",
              "      border-color: transparent;\n",
              "      border-bottom-color: var(--fill-color);\n",
              "      border-left-color: var(--fill-color);\n",
              "    }\n",
              "    20% {\n",
              "      border-color: transparent;\n",
              "      border-left-color: var(--fill-color);\n",
              "      border-top-color: var(--fill-color);\n",
              "    }\n",
              "    30% {\n",
              "      border-color: transparent;\n",
              "      border-left-color: var(--fill-color);\n",
              "      border-top-color: var(--fill-color);\n",
              "      border-right-color: var(--fill-color);\n",
              "    }\n",
              "    40% {\n",
              "      border-color: transparent;\n",
              "      border-right-color: var(--fill-color);\n",
              "      border-top-color: var(--fill-color);\n",
              "    }\n",
              "    60% {\n",
              "      border-color: transparent;\n",
              "      border-right-color: var(--fill-color);\n",
              "    }\n",
              "    80% {\n",
              "      border-color: transparent;\n",
              "      border-right-color: var(--fill-color);\n",
              "      border-bottom-color: var(--fill-color);\n",
              "    }\n",
              "    90% {\n",
              "      border-color: transparent;\n",
              "      border-bottom-color: var(--fill-color);\n",
              "    }\n",
              "  }\n",
              "</style>\n",
              "\n",
              "  <script>\n",
              "    async function quickchart(key) {\n",
              "      const quickchartButtonEl =\n",
              "        document.querySelector('#' + key + ' button');\n",
              "      quickchartButtonEl.disabled = true;  // To prevent multiple clicks.\n",
              "      quickchartButtonEl.classList.add('colab-df-spinner');\n",
              "      try {\n",
              "        const charts = await google.colab.kernel.invokeFunction(\n",
              "            'suggestCharts', [key], {});\n",
              "      } catch (error) {\n",
              "        console.error('Error during call to suggestCharts:', error);\n",
              "      }\n",
              "      quickchartButtonEl.classList.remove('colab-df-spinner');\n",
              "      quickchartButtonEl.classList.add('colab-df-quickchart-complete');\n",
              "    }\n",
              "    (() => {\n",
              "      let quickchartButtonEl =\n",
              "        document.querySelector('#df-f87c960e-00c5-49b1-9e22-988c085717e8 button');\n",
              "      quickchartButtonEl.style.display =\n",
              "        google.colab.kernel.accessAllowed ? 'block' : 'none';\n",
              "    })();\n",
              "  </script>\n",
              "</div>\n",
              "\n",
              "    </div>\n",
              "  </div>\n"
            ],
            "application/vnd.google.colaboratory.intrinsic+json": {
              "type": "dataframe",
              "variable_name": "taylor_df",
              "summary": "{\n  \"name\": \"taylor_df\",\n  \"rows\": 582,\n  \"fields\": [\n    {\n      \"column\": \"Unnamed: 0\",\n      \"properties\": {\n        \"dtype\": \"number\",\n        \"std\": 168,\n        \"min\": 0,\n        \"max\": 581,\n        \"num_unique_values\": 582,\n        \"samples\": [\n          577,\n          280,\n          104\n        ],\n        \"semantic_type\": \"\",\n        \"description\": \"\"\n      }\n    },\n    {\n      \"column\": \"name\",\n      \"properties\": {\n        \"dtype\": \"string\",\n        \"num_unique_values\": 363,\n        \"samples\": [\n          \"ivy\",\n          \"Style (Taylor's Version)\",\n          \"Clara Bow\"\n        ],\n        \"semantic_type\": \"\",\n        \"description\": \"\"\n      }\n    },\n    {\n      \"column\": \"album\",\n      \"properties\": {\n        \"dtype\": \"category\",\n        \"num_unique_values\": 29,\n        \"samples\": [\n          \"Live From Clear Channel Stripped 2008\",\n          \"reputation\",\n          \"folklore: the long pond studio sessions (from the Disney+ special) [deluxe edition]\"\n        ],\n        \"semantic_type\": \"\",\n        \"description\": \"\"\n      }\n    },\n    {\n      \"column\": \"release_date\",\n      \"properties\": {\n        \"dtype\": \"object\",\n        \"num_unique_values\": 25,\n        \"samples\": [\n          \"2021-11-12\",\n          \"2017-11-10\",\n          \"2024-04-19\"\n        ],\n        \"semantic_type\": \"\",\n        \"description\": \"\"\n      }\n    },\n    {\n      \"column\": \"track_number\",\n      \"properties\": {\n        \"dtype\": \"number\",\n        \"std\": 8,\n        \"min\": 1,\n        \"max\": 46,\n        \"num_unique_values\": 46,\n        \"samples\": [\n          40,\n          26,\n          27\n        ],\n        \"semantic_type\": \"\",\n        \"description\": \"\"\n      }\n    },\n    {\n      \"column\": \"id\",\n      \"properties\": {\n        \"dtype\": \"string\",\n        \"num_unique_values\": 582,\n        \"samples\": [\n          \"1j6gmK6u4WNI33lMZ8dC1s\",\n          \"4MGexoZc12lqE0hYkq9YYx\",\n          \"3yNJkriPzWjkkDAWHIAVUq\"\n        ],\n        \"semantic_type\": \"\",\n        \"description\": \"\"\n      }\n    },\n    {\n      \"column\": \"uri\",\n      \"properties\": {\n        \"dtype\": \"string\",\n        \"num_unique_values\": 582,\n        \"samples\": [\n          \"spotify:track:1j6gmK6u4WNI33lMZ8dC1s\",\n          \"spotify:track:4MGexoZc12lqE0hYkq9YYx\",\n          \"spotify:track:3yNJkriPzWjkkDAWHIAVUq\"\n        ],\n        \"semantic_type\": \"\",\n        \"description\": \"\"\n      }\n    },\n    {\n      \"column\": \"acousticness\",\n      \"properties\": {\n        \"dtype\": \"number\",\n        \"std\": 0.3271711830864459,\n        \"min\": 0.000182,\n        \"max\": 0.971,\n        \"num_unique_values\": 391,\n        \"samples\": [\n          0.315,\n          0.0846,\n          0.000456\n        ],\n        \"semantic_type\": \"\",\n        \"description\": \"\"\n      }\n    },\n    {\n      \"column\": \"danceability\",\n      \"properties\": {\n        \"dtype\": \"number\",\n        \"std\": 0.1145533695498324,\n        \"min\": 0.175,\n        \"max\": 0.897,\n        \"num_unique_values\": 268,\n        \"samples\": [\n          0.788,\n          0.607,\n          0.609\n        ],\n        \"semantic_type\": \"\",\n        \"description\": \"\"\n      }\n    },\n    {\n      \"column\": \"energy\",\n      \"properties\": {\n        \"dtype\": \"number\",\n        \"std\": 0.1911016864345896,\n        \"min\": 0.118,\n        \"max\": 0.948,\n        \"num_unique_values\": 332,\n        \"samples\": [\n          0.587,\n          0.696,\n          0.648\n        ],\n        \"semantic_type\": \"\",\n        \"description\": \"\"\n      }\n    },\n    {\n      \"column\": \"instrumentalness\",\n      \"properties\": {\n        \"dtype\": \"number\",\n        \"std\": 0.027820740033169578,\n        \"min\": 0.0,\n        \"max\": 0.333,\n        \"num_unique_values\": 213,\n        \"samples\": [\n          0.000423,\n          0.000372,\n          0.000136\n        ],\n        \"semantic_type\": \"\",\n        \"description\": \"\"\n      }\n    },\n    {\n      \"column\": \"liveness\",\n      \"properties\": {\n        \"dtype\": \"number\",\n        \"std\": 0.1365631331981037,\n        \"min\": 0.0335,\n        \"max\": 0.931,\n        \"num_unique_values\": 269,\n        \"samples\": [\n          0.188,\n          0.169,\n          0.0877\n        ],\n        \"semantic_type\": \"\",\n        \"description\": \"\"\n      }\n    },\n    {\n      \"column\": \"loudness\",\n      \"properties\": {\n        \"dtype\": \"number\",\n        \"std\": 2.904653158687282,\n        \"min\": -17.932,\n        \"max\": -1.927,\n        \"num_unique_values\": 425,\n        \"samples\": [\n          -4.919,\n          -8.29,\n          -9.837\n        ],\n        \"semantic_type\": \"\",\n        \"description\": \"\"\n      }\n    },\n    {\n      \"column\": \"speechiness\",\n      \"properties\": {\n        \"dtype\": \"number\",\n        \"std\": 0.0708593028340403,\n        \"min\": 0.0231,\n        \"max\": 0.912,\n        \"num_unique_values\": 274,\n        \"samples\": [\n          0.0316,\n          0.054,\n          0.0676\n        ],\n        \"semantic_type\": \"\",\n        \"description\": \"\"\n      }\n    },\n    {\n      \"column\": \"tempo\",\n      \"properties\": {\n        \"dtype\": \"number\",\n        \"std\": 30.40848479460738,\n        \"min\": 68.097,\n        \"max\": 208.918,\n        \"num_unique_values\": 439,\n        \"samples\": [\n          114.974,\n          110.021,\n          139.813\n        ],\n        \"semantic_type\": \"\",\n        \"description\": \"\"\n      }\n    },\n    {\n      \"column\": \"valence\",\n      \"properties\": {\n        \"dtype\": \"number\",\n        \"std\": 0.1958289395437322,\n        \"min\": 0.0384,\n        \"max\": 0.943,\n        \"num_unique_values\": 308,\n        \"samples\": [\n          0.825,\n          0.238,\n          0.552\n        ],\n        \"semantic_type\": \"\",\n        \"description\": \"\"\n      }\n    },\n    {\n      \"column\": \"popularity\",\n      \"properties\": {\n        \"dtype\": \"number\",\n        \"std\": 16,\n        \"min\": 0,\n        \"max\": 93,\n        \"num_unique_values\": 65,\n        \"samples\": [\n          27,\n          41,\n          82\n        ],\n        \"semantic_type\": \"\",\n        \"description\": \"\"\n      }\n    },\n    {\n      \"column\": \"duration_ms\",\n      \"properties\": {\n        \"dtype\": \"number\",\n        \"std\": 45928,\n        \"min\": 83253,\n        \"max\": 613026,\n        \"num_unique_values\": 407,\n        \"samples\": [\n          252385,\n          190360,\n          295720\n        ],\n        \"semantic_type\": \"\",\n        \"description\": \"\"\n      }\n    },\n    {\n      \"column\": \"duration_minutes\",\n      \"properties\": {\n        \"dtype\": \"number\",\n        \"std\": 0.765482571756935,\n        \"min\": 1.38755,\n        \"max\": 10.2171,\n        \"num_unique_values\": 407,\n        \"samples\": [\n          4.206416666666667,\n          3.1726666666666667,\n          4.9286666666666665\n        ],\n        \"semantic_type\": \"\",\n        \"description\": \"\"\n      }\n    },\n    {\n      \"column\": \"danceability_energy\",\n      \"properties\": {\n        \"dtype\": \"number\",\n        \"std\": 0.22620218811529014,\n        \"min\": 0.442,\n        \"max\": 1.58,\n        \"num_unique_values\": 353,\n        \"samples\": [\n          1.3559999999999999,\n          1.161,\n          1.377\n        ],\n        \"semantic_type\": \"\",\n        \"description\": \"\"\n      }\n    }\n  ]\n}"
            }
          },
          "metadata": {},
          "execution_count": 53
        }
      ]
    },
    {
      "cell_type": "markdown",
      "source": [
        "You can also select particular columns in the dataframe"
      ],
      "metadata": {
        "id": "onvCoYb7835r"
      }
    },
    {
      "cell_type": "code",
      "source": [
        "taylor_songs_df = taylor_df[['name', 'album', 'popularity', 'tempo']]\n",
        "taylor_songs_df.head()"
      ],
      "metadata": {
        "colab": {
          "base_uri": "https://localhost:8080/",
          "height": 204
        },
        "id": "m0oLV7Al8Wr5",
        "outputId": "b7bdea57-7a53-4a02-83f2-634715f16ddc"
      },
      "execution_count": null,
      "outputs": [
        {
          "output_type": "execute_result",
          "data": {
            "text/plain": [
              "                                   name  \\\n",
              "0         Fortnight (feat. Post Malone)   \n",
              "1         The Tortured Poets Department   \n",
              "2  My Boy Only Breaks His Favorite Toys   \n",
              "3                              Down Bad   \n",
              "4                       So Long, London   \n",
              "\n",
              "                                          album  popularity    tempo  \n",
              "0  THE TORTURED POETS DEPARTMENT: THE ANTHOLOGY          82  192.004  \n",
              "1  THE TORTURED POETS DEPARTMENT: THE ANTHOLOGY          79  110.259  \n",
              "2  THE TORTURED POETS DEPARTMENT: THE ANTHOLOGY          80   97.073  \n",
              "3  THE TORTURED POETS DEPARTMENT: THE ANTHOLOGY          82  159.707  \n",
              "4  THE TORTURED POETS DEPARTMENT: THE ANTHOLOGY          80  160.218  "
            ],
            "text/html": [
              "\n",
              "  <div id=\"df-42c14f9c-e717-48ba-a9f1-e313fbc2c6a0\" class=\"colab-df-container\">\n",
              "    <div>\n",
              "<style scoped>\n",
              "    .dataframe tbody tr th:only-of-type {\n",
              "        vertical-align: middle;\n",
              "    }\n",
              "\n",
              "    .dataframe tbody tr th {\n",
              "        vertical-align: top;\n",
              "    }\n",
              "\n",
              "    .dataframe thead th {\n",
              "        text-align: right;\n",
              "    }\n",
              "</style>\n",
              "<table border=\"1\" class=\"dataframe\">\n",
              "  <thead>\n",
              "    <tr style=\"text-align: right;\">\n",
              "      <th></th>\n",
              "      <th>name</th>\n",
              "      <th>album</th>\n",
              "      <th>popularity</th>\n",
              "      <th>tempo</th>\n",
              "    </tr>\n",
              "  </thead>\n",
              "  <tbody>\n",
              "    <tr>\n",
              "      <th>0</th>\n",
              "      <td>Fortnight (feat. Post Malone)</td>\n",
              "      <td>THE TORTURED POETS DEPARTMENT: THE ANTHOLOGY</td>\n",
              "      <td>82</td>\n",
              "      <td>192.004</td>\n",
              "    </tr>\n",
              "    <tr>\n",
              "      <th>1</th>\n",
              "      <td>The Tortured Poets Department</td>\n",
              "      <td>THE TORTURED POETS DEPARTMENT: THE ANTHOLOGY</td>\n",
              "      <td>79</td>\n",
              "      <td>110.259</td>\n",
              "    </tr>\n",
              "    <tr>\n",
              "      <th>2</th>\n",
              "      <td>My Boy Only Breaks His Favorite Toys</td>\n",
              "      <td>THE TORTURED POETS DEPARTMENT: THE ANTHOLOGY</td>\n",
              "      <td>80</td>\n",
              "      <td>97.073</td>\n",
              "    </tr>\n",
              "    <tr>\n",
              "      <th>3</th>\n",
              "      <td>Down Bad</td>\n",
              "      <td>THE TORTURED POETS DEPARTMENT: THE ANTHOLOGY</td>\n",
              "      <td>82</td>\n",
              "      <td>159.707</td>\n",
              "    </tr>\n",
              "    <tr>\n",
              "      <th>4</th>\n",
              "      <td>So Long, London</td>\n",
              "      <td>THE TORTURED POETS DEPARTMENT: THE ANTHOLOGY</td>\n",
              "      <td>80</td>\n",
              "      <td>160.218</td>\n",
              "    </tr>\n",
              "  </tbody>\n",
              "</table>\n",
              "</div>\n",
              "    <div class=\"colab-df-buttons\">\n",
              "\n",
              "  <div class=\"colab-df-container\">\n",
              "    <button class=\"colab-df-convert\" onclick=\"convertToInteractive('df-42c14f9c-e717-48ba-a9f1-e313fbc2c6a0')\"\n",
              "            title=\"Convert this dataframe to an interactive table.\"\n",
              "            style=\"display:none;\">\n",
              "\n",
              "  <svg xmlns=\"http://www.w3.org/2000/svg\" height=\"24px\" viewBox=\"0 -960 960 960\">\n",
              "    <path d=\"M120-120v-720h720v720H120Zm60-500h600v-160H180v160Zm220 220h160v-160H400v160Zm0 220h160v-160H400v160ZM180-400h160v-160H180v160Zm440 0h160v-160H620v160ZM180-180h160v-160H180v160Zm440 0h160v-160H620v160Z\"/>\n",
              "  </svg>\n",
              "    </button>\n",
              "\n",
              "  <style>\n",
              "    .colab-df-container {\n",
              "      display:flex;\n",
              "      gap: 12px;\n",
              "    }\n",
              "\n",
              "    .colab-df-convert {\n",
              "      background-color: #E8F0FE;\n",
              "      border: none;\n",
              "      border-radius: 50%;\n",
              "      cursor: pointer;\n",
              "      display: none;\n",
              "      fill: #1967D2;\n",
              "      height: 32px;\n",
              "      padding: 0 0 0 0;\n",
              "      width: 32px;\n",
              "    }\n",
              "\n",
              "    .colab-df-convert:hover {\n",
              "      background-color: #E2EBFA;\n",
              "      box-shadow: 0px 1px 2px rgba(60, 64, 67, 0.3), 0px 1px 3px 1px rgba(60, 64, 67, 0.15);\n",
              "      fill: #174EA6;\n",
              "    }\n",
              "\n",
              "    .colab-df-buttons div {\n",
              "      margin-bottom: 4px;\n",
              "    }\n",
              "\n",
              "    [theme=dark] .colab-df-convert {\n",
              "      background-color: #3B4455;\n",
              "      fill: #D2E3FC;\n",
              "    }\n",
              "\n",
              "    [theme=dark] .colab-df-convert:hover {\n",
              "      background-color: #434B5C;\n",
              "      box-shadow: 0px 1px 3px 1px rgba(0, 0, 0, 0.15);\n",
              "      filter: drop-shadow(0px 1px 2px rgba(0, 0, 0, 0.3));\n",
              "      fill: #FFFFFF;\n",
              "    }\n",
              "  </style>\n",
              "\n",
              "    <script>\n",
              "      const buttonEl =\n",
              "        document.querySelector('#df-42c14f9c-e717-48ba-a9f1-e313fbc2c6a0 button.colab-df-convert');\n",
              "      buttonEl.style.display =\n",
              "        google.colab.kernel.accessAllowed ? 'block' : 'none';\n",
              "\n",
              "      async function convertToInteractive(key) {\n",
              "        const element = document.querySelector('#df-42c14f9c-e717-48ba-a9f1-e313fbc2c6a0');\n",
              "        const dataTable =\n",
              "          await google.colab.kernel.invokeFunction('convertToInteractive',\n",
              "                                                    [key], {});\n",
              "        if (!dataTable) return;\n",
              "\n",
              "        const docLinkHtml = 'Like what you see? Visit the ' +\n",
              "          '<a target=\"_blank\" href=https://colab.research.google.com/notebooks/data_table.ipynb>data table notebook</a>'\n",
              "          + ' to learn more about interactive tables.';\n",
              "        element.innerHTML = '';\n",
              "        dataTable['output_type'] = 'display_data';\n",
              "        await google.colab.output.renderOutput(dataTable, element);\n",
              "        const docLink = document.createElement('div');\n",
              "        docLink.innerHTML = docLinkHtml;\n",
              "        element.appendChild(docLink);\n",
              "      }\n",
              "    </script>\n",
              "  </div>\n",
              "\n",
              "\n",
              "<div id=\"df-f7fd8d02-2360-4e59-801d-48a2453e8b96\">\n",
              "  <button class=\"colab-df-quickchart\" onclick=\"quickchart('df-f7fd8d02-2360-4e59-801d-48a2453e8b96')\"\n",
              "            title=\"Suggest charts\"\n",
              "            style=\"display:none;\">\n",
              "\n",
              "<svg xmlns=\"http://www.w3.org/2000/svg\" height=\"24px\"viewBox=\"0 0 24 24\"\n",
              "     width=\"24px\">\n",
              "    <g>\n",
              "        <path d=\"M19 3H5c-1.1 0-2 .9-2 2v14c0 1.1.9 2 2 2h14c1.1 0 2-.9 2-2V5c0-1.1-.9-2-2-2zM9 17H7v-7h2v7zm4 0h-2V7h2v10zm4 0h-2v-4h2v4z\"/>\n",
              "    </g>\n",
              "</svg>\n",
              "  </button>\n",
              "\n",
              "<style>\n",
              "  .colab-df-quickchart {\n",
              "      --bg-color: #E8F0FE;\n",
              "      --fill-color: #1967D2;\n",
              "      --hover-bg-color: #E2EBFA;\n",
              "      --hover-fill-color: #174EA6;\n",
              "      --disabled-fill-color: #AAA;\n",
              "      --disabled-bg-color: #DDD;\n",
              "  }\n",
              "\n",
              "  [theme=dark] .colab-df-quickchart {\n",
              "      --bg-color: #3B4455;\n",
              "      --fill-color: #D2E3FC;\n",
              "      --hover-bg-color: #434B5C;\n",
              "      --hover-fill-color: #FFFFFF;\n",
              "      --disabled-bg-color: #3B4455;\n",
              "      --disabled-fill-color: #666;\n",
              "  }\n",
              "\n",
              "  .colab-df-quickchart {\n",
              "    background-color: var(--bg-color);\n",
              "    border: none;\n",
              "    border-radius: 50%;\n",
              "    cursor: pointer;\n",
              "    display: none;\n",
              "    fill: var(--fill-color);\n",
              "    height: 32px;\n",
              "    padding: 0;\n",
              "    width: 32px;\n",
              "  }\n",
              "\n",
              "  .colab-df-quickchart:hover {\n",
              "    background-color: var(--hover-bg-color);\n",
              "    box-shadow: 0 1px 2px rgba(60, 64, 67, 0.3), 0 1px 3px 1px rgba(60, 64, 67, 0.15);\n",
              "    fill: var(--button-hover-fill-color);\n",
              "  }\n",
              "\n",
              "  .colab-df-quickchart-complete:disabled,\n",
              "  .colab-df-quickchart-complete:disabled:hover {\n",
              "    background-color: var(--disabled-bg-color);\n",
              "    fill: var(--disabled-fill-color);\n",
              "    box-shadow: none;\n",
              "  }\n",
              "\n",
              "  .colab-df-spinner {\n",
              "    border: 2px solid var(--fill-color);\n",
              "    border-color: transparent;\n",
              "    border-bottom-color: var(--fill-color);\n",
              "    animation:\n",
              "      spin 1s steps(1) infinite;\n",
              "  }\n",
              "\n",
              "  @keyframes spin {\n",
              "    0% {\n",
              "      border-color: transparent;\n",
              "      border-bottom-color: var(--fill-color);\n",
              "      border-left-color: var(--fill-color);\n",
              "    }\n",
              "    20% {\n",
              "      border-color: transparent;\n",
              "      border-left-color: var(--fill-color);\n",
              "      border-top-color: var(--fill-color);\n",
              "    }\n",
              "    30% {\n",
              "      border-color: transparent;\n",
              "      border-left-color: var(--fill-color);\n",
              "      border-top-color: var(--fill-color);\n",
              "      border-right-color: var(--fill-color);\n",
              "    }\n",
              "    40% {\n",
              "      border-color: transparent;\n",
              "      border-right-color: var(--fill-color);\n",
              "      border-top-color: var(--fill-color);\n",
              "    }\n",
              "    60% {\n",
              "      border-color: transparent;\n",
              "      border-right-color: var(--fill-color);\n",
              "    }\n",
              "    80% {\n",
              "      border-color: transparent;\n",
              "      border-right-color: var(--fill-color);\n",
              "      border-bottom-color: var(--fill-color);\n",
              "    }\n",
              "    90% {\n",
              "      border-color: transparent;\n",
              "      border-bottom-color: var(--fill-color);\n",
              "    }\n",
              "  }\n",
              "</style>\n",
              "\n",
              "  <script>\n",
              "    async function quickchart(key) {\n",
              "      const quickchartButtonEl =\n",
              "        document.querySelector('#' + key + ' button');\n",
              "      quickchartButtonEl.disabled = true;  // To prevent multiple clicks.\n",
              "      quickchartButtonEl.classList.add('colab-df-spinner');\n",
              "      try {\n",
              "        const charts = await google.colab.kernel.invokeFunction(\n",
              "            'suggestCharts', [key], {});\n",
              "      } catch (error) {\n",
              "        console.error('Error during call to suggestCharts:', error);\n",
              "      }\n",
              "      quickchartButtonEl.classList.remove('colab-df-spinner');\n",
              "      quickchartButtonEl.classList.add('colab-df-quickchart-complete');\n",
              "    }\n",
              "    (() => {\n",
              "      let quickchartButtonEl =\n",
              "        document.querySelector('#df-f7fd8d02-2360-4e59-801d-48a2453e8b96 button');\n",
              "      quickchartButtonEl.style.display =\n",
              "        google.colab.kernel.accessAllowed ? 'block' : 'none';\n",
              "    })();\n",
              "  </script>\n",
              "</div>\n",
              "\n",
              "    </div>\n",
              "  </div>\n"
            ],
            "application/vnd.google.colaboratory.intrinsic+json": {
              "type": "dataframe",
              "variable_name": "taylor_songs_df",
              "summary": "{\n  \"name\": \"taylor_songs_df\",\n  \"rows\": 582,\n  \"fields\": [\n    {\n      \"column\": \"name\",\n      \"properties\": {\n        \"dtype\": \"string\",\n        \"num_unique_values\": 363,\n        \"samples\": [\n          \"ivy\",\n          \"Style (Taylor's Version)\",\n          \"Clara Bow\"\n        ],\n        \"semantic_type\": \"\",\n        \"description\": \"\"\n      }\n    },\n    {\n      \"column\": \"album\",\n      \"properties\": {\n        \"dtype\": \"category\",\n        \"num_unique_values\": 29,\n        \"samples\": [\n          \"Live From Clear Channel Stripped 2008\",\n          \"reputation\",\n          \"folklore: the long pond studio sessions (from the Disney+ special) [deluxe edition]\"\n        ],\n        \"semantic_type\": \"\",\n        \"description\": \"\"\n      }\n    },\n    {\n      \"column\": \"popularity\",\n      \"properties\": {\n        \"dtype\": \"number\",\n        \"std\": 16,\n        \"min\": 0,\n        \"max\": 93,\n        \"num_unique_values\": 65,\n        \"samples\": [\n          27,\n          41,\n          82\n        ],\n        \"semantic_type\": \"\",\n        \"description\": \"\"\n      }\n    },\n    {\n      \"column\": \"tempo\",\n      \"properties\": {\n        \"dtype\": \"number\",\n        \"std\": 30.40848479460738,\n        \"min\": 68.097,\n        \"max\": 208.918,\n        \"num_unique_values\": 439,\n        \"samples\": [\n          114.974,\n          110.021,\n          139.813\n        ],\n        \"semantic_type\": \"\",\n        \"description\": \"\"\n      }\n    }\n  ]\n}"
            }
          },
          "metadata": {},
          "execution_count": 54
        }
      ]
    },
    {
      "cell_type": "markdown",
      "source": [
        "as well as particular rows"
      ],
      "metadata": {
        "id": "Wl0Xckbu9sLV"
      }
    },
    {
      "cell_type": "code",
      "source": [
        "taylor_songs_df['album'].unique()"
      ],
      "metadata": {
        "colab": {
          "base_uri": "https://localhost:8080/"
        },
        "id": "vAa5Jtgr96LS",
        "outputId": "4bb04815-c81a-4dee-8b7a-778a0deb9493"
      },
      "execution_count": null,
      "outputs": [
        {
          "output_type": "execute_result",
          "data": {
            "text/plain": [
              "array(['THE TORTURED POETS DEPARTMENT: THE ANTHOLOGY',\n",
              "       'THE TORTURED POETS DEPARTMENT',\n",
              "       \"1989 (Taylor's Version) [Deluxe]\", \"1989 (Taylor's Version)\",\n",
              "       \"Speak Now (Taylor's Version)\", 'Midnights (The Til Dawn Edition)',\n",
              "       'Midnights (3am Edition)', 'Midnights', \"Red (Taylor's Version)\",\n",
              "       \"Fearless (Taylor's Version)\", 'evermore (deluxe version)',\n",
              "       'evermore',\n",
              "       'folklore: the long pond studio sessions (from the Disney+ special) [deluxe edition]',\n",
              "       'folklore (deluxe version)', 'folklore', 'Lover', 'reputation',\n",
              "       'reputation Stadium Tour Surprise Song Playlist', '1989 (Deluxe)',\n",
              "       '1989', 'Red (Deluxe Edition)', 'Red', 'Speak Now World Tour Live',\n",
              "       'Speak Now', 'Speak Now (Deluxe Package)',\n",
              "       'Fearless (Platinum Edition)', 'Fearless (International Version)',\n",
              "       'Live From Clear Channel Stripped 2008',\n",
              "       'Taylor Swift (Deluxe Edition)'], dtype=object)"
            ]
          },
          "metadata": {},
          "execution_count": 56
        }
      ]
    },
    {
      "cell_type": "code",
      "source": [
        "taylor_midnights_df = taylor_songs_df[taylor_songs_df['album']=='Midnights (3am Edition)']\n",
        "taylor_midnights_df.head()"
      ],
      "metadata": {
        "colab": {
          "base_uri": "https://localhost:8080/",
          "height": 204
        },
        "id": "5l2yKiie8IQN",
        "outputId": "8f68259c-84c3-41b3-bf94-7fce9729a439"
      },
      "execution_count": null,
      "outputs": [
        {
          "output_type": "execute_result",
          "data": {
            "text/plain": [
              "                                       name                    album  \\\n",
              "135                           Lavender Haze  Midnights (3am Edition)   \n",
              "136                                  Maroon  Midnights (3am Edition)   \n",
              "137                               Anti-Hero  Midnights (3am Edition)   \n",
              "138  Snow On The Beach (feat. Lana Del Rey)  Midnights (3am Edition)   \n",
              "139                 You're On Your Own, Kid  Midnights (3am Edition)   \n",
              "\n",
              "     popularity    tempo  \n",
              "135          61   97.050  \n",
              "136          61  108.058  \n",
              "137          62   96.888  \n",
              "138          62  110.021  \n",
              "139          62  120.032  "
            ],
            "text/html": [
              "\n",
              "  <div id=\"df-e0957154-517c-4004-bfae-18d432f09d13\" class=\"colab-df-container\">\n",
              "    <div>\n",
              "<style scoped>\n",
              "    .dataframe tbody tr th:only-of-type {\n",
              "        vertical-align: middle;\n",
              "    }\n",
              "\n",
              "    .dataframe tbody tr th {\n",
              "        vertical-align: top;\n",
              "    }\n",
              "\n",
              "    .dataframe thead th {\n",
              "        text-align: right;\n",
              "    }\n",
              "</style>\n",
              "<table border=\"1\" class=\"dataframe\">\n",
              "  <thead>\n",
              "    <tr style=\"text-align: right;\">\n",
              "      <th></th>\n",
              "      <th>name</th>\n",
              "      <th>album</th>\n",
              "      <th>popularity</th>\n",
              "      <th>tempo</th>\n",
              "    </tr>\n",
              "  </thead>\n",
              "  <tbody>\n",
              "    <tr>\n",
              "      <th>135</th>\n",
              "      <td>Lavender Haze</td>\n",
              "      <td>Midnights (3am Edition)</td>\n",
              "      <td>61</td>\n",
              "      <td>97.050</td>\n",
              "    </tr>\n",
              "    <tr>\n",
              "      <th>136</th>\n",
              "      <td>Maroon</td>\n",
              "      <td>Midnights (3am Edition)</td>\n",
              "      <td>61</td>\n",
              "      <td>108.058</td>\n",
              "    </tr>\n",
              "    <tr>\n",
              "      <th>137</th>\n",
              "      <td>Anti-Hero</td>\n",
              "      <td>Midnights (3am Edition)</td>\n",
              "      <td>62</td>\n",
              "      <td>96.888</td>\n",
              "    </tr>\n",
              "    <tr>\n",
              "      <th>138</th>\n",
              "      <td>Snow On The Beach (feat. Lana Del Rey)</td>\n",
              "      <td>Midnights (3am Edition)</td>\n",
              "      <td>62</td>\n",
              "      <td>110.021</td>\n",
              "    </tr>\n",
              "    <tr>\n",
              "      <th>139</th>\n",
              "      <td>You're On Your Own, Kid</td>\n",
              "      <td>Midnights (3am Edition)</td>\n",
              "      <td>62</td>\n",
              "      <td>120.032</td>\n",
              "    </tr>\n",
              "  </tbody>\n",
              "</table>\n",
              "</div>\n",
              "    <div class=\"colab-df-buttons\">\n",
              "\n",
              "  <div class=\"colab-df-container\">\n",
              "    <button class=\"colab-df-convert\" onclick=\"convertToInteractive('df-e0957154-517c-4004-bfae-18d432f09d13')\"\n",
              "            title=\"Convert this dataframe to an interactive table.\"\n",
              "            style=\"display:none;\">\n",
              "\n",
              "  <svg xmlns=\"http://www.w3.org/2000/svg\" height=\"24px\" viewBox=\"0 -960 960 960\">\n",
              "    <path d=\"M120-120v-720h720v720H120Zm60-500h600v-160H180v160Zm220 220h160v-160H400v160Zm0 220h160v-160H400v160ZM180-400h160v-160H180v160Zm440 0h160v-160H620v160ZM180-180h160v-160H180v160Zm440 0h160v-160H620v160Z\"/>\n",
              "  </svg>\n",
              "    </button>\n",
              "\n",
              "  <style>\n",
              "    .colab-df-container {\n",
              "      display:flex;\n",
              "      gap: 12px;\n",
              "    }\n",
              "\n",
              "    .colab-df-convert {\n",
              "      background-color: #E8F0FE;\n",
              "      border: none;\n",
              "      border-radius: 50%;\n",
              "      cursor: pointer;\n",
              "      display: none;\n",
              "      fill: #1967D2;\n",
              "      height: 32px;\n",
              "      padding: 0 0 0 0;\n",
              "      width: 32px;\n",
              "    }\n",
              "\n",
              "    .colab-df-convert:hover {\n",
              "      background-color: #E2EBFA;\n",
              "      box-shadow: 0px 1px 2px rgba(60, 64, 67, 0.3), 0px 1px 3px 1px rgba(60, 64, 67, 0.15);\n",
              "      fill: #174EA6;\n",
              "    }\n",
              "\n",
              "    .colab-df-buttons div {\n",
              "      margin-bottom: 4px;\n",
              "    }\n",
              "\n",
              "    [theme=dark] .colab-df-convert {\n",
              "      background-color: #3B4455;\n",
              "      fill: #D2E3FC;\n",
              "    }\n",
              "\n",
              "    [theme=dark] .colab-df-convert:hover {\n",
              "      background-color: #434B5C;\n",
              "      box-shadow: 0px 1px 3px 1px rgba(0, 0, 0, 0.15);\n",
              "      filter: drop-shadow(0px 1px 2px rgba(0, 0, 0, 0.3));\n",
              "      fill: #FFFFFF;\n",
              "    }\n",
              "  </style>\n",
              "\n",
              "    <script>\n",
              "      const buttonEl =\n",
              "        document.querySelector('#df-e0957154-517c-4004-bfae-18d432f09d13 button.colab-df-convert');\n",
              "      buttonEl.style.display =\n",
              "        google.colab.kernel.accessAllowed ? 'block' : 'none';\n",
              "\n",
              "      async function convertToInteractive(key) {\n",
              "        const element = document.querySelector('#df-e0957154-517c-4004-bfae-18d432f09d13');\n",
              "        const dataTable =\n",
              "          await google.colab.kernel.invokeFunction('convertToInteractive',\n",
              "                                                    [key], {});\n",
              "        if (!dataTable) return;\n",
              "\n",
              "        const docLinkHtml = 'Like what you see? Visit the ' +\n",
              "          '<a target=\"_blank\" href=https://colab.research.google.com/notebooks/data_table.ipynb>data table notebook</a>'\n",
              "          + ' to learn more about interactive tables.';\n",
              "        element.innerHTML = '';\n",
              "        dataTable['output_type'] = 'display_data';\n",
              "        await google.colab.output.renderOutput(dataTable, element);\n",
              "        const docLink = document.createElement('div');\n",
              "        docLink.innerHTML = docLinkHtml;\n",
              "        element.appendChild(docLink);\n",
              "      }\n",
              "    </script>\n",
              "  </div>\n",
              "\n",
              "\n",
              "<div id=\"df-7b03ac45-ab44-4a89-866d-1949f826692d\">\n",
              "  <button class=\"colab-df-quickchart\" onclick=\"quickchart('df-7b03ac45-ab44-4a89-866d-1949f826692d')\"\n",
              "            title=\"Suggest charts\"\n",
              "            style=\"display:none;\">\n",
              "\n",
              "<svg xmlns=\"http://www.w3.org/2000/svg\" height=\"24px\"viewBox=\"0 0 24 24\"\n",
              "     width=\"24px\">\n",
              "    <g>\n",
              "        <path d=\"M19 3H5c-1.1 0-2 .9-2 2v14c0 1.1.9 2 2 2h14c1.1 0 2-.9 2-2V5c0-1.1-.9-2-2-2zM9 17H7v-7h2v7zm4 0h-2V7h2v10zm4 0h-2v-4h2v4z\"/>\n",
              "    </g>\n",
              "</svg>\n",
              "  </button>\n",
              "\n",
              "<style>\n",
              "  .colab-df-quickchart {\n",
              "      --bg-color: #E8F0FE;\n",
              "      --fill-color: #1967D2;\n",
              "      --hover-bg-color: #E2EBFA;\n",
              "      --hover-fill-color: #174EA6;\n",
              "      --disabled-fill-color: #AAA;\n",
              "      --disabled-bg-color: #DDD;\n",
              "  }\n",
              "\n",
              "  [theme=dark] .colab-df-quickchart {\n",
              "      --bg-color: #3B4455;\n",
              "      --fill-color: #D2E3FC;\n",
              "      --hover-bg-color: #434B5C;\n",
              "      --hover-fill-color: #FFFFFF;\n",
              "      --disabled-bg-color: #3B4455;\n",
              "      --disabled-fill-color: #666;\n",
              "  }\n",
              "\n",
              "  .colab-df-quickchart {\n",
              "    background-color: var(--bg-color);\n",
              "    border: none;\n",
              "    border-radius: 50%;\n",
              "    cursor: pointer;\n",
              "    display: none;\n",
              "    fill: var(--fill-color);\n",
              "    height: 32px;\n",
              "    padding: 0;\n",
              "    width: 32px;\n",
              "  }\n",
              "\n",
              "  .colab-df-quickchart:hover {\n",
              "    background-color: var(--hover-bg-color);\n",
              "    box-shadow: 0 1px 2px rgba(60, 64, 67, 0.3), 0 1px 3px 1px rgba(60, 64, 67, 0.15);\n",
              "    fill: var(--button-hover-fill-color);\n",
              "  }\n",
              "\n",
              "  .colab-df-quickchart-complete:disabled,\n",
              "  .colab-df-quickchart-complete:disabled:hover {\n",
              "    background-color: var(--disabled-bg-color);\n",
              "    fill: var(--disabled-fill-color);\n",
              "    box-shadow: none;\n",
              "  }\n",
              "\n",
              "  .colab-df-spinner {\n",
              "    border: 2px solid var(--fill-color);\n",
              "    border-color: transparent;\n",
              "    border-bottom-color: var(--fill-color);\n",
              "    animation:\n",
              "      spin 1s steps(1) infinite;\n",
              "  }\n",
              "\n",
              "  @keyframes spin {\n",
              "    0% {\n",
              "      border-color: transparent;\n",
              "      border-bottom-color: var(--fill-color);\n",
              "      border-left-color: var(--fill-color);\n",
              "    }\n",
              "    20% {\n",
              "      border-color: transparent;\n",
              "      border-left-color: var(--fill-color);\n",
              "      border-top-color: var(--fill-color);\n",
              "    }\n",
              "    30% {\n",
              "      border-color: transparent;\n",
              "      border-left-color: var(--fill-color);\n",
              "      border-top-color: var(--fill-color);\n",
              "      border-right-color: var(--fill-color);\n",
              "    }\n",
              "    40% {\n",
              "      border-color: transparent;\n",
              "      border-right-color: var(--fill-color);\n",
              "      border-top-color: var(--fill-color);\n",
              "    }\n",
              "    60% {\n",
              "      border-color: transparent;\n",
              "      border-right-color: var(--fill-color);\n",
              "    }\n",
              "    80% {\n",
              "      border-color: transparent;\n",
              "      border-right-color: var(--fill-color);\n",
              "      border-bottom-color: var(--fill-color);\n",
              "    }\n",
              "    90% {\n",
              "      border-color: transparent;\n",
              "      border-bottom-color: var(--fill-color);\n",
              "    }\n",
              "  }\n",
              "</style>\n",
              "\n",
              "  <script>\n",
              "    async function quickchart(key) {\n",
              "      const quickchartButtonEl =\n",
              "        document.querySelector('#' + key + ' button');\n",
              "      quickchartButtonEl.disabled = true;  // To prevent multiple clicks.\n",
              "      quickchartButtonEl.classList.add('colab-df-spinner');\n",
              "      try {\n",
              "        const charts = await google.colab.kernel.invokeFunction(\n",
              "            'suggestCharts', [key], {});\n",
              "      } catch (error) {\n",
              "        console.error('Error during call to suggestCharts:', error);\n",
              "      }\n",
              "      quickchartButtonEl.classList.remove('colab-df-spinner');\n",
              "      quickchartButtonEl.classList.add('colab-df-quickchart-complete');\n",
              "    }\n",
              "    (() => {\n",
              "      let quickchartButtonEl =\n",
              "        document.querySelector('#df-7b03ac45-ab44-4a89-866d-1949f826692d button');\n",
              "      quickchartButtonEl.style.display =\n",
              "        google.colab.kernel.accessAllowed ? 'block' : 'none';\n",
              "    })();\n",
              "  </script>\n",
              "</div>\n",
              "\n",
              "    </div>\n",
              "  </div>\n"
            ],
            "application/vnd.google.colaboratory.intrinsic+json": {
              "type": "dataframe",
              "variable_name": "taylor_midnights_df",
              "summary": "{\n  \"name\": \"taylor_midnights_df\",\n  \"rows\": 20,\n  \"fields\": [\n    {\n      \"column\": \"name\",\n      \"properties\": {\n        \"dtype\": \"string\",\n        \"num_unique_values\": 20,\n        \"samples\": [\n          \"Lavender Haze\",\n          \"Glitch\",\n          \"Paris\"\n        ],\n        \"semantic_type\": \"\",\n        \"description\": \"\"\n      }\n    },\n    {\n      \"column\": \"album\",\n      \"properties\": {\n        \"dtype\": \"category\",\n        \"num_unique_values\": 1,\n        \"samples\": [\n          \"Midnights (3am Edition)\"\n        ],\n        \"semantic_type\": \"\",\n        \"description\": \"\"\n      }\n    },\n    {\n      \"column\": \"popularity\",\n      \"properties\": {\n        \"dtype\": \"number\",\n        \"std\": 2,\n        \"min\": 58,\n        \"max\": 69,\n        \"num_unique_values\": 10,\n        \"samples\": [\n          63\n        ],\n        \"semantic_type\": \"\",\n        \"description\": \"\"\n      }\n    },\n    {\n      \"column\": \"tempo\",\n      \"properties\": {\n        \"dtype\": \"number\",\n        \"std\": 29.96718862088123,\n        \"min\": 79.964,\n        \"max\": 176.48,\n        \"num_unique_values\": 20,\n        \"samples\": [\n          97.05\n        ],\n        \"semantic_type\": \"\",\n        \"description\": \"\"\n      }\n    }\n  ]\n}"
            }
          },
          "metadata": {},
          "execution_count": 55
        }
      ]
    },
    {
      "cell_type": "markdown",
      "source": [
        "Let's sort this dataframe by most to least popular"
      ],
      "metadata": {
        "id": "n5xV7Vep-JIp"
      }
    },
    {
      "cell_type": "code",
      "source": [
        "taylor_midnights_df = taylor_midnights_df.sort_values(by='popularity', ascending=False)\n",
        "taylor_midnights_df"
      ],
      "metadata": {
        "colab": {
          "base_uri": "https://localhost:8080/",
          "height": 669
        },
        "id": "I530EbkO-Oad",
        "outputId": "a7fdcbc8-6fcc-4880-928e-86ff67c9c796"
      },
      "execution_count": null,
      "outputs": [
        {
          "output_type": "execute_result",
          "data": {
            "text/plain": [
              "                                       name                    album  \\\n",
              "148                           The Great War  Midnights (3am Edition)   \n",
              "153           Would've, Could've, Should've  Midnights (3am Edition)   \n",
              "150                                   Paris  Midnights (3am Edition)   \n",
              "149               Bigger Than The Whole Sky  Midnights (3am Edition)   \n",
              "145                                   Karma  Midnights (3am Edition)   \n",
              "147                              Mastermind  Midnights (3am Edition)   \n",
              "151                         High Infidelity  Midnights (3am Edition)   \n",
              "154                             Dear Reader  Midnights (3am Edition)   \n",
              "152                                  Glitch  Midnights (3am Edition)   \n",
              "143                               Bejeweled  Midnights (3am Edition)   \n",
              "139                 You're On Your Own, Kid  Midnights (3am Edition)   \n",
              "138  Snow On The Beach (feat. Lana Del Rey)  Midnights (3am Edition)   \n",
              "137                               Anti-Hero  Midnights (3am Edition)   \n",
              "136                                  Maroon  Midnights (3am Edition)   \n",
              "142                          Vigilante Shit  Midnights (3am Edition)   \n",
              "140                           Midnight Rain  Midnights (3am Edition)   \n",
              "135                           Lavender Haze  Midnights (3am Edition)   \n",
              "146                           Sweet Nothing  Midnights (3am Edition)   \n",
              "144                               Labyrinth  Midnights (3am Edition)   \n",
              "141                            Question...?  Midnights (3am Edition)   \n",
              "\n",
              "     popularity    tempo  \n",
              "148          69   96.016  \n",
              "153          68  157.918  \n",
              "150          66  110.940  \n",
              "149          66  165.564  \n",
              "145          65   90.008  \n",
              "147          64  125.960  \n",
              "151          64  175.933  \n",
              "154          64  107.891  \n",
              "152          63  140.881  \n",
              "143          62  163.994  \n",
              "139          62  120.032  \n",
              "138          62  110.021  \n",
              "137          62   96.888  \n",
              "136          61  108.058  \n",
              "142          61   79.964  \n",
              "140          61  137.651  \n",
              "135          61   97.050  \n",
              "146          60  176.480  \n",
              "144          58  110.018  \n",
              "141          58  108.874  "
            ],
            "text/html": [
              "\n",
              "  <div id=\"df-2c1cc3f0-f9ae-4a71-b873-e183d008f216\" class=\"colab-df-container\">\n",
              "    <div>\n",
              "<style scoped>\n",
              "    .dataframe tbody tr th:only-of-type {\n",
              "        vertical-align: middle;\n",
              "    }\n",
              "\n",
              "    .dataframe tbody tr th {\n",
              "        vertical-align: top;\n",
              "    }\n",
              "\n",
              "    .dataframe thead th {\n",
              "        text-align: right;\n",
              "    }\n",
              "</style>\n",
              "<table border=\"1\" class=\"dataframe\">\n",
              "  <thead>\n",
              "    <tr style=\"text-align: right;\">\n",
              "      <th></th>\n",
              "      <th>name</th>\n",
              "      <th>album</th>\n",
              "      <th>popularity</th>\n",
              "      <th>tempo</th>\n",
              "    </tr>\n",
              "  </thead>\n",
              "  <tbody>\n",
              "    <tr>\n",
              "      <th>148</th>\n",
              "      <td>The Great War</td>\n",
              "      <td>Midnights (3am Edition)</td>\n",
              "      <td>69</td>\n",
              "      <td>96.016</td>\n",
              "    </tr>\n",
              "    <tr>\n",
              "      <th>153</th>\n",
              "      <td>Would've, Could've, Should've</td>\n",
              "      <td>Midnights (3am Edition)</td>\n",
              "      <td>68</td>\n",
              "      <td>157.918</td>\n",
              "    </tr>\n",
              "    <tr>\n",
              "      <th>150</th>\n",
              "      <td>Paris</td>\n",
              "      <td>Midnights (3am Edition)</td>\n",
              "      <td>66</td>\n",
              "      <td>110.940</td>\n",
              "    </tr>\n",
              "    <tr>\n",
              "      <th>149</th>\n",
              "      <td>Bigger Than The Whole Sky</td>\n",
              "      <td>Midnights (3am Edition)</td>\n",
              "      <td>66</td>\n",
              "      <td>165.564</td>\n",
              "    </tr>\n",
              "    <tr>\n",
              "      <th>145</th>\n",
              "      <td>Karma</td>\n",
              "      <td>Midnights (3am Edition)</td>\n",
              "      <td>65</td>\n",
              "      <td>90.008</td>\n",
              "    </tr>\n",
              "    <tr>\n",
              "      <th>147</th>\n",
              "      <td>Mastermind</td>\n",
              "      <td>Midnights (3am Edition)</td>\n",
              "      <td>64</td>\n",
              "      <td>125.960</td>\n",
              "    </tr>\n",
              "    <tr>\n",
              "      <th>151</th>\n",
              "      <td>High Infidelity</td>\n",
              "      <td>Midnights (3am Edition)</td>\n",
              "      <td>64</td>\n",
              "      <td>175.933</td>\n",
              "    </tr>\n",
              "    <tr>\n",
              "      <th>154</th>\n",
              "      <td>Dear Reader</td>\n",
              "      <td>Midnights (3am Edition)</td>\n",
              "      <td>64</td>\n",
              "      <td>107.891</td>\n",
              "    </tr>\n",
              "    <tr>\n",
              "      <th>152</th>\n",
              "      <td>Glitch</td>\n",
              "      <td>Midnights (3am Edition)</td>\n",
              "      <td>63</td>\n",
              "      <td>140.881</td>\n",
              "    </tr>\n",
              "    <tr>\n",
              "      <th>143</th>\n",
              "      <td>Bejeweled</td>\n",
              "      <td>Midnights (3am Edition)</td>\n",
              "      <td>62</td>\n",
              "      <td>163.994</td>\n",
              "    </tr>\n",
              "    <tr>\n",
              "      <th>139</th>\n",
              "      <td>You're On Your Own, Kid</td>\n",
              "      <td>Midnights (3am Edition)</td>\n",
              "      <td>62</td>\n",
              "      <td>120.032</td>\n",
              "    </tr>\n",
              "    <tr>\n",
              "      <th>138</th>\n",
              "      <td>Snow On The Beach (feat. Lana Del Rey)</td>\n",
              "      <td>Midnights (3am Edition)</td>\n",
              "      <td>62</td>\n",
              "      <td>110.021</td>\n",
              "    </tr>\n",
              "    <tr>\n",
              "      <th>137</th>\n",
              "      <td>Anti-Hero</td>\n",
              "      <td>Midnights (3am Edition)</td>\n",
              "      <td>62</td>\n",
              "      <td>96.888</td>\n",
              "    </tr>\n",
              "    <tr>\n",
              "      <th>136</th>\n",
              "      <td>Maroon</td>\n",
              "      <td>Midnights (3am Edition)</td>\n",
              "      <td>61</td>\n",
              "      <td>108.058</td>\n",
              "    </tr>\n",
              "    <tr>\n",
              "      <th>142</th>\n",
              "      <td>Vigilante Shit</td>\n",
              "      <td>Midnights (3am Edition)</td>\n",
              "      <td>61</td>\n",
              "      <td>79.964</td>\n",
              "    </tr>\n",
              "    <tr>\n",
              "      <th>140</th>\n",
              "      <td>Midnight Rain</td>\n",
              "      <td>Midnights (3am Edition)</td>\n",
              "      <td>61</td>\n",
              "      <td>137.651</td>\n",
              "    </tr>\n",
              "    <tr>\n",
              "      <th>135</th>\n",
              "      <td>Lavender Haze</td>\n",
              "      <td>Midnights (3am Edition)</td>\n",
              "      <td>61</td>\n",
              "      <td>97.050</td>\n",
              "    </tr>\n",
              "    <tr>\n",
              "      <th>146</th>\n",
              "      <td>Sweet Nothing</td>\n",
              "      <td>Midnights (3am Edition)</td>\n",
              "      <td>60</td>\n",
              "      <td>176.480</td>\n",
              "    </tr>\n",
              "    <tr>\n",
              "      <th>144</th>\n",
              "      <td>Labyrinth</td>\n",
              "      <td>Midnights (3am Edition)</td>\n",
              "      <td>58</td>\n",
              "      <td>110.018</td>\n",
              "    </tr>\n",
              "    <tr>\n",
              "      <th>141</th>\n",
              "      <td>Question...?</td>\n",
              "      <td>Midnights (3am Edition)</td>\n",
              "      <td>58</td>\n",
              "      <td>108.874</td>\n",
              "    </tr>\n",
              "  </tbody>\n",
              "</table>\n",
              "</div>\n",
              "    <div class=\"colab-df-buttons\">\n",
              "\n",
              "  <div class=\"colab-df-container\">\n",
              "    <button class=\"colab-df-convert\" onclick=\"convertToInteractive('df-2c1cc3f0-f9ae-4a71-b873-e183d008f216')\"\n",
              "            title=\"Convert this dataframe to an interactive table.\"\n",
              "            style=\"display:none;\">\n",
              "\n",
              "  <svg xmlns=\"http://www.w3.org/2000/svg\" height=\"24px\" viewBox=\"0 -960 960 960\">\n",
              "    <path d=\"M120-120v-720h720v720H120Zm60-500h600v-160H180v160Zm220 220h160v-160H400v160Zm0 220h160v-160H400v160ZM180-400h160v-160H180v160Zm440 0h160v-160H620v160ZM180-180h160v-160H180v160Zm440 0h160v-160H620v160Z\"/>\n",
              "  </svg>\n",
              "    </button>\n",
              "\n",
              "  <style>\n",
              "    .colab-df-container {\n",
              "      display:flex;\n",
              "      gap: 12px;\n",
              "    }\n",
              "\n",
              "    .colab-df-convert {\n",
              "      background-color: #E8F0FE;\n",
              "      border: none;\n",
              "      border-radius: 50%;\n",
              "      cursor: pointer;\n",
              "      display: none;\n",
              "      fill: #1967D2;\n",
              "      height: 32px;\n",
              "      padding: 0 0 0 0;\n",
              "      width: 32px;\n",
              "    }\n",
              "\n",
              "    .colab-df-convert:hover {\n",
              "      background-color: #E2EBFA;\n",
              "      box-shadow: 0px 1px 2px rgba(60, 64, 67, 0.3), 0px 1px 3px 1px rgba(60, 64, 67, 0.15);\n",
              "      fill: #174EA6;\n",
              "    }\n",
              "\n",
              "    .colab-df-buttons div {\n",
              "      margin-bottom: 4px;\n",
              "    }\n",
              "\n",
              "    [theme=dark] .colab-df-convert {\n",
              "      background-color: #3B4455;\n",
              "      fill: #D2E3FC;\n",
              "    }\n",
              "\n",
              "    [theme=dark] .colab-df-convert:hover {\n",
              "      background-color: #434B5C;\n",
              "      box-shadow: 0px 1px 3px 1px rgba(0, 0, 0, 0.15);\n",
              "      filter: drop-shadow(0px 1px 2px rgba(0, 0, 0, 0.3));\n",
              "      fill: #FFFFFF;\n",
              "    }\n",
              "  </style>\n",
              "\n",
              "    <script>\n",
              "      const buttonEl =\n",
              "        document.querySelector('#df-2c1cc3f0-f9ae-4a71-b873-e183d008f216 button.colab-df-convert');\n",
              "      buttonEl.style.display =\n",
              "        google.colab.kernel.accessAllowed ? 'block' : 'none';\n",
              "\n",
              "      async function convertToInteractive(key) {\n",
              "        const element = document.querySelector('#df-2c1cc3f0-f9ae-4a71-b873-e183d008f216');\n",
              "        const dataTable =\n",
              "          await google.colab.kernel.invokeFunction('convertToInteractive',\n",
              "                                                    [key], {});\n",
              "        if (!dataTable) return;\n",
              "\n",
              "        const docLinkHtml = 'Like what you see? Visit the ' +\n",
              "          '<a target=\"_blank\" href=https://colab.research.google.com/notebooks/data_table.ipynb>data table notebook</a>'\n",
              "          + ' to learn more about interactive tables.';\n",
              "        element.innerHTML = '';\n",
              "        dataTable['output_type'] = 'display_data';\n",
              "        await google.colab.output.renderOutput(dataTable, element);\n",
              "        const docLink = document.createElement('div');\n",
              "        docLink.innerHTML = docLinkHtml;\n",
              "        element.appendChild(docLink);\n",
              "      }\n",
              "    </script>\n",
              "  </div>\n",
              "\n",
              "\n",
              "<div id=\"df-bf97b727-5ca2-4007-8087-32e67f3c317c\">\n",
              "  <button class=\"colab-df-quickchart\" onclick=\"quickchart('df-bf97b727-5ca2-4007-8087-32e67f3c317c')\"\n",
              "            title=\"Suggest charts\"\n",
              "            style=\"display:none;\">\n",
              "\n",
              "<svg xmlns=\"http://www.w3.org/2000/svg\" height=\"24px\"viewBox=\"0 0 24 24\"\n",
              "     width=\"24px\">\n",
              "    <g>\n",
              "        <path d=\"M19 3H5c-1.1 0-2 .9-2 2v14c0 1.1.9 2 2 2h14c1.1 0 2-.9 2-2V5c0-1.1-.9-2-2-2zM9 17H7v-7h2v7zm4 0h-2V7h2v10zm4 0h-2v-4h2v4z\"/>\n",
              "    </g>\n",
              "</svg>\n",
              "  </button>\n",
              "\n",
              "<style>\n",
              "  .colab-df-quickchart {\n",
              "      --bg-color: #E8F0FE;\n",
              "      --fill-color: #1967D2;\n",
              "      --hover-bg-color: #E2EBFA;\n",
              "      --hover-fill-color: #174EA6;\n",
              "      --disabled-fill-color: #AAA;\n",
              "      --disabled-bg-color: #DDD;\n",
              "  }\n",
              "\n",
              "  [theme=dark] .colab-df-quickchart {\n",
              "      --bg-color: #3B4455;\n",
              "      --fill-color: #D2E3FC;\n",
              "      --hover-bg-color: #434B5C;\n",
              "      --hover-fill-color: #FFFFFF;\n",
              "      --disabled-bg-color: #3B4455;\n",
              "      --disabled-fill-color: #666;\n",
              "  }\n",
              "\n",
              "  .colab-df-quickchart {\n",
              "    background-color: var(--bg-color);\n",
              "    border: none;\n",
              "    border-radius: 50%;\n",
              "    cursor: pointer;\n",
              "    display: none;\n",
              "    fill: var(--fill-color);\n",
              "    height: 32px;\n",
              "    padding: 0;\n",
              "    width: 32px;\n",
              "  }\n",
              "\n",
              "  .colab-df-quickchart:hover {\n",
              "    background-color: var(--hover-bg-color);\n",
              "    box-shadow: 0 1px 2px rgba(60, 64, 67, 0.3), 0 1px 3px 1px rgba(60, 64, 67, 0.15);\n",
              "    fill: var(--button-hover-fill-color);\n",
              "  }\n",
              "\n",
              "  .colab-df-quickchart-complete:disabled,\n",
              "  .colab-df-quickchart-complete:disabled:hover {\n",
              "    background-color: var(--disabled-bg-color);\n",
              "    fill: var(--disabled-fill-color);\n",
              "    box-shadow: none;\n",
              "  }\n",
              "\n",
              "  .colab-df-spinner {\n",
              "    border: 2px solid var(--fill-color);\n",
              "    border-color: transparent;\n",
              "    border-bottom-color: var(--fill-color);\n",
              "    animation:\n",
              "      spin 1s steps(1) infinite;\n",
              "  }\n",
              "\n",
              "  @keyframes spin {\n",
              "    0% {\n",
              "      border-color: transparent;\n",
              "      border-bottom-color: var(--fill-color);\n",
              "      border-left-color: var(--fill-color);\n",
              "    }\n",
              "    20% {\n",
              "      border-color: transparent;\n",
              "      border-left-color: var(--fill-color);\n",
              "      border-top-color: var(--fill-color);\n",
              "    }\n",
              "    30% {\n",
              "      border-color: transparent;\n",
              "      border-left-color: var(--fill-color);\n",
              "      border-top-color: var(--fill-color);\n",
              "      border-right-color: var(--fill-color);\n",
              "    }\n",
              "    40% {\n",
              "      border-color: transparent;\n",
              "      border-right-color: var(--fill-color);\n",
              "      border-top-color: var(--fill-color);\n",
              "    }\n",
              "    60% {\n",
              "      border-color: transparent;\n",
              "      border-right-color: var(--fill-color);\n",
              "    }\n",
              "    80% {\n",
              "      border-color: transparent;\n",
              "      border-right-color: var(--fill-color);\n",
              "      border-bottom-color: var(--fill-color);\n",
              "    }\n",
              "    90% {\n",
              "      border-color: transparent;\n",
              "      border-bottom-color: var(--fill-color);\n",
              "    }\n",
              "  }\n",
              "</style>\n",
              "\n",
              "  <script>\n",
              "    async function quickchart(key) {\n",
              "      const quickchartButtonEl =\n",
              "        document.querySelector('#' + key + ' button');\n",
              "      quickchartButtonEl.disabled = true;  // To prevent multiple clicks.\n",
              "      quickchartButtonEl.classList.add('colab-df-spinner');\n",
              "      try {\n",
              "        const charts = await google.colab.kernel.invokeFunction(\n",
              "            'suggestCharts', [key], {});\n",
              "      } catch (error) {\n",
              "        console.error('Error during call to suggestCharts:', error);\n",
              "      }\n",
              "      quickchartButtonEl.classList.remove('colab-df-spinner');\n",
              "      quickchartButtonEl.classList.add('colab-df-quickchart-complete');\n",
              "    }\n",
              "    (() => {\n",
              "      let quickchartButtonEl =\n",
              "        document.querySelector('#df-bf97b727-5ca2-4007-8087-32e67f3c317c button');\n",
              "      quickchartButtonEl.style.display =\n",
              "        google.colab.kernel.accessAllowed ? 'block' : 'none';\n",
              "    })();\n",
              "  </script>\n",
              "</div>\n",
              "\n",
              "  <div id=\"id_f73d16f6-a01a-49f2-921b-b7dcfbc2e9e4\">\n",
              "    <style>\n",
              "      .colab-df-generate {\n",
              "        background-color: #E8F0FE;\n",
              "        border: none;\n",
              "        border-radius: 50%;\n",
              "        cursor: pointer;\n",
              "        display: none;\n",
              "        fill: #1967D2;\n",
              "        height: 32px;\n",
              "        padding: 0 0 0 0;\n",
              "        width: 32px;\n",
              "      }\n",
              "\n",
              "      .colab-df-generate:hover {\n",
              "        background-color: #E2EBFA;\n",
              "        box-shadow: 0px 1px 2px rgba(60, 64, 67, 0.3), 0px 1px 3px 1px rgba(60, 64, 67, 0.15);\n",
              "        fill: #174EA6;\n",
              "      }\n",
              "\n",
              "      [theme=dark] .colab-df-generate {\n",
              "        background-color: #3B4455;\n",
              "        fill: #D2E3FC;\n",
              "      }\n",
              "\n",
              "      [theme=dark] .colab-df-generate:hover {\n",
              "        background-color: #434B5C;\n",
              "        box-shadow: 0px 1px 3px 1px rgba(0, 0, 0, 0.15);\n",
              "        filter: drop-shadow(0px 1px 2px rgba(0, 0, 0, 0.3));\n",
              "        fill: #FFFFFF;\n",
              "      }\n",
              "    </style>\n",
              "    <button class=\"colab-df-generate\" onclick=\"generateWithVariable('taylor_midnights_df')\"\n",
              "            title=\"Generate code using this dataframe.\"\n",
              "            style=\"display:none;\">\n",
              "\n",
              "  <svg xmlns=\"http://www.w3.org/2000/svg\" height=\"24px\"viewBox=\"0 0 24 24\"\n",
              "       width=\"24px\">\n",
              "    <path d=\"M7,19H8.4L18.45,9,17,7.55,7,17.6ZM5,21V16.75L18.45,3.32a2,2,0,0,1,2.83,0l1.4,1.43a1.91,1.91,0,0,1,.58,1.4,1.91,1.91,0,0,1-.58,1.4L9.25,21ZM18.45,9,17,7.55Zm-12,3A5.31,5.31,0,0,0,4.9,8.1,5.31,5.31,0,0,0,1,6.5,5.31,5.31,0,0,0,4.9,4.9,5.31,5.31,0,0,0,6.5,1,5.31,5.31,0,0,0,8.1,4.9,5.31,5.31,0,0,0,12,6.5,5.46,5.46,0,0,0,6.5,12Z\"/>\n",
              "  </svg>\n",
              "    </button>\n",
              "    <script>\n",
              "      (() => {\n",
              "      const buttonEl =\n",
              "        document.querySelector('#id_f73d16f6-a01a-49f2-921b-b7dcfbc2e9e4 button.colab-df-generate');\n",
              "      buttonEl.style.display =\n",
              "        google.colab.kernel.accessAllowed ? 'block' : 'none';\n",
              "\n",
              "      buttonEl.onclick = () => {\n",
              "        google.colab.notebook.generateWithVariable('taylor_midnights_df');\n",
              "      }\n",
              "      })();\n",
              "    </script>\n",
              "  </div>\n",
              "\n",
              "    </div>\n",
              "  </div>\n"
            ],
            "application/vnd.google.colaboratory.intrinsic+json": {
              "type": "dataframe",
              "variable_name": "taylor_midnights_df",
              "summary": "{\n  \"name\": \"taylor_midnights_df\",\n  \"rows\": 20,\n  \"fields\": [\n    {\n      \"column\": \"name\",\n      \"properties\": {\n        \"dtype\": \"string\",\n        \"num_unique_values\": 20,\n        \"samples\": [\n          \"The Great War\",\n          \"Sweet Nothing\",\n          \"Midnight Rain\"\n        ],\n        \"semantic_type\": \"\",\n        \"description\": \"\"\n      }\n    },\n    {\n      \"column\": \"album\",\n      \"properties\": {\n        \"dtype\": \"category\",\n        \"num_unique_values\": 1,\n        \"samples\": [\n          \"Midnights (3am Edition)\"\n        ],\n        \"semantic_type\": \"\",\n        \"description\": \"\"\n      }\n    },\n    {\n      \"column\": \"popularity\",\n      \"properties\": {\n        \"dtype\": \"number\",\n        \"std\": 2,\n        \"min\": 58,\n        \"max\": 69,\n        \"num_unique_values\": 10,\n        \"samples\": [\n          60\n        ],\n        \"semantic_type\": \"\",\n        \"description\": \"\"\n      }\n    },\n    {\n      \"column\": \"tempo\",\n      \"properties\": {\n        \"dtype\": \"number\",\n        \"std\": 29.96718862088123,\n        \"min\": 79.964,\n        \"max\": 176.48,\n        \"num_unique_values\": 20,\n        \"samples\": [\n          96.016\n        ],\n        \"semantic_type\": \"\",\n        \"description\": \"\"\n      }\n    }\n  ]\n}"
            }
          },
          "metadata": {},
          "execution_count": 57
        }
      ]
    },
    {
      "cell_type": "markdown",
      "source": [
        "## Part 4: Data Visualization"
      ],
      "metadata": {
        "id": "ecy_mHIsYM-G"
      }
    },
    {
      "cell_type": "markdown",
      "source": [
        "Let's visualize the popularity of Taylor Swift songs in the Midnights album. A good approach to making graphs is first thinking about the question it is trying to answer (ex: within this album, what is the distribution of the songs' popularity?). Then, you can cater the graph towards answering the question."
      ],
      "metadata": {
        "id": "tIHmBmZrAlz2"
      }
    },
    {
      "cell_type": "code",
      "source": [
        "import seaborn as sns\n",
        "\n",
        "sns.set_theme(style='darkgrid')\n",
        "plt.figure(figsize=(12, 6))\n",
        "\n",
        "# Create the barplot\n",
        "sns.barplot(x='name', y='popularity', data=taylor_midnights_df, palette='pastel', hue='name', legend=False)\n",
        "\n",
        "# Set the title of the plot\n",
        "plt.title('Popularity of Midnights Songs')\n",
        "\n",
        "# Rotate the x-axis tick labels to be vertical\n",
        "plt.xticks(rotation='vertical')\n",
        "\n",
        "# Set the y-axis range\n",
        "plt.ylim(45, 75)\n",
        "\n",
        "# Display the plot\n",
        "plt.show()"
      ],
      "metadata": {
        "colab": {
          "base_uri": "https://localhost:8080/",
          "height": 868
        },
        "id": "3eYieIyf-noQ",
        "outputId": "4b8bf747-0cb8-4c58-a0e4-4b1cb5a7e815"
      },
      "execution_count": null,
      "outputs": [
        {
          "output_type": "display_data",
          "data": {
            "text/plain": [
              "<Figure size 1200x600 with 1 Axes>"
            ],
            "image/png": "[encoded data removed]"
          },
          "metadata": {}
        }
      ]
    },
    {
      "cell_type": "markdown",
      "source": [
        "I am also curious to know the relationship between the song tempo and popularity in this album"
      ],
      "metadata": {
        "id": "IaqazLIBy9V8"
      }
    },
    {
      "cell_type": "code",
      "source": [
        "# Create the scatterplot\n",
        "plt.figure(figsize=(8, 5))\n",
        "sns.scatterplot(x='tempo', y='popularity', data=taylor_midnights_df, s=100)\n",
        "\n",
        "# Set the title and labels\n",
        "plt.title('Relationship Between Tempo and Popularity of Midnights Songs')\n",
        "plt.xlabel('Tempo')\n",
        "plt.ylabel('Popularity')\n",
        "\n",
        "# Show the plot\n",
        "plt.show()"
      ],
      "metadata": {
        "colab": {
          "base_uri": "https://localhost:8080/",
          "height": 496
        },
        "id": "qA2EHz_aEwj9",
        "outputId": "73749bce-1e4c-47d7-ddae-23c4102d8ae1"
      },
      "execution_count": null,
      "outputs": [
        {
          "output_type": "display_data",
          "data": {
            "text/plain": [
              "<Figure size 800x500 with 1 Axes>"
            ],
            "image/png": "[encoded data removed]"
          },
          "metadata": {}
        }
      ]
    },
    {
      "cell_type": "markdown",
      "source": [
        "It seems as though Taylor Swift captures audiences regardless of her songs' tempo!"
      ],
      "metadata": {
        "id": "7FEgS17TGR_I"
      }
    },
    {
      "cell_type": "markdown",
      "source": [
        "## Part 5: Conclusions and General Advice\n",
        "\n",
        "Congratulations - you now have some (basic) Python experience under your belt and should be ready to tackle HW 0! However, before we conclude this lesson, here are a couple of tips on using how to use/learn Python most effectively throughout the course:\n",
        "1. Be sure to read code documentation to understand how it works. This is a critical skill in CIS 2450 and beyond!\n",
        "2. Write down what you want your code to do before you write the code itself. This will help you to be more methodical and to sanity check your work.\n",
        "3. Be sure you understand why your code works and be comfortable writing code from scratch - this will be critical for performing well on the exams!\n",
        "\n",
        "If you would like additional Python help or support, please feel free to consult these additional resources:\n",
        "* Python for Java Developers: https://github.com/blu3r4y/python-for-java-developers?tab=readme-ov-file\n",
        "* Python for Java Programmers Part 1: https://aryaboudaie.com/java/python/technical/educational/2017/11/13/python-for-java-programmers.html\n",
        "* Python for Java Programmers Part 2: https://aryaboudaie.com/java/python/technical/educational/2018/09/16/python-for-java-programmers-p2.html"
      ],
      "metadata": {
        "id": "5OIe3zIBYPFx"
      }
    }
  ]
}