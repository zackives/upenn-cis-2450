{
  "cells": [
    {
      "cell_type": "markdown",
      "metadata": {
        "id": "view-in-github",
        "colab_type": "text"
      },
      "source": [
        "<a href=\"https://colab.research.google.com/github/zackives/upenn-cis-2450/blob/main/lab4_part2_SyntheticDataGeneration.ipynb\" target=\"_parent\"><img src=\"https://colab.research.google.com/assets/colab-badge.svg\" alt=\"Open In Colab\"/></a>"
      ]
    },
    {
      "cell_type": "code",
      "execution_count": null,
      "metadata": {
        "id": "bLn9PAsFxV_x",
        "outputId": "2c91bdd7-560f-43ba-e4f6-96b98e448152"
      },
      "outputs": [
        {
          "name": "stdout",
          "output_type": "stream",
          "text": [
            "Requirement already satisfied: langchain in /Users/mac/opt/anaconda3/lib/python3.9/site-packages (0.3.0)\n",
            "Requirement already satisfied: openai in /Users/mac/opt/anaconda3/lib/python3.9/site-packages (1.46.1)\n",
            "Requirement already satisfied: chromadb in /Users/mac/opt/anaconda3/lib/python3.9/site-packages (0.5.7)\n",
            "Requirement already satisfied: tiktoken in /Users/mac/opt/anaconda3/lib/python3.9/site-packages (0.7.0)\n",
            "Collecting langchain_experimental\n",
            "  Downloading langchain_experimental-0.3.0-py3-none-any.whl.metadata (1.7 kB)\n",
            "Collecting langchain-openai\n",
            "  Downloading langchain_openai-0.2.0-py3-none-any.whl.metadata (2.6 kB)\n",
            "Requirement already satisfied: PyYAML>=5.3 in /Users/mac/opt/anaconda3/lib/python3.9/site-packages (from langchain) (6.0)\n",
            "Requirement already satisfied: SQLAlchemy<3,>=1.4 in /Users/mac/opt/anaconda3/lib/python3.9/site-packages (from langchain) (2.0.27)\n",
            "Requirement already satisfied: aiohttp<4.0.0,>=3.8.3 in /Users/mac/opt/anaconda3/lib/python3.9/site-packages (from langchain) (3.10.5)\n",
            "Requirement already satisfied: async-timeout<5.0.0,>=4.0.0 in /Users/mac/opt/anaconda3/lib/python3.9/site-packages (from langchain) (4.0.1)\n",
            "Requirement already satisfied: langchain-core<0.4.0,>=0.3.0 in /Users/mac/opt/anaconda3/lib/python3.9/site-packages (from langchain) (0.3.2)\n",
            "Requirement already satisfied: langchain-text-splitters<0.4.0,>=0.3.0 in /Users/mac/opt/anaconda3/lib/python3.9/site-packages (from langchain) (0.3.0)\n",
            "Requirement already satisfied: langsmith<0.2.0,>=0.1.17 in /Users/mac/opt/anaconda3/lib/python3.9/site-packages (from langchain) (0.1.125)\n",
            "Requirement already satisfied: numpy<2,>=1 in /Users/mac/opt/anaconda3/lib/python3.9/site-packages (from langchain) (1.26.4)\n",
            "Requirement already satisfied: pydantic<3.0.0,>=2.7.4 in /Users/mac/opt/anaconda3/lib/python3.9/site-packages (from langchain) (2.9.2)\n",
            "Requirement already satisfied: requests<3,>=2 in /Users/mac/opt/anaconda3/lib/python3.9/site-packages (from langchain) (2.32.3)\n",
            "Requirement already satisfied: tenacity!=8.4.0,<9.0.0,>=8.1.0 in /Users/mac/opt/anaconda3/lib/python3.9/site-packages (from langchain) (8.5.0)\n",
            "Requirement already satisfied: anyio<5,>=3.5.0 in /Users/mac/opt/anaconda3/lib/python3.9/site-packages (from openai) (3.5.0)\n",
            "Requirement already satisfied: distro<2,>=1.7.0 in /Users/mac/opt/anaconda3/lib/python3.9/site-packages (from openai) (1.8.0)\n",
            "Requirement already satisfied: httpx<1,>=0.23.0 in /Users/mac/opt/anaconda3/lib/python3.9/site-packages (from openai) (0.27.2)\n",
            "Requirement already satisfied: jiter<1,>=0.4.0 in /Users/mac/opt/anaconda3/lib/python3.9/site-packages (from openai) (0.5.0)\n",
            "Requirement already satisfied: sniffio in /Users/mac/opt/anaconda3/lib/python3.9/site-packages (from openai) (1.2.0)\n",
            "Requirement already satisfied: tqdm>4 in /Users/mac/opt/anaconda3/lib/python3.9/site-packages (from openai) (4.66.5)\n",
            "Requirement already satisfied: typing-extensions<5,>=4.11 in /Users/mac/opt/anaconda3/lib/python3.9/site-packages (from openai) (4.12.2)\n",
            "Requirement already satisfied: build>=1.0.3 in /Users/mac/opt/anaconda3/lib/python3.9/site-packages (from chromadb) (1.2.2)\n",
            "Requirement already satisfied: chroma-hnswlib==0.7.6 in /Users/mac/opt/anaconda3/lib/python3.9/site-packages (from chromadb) (0.7.6)\n",
            "Requirement already satisfied: fastapi>=0.95.2 in /Users/mac/opt/anaconda3/lib/python3.9/site-packages (from chromadb) (0.115.0)\n",
            "Requirement already satisfied: uvicorn>=0.18.3 in /Users/mac/opt/anaconda3/lib/python3.9/site-packages (from uvicorn[standard]>=0.18.3->chromadb) (0.30.6)\n",
            "Requirement already satisfied: posthog>=2.4.0 in /Users/mac/opt/anaconda3/lib/python3.9/site-packages (from chromadb) (3.6.6)\n",
            "Requirement already satisfied: onnxruntime>=1.14.1 in /Users/mac/opt/anaconda3/lib/python3.9/site-packages (from chromadb) (1.19.2)\n",
            "Requirement already satisfied: opentelemetry-api>=1.2.0 in /Users/mac/opt/anaconda3/lib/python3.9/site-packages (from chromadb) (1.27.0)\n",
            "Requirement already satisfied: opentelemetry-exporter-otlp-proto-grpc>=1.2.0 in /Users/mac/opt/anaconda3/lib/python3.9/site-packages (from chromadb) (1.27.0)\n",
            "Requirement already satisfied: opentelemetry-instrumentation-fastapi>=0.41b0 in /Users/mac/opt/anaconda3/lib/python3.9/site-packages (from chromadb) (0.48b0)\n",
            "Requirement already satisfied: opentelemetry-sdk>=1.2.0 in /Users/mac/opt/anaconda3/lib/python3.9/site-packages (from chromadb) (1.27.0)\n",
            "Requirement already satisfied: tokenizers>=0.13.2 in /Users/mac/opt/anaconda3/lib/python3.9/site-packages (from chromadb) (0.15.1)\n",
            "Requirement already satisfied: pypika>=0.48.9 in /Users/mac/opt/anaconda3/lib/python3.9/site-packages (from chromadb) (0.48.9)\n",
            "Requirement already satisfied: overrides>=7.3.1 in /Users/mac/opt/anaconda3/lib/python3.9/site-packages (from chromadb) (7.7.0)\n",
            "Requirement already satisfied: importlib-resources in /Users/mac/opt/anaconda3/lib/python3.9/site-packages (from chromadb) (6.4.5)\n",
            "Requirement already satisfied: grpcio>=1.58.0 in /Users/mac/opt/anaconda3/lib/python3.9/site-packages (from chromadb) (1.66.1)\n",
            "Requirement already satisfied: bcrypt>=4.0.1 in /Users/mac/opt/anaconda3/lib/python3.9/site-packages (from chromadb) (4.2.0)\n",
            "Requirement already satisfied: typer>=0.9.0 in /Users/mac/opt/anaconda3/lib/python3.9/site-packages (from chromadb) (0.12.5)\n",
            "Requirement already satisfied: kubernetes>=28.1.0 in /Users/mac/opt/anaconda3/lib/python3.9/site-packages (from chromadb) (31.0.0)\n",
            "Requirement already satisfied: mmh3>=4.0.1 in /Users/mac/opt/anaconda3/lib/python3.9/site-packages (from chromadb) (5.0.0)\n",
            "Requirement already satisfied: orjson>=3.9.12 in /Users/mac/opt/anaconda3/lib/python3.9/site-packages (from chromadb) (3.10.7)\n",
            "Requirement already satisfied: rich>=10.11.0 in /Users/mac/opt/anaconda3/lib/python3.9/site-packages (from chromadb) (13.8.1)\n",
            "Requirement already satisfied: regex>=2022.1.18 in /Users/mac/opt/anaconda3/lib/python3.9/site-packages (from tiktoken) (2022.3.15)\n",
            "Collecting langchain-community<0.4.0,>=0.3.0 (from langchain_experimental)\n",
            "  Downloading langchain_community-0.3.0-py3-none-any.whl.metadata (2.8 kB)\n",
            "Requirement already satisfied: aiohappyeyeballs>=2.3.0 in /Users/mac/opt/anaconda3/lib/python3.9/site-packages (from aiohttp<4.0.0,>=3.8.3->langchain) (2.4.0)\n",
            "Requirement already satisfied: aiosignal>=1.1.2 in /Users/mac/opt/anaconda3/lib/python3.9/site-packages (from aiohttp<4.0.0,>=3.8.3->langchain) (1.2.0)\n",
            "Requirement already satisfied: attrs>=17.3.0 in /Users/mac/opt/anaconda3/lib/python3.9/site-packages (from aiohttp<4.0.0,>=3.8.3->langchain) (21.4.0)\n",
            "Requirement already satisfied: frozenlist>=1.1.1 in /Users/mac/opt/anaconda3/lib/python3.9/site-packages (from aiohttp<4.0.0,>=3.8.3->langchain) (1.2.0)\n",
            "Requirement already satisfied: multidict<7.0,>=4.5 in /Users/mac/opt/anaconda3/lib/python3.9/site-packages (from aiohttp<4.0.0,>=3.8.3->langchain) (5.2.0)\n",
            "Requirement already satisfied: yarl<2.0,>=1.0 in /Users/mac/opt/anaconda3/lib/python3.9/site-packages (from aiohttp<4.0.0,>=3.8.3->langchain) (1.6.3)\n",
            "Requirement already satisfied: idna>=2.8 in /Users/mac/opt/anaconda3/lib/python3.9/site-packages (from anyio<5,>=3.5.0->openai) (2.10)\n",
            "Requirement already satisfied: packaging>=19.1 in /Users/mac/opt/anaconda3/lib/python3.9/site-packages (from build>=1.0.3->chromadb) (24.1)\n",
            "Requirement already satisfied: pyproject_hooks in /Users/mac/opt/anaconda3/lib/python3.9/site-packages (from build>=1.0.3->chromadb) (1.1.0)\n",
            "Requirement already satisfied: importlib-metadata>=4.6 in /Users/mac/opt/anaconda3/lib/python3.9/site-packages (from build>=1.0.3->chromadb) (8.4.0)\n",
            "Requirement already satisfied: tomli>=1.1.0 in /Users/mac/opt/anaconda3/lib/python3.9/site-packages (from build>=1.0.3->chromadb) (1.2.2)\n",
            "Requirement already satisfied: starlette<0.39.0,>=0.37.2 in /Users/mac/opt/anaconda3/lib/python3.9/site-packages (from fastapi>=0.95.2->chromadb) (0.38.5)\n",
            "Requirement already satisfied: certifi in /Users/mac/opt/anaconda3/lib/python3.9/site-packages (from httpx<1,>=0.23.0->openai) (2021.10.8)\n",
            "Requirement already satisfied: httpcore==1.* in /Users/mac/opt/anaconda3/lib/python3.9/site-packages (from httpx<1,>=0.23.0->openai) (1.0.5)\n",
            "Requirement already satisfied: h11<0.15,>=0.13 in /Users/mac/opt/anaconda3/lib/python3.9/site-packages (from httpcore==1.*->httpx<1,>=0.23.0->openai) (0.14.0)\n",
            "Requirement already satisfied: six>=1.9.0 in /Users/mac/opt/anaconda3/lib/python3.9/site-packages (from kubernetes>=28.1.0->chromadb) (1.16.0)\n",
            "Requirement already satisfied: python-dateutil>=2.5.3 in /Users/mac/opt/anaconda3/lib/python3.9/site-packages (from kubernetes>=28.1.0->chromadb) (2.8.2)\n",
            "Requirement already satisfied: google-auth>=1.0.1 in /Users/mac/opt/anaconda3/lib/python3.9/site-packages (from kubernetes>=28.1.0->chromadb) (1.33.0)\n",
            "Requirement already satisfied: websocket-client!=0.40.0,!=0.41.*,!=0.42.*,>=0.32.0 in /Users/mac/opt/anaconda3/lib/python3.9/site-packages (from kubernetes>=28.1.0->chromadb) (0.58.0)\n",
            "Requirement already satisfied: requests-oauthlib in /Users/mac/opt/anaconda3/lib/python3.9/site-packages (from kubernetes>=28.1.0->chromadb) (1.3.1)\n",
            "Requirement already satisfied: oauthlib>=3.2.2 in /Users/mac/opt/anaconda3/lib/python3.9/site-packages (from kubernetes>=28.1.0->chromadb) (3.2.2)\n",
            "Requirement already satisfied: urllib3>=1.24.2 in /Users/mac/opt/anaconda3/lib/python3.9/site-packages (from kubernetes>=28.1.0->chromadb) (1.26.9)\n",
            "Requirement already satisfied: durationpy>=0.7 in /Users/mac/opt/anaconda3/lib/python3.9/site-packages (from kubernetes>=28.1.0->chromadb) (0.7)\n",
            "Collecting dataclasses-json<0.7,>=0.5.7 (from langchain-community<0.4.0,>=0.3.0->langchain_experimental)\n",
            "  Downloading dataclasses_json-0.6.7-py3-none-any.whl.metadata (25 kB)\n",
            "Collecting pydantic-settings<3.0.0,>=2.4.0 (from langchain-community<0.4.0,>=0.3.0->langchain_experimental)\n",
            "  Downloading pydantic_settings-2.5.2-py3-none-any.whl.metadata (3.5 kB)\n",
            "Requirement already satisfied: jsonpatch<2.0,>=1.33 in /Users/mac/opt/anaconda3/lib/python3.9/site-packages (from langchain-core<0.4.0,>=0.3.0->langchain) (1.33)\n",
            "Requirement already satisfied: coloredlogs in /Users/mac/opt/anaconda3/lib/python3.9/site-packages (from onnxruntime>=1.14.1->chromadb) (15.0.1)\n",
            "Requirement already satisfied: flatbuffers in /Users/mac/opt/anaconda3/lib/python3.9/site-packages (from onnxruntime>=1.14.1->chromadb) (1.12)\n",
            "Requirement already satisfied: protobuf in /Users/mac/opt/anaconda3/lib/python3.9/site-packages (from onnxruntime>=1.14.1->chromadb) (3.19.1)\n",
            "Requirement already satisfied: sympy in /Users/mac/opt/anaconda3/lib/python3.9/site-packages (from onnxruntime>=1.14.1->chromadb) (1.10.1)\n",
            "Requirement already satisfied: deprecated>=1.2.6 in /Users/mac/opt/anaconda3/lib/python3.9/site-packages (from opentelemetry-api>=1.2.0->chromadb) (1.2.14)\n",
            "Requirement already satisfied: googleapis-common-protos~=1.52 in /Users/mac/opt/anaconda3/lib/python3.9/site-packages (from opentelemetry-exporter-otlp-proto-grpc>=1.2.0->chromadb) (1.53.0)\n",
            "Requirement already satisfied: opentelemetry-exporter-otlp-proto-common==1.27.0 in /Users/mac/opt/anaconda3/lib/python3.9/site-packages (from opentelemetry-exporter-otlp-proto-grpc>=1.2.0->chromadb) (1.27.0)\n",
            "Requirement already satisfied: opentelemetry-proto==1.27.0 in /Users/mac/opt/anaconda3/lib/python3.9/site-packages (from opentelemetry-exporter-otlp-proto-grpc>=1.2.0->chromadb) (1.27.0)\n",
            "Requirement already satisfied: opentelemetry-instrumentation-asgi==0.48b0 in /Users/mac/opt/anaconda3/lib/python3.9/site-packages (from opentelemetry-instrumentation-fastapi>=0.41b0->chromadb) (0.48b0)\n",
            "Requirement already satisfied: opentelemetry-instrumentation==0.48b0 in /Users/mac/opt/anaconda3/lib/python3.9/site-packages (from opentelemetry-instrumentation-fastapi>=0.41b0->chromadb) (0.48b0)\n",
            "Requirement already satisfied: opentelemetry-semantic-conventions==0.48b0 in /Users/mac/opt/anaconda3/lib/python3.9/site-packages (from opentelemetry-instrumentation-fastapi>=0.41b0->chromadb) (0.48b0)\n",
            "Requirement already satisfied: opentelemetry-util-http==0.48b0 in /Users/mac/opt/anaconda3/lib/python3.9/site-packages (from opentelemetry-instrumentation-fastapi>=0.41b0->chromadb) (0.48b0)\n",
            "Requirement already satisfied: setuptools>=16.0 in /Users/mac/opt/anaconda3/lib/python3.9/site-packages (from opentelemetry-instrumentation==0.48b0->opentelemetry-instrumentation-fastapi>=0.41b0->chromadb) (61.2.0)\n",
            "Requirement already satisfied: wrapt<2.0.0,>=1.0.0 in /Users/mac/opt/anaconda3/lib/python3.9/site-packages (from opentelemetry-instrumentation==0.48b0->opentelemetry-instrumentation-fastapi>=0.41b0->chromadb) (1.12.1)\n",
            "Requirement already satisfied: asgiref~=3.0 in /Users/mac/opt/anaconda3/lib/python3.9/site-packages (from opentelemetry-instrumentation-asgi==0.48b0->opentelemetry-instrumentation-fastapi>=0.41b0->chromadb) (3.8.1)\n",
            "Requirement already satisfied: monotonic>=1.5 in /Users/mac/opt/anaconda3/lib/python3.9/site-packages (from posthog>=2.4.0->chromadb) (1.6)\n",
            "Requirement already satisfied: backoff>=1.10.0 in /Users/mac/opt/anaconda3/lib/python3.9/site-packages (from posthog>=2.4.0->chromadb) (2.2.1)\n",
            "Requirement already satisfied: annotated-types>=0.6.0 in /Users/mac/opt/anaconda3/lib/python3.9/site-packages (from pydantic<3.0.0,>=2.7.4->langchain) (0.7.0)\n",
            "Requirement already satisfied: pydantic-core==2.23.4 in /Users/mac/opt/anaconda3/lib/python3.9/site-packages (from pydantic<3.0.0,>=2.7.4->langchain) (2.23.4)\n",
            "Requirement already satisfied: charset-normalizer<4,>=2 in /Users/mac/opt/anaconda3/lib/python3.9/site-packages (from requests<3,>=2->langchain) (2.0.4)\n",
            "Requirement already satisfied: markdown-it-py>=2.2.0 in /Users/mac/opt/anaconda3/lib/python3.9/site-packages (from rich>=10.11.0->chromadb) (3.0.0)\n",
            "Requirement already satisfied: pygments<3.0.0,>=2.13.0 in /Users/mac/opt/anaconda3/lib/python3.9/site-packages (from rich>=10.11.0->chromadb) (2.18.0)\n",
            "Requirement already satisfied: greenlet!=0.4.17 in /Users/mac/opt/anaconda3/lib/python3.9/site-packages (from SQLAlchemy<3,>=1.4->langchain) (1.1.1)\n",
            "Requirement already satisfied: huggingface_hub<1.0,>=0.16.4 in /Users/mac/opt/anaconda3/lib/python3.9/site-packages (from tokenizers>=0.13.2->chromadb) (0.20.3)\n",
            "Requirement already satisfied: click>=8.0.0 in /Users/mac/opt/anaconda3/lib/python3.9/site-packages (from typer>=0.9.0->chromadb) (8.1.7)\n",
            "Requirement already satisfied: shellingham>=1.3.0 in /Users/mac/opt/anaconda3/lib/python3.9/site-packages (from typer>=0.9.0->chromadb) (1.5.4)\n",
            "Requirement already satisfied: httptools>=0.5.0 in /Users/mac/opt/anaconda3/lib/python3.9/site-packages (from uvicorn[standard]>=0.18.3->chromadb) (0.6.1)\n",
            "Requirement already satisfied: python-dotenv>=0.13 in /Users/mac/opt/anaconda3/lib/python3.9/site-packages (from uvicorn[standard]>=0.18.3->chromadb) (1.0.1)\n",
            "Requirement already satisfied: uvloop!=0.15.0,!=0.15.1,>=0.14.0 in /Users/mac/opt/anaconda3/lib/python3.9/site-packages (from uvicorn[standard]>=0.18.3->chromadb) (0.20.0)\n",
            "Requirement already satisfied: watchfiles>=0.13 in /Users/mac/opt/anaconda3/lib/python3.9/site-packages (from uvicorn[standard]>=0.18.3->chromadb) (0.24.0)\n",
            "Requirement already satisfied: websockets>=10.4 in /Users/mac/opt/anaconda3/lib/python3.9/site-packages (from uvicorn[standard]>=0.18.3->chromadb) (13.0.1)\n",
            "Requirement already satisfied: zipp>=3.1.0 in /Users/mac/opt/anaconda3/lib/python3.9/site-packages (from importlib-resources->chromadb) (3.7.0)\n",
            "Collecting marshmallow<4.0.0,>=3.18.0 (from dataclasses-json<0.7,>=0.5.7->langchain-community<0.4.0,>=0.3.0->langchain_experimental)\n",
            "  Downloading marshmallow-3.22.0-py3-none-any.whl.metadata (7.2 kB)\n",
            "Collecting typing-inspect<1,>=0.4.0 (from dataclasses-json<0.7,>=0.5.7->langchain-community<0.4.0,>=0.3.0->langchain_experimental)\n",
            "  Downloading typing_inspect-0.9.0-py3-none-any.whl.metadata (1.5 kB)\n",
            "Requirement already satisfied: cachetools<5.0,>=2.0.0 in /Users/mac/opt/anaconda3/lib/python3.9/site-packages (from google-auth>=1.0.1->kubernetes>=28.1.0->chromadb) (4.2.2)\n",
            "Requirement already satisfied: pyasn1-modules>=0.2.1 in /Users/mac/opt/anaconda3/lib/python3.9/site-packages (from google-auth>=1.0.1->kubernetes>=28.1.0->chromadb) (0.2.8)\n",
            "Requirement already satisfied: rsa<5,>=3.1.4 in /Users/mac/opt/anaconda3/lib/python3.9/site-packages (from google-auth>=1.0.1->kubernetes>=28.1.0->chromadb) (4.7.2)\n",
            "Requirement already satisfied: filelock in /Users/mac/opt/anaconda3/lib/python3.9/site-packages (from huggingface_hub<1.0,>=0.16.4->tokenizers>=0.13.2->chromadb) (3.6.0)\n",
            "Requirement already satisfied: fsspec>=2023.5.0 in /Users/mac/opt/anaconda3/lib/python3.9/site-packages (from huggingface_hub<1.0,>=0.16.4->tokenizers>=0.13.2->chromadb) (2024.2.0)\n",
            "Requirement already satisfied: jsonpointer>=1.9 in /Users/mac/opt/anaconda3/lib/python3.9/site-packages (from jsonpatch<2.0,>=1.33->langchain-core<0.4.0,>=0.3.0->langchain) (3.0.0)\n",
            "Requirement already satisfied: mdurl~=0.1 in /Users/mac/opt/anaconda3/lib/python3.9/site-packages (from markdown-it-py>=2.2.0->rich>=10.11.0->chromadb) (0.1.2)\n",
            "Requirement already satisfied: humanfriendly>=9.1 in /Users/mac/opt/anaconda3/lib/python3.9/site-packages (from coloredlogs->onnxruntime>=1.14.1->chromadb) (10.0)\n",
            "Requirement already satisfied: mpmath>=0.19 in /Users/mac/opt/anaconda3/lib/python3.9/site-packages (from sympy->onnxruntime>=1.14.1->chromadb) (1.2.1)\n",
            "Requirement already satisfied: pyasn1<0.5.0,>=0.4.6 in /Users/mac/opt/anaconda3/lib/python3.9/site-packages (from pyasn1-modules>=0.2.1->google-auth>=1.0.1->kubernetes>=28.1.0->chromadb) (0.4.8)\n",
            "Requirement already satisfied: mypy-extensions>=0.3.0 in /Users/mac/opt/anaconda3/lib/python3.9/site-packages (from typing-inspect<1,>=0.4.0->dataclasses-json<0.7,>=0.5.7->langchain-community<0.4.0,>=0.3.0->langchain_experimental) (0.4.3)\n",
            "Downloading langchain_experimental-0.3.0-py3-none-any.whl (206 kB)\n",
            "Downloading langchain_openai-0.2.0-py3-none-any.whl (51 kB)\n",
            "Downloading langchain_community-0.3.0-py3-none-any.whl (2.3 MB)\n",
            "\u001b[2K   \u001b[90m━━━━━━━━━━━━━━━━━━━━━━━━━━━━━━━━━━━━━━━━\u001b[0m \u001b[32m2.3/2.3 MB\u001b[0m \u001b[31m19.7 MB/s\u001b[0m eta \u001b[36m0:00:00\u001b[0m\n",
            "\u001b[?25hDownloading dataclasses_json-0.6.7-py3-none-any.whl (28 kB)\n",
            "Downloading pydantic_settings-2.5.2-py3-none-any.whl (26 kB)\n",
            "Downloading marshmallow-3.22.0-py3-none-any.whl (49 kB)\n",
            "Downloading typing_inspect-0.9.0-py3-none-any.whl (8.8 kB)\n",
            "Installing collected packages: typing-inspect, marshmallow, dataclasses-json, pydantic-settings, langchain-openai, langchain-community, langchain_experimental\n",
            "Successfully installed dataclasses-json-0.6.7 langchain-community-0.3.0 langchain-openai-0.2.0 langchain_experimental-0.3.0 marshmallow-3.22.0 pydantic-settings-2.5.2 typing-inspect-0.9.0\n"
          ]
        }
      ],
      "source": [
        "!pip install langchain openai chromadb tiktoken langchain_experimental langchain-openai"
      ]
    },
    {
      "cell_type": "code",
      "execution_count": null,
      "metadata": {
        "id": "MB_nHi7IxV_y"
      },
      "outputs": [],
      "source": [
        "from langchain.llms import OpenAI\n",
        "from langchain.prompts import PromptTemplate, FewShotPromptTemplate\n",
        "from langchain.chains import LLMChain\n",
        "from langchain.output_parsers import PydanticOutputParser\n",
        "from langchain_openai import ChatOpenAI\n",
        "from pydantic import BaseModel, Field\n",
        "from langchain_experimental.tabular_synthetic_data.openai import (\n",
        "    OPENAI_TEMPLATE,\n",
        "    create_openai_data_generator,\n",
        ")\n",
        "from langchain_experimental.tabular_synthetic_data.prompts import (\n",
        "    SYNTHETIC_FEW_SHOT_PREFIX,\n",
        "    SYNTHETIC_FEW_SHOT_SUFFIX,\n",
        ")\n",
        "from typing import List\n",
        "import os\n",
        "import json"
      ]
    },
    {
      "cell_type": "code",
      "execution_count": null,
      "metadata": {
        "id": "t__5DJKixV_z"
      },
      "outputs": [],
      "source": [
        "%set_env OPENAI_API_KEY= #TODO: PUT KEY HERE"
      ]
    },
    {
      "cell_type": "markdown",
      "metadata": {
        "id": "JokZ5XrmxV_z"
      },
      "source": [
        "### Synthetic Data Generation"
      ]
    },
    {
      "cell_type": "markdown",
      "metadata": {
        "id": "GNDu2bBMxV_0"
      },
      "source": [
        "#### Step1: Define your data schema"
      ]
    },
    {
      "cell_type": "code",
      "execution_count": null,
      "metadata": {
        "id": "3JwB2Du5xV_0"
      },
      "outputs": [],
      "source": [
        "# Define the schema for our synthetic data using Pydantic\n",
        "class Person(BaseModel):\n",
        "    name: str = Field(description=\"A fictional person's full name\")\n",
        "    age: int = Field(description=\"The person's age (between 18 and 80)\", ge=18, le=80)\n",
        "    occupation: str = Field(description=\"The person's job or profession\")\n",
        "    hobby: str = Field(description=\"A hobby or interest of the person\")\n"
      ]
    },
    {
      "cell_type": "code",
      "execution_count": null,
      "metadata": {
        "id": "xYEJuzO4xV_0"
      },
      "outputs": [],
      "source": [
        "# Create the output parser\n",
        "output_parser = PydanticOutputParser(pydantic_object=Person)\n"
      ]
    },
    {
      "cell_type": "markdown",
      "metadata": {
        "id": "uwK1OR-0xV_1"
      },
      "source": [
        "#### Step2: Create data samples"
      ]
    },
    {
      "cell_type": "code",
      "execution_count": null,
      "metadata": {
        "id": "Z3inU4e-xV_1"
      },
      "outputs": [],
      "source": [
        "# Create data samples\n",
        "examples = [\n",
        "    {\n",
        "        \"example\": \"\"\"Name: Alex Johnson\n",
        "Age: 32\n",
        "Occupation: Data Scientist\n",
        "Hobby: Mountain biking\"\"\"\n",
        "    },\n",
        "    {\n",
        "        \"example\": \"\"\"Name: Samantha Lee\n",
        "Age: 45\n",
        "Occupation: Marketing Director\n",
        "Hobby: Oil painting\"\"\"\n",
        "    },\n",
        "    {\n",
        "        \"example\": \"\"\"Name: Carlos Rodriguez\n",
        "Age: 28\n",
        "Occupation: Freelance Writer\n",
        "Hobby: Salsa dancing\"\"\"\n",
        "    },\n",
        "]"
      ]
    },
    {
      "cell_type": "markdown",
      "metadata": {
        "id": "DuGC5LZqxV_1"
      },
      "source": [
        "#### Step3: Provide a prompt template"
      ]
    },
    {
      "cell_type": "code",
      "execution_count": null,
      "metadata": {
        "id": "wbJnjp4TxV_1"
      },
      "outputs": [],
      "source": [
        "# Create a zero-shot prompt template\n",
        "template = \"\"\"\n",
        "Generate synthetic data for a fictional person with the following attributes:\n",
        "{format_instructions}\n",
        "\n",
        "Person:\n",
        "\"\"\"\n",
        "\n",
        "prompt = PromptTemplate(\n",
        "    template=template,\n",
        "    input_variables=[],\n",
        "    partial_variables={\"format_instructions\": output_parser.get_format_instructions()}\n",
        ")"
      ]
    },
    {
      "cell_type": "code",
      "execution_count": null,
      "metadata": {
        "id": "Uc8s0nWYxV_1"
      },
      "outputs": [],
      "source": [
        "#Create a few-shot prompt template\n",
        "OPENAI_TEMPLATE = PromptTemplate(input_variables=[\"example\"], template=\"{example}\")\n",
        "\n",
        "few_shot_prompt = FewShotPromptTemplate(\n",
        "    prefix=SYNTHETIC_FEW_SHOT_PREFIX,\n",
        "    examples=examples,\n",
        "    suffix=SYNTHETIC_FEW_SHOT_SUFFIX,\n",
        "    input_variables=[\"subject\", \"extra\"],\n",
        "    example_prompt=OPENAI_TEMPLATE,\n",
        ")"
      ]
    },
    {
      "cell_type": "markdown",
      "metadata": {
        "id": "VlWwHhRGxV_1"
      },
      "source": [
        "#### Step4: Create data generator"
      ]
    },
    {
      "cell_type": "code",
      "execution_count": null,
      "metadata": {
        "id": "z6LngZpGxV_2"
      },
      "outputs": [],
      "source": [
        "# You can customize your LLM with different model and parameters\n",
        "llm = ChatOpenAI(temperature=0.8)"
      ]
    },
    {
      "cell_type": "code",
      "execution_count": null,
      "metadata": {
        "id": "GZvDwDu4xV_2"
      },
      "outputs": [],
      "source": [
        "# Generate synthetic data with zero-shot prompt\n",
        "def generate_synthetic_data(num_samples: int = 5) -> List[Person]:\n",
        "    synthetic_data = []\n",
        "    for _ in range(num_samples):\n",
        "        result = llm.invoke(prompt.format())\n",
        "        # Extract the content from the AIMessage\n",
        "        result_content = result.content if hasattr(result, 'content') else str(result)\n",
        "        # Parse the result as JSON\n",
        "        try:\n",
        "            parsed_json = json.loads(result_content)\n",
        "            # Ensure age is an integer\n",
        "            parsed_json['age'] = int(parsed_json['age'])\n",
        "            # Create a Person object\n",
        "            person = Person(**parsed_json)\n",
        "            synthetic_data.append(person)\n",
        "        except json.JSONDecodeError:\n",
        "            print(f\"Failed to parse result: {result_content}\")\n",
        "        except ValueError as e:\n",
        "            print(f\"Failed to create Person object: {e}\")\n",
        "    return synthetic_data"
      ]
    },
    {
      "cell_type": "code",
      "execution_count": null,
      "metadata": {
        "id": "VvHSXwCMxV_2",
        "outputId": "0c3e0229-00d6-40a2-a656-23d1d6c88329"
      },
      "outputs": [
        {
          "name": "stdout",
          "output_type": "stream",
          "text": [
            "{\n",
            "  \"name\": \"Alice Jones\",\n",
            "  \"age\": 30,\n",
            "  \"occupation\": \"Software Engineer\",\n",
            "  \"hobby\": \"Photography\"\n",
            "}\n",
            "{\n",
            "  \"name\": \"Alice Smith\",\n",
            "  \"age\": 30,\n",
            "  \"occupation\": \"Software Engineer\",\n",
            "  \"hobby\": \"Photography\"\n",
            "}\n"
          ]
        }
      ],
      "source": [
        "# Generate and display synthetic data\n",
        "synthetic_data = generate_synthetic_data(2)\n",
        "for person in synthetic_data:\n",
        "    print(person.model_dump_json(indent=2))"
      ]
    },
    {
      "cell_type": "code",
      "execution_count": null,
      "metadata": {
        "id": "HCgcktZrxV_2"
      },
      "outputs": [],
      "source": [
        "# Alternatively, you can create the data generator with few-shot prompt\n",
        "synthetic_data_generator = create_openai_data_generator(\n",
        "    output_schema=Person,\n",
        "    llm=llm,\n",
        "    prompt=few_shot_prompt,\n",
        ")"
      ]
    },
    {
      "cell_type": "code",
      "execution_count": null,
      "metadata": {
        "id": "JQWKrNt2xV_2"
      },
      "outputs": [],
      "source": [
        "synthetic_results = synthetic_data_generator.generate(\n",
        "    subject=\"person profile\",\n",
        "    extra=\"all the information must be chosen at random.\",\n",
        "    runs=5,\n",
        ")"
      ]
    },
    {
      "cell_type": "code",
      "execution_count": null,
      "metadata": {
        "id": "EWpu7BZoxV_2",
        "outputId": "06cbdc3b-5d53-4b2c-b278-4467652282ff"
      },
      "outputs": [
        {
          "data": {
            "text/plain": [
              "[Person(name='Emily White', age=29, occupation='Graphic Designer', hobby='Photography'),\n",
              " Person(name='Alice Smith', age=32, occupation='Software Engineer', hobby='Hiking'),\n",
              " Person(name='Sophia Johnson', age=25, occupation='Marketing Manager', hobby='Painting'),\n",
              " Person(name='Ethan Brown', age=35, occupation='Teacher', hobby='Cooking'),\n",
              " Person(name='Olivia Davis', age=28, occupation='Graphic Designer', hobby='Photography'),\n",
              " Person(name='Isaac Martinez', age=30, occupation='Software Engineer', hobby='Hiking'),\n",
              " Person(name='Ava Johnson', age=42, occupation='Marketing Manager', hobby='Traveling'),\n",
              " Person(name='Sophia Smith', age=35, occupation='Teacher', hobby='Yoga'),\n",
              " Person(name='Emily Davis', age=25, occupation='Data Analyst', hobby='Painting'),\n",
              " Person(name='Oliver Brown', age=28, occupation='Software Engineer', hobby='Playing guitar')]"
            ]
          },
          "execution_count": 71,
          "metadata": {},
          "output_type": "execute_result"
        }
      ],
      "source": [
        "# You can see the synthetic data with few-shot generator has more diversity\n",
        "synthetic_results"
      ]
    },
    {
      "cell_type": "markdown",
      "metadata": {
        "id": "ppSEBsXRxV_2"
      },
      "source": [
        "### Dataset Generation"
      ]
    },
    {
      "cell_type": "code",
      "execution_count": null,
      "metadata": {
        "id": "AQtpWp8LxV_2"
      },
      "outputs": [],
      "source": [
        "from langchain_experimental.synthetic_data import (\n",
        "    DatasetGenerator,\n",
        ")"
      ]
    },
    {
      "cell_type": "code",
      "execution_count": null,
      "metadata": {
        "id": "0YVYkphoxV_2",
        "outputId": "1bd68d49-4404-42ff-8a79-f450015fbf7a"
      },
      "outputs": [
        {
          "data": {
            "text/plain": [
              "[{'fields': {'example': 'Name: Alex Johnson\\nAge: 32\\nOccupation: Data Scientist\\nHobby: Mountain biking'},\n",
              "  'preferences': {'style': 'informal', 'minimal length': 500},\n",
              "  'text': \"Hey, have you met Alex Johnson? He's a 32-year-old data scientist who spends his free time mountain biking.\"},\n",
              " {'fields': {'example': 'Name: Samantha Lee\\nAge: 45\\nOccupation: Marketing Director\\nHobby: Oil painting'},\n",
              "  'preferences': {'style': 'informal', 'minimal length': 500},\n",
              "  'text': 'Samantha Lee, a 45-year-old Marketing Director, spends her free time indulging in the artistic hobby of oil painting, where she creates vivid and expressive works of art that bring a sense of color and life to her everyday routine.'},\n",
              " {'fields': {'example': 'Name: Carlos Rodriguez\\nAge: 28\\nOccupation: Freelance Writer\\nHobby: Salsa dancing'},\n",
              "  'preferences': {'style': 'informal', 'minimal length': 500},\n",
              "  'text': 'Meet Carlos Rodriguez, a 28-year-old freelance writer who spends his free time salsa dancing. His passion for writing shines through in his creative storytelling, while his love for salsa dancing brings energy and rhythm to his life outside of work. Carlos is a true example of how pursuing your hobbies can bring balance and joy to your everyday routine.'}]"
            ]
          },
          "execution_count": 82,
          "metadata": {},
          "output_type": "execute_result"
        }
      ],
      "source": [
        "# Create a dataset generator\n",
        "generator = DatasetGenerator(llm, {\"style\": \"informal\", \"minimal length\": 500})\n",
        "dataset = generator(examples)\n",
        "dataset\n"
      ]
    },
    {
      "cell_type": "markdown",
      "metadata": {
        "id": "KDNJLkMHxV_3"
      },
      "source": [
        "#### Extraction from generated data"
      ]
    },
    {
      "cell_type": "code",
      "execution_count": null,
      "metadata": {
        "id": "D6xQxjVYxV_3"
      },
      "outputs": [],
      "source": [
        "# Create a extraction prompt template\n",
        "extract_prompt = PromptTemplate(\n",
        "    template=\"Extract fields from a given text.\\n{format_instructions}\\n{text}\\n\",\n",
        "    input_variables=[\"text\"],\n",
        "    partial_variables={\"format_instructions\": output_parser.get_format_instructions()},\n",
        ")"
      ]
    },
    {
      "cell_type": "code",
      "execution_count": null,
      "metadata": {
        "id": "gI9LPb-HxV_3",
        "outputId": "f6cc0710-9f1f-47cd-b8c3-27561dde3c7c"
      },
      "outputs": [
        {
          "name": "stdout",
          "output_type": "stream",
          "text": [
            "content='{\\n  \"name\": \"Alex Johnson\",\\n  \"age\": 32,\\n  \"occupation\": \"data scientist\",\\n  \"hobby\": \"mountain biking and exploring the great outdoors\"\\n}' additional_kwargs={'refusal': None} response_metadata={'token_usage': {'completion_tokens': 40, 'prompt_tokens': 301, 'total_tokens': 341, 'completion_tokens_details': {'reasoning_tokens': 0}}, 'model_name': 'gpt-3.5-turbo-0125', 'system_fingerprint': None, 'finish_reason': 'stop', 'logprobs': None} id='run-da30fd62-6787-4912-b2cb-d05d6ecc954d-0' usage_metadata={'input_tokens': 301, 'output_tokens': 40, 'total_tokens': 341}\n"
          ]
        },
        {
          "data": {
            "text/plain": [
              "Person(name='Alex Johnson', age=32, occupation='data scientist', hobby='mountain biking and exploring the great outdoors')"
            ]
          },
          "execution_count": 81,
          "metadata": {},
          "output_type": "execute_result"
        }
      ],
      "source": [
        "# Use pydantic schema parser to parse generated dataset to pydantic data schema\n",
        "_input = extract_prompt.format_prompt(text=dataset[0][\"text\"])\n",
        "output = llm(_input.to_string())\n",
        "print(output)\n",
        "output_content = output.content if hasattr(output, 'content') else str(output)\n",
        "parsed = output_parser.parse(output_content)\n",
        "parsed"
      ]
    }
  ],
  "metadata": {
    "kernelspec": {
      "display_name": "base",
      "language": "python",
      "name": "python3"
    },
    "language_info": {
      "codemirror_mode": {
        "name": "ipython",
        "version": 3
      },
      "file_extension": ".py",
      "mimetype": "text/x-python",
      "name": "python",
      "nbconvert_exporter": "python",
      "pygments_lexer": "ipython3",
      "version": "3.9.12"
    },
    "colab": {
      "provenance": [],
      "include_colab_link": true
    }
  },
  "nbformat": 4,
  "nbformat_minor": 0
}